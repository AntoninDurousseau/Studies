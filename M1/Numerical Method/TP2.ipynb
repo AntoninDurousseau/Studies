{
 "cells": [
  {
   "cell_type": "markdown",
   "metadata": {},
   "source": [
    "## Exercise 3.12\n",
    "\n",
    "Build and train a neural network with dense layers as described in exercise 3.7 and section 3.1.3"
   ]
  },
  {
   "cell_type": "code",
   "execution_count": 2,
   "metadata": {},
   "outputs": [],
   "source": [
    "from sklearn.neural_network import MLPClassifier\n",
    "from sklearn.model_selection import train_test_split\n",
    "from sklearn.metrics import accuracy_score\n",
    "from sklearn.datasets import make_classification\n",
    "import numpy as np"
   ]
  },
  {
   "cell_type": "code",
   "execution_count": 5,
   "metadata": {},
   "outputs": [
    {
     "name": "stdout",
     "output_type": "stream",
     "text": [
      "Mean accuracy:  0.9329999999999998\n",
      "Std accuracy:  0.04501110973970758\n",
      "Max accuracy:  0.985\n",
      "Min accuracy:  0.865\n"
     ]
    }
   ],
   "source": [
    "accuracy_scores = []\n",
    "for _ in range(10):\n",
    "    X,y = make_classification(n_samples=1000, n_features=4, n_classes =3, n_clusters_per_class=1)\n",
    "    X_train, X_test, y_train, y_test = train_test_split(X, y, test_size=0.2)\n",
    "    clf = MLPClassifier(activation='relu',solver='adam',\n",
    "                    hidden_layer_sizes=(5, 7), max_iter=10000)\n",
    "\n",
    "    clf.fit(X_train, y_train)\n",
    "\n",
    "    y_pred = clf.predict(X_test)\n",
    "    accuracy_scores.append(accuracy_score(y_test, y_pred))\n",
    "\n",
    "\n",
    "print(\"Mean accuracy: \", np.mean(accuracy_scores))\n",
    "print(\"Std accuracy: \", np.std(accuracy_scores))\n",
    "print(\"Max accuracy: \", np.max(accuracy_scores))\n",
    "print(\"Min accuracy: \", np.min(accuracy_scores))"
   ]
  },
  {
   "cell_type": "code",
   "execution_count": null,
   "metadata": {},
   "outputs": [],
   "source": []
  }
 ],
 "metadata": {
  "kernelspec": {
   "display_name": "Python 3",
   "language": "python",
   "name": "python3"
  },
  "language_info": {
   "codemirror_mode": {
    "name": "ipython",
    "version": 3
   },
   "file_extension": ".py",
   "mimetype": "text/x-python",
   "name": "python",
   "nbconvert_exporter": "python",
   "pygments_lexer": "ipython3",
   "version": "3.11.9"
  }
 },
 "nbformat": 4,
 "nbformat_minor": 2
}
