{
 "cells": [
  {
   "cell_type": "code",
   "execution_count": 37,
   "metadata": {},
   "outputs": [],
   "source": [
    "from matplotlib import pyplot as plt\n",
    "import yfinance as yf\n",
    "import pandas as pd\n",
    "import numpy as np"
   ]
  },
  {
   "cell_type": "code",
   "execution_count": 38,
   "metadata": {},
   "outputs": [],
   "source": [
    "import datetime\n",
    "from numpy import linalg\n",
    "from numpy.linalg import inv"
   ]
  },
  {
   "cell_type": "code",
   "execution_count": 39,
   "metadata": {},
   "outputs": [
    {
     "name": "stdout",
     "output_type": "stream",
     "text": [
      "                                  ^RUT        ^IXIC        ^GSPC     XWD.TO\n",
      "Date                                                                       \n",
      "2015-01-02 00:00:00-05:00  1198.800049  4726.810059  2058.199951  31.550369\n",
      "2015-01-05 00:00:00-05:00  1181.349976  4652.569824  2020.579956  30.860548\n",
      "2015-01-06 00:00:00-05:00  1161.310059  4592.740234  2002.609985  30.782940\n",
      "2015-01-07 00:00:00-05:00  1175.969971  4650.470215  2025.900024  31.032995\n",
      "2015-01-08 00:00:00-05:00  1196.130005  4736.189941  2062.139893  31.602098\n",
      "                                  ^RUT        ^IXIC        ^GSPC     XWD.TO\n",
      "Date                                                                       \n",
      "2015-12-24 00:00:00-05:00  1154.760010  5048.490234  2060.989990  37.180401\n",
      "2015-12-28 00:00:00-05:00  1148.209961  5040.990234  2056.500000  37.180401\n",
      "2015-12-29 00:00:00-05:00  1160.520020  5107.939941  2078.360107  37.349091\n",
      "2015-12-30 00:00:00-05:00  1149.640015  5065.850098  2063.360107  37.349091\n",
      "2015-12-31 00:00:00-05:00  1135.890015  5007.410156  2043.939941  36.751648\n"
     ]
    },
    {
     "name": "stderr",
     "output_type": "stream",
     "text": [
      "C:\\Users\\Antonin\\AppData\\Local\\Temp\\ipykernel_10376\\497501840.py:13: FutureWarning: DataFrame.fillna with 'method' is deprecated and will raise in a future version. Use obj.ffill() or obj.bfill() instead.\n",
      "  S = S.fillna(method=\"ffill\").fillna(method = \"bfill\")\n"
     ]
    }
   ],
   "source": [
    "#Loading of the portfolio\n",
    "Tickers = [\"^RUT\",\"^IXIC\",\"^GSPC\",\"XWD.TO\"] \n",
    "startinput = \"2015-01-01\"\n",
    "endinput = \"2016-01-01\"\n",
    "\n",
    "#Data frame with the data\n",
    "S = pd.DataFrame()\n",
    "\n",
    "for t in Tickers:\n",
    "  S[t] = yf.Ticker(t).history(start = startinput, end = endinput)[\"Close\"]\n",
    "\n",
    "#Remouving the NaN data\n",
    "S = S.fillna(method=\"ffill\").fillna(method = \"bfill\")\n",
    "print(S.head())\n",
    "print(S.tail())"
   ]
  },
  {
   "cell_type": "code",
   "execution_count": 40,
   "metadata": {},
   "outputs": [],
   "source": [
    "R = S/S.shift(1) - 1 \n",
    "R = R[1:]\n",
    "Mean_d = R.mean()\n",
    "Covar_d = R.cov()\n",
    "Corr = R.corr()\n",
    "\n",
    "#annualisation \n",
    "Mean = Mean_d * 252\n",
    "Covar = Covar_d * 252\n",
    "STD = np.sqrt(np.diag(Covar))"
   ]
  },
  {
   "cell_type": "code",
   "execution_count": 41,
   "metadata": {},
   "outputs": [],
   "source": [
    "r = 0.02  #level set\n",
    "d = len(Tickers)\n",
    "\n",
    "Vect = np.linspace(1,1,d)\n",
    "Sigma = Covar\n",
    "InvSigma = inv(Sigma)\n",
    "\n",
    "a = Vect.T.dot(InvSigma).dot(Vect)\n",
    "b = Mean.T.dot(InvSigma).dot(Vect)"
   ]
  },
  {
   "cell_type": "code",
   "execution_count": 42,
   "metadata": {},
   "outputs": [],
   "source": [
    "#Tangent profolio \n",
    "pi_T = InvSigma.dot(Mean - r * Vect)/(b-r*a)\n",
    "sd_T = np.sqrt(pi_T.dot(Sigma).dot(pi_T))\n",
    "m_T = pi_T.T.dot(Mean)"
   ]
  },
  {
   "cell_type": "markdown",
   "metadata": {},
   "source": [
    "Question 1 :"
   ]
  },
  {
   "cell_type": "code",
   "execution_count": 43,
   "metadata": {},
   "outputs": [
    {
     "name": "stdout",
     "output_type": "stream",
     "text": [
      "allocation of the tangent protfolio  : [-12.63942729  25.99938966 -25.60763864  13.24767627]\n"
     ]
    }
   ],
   "source": [
    "print(\"allocation of the tangent protfolio  :\",pi_T)"
   ]
  },
  {
   "cell_type": "markdown",
   "metadata": {},
   "source": [
    "Question 2 :"
   ]
  },
  {
   "cell_type": "code",
   "execution_count": 44,
   "metadata": {},
   "outputs": [
    {
     "name": "stdout",
     "output_type": "stream",
     "text": [
      "annualized volatilities and expected return of ^RUT : Vol =  0.16691163722547156 Exp Ret =  -0.040211732846298726\n",
      "annualized volatilities and expected return of ^IXIC : Vol =  0.16888222542681144 Exp Ret =  0.07212923959219435\n",
      "annualized volatilities and expected return of ^GSPC : Vol =  0.15524653643192907 Exp Ret =  0.005037983096700703\n",
      "annualized volatilities and expected return of XWD.TO : Vol =  0.14717074272439845 Exp Ret =  0.16404806303900285\n",
      "\n",
      "\n",
      "annualized volatilities return of tangent protfolio : 1.9364461080509765\n",
      "annualized expected return of tangent protfolio : 4.427814260795096\n",
      "\n",
      "\n"
     ]
    },
    {
     "name": "stderr",
     "output_type": "stream",
     "text": [
      "C:\\Users\\Antonin\\AppData\\Local\\Temp\\ipykernel_10376\\1169234370.py:2: FutureWarning: Series.__getitem__ treating keys as positions is deprecated. In a future version, integer keys will always be treated as labels (consistent with DataFrame behavior). To access a value by position, use `ser.iloc[pos]`\n",
      "  print(f\"annualized volatilities and expected return of {t} :\",\"Vol = \", STD[i], \"Exp Ret = \",Mean[i])\n"
     ]
    }
   ],
   "source": [
    "for i,t in enumerate(Tickers):\n",
    "    print(f\"annualized volatilities and expected return of {t} :\",\"Vol = \", STD[i], \"Exp Ret = \",Mean[i])\n",
    "\n",
    "print(\"\\n\")\n",
    "print(\"annualized volatilities return of tangent protfolio :\",sd_T)\n",
    "print(\"annualized expected return of tangent protfolio :\",m_T)\n",
    "print(\"\\n\")\n"
   ]
  },
  {
   "cell_type": "markdown",
   "metadata": {},
   "source": [
    "Question 3 :"
   ]
  },
  {
   "cell_type": "code",
   "execution_count": 45,
   "metadata": {},
   "outputs": [
    {
     "name": "stdout",
     "output_type": "stream",
     "text": [
      "sharpe ration of ^RUT : -0.3607401727475843\n",
      "sharpe ration of ^IXIC : 0.3086721498396266\n",
      "sharpe ration of ^GSPC : -0.09637584996854144\n",
      "sharpe ration of XWD.TO : 0.9787819261655605\n",
      "\n",
      "\n",
      "sharpe ration of the tangent portfolio: 2.2762390559020207\n"
     ]
    },
    {
     "name": "stderr",
     "output_type": "stream",
     "text": [
      "C:\\Users\\Antonin\\AppData\\Local\\Temp\\ipykernel_10376\\1323540644.py:2: FutureWarning: Series.__getitem__ treating keys as positions is deprecated. In a future version, integer keys will always be treated as labels (consistent with DataFrame behavior). To access a value by position, use `ser.iloc[pos]`\n",
      "  print(f\"sharpe ration of {t} :\", (Mean[i] - r) / STD[i])\n"
     ]
    }
   ],
   "source": [
    "for i,t in enumerate(Tickers):\n",
    "    print(f\"sharpe ration of {t} :\", (Mean[i] - r) / STD[i])\n",
    "print(\"\\n\")\n",
    "print(\"sharpe ration of the tangent portfolio:\",(m_T - r) / sd_T)"
   ]
  }
 ],
 "metadata": {
  "kernelspec": {
   "display_name": "Python 3",
   "language": "python",
   "name": "python3"
  },
  "language_info": {
   "codemirror_mode": {
    "name": "ipython",
    "version": 3
   },
   "file_extension": ".py",
   "mimetype": "text/x-python",
   "name": "python",
   "nbconvert_exporter": "python",
   "pygments_lexer": "ipython3",
   "version": "3.11.9"
  }
 },
 "nbformat": 4,
 "nbformat_minor": 2
}
