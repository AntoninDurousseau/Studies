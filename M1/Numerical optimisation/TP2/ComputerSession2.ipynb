{
  "cells": [
    {
      "cell_type": "markdown",
      "metadata": {
        "id": "N_VyMYVXE4CO"
      },
      "source": [
        "# Computer session 2\n",
        "\n",
        "The goal of this computer class is to get a good feel of the Newton method and its\n",
        "variants. In a (maybe) surprising way, we actually start with the dichotomy method\n",
        "in the one-dimensional case.\n",
        "\n",
        "## The dichotomy method in the one-dimensional case\n",
        "\n",
        "When trying to solve the equation $\\phi(x) = 0$ in the one-dimensional case, the\n",
        "most naive method, which actually turns out to be quite efficient, is the dichotomy\n",
        "method. Namely, starting from an initial pair $(a_L , a_R ) \\in \\mathbb{R}^2$ with $a_L < a_R$ such\n",
        "that $\\phi(a_L)\\phi(a_R)<0$, we set $b ∶=\\frac{a_L+a_R}{2}$. If $\\phi(b) = 0$, the algorithm stops. If\n",
        "$\\phi(a_L)\\phi(b) < 0$ we set $a_L\\to a_L$ and $a_R \\to b$. In this way, we obtain a linearly\n",
        "converging algorithm. In particular, it is globally converging.\n",
        "\n",
        "\n",
        "Write a function `Dichotomy(phi,aL,aR,eps)` that take sas argument\n",
        "a function `phi`, an initial guess `aL,aR` and a tolerance `eps` and that runs the dichotomy\n",
        "algorithm. Your argument should check that the condition $\\phi(a_L)\\phi(a_R) < 0$ is satisfied,\n",
        "stop when the function `phi` reaches a value lower than `eps` and return the number\n",
        "of iteration. Run your algorithm on the function $f = tanh$ with initial guesses\n",
        "$a_L = −20$ , $a_R = 3$.\n",
        "\n"
      ]
    },
    {
      "cell_type": "code",
      "execution_count": null,
      "metadata": {
        "id": "Og_mw5L4E4CQ"
      },
      "outputs": [],
      "source": [
        "import numpy as np\n",
        "import matplotlib.pyplot as plt"
      ]
    },
    {
      "cell_type": "code",
      "execution_count": null,
      "metadata": {
        "colab": {
          "base_uri": "https://localhost:8080/"
        },
        "id": "2QnWwp3vE4CR",
        "outputId": "cef0a94b-acc6-46d8-80fc-8bc0818152c7"
      },
      "outputs": [
        {
          "output_type": "execute_result",
          "data": {
            "text/plain": [
              "32"
            ]
          },
          "metadata": {},
          "execution_count": 2
        }
      ],
      "source": [
        "def Dichotomy(phi, aL, aR, eps):\n",
        "    n_iter = 0\n",
        "    b = (aL + aR) / 2\n",
        "    if aR <= aL or phi(aL) * phi(aR) >= 0:\n",
        "        return ValueError(\"aR and aL are not valid\")\n",
        "    while phi(b) != 0 and aR - aL > eps:\n",
        "        n_iter += 1\n",
        "        b = (aL + aR) / 2\n",
        "        if phi(aL) * phi(b) < 0:\n",
        "            aR = b\n",
        "        else:\n",
        "            aL = b\n",
        "    return n_iter\n",
        "\n",
        "Dichotomy(np.tanh,-20,3,1e-8)"
      ]
    },
    {
      "cell_type": "markdown",
      "metadata": {
        "id": "suICEbUqE4CR"
      },
      "source": [
        "## Solving one-dimensional equation with the Newton and the secant method\n",
        "\n",
        "We work again in the one-dimensional case with a function φ we want to find the\n",
        "zeros of.\n",
        "\n",
        "### Newton method\n",
        "\n",
        "Write a function `Newton(phi,dphi,x0,eps)` that takes, as arguments, a function\n",
        "`phi`, its derivative `dphi`, an initial guess `x0` and a tolerance `eps`\n",
        "and that returns an approximation of the solutions of the equation $\\phi(x) = 0$. The\n",
        "tolerance criterion should again be that $|\\phi| ≤\\text{\\texttt{eps}}$. Your\n",
        "algorithm should return an error message in the following cases:\n",
        "1. If the derivative is zero (look up the `try` and `except` commands in Python).\n",
        "2. If the method diverges.\n",
        "\n",
        "Apply this code to the minimisation of $x\\mapsto \\ln(e^x + e^{−x})$, with initial condition `x0=1.8`.\n",
        "Compare this with the results of Exercise 3.10."
      ]
    },
    {
      "cell_type": "code",
      "execution_count": null,
      "metadata": {
        "colab": {
          "base_uri": "https://localhost:8080/"
        },
        "id": "g1RE8dP1E4CS",
        "outputId": "e1d7bf35-4c20-4f9b-dedd-17f856ab65ac"
      },
      "outputs": [
        {
          "output_type": "stream",
          "name": "stderr",
          "text": [
            "<ipython-input-41-4dd8408a299f>:17: RuntimeWarning: overflow encountered in exp\n",
            "  return np.log(np.exp(x) + np.exp(-x))\n",
            "<ipython-input-41-4dd8408a299f>:20: RuntimeWarning: overflow encountered in exp\n",
            "  return (np.exp(x) - np.exp(-x)) / (np.exp(x) + np.exp(-x))\n",
            "<ipython-input-41-4dd8408a299f>:20: RuntimeWarning: invalid value encountered in scalar divide\n",
            "  return (np.exp(x) - np.exp(-x)) / (np.exp(x) + np.exp(-x))\n"
          ]
        },
        {
          "output_type": "execute_result",
          "data": {
            "text/plain": [
              "ValueError('Method diverges')"
            ]
          },
          "metadata": {},
          "execution_count": 41
        }
      ],
      "source": [
        "def Newton(phi,dphi,x0,eps=1e-10):\n",
        "    n_iter = 0\n",
        "    x = x0\n",
        "    while phi(x) != 0 and abs(phi(x)) > eps:\n",
        "        try:\n",
        "            dphi(x) == 0\n",
        "        except ZeroDivisionError:\n",
        "            return \"division by zero\"\n",
        "        if n_iter > 10_000 or phi(x) == np.inf:\n",
        "            return ValueError(\"Method diverges\")\n",
        "        else:\n",
        "            x -= phi(x) / dphi(x)\n",
        "            n_iter += 1\n",
        "    return x, n_iter\n",
        "\n",
        "def f(x):\n",
        "    return np.log(np.exp(x) + np.exp(-x))\n",
        "\n",
        "def df(x):\n",
        "    return (np.exp(x) - np.exp(-x)) / (np.exp(x) + np.exp(-x))\n",
        "\n",
        "Newton(f,df,1.8,1e-8)"
      ]
    },
    {
      "cell_type": "markdown",
      "metadata": {
        "id": "uf8ZEvF2E4CT"
      },
      "source": [
        "### Secant method\n",
        "\n",
        "Write a function `Secant(phi,x0,x1,eps)` that takes, as arguments, a function `phi`, two initial positions `x0`, `x1` and a tolerance\n",
        "`eps` and that returns an approximation of the solutions of the equation\n",
        "$\\phi(x) = 0$. The tolerance criterion should again be that $|\\phi| ≤\\text{\\texttt{eps}}$. Apply this code to the minimisation\n",
        "of $x\\mapsto \\ln(e^x + e^{−x})$, with initial conditions `x0=1`, `x1=1.9`, then\n",
        "`x0=1`, `x1=2.3` and\n",
        "`x0=1`, `x1=2.4`. Compare with the results of Exercise 3.10."
      ]
    },
    {
      "cell_type": "code",
      "execution_count": null,
      "metadata": {
        "colab": {
          "base_uri": "https://localhost:8080/"
        },
        "id": "F55Qyu1cE4CT",
        "outputId": "2c50d2e4-8b06-48bb-ce8a-7603dc2b933b"
      },
      "outputs": [
        {
          "output_type": "stream",
          "name": "stdout",
          "text": [
            "Method diverges\n",
            "Method diverges\n",
            "Method diverges\n"
          ]
        }
      ],
      "source": [
        "def Secant(phi,x0,x1,eps=1e-10):\n",
        "    n_iter = 0\n",
        "    x = x0\n",
        "    y = x1\n",
        "    while phi(y) != 0 and abs(phi(y)) > eps:\n",
        "        try:\n",
        "            phi(y) - phi(x) == 0\n",
        "        except ZeroDivisionError:\n",
        "            return \"division by zero\"\n",
        "        if n_iter > 10_000:\n",
        "            return ValueError(\"Method diverges\")\n",
        "        else:\n",
        "            n_iter += 1\n",
        "            save_y = y\n",
        "            y -= (y - x) / (phi(y) - phi(x)) * phi(y)\n",
        "            x = save_y\n",
        "    return x,y, n_iter\n",
        "\n",
        "def f(x):\n",
        "    return np.log(np.exp(x) + np.exp(-x))\n",
        "\n",
        "for x1 in [1.9,2.3,2.4]:\n",
        "    print(Secant(f,1.8,x1,1e-8))"
      ]
    },
    {
      "cell_type": "markdown",
      "metadata": {
        "id": "hte6O3wnE4CU"
      },
      "source": [
        "## Combining dichotomy and the Newton method\n",
        "\n",
        "A possibility to leverage the advantages of dichotomy (the global convergence of\n",
        "the method) and of the Newton method (the quadratic convergence rate) is to\n",
        "combine both: start from an initial interval `[aL,aR]` of length `InitialLength`\n",
        "with $\\phi(a_L)\\phi(a_R)<0$ and fix a real\n",
        "number $s \\in [0; 1]$. Run the dichotomy algorithm until the new interval is of length\n",
        "`s*InitialLength`. From this point on, apply the Newton method.\n",
        "\n",
        "Implement this algorithm with `s = 0.1`. Include a possibility to switch\n",
        "back to the dichotomy method if, when switching to the Newton method, the new\n",
        "iterate falls outside of the computed interval `[aL,aR]`. Apply this to the minimisation\n",
        "of the function $f ∶ x\\mapsto \\ln(e^x + e^{−x})$ with an initial condition that made the Newton\n",
        "method diverge. What can you  say about the number of iterations?"
      ]
    },
    {
      "cell_type": "code",
      "execution_count": null,
      "metadata": {
        "colab": {
          "base_uri": "https://localhost:8080/"
        },
        "id": "mgcxhR26E4CU",
        "outputId": "0470d49d-b360-448b-9887-416063c54949"
      },
      "outputs": [
        {
          "output_type": "stream",
          "name": "stdout",
          "text": [
            "Method diverges\n"
          ]
        },
        {
          "output_type": "stream",
          "name": "stderr",
          "text": [
            "<ipython-input-42-42fd062c4f1e>:20: RuntimeWarning: overflow encountered in exp\n",
            "  return np.log(np.exp(x) + np.exp(-x))\n",
            "<ipython-input-43-36782656c288>:29: RuntimeWarning: overflow encountered in exp\n",
            "  return(np.exp(x) - np.exp(-x)) / (np.exp(x) + np.exp(-x))\n",
            "<ipython-input-43-36782656c288>:29: RuntimeWarning: invalid value encountered in scalar divide\n",
            "  return(np.exp(x) - np.exp(-x)) / (np.exp(x) + np.exp(-x))\n"
          ]
        }
      ],
      "source": [
        "def Dichotomy_Newton(phi, dphi, aL, aR, s=0.1, eps=1e-10):\n",
        "    n_iter = 0\n",
        "    IntialLength = aR - aL\n",
        "    b = (aL + aR) / 2\n",
        "    while phi(b) != 0 and aR - aL > s * IntialLength:\n",
        "        n_iter += 1\n",
        "        b = (aL + aR) / 2\n",
        "        if phi(aL) * phi(b) < 0:\n",
        "            aR = b\n",
        "        else:\n",
        "            aL = b\n",
        "    n_iter2 = n_iter\n",
        "    x0 = (aL + aR) / 2\n",
        "    while phi(x0) != 0 and abs(phi(x0)) > eps:\n",
        "        try:\n",
        "            dphi(x0) == 0\n",
        "        except ZeroDivisionError:\n",
        "            return \"division by zero\"\n",
        "        n_iter2 += 1\n",
        "        if n_iter2 > 10_000 or phi(x0) == np.inf:\n",
        "            return ValueError(\"Method diverges\")\n",
        "        else:\n",
        "            x0 -= phi(x0) / dphi(x0)\n",
        "            n_iter2 += 1\n",
        "    return x0, n_iter2\n",
        "\n",
        "\n",
        "def df(x):\n",
        "  return(np.exp(x) - np.exp(-x)) / (np.exp(x) + np.exp(-x))\n",
        "\n",
        "print(Dichotomy_Newton(f,df,-20,3))"
      ]
    },
    {
      "cell_type": "markdown",
      "metadata": {
        "id": "KS52plo5E4CV"
      },
      "source": [
        "## Solving an optimisation problem using the Newton method\n",
        "\n",
        "An island (denoted by a point $I$ below) is situated 2 kilometers from the shore (its projection on the shore\n",
        "is a point $P$). A guest staying at a nearby hotel $H$ wants to go from the hotel to the\n",
        "island and decides that he will run at 8km/hr for a distance $x$, before swimming at\n",
        "speed 3km/hr to reach the island.\n",
        "\n",
        "illustration of the problem\n",
        "\n",
        "![optiNewton.png](data:image/png;base64,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)\n",
        "\n",
        "\n",
        "\n",
        "Taking into account the fact that there are 6 kilometers between the hotel $H$ and $P$,\n",
        "how far should the visitor run before swimming?\n",
        "\n",
        "Model the situation as a minimisation problem, and solve it numerically.\n",
        "Compare the efficiency of the dichotomy method and of the Newton algorithm."
      ]
    },
    {
      "cell_type": "code",
      "source": [
        "def u(x):\n",
        "  return np.sqrt((x**2 -12*x + 40))/3\n",
        "\n",
        "def temps(x):\n",
        "  return x/8 + u(x)\n",
        "\n",
        "def grad_f(x):\n",
        "  return 1/8 + (2*x - 12)/(6*u(x))\n",
        "\n",
        "def Hess_f(x):\n",
        "  return(12*u(x) - (2*x - 12)**2 / (12*u(x)))/(36*u(x)**2)\n",
        "\n",
        "\n",
        "Newton(grad_f,Hess_f,4)"
      ],
      "metadata": {
        "colab": {
          "base_uri": "https://localhost:8080/"
        },
        "id": "DPMp6aRqHeM2",
        "outputId": "d4fe69ee-b56d-494c-8aa3-e1ff69a13ee3"
      },
      "execution_count": null,
      "outputs": [
        {
          "output_type": "execute_result",
          "data": {
            "text/plain": [
              "(np.float64(5.748023684687787), 6)"
            ]
          },
          "metadata": {},
          "execution_count": 47
        }
      ]
    },
    {
      "cell_type": "markdown",
      "metadata": {
        "id": "YSN7XMVcE4CV"
      },
      "source": [
        "## The Newton method to solve boundary value problems\n",
        "\n",
        "### Shooting method\n",
        "\n",
        "We consider the following non-linear ODE\n",
        "\n",
        "\\begin{equation}\n",
        "y''= f(x,y,y'),\\quad x\\in[a,b],\\quad y(a)=\\alpha, y(b)=\\beta.\n",
        "\\end{equation}\n",
        "\n",
        "\n",
        "To classically integrate such an ODE, we usually don’t have endpoints for $y$,\n",
        "but initial values for $y$ and $y'$. So, we cannot start at $x=a $ and integrate\n",
        "up to $x=b$. This is a _boundary value problem_.\n",
        "\n",
        "One approach is to approximate $y$ by somme finite difference and then arrive at\n",
        "a system for the discrete values $y(x_i)$ and finally solve large linear\n",
        "systems.\n",
        "\n",
        "Here, we will see how we can formulate the problem as a _shooting_ method, and\n",
        "use Newton method so solve it.\n",
        "\n",
        "The idea is to use a _guess_ for the initial value of $y'$. Let $s$ be a\n",
        "parameter for a fonction $y(\\;\\cdot\\;;s)$ solution of (1) such that\n",
        "$$y(a;s)=\\alpha,\\text{ and }y'(a;s)=s.$$\n",
        "\n",
        "There is no chance that $y(b;s)=y(b)=\\beta$ but we can adjust the value of $s$,\n",
        "refining the guess until it is (nearly equal to) the right value.\n",
        "\n",
        "This method is known as _shooting_ method in analogy to shooting a ball at a\n",
        "goal, determining the unknown correct velocity by throwing it too fast/too\n",
        "slow until it hits the goal exactly.\n",
        "\n",
        "#### In Practice\n",
        "\n",
        "For the parameter $s$, we integrate the following ODE:\n",
        "\n",
        "\\begin{equation}\n",
        "y''= f(x,y,y'),\\quad x\\in[a,b],\\quad y(a)=\\alpha, y'(a)=s.\n",
        "\\end{equation}\n",
        "\n",
        "We denote $y(\\;\\cdot\\;;s)$ solution of (2).\n",
        "\n",
        "Let us now define the _goal function_. Here, we want that $y(b;s)=\\beta$, hence,\n",
        "we define:\n",
        "$$g:s\\mapsto \\left.y(x;s)\\right|_{x=b}-\\beta$$\n",
        "\n",
        "We seek $s^*$ such that $g(s^*)=0$.\n",
        "\n",
        "Note that computing $g(s)$ involves the integration of an ODE, so each\n",
        "evaluation of $g$ is  expensive. Newton’s method seems then to be a good\n",
        "way due to its fast convergence.\n",
        "\n",
        "To be able to code a Newton’s method, we need to compute the derivative of $g$.\n",
        "For this purpose, let define\n",
        "$$z(x;s)=\\frac{\\partial y(x;s)}{\\partial s}.$$\n",
        "\n",
        "Then by differentiating (2) with respect to $s$, we get\n",
        "$$z''=\\frac{\\partial f}{\\partial y}z+\\frac{\\partial f}{\\partial y'}z',\\quad\n",
        "z(a;s)=0,\\text{ and }z'(a;s)=1.$$\n",
        "\n",
        "The derivative of $g$ can now be expressed in term of $z$:\n",
        "$$g'(z)=z(b;s).$$\n",
        "\n",
        "Putting this together, we can code the Newton's method:\n",
        "$$s_{n+1}=s_n-\\frac{g(s_n)}{g'(s_n)}.$$\n",
        "\n",
        "To sum up, a shooting method requires an ODE solver and a Newton solver.\n",
        "\n",
        "#### Example\n",
        "\n",
        "Apply this method to\n",
        "$$y''=2y^3-6y-2x^3,\\quad y(1)=2,y(2)=5/2,$$\n",
        "with standard library for integration, and your own Newton implementation.\n",
        "\n",
        "Note that you may want to express this with one order ODE. Moreover, it may be\n",
        "simpler to solve only one ODE for both $g$ and $g'$.\n",
        "\n",
        "With python, you can use `scipy.integrate.solve_ivp` function:\n",
        "https://docs.scipy.org/doc/scipy/reference/generated/scipy.integrate.solve_ivp.html#scipy.integrate.solve_ivp\n",
        "\n",
        "Plot the solution $y$.\n",
        "\n",
        "For numerical parameters, compute the solution up to a precision of $10^{-8}$\n",
        "and get the function on a grid of 1000 points.\n",
        "\n",
        "## Finite differences\n",
        "\n",
        "Here, we are going to use a different approach to solve the boundary value\n",
        "problem:\n",
        "\n",
        "\\begin{equation}\n",
        "y''= f(x,y,y'),\\quad x\\in[a,b],\\quad y(a)=\\alpha, y(b)=\\beta.\n",
        "\\end{equation}\n",
        "\n",
        "This problem can be solved by the following direct process:\n",
        "\n",
        "1. We discretize the domain choosing an integer $N$, grid points $\\{x_n\\}_{n=0,\\dots,N}$ and\n",
        "   we define the discrete solution $\\{y_n\\}_{n=0,\\dots,N}$.\n",
        "1. We discretize the ODE using derivative approximation with finite differences\n",
        "   in the interior of the domain.\n",
        "1. We inject the boundary conditions (here $y_0=\\alpha$ and $y_N=\\beta$) in the\n",
        "   discretized ODE.\n",
        "1. Solve the system of equation for the unknows $\\{y_n\\}_{n=1,\\dots,N-1}$.\n",
        "\n",
        "We use here a uniform grid :\n",
        "$$h:=(b-a)/N, \\quad \\forall n=0,\\dots, N\\quad x_n=hn.$$\n",
        "If we use a centered difference formula for $y''$ and $y'$, we obtain:\n",
        "$$\\forall n=1,\\dots,N-1,\\quad \\frac{y_{n+1}-2y_n+y_{n-1}}{h^2}=f\\left(x_n,y_n,\\frac{y_{n+1}-y_{n-1}}{2h}\\right).$$"
      ]
    },
    {
      "cell_type": "markdown",
      "metadata": {
        "id": "nWj8TnscE4CW"
      },
      "source": [
        "The result is a system of equations for $\\mathbf{y}=(y_1,\\dots,y_{N-1})$ :\n",
        "$$G(\\mathbf{y})=0,\\quad G:\\mathbb{R}^{N-1}\\to\\mathbb{R}^{N-1}.$$"
      ]
    },
    {
      "cell_type": "markdown",
      "metadata": {
        "id": "Ghccp-mEE4CW"
      },
      "source": [
        "This system can be solved using Newton's method. Note that the Jacobian\n",
        "$\\partial G/\\partial \\mathbb{y}$ is _tridiagonal_.\n",
        "\n",
        "Of course, here, we are in the multidimensional context, so you will have to\n",
        "code a Newton algorithm well suited.\n",
        "\n",
        "#### Example\n",
        "\n",
        "Apply this method to\n",
        "$$y''=2y^3-6y-2x^3,\\quad y(1)=2,y(2)=5/2.$$\n",
        "\n",
        "Plot the solution $y$.\n",
        "\n",
        "For numerical parameters, compute the solution up to a precision of $10^{-8}$\n",
        "and get the function on a grid of 1000 points."
      ]
    },
    {
      "cell_type": "markdown",
      "metadata": {
        "id": "wn1SorRVE4CW"
      },
      "source": [
        "**Remark:** In the context of numerical optimal control, these two numerical\n",
        "methods are often called _indirect method_ (for the shooting method) and _direct\n",
        "method_ (for the finite difference method)."
      ]
    },
    {
      "cell_type": "markdown",
      "metadata": {
        "id": "9xaujbT-E4CX"
      },
      "source": [
        "## Who’s the best?\n",
        "\n",
        "Compare the two methods playing with parameters (grid discretization, precision,\n",
        "initialization, etc.). Mesure the time computation."
      ]
    },
    {
      "cell_type": "markdown",
      "metadata": {
        "id": "0fv9iF28E4CX"
      },
      "source": []
    },
    {
      "cell_type": "code",
      "execution_count": null,
      "metadata": {
        "id": "jNiBJVfSE4CX"
      },
      "outputs": [],
      "source": []
    },
    {
      "cell_type": "code",
      "execution_count": null,
      "metadata": {
        "id": "Mzm6xtgRE4CX"
      },
      "outputs": [],
      "source": []
    },
    {
      "cell_type": "code",
      "execution_count": null,
      "metadata": {
        "id": "WtPzuGaBE4CX"
      },
      "outputs": [],
      "source": []
    }
  ],
  "metadata": {
    "kernelspec": {
      "display_name": "Python 3",
      "language": "python",
      "name": "python3"
    },
    "language_info": {
      "codemirror_mode": {
        "name": "ipython",
        "version": 3
      },
      "file_extension": ".py",
      "mimetype": "text/x-python",
      "name": "python",
      "nbconvert_exporter": "python",
      "pygments_lexer": "ipython3",
      "version": "3.11.9"
    },
    "colab": {
      "provenance": []
    }
  },
  "nbformat": 4,
  "nbformat_minor": 0
}