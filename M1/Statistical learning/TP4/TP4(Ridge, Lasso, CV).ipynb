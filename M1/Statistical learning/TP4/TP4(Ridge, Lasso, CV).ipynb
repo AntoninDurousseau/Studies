{
 "cells": [
  {
   "cell_type": "markdown",
   "metadata": {
    "tags": []
   },
   "source": [
    "# TP4 Ridge, Lasso, CV\n",
    "\n",
    "\n",
    "\n",
    "### Table of Contents\n",
    "\n",
    "* [0. Data Preparation ](#chapter0)\n",
    "* [1. Ridge and Lasso Regression ](#chapter1)\n",
    "* [2. Cross validation for the hyperparameters $\\alpha$ of Ridge and Lasso](#chapter2)\n",
    "\n",
    "\n"
   ]
  },
  {
   "cell_type": "markdown",
   "metadata": {},
   "source": [
    "## 0. Data Preparation <a class=\"anchor\" id=\"chapter0\"></a>\n",
    "\n",
    "We will predict the salary of a baseball player and use the dataset `Hitters`.\n",
    "\n",
    "Reference : book \"James, Gareth, Daniela Witten, Trevor Hastie, and Robert Tibshirani. An introduction to statistical learning. Vol. 112. New York: springer, 2013\"."
   ]
  },
  {
   "cell_type": "code",
   "execution_count": 181,
   "metadata": {},
   "outputs": [],
   "source": [
    "import warnings\n",
    "warnings.filterwarnings('ignore')"
   ]
  },
  {
   "cell_type": "code",
   "execution_count": 182,
   "metadata": {},
   "outputs": [
    {
     "data": {
      "text/html": [
       "<div>\n",
       "<style scoped>\n",
       "    .dataframe tbody tr th:only-of-type {\n",
       "        vertical-align: middle;\n",
       "    }\n",
       "\n",
       "    .dataframe tbody tr th {\n",
       "        vertical-align: top;\n",
       "    }\n",
       "\n",
       "    .dataframe thead th {\n",
       "        text-align: right;\n",
       "    }\n",
       "</style>\n",
       "<table border=\"1\" class=\"dataframe\">\n",
       "  <thead>\n",
       "    <tr style=\"text-align: right;\">\n",
       "      <th></th>\n",
       "      <th>AtBat</th>\n",
       "      <th>Hits</th>\n",
       "      <th>HmRun</th>\n",
       "      <th>Runs</th>\n",
       "      <th>RBI</th>\n",
       "      <th>Walks</th>\n",
       "      <th>Years</th>\n",
       "      <th>CAtBat</th>\n",
       "      <th>CHits</th>\n",
       "      <th>CHmRun</th>\n",
       "      <th>CRuns</th>\n",
       "      <th>CRBI</th>\n",
       "      <th>CWalks</th>\n",
       "      <th>League</th>\n",
       "      <th>Division</th>\n",
       "      <th>PutOuts</th>\n",
       "      <th>Assists</th>\n",
       "      <th>Errors</th>\n",
       "      <th>Salary</th>\n",
       "      <th>NewLeague</th>\n",
       "    </tr>\n",
       "    <tr>\n",
       "      <th>Name</th>\n",
       "      <th></th>\n",
       "      <th></th>\n",
       "      <th></th>\n",
       "      <th></th>\n",
       "      <th></th>\n",
       "      <th></th>\n",
       "      <th></th>\n",
       "      <th></th>\n",
       "      <th></th>\n",
       "      <th></th>\n",
       "      <th></th>\n",
       "      <th></th>\n",
       "      <th></th>\n",
       "      <th></th>\n",
       "      <th></th>\n",
       "      <th></th>\n",
       "      <th></th>\n",
       "      <th></th>\n",
       "      <th></th>\n",
       "      <th></th>\n",
       "    </tr>\n",
       "  </thead>\n",
       "  <tbody>\n",
       "    <tr>\n",
       "      <th>-Andy Allanson</th>\n",
       "      <td>293</td>\n",
       "      <td>66</td>\n",
       "      <td>1</td>\n",
       "      <td>30</td>\n",
       "      <td>29</td>\n",
       "      <td>14</td>\n",
       "      <td>1</td>\n",
       "      <td>293</td>\n",
       "      <td>66</td>\n",
       "      <td>1</td>\n",
       "      <td>30</td>\n",
       "      <td>29</td>\n",
       "      <td>14</td>\n",
       "      <td>A</td>\n",
       "      <td>E</td>\n",
       "      <td>446</td>\n",
       "      <td>33</td>\n",
       "      <td>20</td>\n",
       "      <td>NaN</td>\n",
       "      <td>A</td>\n",
       "    </tr>\n",
       "    <tr>\n",
       "      <th>-Alan Ashby</th>\n",
       "      <td>315</td>\n",
       "      <td>81</td>\n",
       "      <td>7</td>\n",
       "      <td>24</td>\n",
       "      <td>38</td>\n",
       "      <td>39</td>\n",
       "      <td>14</td>\n",
       "      <td>3449</td>\n",
       "      <td>835</td>\n",
       "      <td>69</td>\n",
       "      <td>321</td>\n",
       "      <td>414</td>\n",
       "      <td>375</td>\n",
       "      <td>N</td>\n",
       "      <td>W</td>\n",
       "      <td>632</td>\n",
       "      <td>43</td>\n",
       "      <td>10</td>\n",
       "      <td>475.0</td>\n",
       "      <td>N</td>\n",
       "    </tr>\n",
       "    <tr>\n",
       "      <th>-Alvin Davis</th>\n",
       "      <td>479</td>\n",
       "      <td>130</td>\n",
       "      <td>18</td>\n",
       "      <td>66</td>\n",
       "      <td>72</td>\n",
       "      <td>76</td>\n",
       "      <td>3</td>\n",
       "      <td>1624</td>\n",
       "      <td>457</td>\n",
       "      <td>63</td>\n",
       "      <td>224</td>\n",
       "      <td>266</td>\n",
       "      <td>263</td>\n",
       "      <td>A</td>\n",
       "      <td>W</td>\n",
       "      <td>880</td>\n",
       "      <td>82</td>\n",
       "      <td>14</td>\n",
       "      <td>480.0</td>\n",
       "      <td>A</td>\n",
       "    </tr>\n",
       "    <tr>\n",
       "      <th>-Andre Dawson</th>\n",
       "      <td>496</td>\n",
       "      <td>141</td>\n",
       "      <td>20</td>\n",
       "      <td>65</td>\n",
       "      <td>78</td>\n",
       "      <td>37</td>\n",
       "      <td>11</td>\n",
       "      <td>5628</td>\n",
       "      <td>1575</td>\n",
       "      <td>225</td>\n",
       "      <td>828</td>\n",
       "      <td>838</td>\n",
       "      <td>354</td>\n",
       "      <td>N</td>\n",
       "      <td>E</td>\n",
       "      <td>200</td>\n",
       "      <td>11</td>\n",
       "      <td>3</td>\n",
       "      <td>500.0</td>\n",
       "      <td>N</td>\n",
       "    </tr>\n",
       "    <tr>\n",
       "      <th>-Andres Galarraga</th>\n",
       "      <td>321</td>\n",
       "      <td>87</td>\n",
       "      <td>10</td>\n",
       "      <td>39</td>\n",
       "      <td>42</td>\n",
       "      <td>30</td>\n",
       "      <td>2</td>\n",
       "      <td>396</td>\n",
       "      <td>101</td>\n",
       "      <td>12</td>\n",
       "      <td>48</td>\n",
       "      <td>46</td>\n",
       "      <td>33</td>\n",
       "      <td>N</td>\n",
       "      <td>E</td>\n",
       "      <td>805</td>\n",
       "      <td>40</td>\n",
       "      <td>4</td>\n",
       "      <td>91.5</td>\n",
       "      <td>N</td>\n",
       "    </tr>\n",
       "    <tr>\n",
       "      <th>...</th>\n",
       "      <td>...</td>\n",
       "      <td>...</td>\n",
       "      <td>...</td>\n",
       "      <td>...</td>\n",
       "      <td>...</td>\n",
       "      <td>...</td>\n",
       "      <td>...</td>\n",
       "      <td>...</td>\n",
       "      <td>...</td>\n",
       "      <td>...</td>\n",
       "      <td>...</td>\n",
       "      <td>...</td>\n",
       "      <td>...</td>\n",
       "      <td>...</td>\n",
       "      <td>...</td>\n",
       "      <td>...</td>\n",
       "      <td>...</td>\n",
       "      <td>...</td>\n",
       "      <td>...</td>\n",
       "      <td>...</td>\n",
       "    </tr>\n",
       "    <tr>\n",
       "      <th>-Willie McGee</th>\n",
       "      <td>497</td>\n",
       "      <td>127</td>\n",
       "      <td>7</td>\n",
       "      <td>65</td>\n",
       "      <td>48</td>\n",
       "      <td>37</td>\n",
       "      <td>5</td>\n",
       "      <td>2703</td>\n",
       "      <td>806</td>\n",
       "      <td>32</td>\n",
       "      <td>379</td>\n",
       "      <td>311</td>\n",
       "      <td>138</td>\n",
       "      <td>N</td>\n",
       "      <td>E</td>\n",
       "      <td>325</td>\n",
       "      <td>9</td>\n",
       "      <td>3</td>\n",
       "      <td>700.0</td>\n",
       "      <td>N</td>\n",
       "    </tr>\n",
       "    <tr>\n",
       "      <th>-Willie Randolph</th>\n",
       "      <td>492</td>\n",
       "      <td>136</td>\n",
       "      <td>5</td>\n",
       "      <td>76</td>\n",
       "      <td>50</td>\n",
       "      <td>94</td>\n",
       "      <td>12</td>\n",
       "      <td>5511</td>\n",
       "      <td>1511</td>\n",
       "      <td>39</td>\n",
       "      <td>897</td>\n",
       "      <td>451</td>\n",
       "      <td>875</td>\n",
       "      <td>A</td>\n",
       "      <td>E</td>\n",
       "      <td>313</td>\n",
       "      <td>381</td>\n",
       "      <td>20</td>\n",
       "      <td>875.0</td>\n",
       "      <td>A</td>\n",
       "    </tr>\n",
       "    <tr>\n",
       "      <th>-Wayne Tolleson</th>\n",
       "      <td>475</td>\n",
       "      <td>126</td>\n",
       "      <td>3</td>\n",
       "      <td>61</td>\n",
       "      <td>43</td>\n",
       "      <td>52</td>\n",
       "      <td>6</td>\n",
       "      <td>1700</td>\n",
       "      <td>433</td>\n",
       "      <td>7</td>\n",
       "      <td>217</td>\n",
       "      <td>93</td>\n",
       "      <td>146</td>\n",
       "      <td>A</td>\n",
       "      <td>W</td>\n",
       "      <td>37</td>\n",
       "      <td>113</td>\n",
       "      <td>7</td>\n",
       "      <td>385.0</td>\n",
       "      <td>A</td>\n",
       "    </tr>\n",
       "    <tr>\n",
       "      <th>-Willie Upshaw</th>\n",
       "      <td>573</td>\n",
       "      <td>144</td>\n",
       "      <td>9</td>\n",
       "      <td>85</td>\n",
       "      <td>60</td>\n",
       "      <td>78</td>\n",
       "      <td>8</td>\n",
       "      <td>3198</td>\n",
       "      <td>857</td>\n",
       "      <td>97</td>\n",
       "      <td>470</td>\n",
       "      <td>420</td>\n",
       "      <td>332</td>\n",
       "      <td>A</td>\n",
       "      <td>E</td>\n",
       "      <td>1314</td>\n",
       "      <td>131</td>\n",
       "      <td>12</td>\n",
       "      <td>960.0</td>\n",
       "      <td>A</td>\n",
       "    </tr>\n",
       "    <tr>\n",
       "      <th>-Willie Wilson</th>\n",
       "      <td>631</td>\n",
       "      <td>170</td>\n",
       "      <td>9</td>\n",
       "      <td>77</td>\n",
       "      <td>44</td>\n",
       "      <td>31</td>\n",
       "      <td>11</td>\n",
       "      <td>4908</td>\n",
       "      <td>1457</td>\n",
       "      <td>30</td>\n",
       "      <td>775</td>\n",
       "      <td>357</td>\n",
       "      <td>249</td>\n",
       "      <td>A</td>\n",
       "      <td>W</td>\n",
       "      <td>408</td>\n",
       "      <td>4</td>\n",
       "      <td>3</td>\n",
       "      <td>1000.0</td>\n",
       "      <td>A</td>\n",
       "    </tr>\n",
       "  </tbody>\n",
       "</table>\n",
       "<p>322 rows × 20 columns</p>\n",
       "</div>"
      ],
      "text/plain": [
       "                   AtBat  Hits  HmRun  Runs  RBI  Walks  Years  CAtBat  CHits  \\\n",
       "Name                                                                            \n",
       "-Andy Allanson       293    66      1    30   29     14      1     293     66   \n",
       "-Alan Ashby          315    81      7    24   38     39     14    3449    835   \n",
       "-Alvin Davis         479   130     18    66   72     76      3    1624    457   \n",
       "-Andre Dawson        496   141     20    65   78     37     11    5628   1575   \n",
       "-Andres Galarraga    321    87     10    39   42     30      2     396    101   \n",
       "...                  ...   ...    ...   ...  ...    ...    ...     ...    ...   \n",
       "-Willie McGee        497   127      7    65   48     37      5    2703    806   \n",
       "-Willie Randolph     492   136      5    76   50     94     12    5511   1511   \n",
       "-Wayne Tolleson      475   126      3    61   43     52      6    1700    433   \n",
       "-Willie Upshaw       573   144      9    85   60     78      8    3198    857   \n",
       "-Willie Wilson       631   170      9    77   44     31     11    4908   1457   \n",
       "\n",
       "                   CHmRun  CRuns  CRBI  CWalks League Division  PutOuts  \\\n",
       "Name                                                                      \n",
       "-Andy Allanson          1     30    29      14      A        E      446   \n",
       "-Alan Ashby            69    321   414     375      N        W      632   \n",
       "-Alvin Davis           63    224   266     263      A        W      880   \n",
       "-Andre Dawson         225    828   838     354      N        E      200   \n",
       "-Andres Galarraga      12     48    46      33      N        E      805   \n",
       "...                   ...    ...   ...     ...    ...      ...      ...   \n",
       "-Willie McGee          32    379   311     138      N        E      325   \n",
       "-Willie Randolph       39    897   451     875      A        E      313   \n",
       "-Wayne Tolleson         7    217    93     146      A        W       37   \n",
       "-Willie Upshaw         97    470   420     332      A        E     1314   \n",
       "-Willie Wilson         30    775   357     249      A        W      408   \n",
       "\n",
       "                   Assists  Errors  Salary NewLeague  \n",
       "Name                                                  \n",
       "-Andy Allanson          33      20     NaN         A  \n",
       "-Alan Ashby             43      10   475.0         N  \n",
       "-Alvin Davis            82      14   480.0         A  \n",
       "-Andre Dawson           11       3   500.0         N  \n",
       "-Andres Galarraga       40       4    91.5         N  \n",
       "...                    ...     ...     ...       ...  \n",
       "-Willie McGee            9       3   700.0         N  \n",
       "-Willie Randolph       381      20   875.0         A  \n",
       "-Wayne Tolleson        113       7   385.0         A  \n",
       "-Willie Upshaw         131      12   960.0         A  \n",
       "-Willie Wilson           4       3  1000.0         A  \n",
       "\n",
       "[322 rows x 20 columns]"
      ]
     },
     "execution_count": 182,
     "metadata": {},
     "output_type": "execute_result"
    }
   ],
   "source": [
    "import numpy as np\n",
    "import pandas as pd  # dataframes are in pandas \n",
    "import matplotlib.pyplot as plt\n",
    "\n",
    "\n",
    "hitters = pd.read_csv(\"Hitters.csv\", index_col = \"Name\")  \n",
    "\n",
    "hitters"
   ]
  },
  {
   "cell_type": "markdown",
   "metadata": {},
   "source": [
    "**Exercise 1** : \n",
    "\n",
    "In `pd.read_csv(\"Hitters.csv\", index_col = \"Name\") `, what does `index_col = \"Name\"` mean ? Try without `index_col = \"Name\"`.\n",
    "\n"
   ]
  },
  {
   "cell_type": "code",
   "execution_count": 183,
   "metadata": {},
   "outputs": [
    {
     "data": {
      "text/html": [
       "<div>\n",
       "<style scoped>\n",
       "    .dataframe tbody tr th:only-of-type {\n",
       "        vertical-align: middle;\n",
       "    }\n",
       "\n",
       "    .dataframe tbody tr th {\n",
       "        vertical-align: top;\n",
       "    }\n",
       "\n",
       "    .dataframe thead th {\n",
       "        text-align: right;\n",
       "    }\n",
       "</style>\n",
       "<table border=\"1\" class=\"dataframe\">\n",
       "  <thead>\n",
       "    <tr style=\"text-align: right;\">\n",
       "      <th></th>\n",
       "      <th>Name</th>\n",
       "      <th>AtBat</th>\n",
       "      <th>Hits</th>\n",
       "      <th>HmRun</th>\n",
       "      <th>Runs</th>\n",
       "      <th>RBI</th>\n",
       "      <th>Walks</th>\n",
       "      <th>Years</th>\n",
       "      <th>CAtBat</th>\n",
       "      <th>CHits</th>\n",
       "      <th>...</th>\n",
       "      <th>CRuns</th>\n",
       "      <th>CRBI</th>\n",
       "      <th>CWalks</th>\n",
       "      <th>League</th>\n",
       "      <th>Division</th>\n",
       "      <th>PutOuts</th>\n",
       "      <th>Assists</th>\n",
       "      <th>Errors</th>\n",
       "      <th>Salary</th>\n",
       "      <th>NewLeague</th>\n",
       "    </tr>\n",
       "  </thead>\n",
       "  <tbody>\n",
       "    <tr>\n",
       "      <th>0</th>\n",
       "      <td>-Andy Allanson</td>\n",
       "      <td>293</td>\n",
       "      <td>66</td>\n",
       "      <td>1</td>\n",
       "      <td>30</td>\n",
       "      <td>29</td>\n",
       "      <td>14</td>\n",
       "      <td>1</td>\n",
       "      <td>293</td>\n",
       "      <td>66</td>\n",
       "      <td>...</td>\n",
       "      <td>30</td>\n",
       "      <td>29</td>\n",
       "      <td>14</td>\n",
       "      <td>A</td>\n",
       "      <td>E</td>\n",
       "      <td>446</td>\n",
       "      <td>33</td>\n",
       "      <td>20</td>\n",
       "      <td>NaN</td>\n",
       "      <td>A</td>\n",
       "    </tr>\n",
       "    <tr>\n",
       "      <th>1</th>\n",
       "      <td>-Alan Ashby</td>\n",
       "      <td>315</td>\n",
       "      <td>81</td>\n",
       "      <td>7</td>\n",
       "      <td>24</td>\n",
       "      <td>38</td>\n",
       "      <td>39</td>\n",
       "      <td>14</td>\n",
       "      <td>3449</td>\n",
       "      <td>835</td>\n",
       "      <td>...</td>\n",
       "      <td>321</td>\n",
       "      <td>414</td>\n",
       "      <td>375</td>\n",
       "      <td>N</td>\n",
       "      <td>W</td>\n",
       "      <td>632</td>\n",
       "      <td>43</td>\n",
       "      <td>10</td>\n",
       "      <td>475.0</td>\n",
       "      <td>N</td>\n",
       "    </tr>\n",
       "    <tr>\n",
       "      <th>2</th>\n",
       "      <td>-Alvin Davis</td>\n",
       "      <td>479</td>\n",
       "      <td>130</td>\n",
       "      <td>18</td>\n",
       "      <td>66</td>\n",
       "      <td>72</td>\n",
       "      <td>76</td>\n",
       "      <td>3</td>\n",
       "      <td>1624</td>\n",
       "      <td>457</td>\n",
       "      <td>...</td>\n",
       "      <td>224</td>\n",
       "      <td>266</td>\n",
       "      <td>263</td>\n",
       "      <td>A</td>\n",
       "      <td>W</td>\n",
       "      <td>880</td>\n",
       "      <td>82</td>\n",
       "      <td>14</td>\n",
       "      <td>480.0</td>\n",
       "      <td>A</td>\n",
       "    </tr>\n",
       "    <tr>\n",
       "      <th>3</th>\n",
       "      <td>-Andre Dawson</td>\n",
       "      <td>496</td>\n",
       "      <td>141</td>\n",
       "      <td>20</td>\n",
       "      <td>65</td>\n",
       "      <td>78</td>\n",
       "      <td>37</td>\n",
       "      <td>11</td>\n",
       "      <td>5628</td>\n",
       "      <td>1575</td>\n",
       "      <td>...</td>\n",
       "      <td>828</td>\n",
       "      <td>838</td>\n",
       "      <td>354</td>\n",
       "      <td>N</td>\n",
       "      <td>E</td>\n",
       "      <td>200</td>\n",
       "      <td>11</td>\n",
       "      <td>3</td>\n",
       "      <td>500.0</td>\n",
       "      <td>N</td>\n",
       "    </tr>\n",
       "    <tr>\n",
       "      <th>4</th>\n",
       "      <td>-Andres Galarraga</td>\n",
       "      <td>321</td>\n",
       "      <td>87</td>\n",
       "      <td>10</td>\n",
       "      <td>39</td>\n",
       "      <td>42</td>\n",
       "      <td>30</td>\n",
       "      <td>2</td>\n",
       "      <td>396</td>\n",
       "      <td>101</td>\n",
       "      <td>...</td>\n",
       "      <td>48</td>\n",
       "      <td>46</td>\n",
       "      <td>33</td>\n",
       "      <td>N</td>\n",
       "      <td>E</td>\n",
       "      <td>805</td>\n",
       "      <td>40</td>\n",
       "      <td>4</td>\n",
       "      <td>91.5</td>\n",
       "      <td>N</td>\n",
       "    </tr>\n",
       "    <tr>\n",
       "      <th>...</th>\n",
       "      <td>...</td>\n",
       "      <td>...</td>\n",
       "      <td>...</td>\n",
       "      <td>...</td>\n",
       "      <td>...</td>\n",
       "      <td>...</td>\n",
       "      <td>...</td>\n",
       "      <td>...</td>\n",
       "      <td>...</td>\n",
       "      <td>...</td>\n",
       "      <td>...</td>\n",
       "      <td>...</td>\n",
       "      <td>...</td>\n",
       "      <td>...</td>\n",
       "      <td>...</td>\n",
       "      <td>...</td>\n",
       "      <td>...</td>\n",
       "      <td>...</td>\n",
       "      <td>...</td>\n",
       "      <td>...</td>\n",
       "      <td>...</td>\n",
       "    </tr>\n",
       "    <tr>\n",
       "      <th>317</th>\n",
       "      <td>-Willie McGee</td>\n",
       "      <td>497</td>\n",
       "      <td>127</td>\n",
       "      <td>7</td>\n",
       "      <td>65</td>\n",
       "      <td>48</td>\n",
       "      <td>37</td>\n",
       "      <td>5</td>\n",
       "      <td>2703</td>\n",
       "      <td>806</td>\n",
       "      <td>...</td>\n",
       "      <td>379</td>\n",
       "      <td>311</td>\n",
       "      <td>138</td>\n",
       "      <td>N</td>\n",
       "      <td>E</td>\n",
       "      <td>325</td>\n",
       "      <td>9</td>\n",
       "      <td>3</td>\n",
       "      <td>700.0</td>\n",
       "      <td>N</td>\n",
       "    </tr>\n",
       "    <tr>\n",
       "      <th>318</th>\n",
       "      <td>-Willie Randolph</td>\n",
       "      <td>492</td>\n",
       "      <td>136</td>\n",
       "      <td>5</td>\n",
       "      <td>76</td>\n",
       "      <td>50</td>\n",
       "      <td>94</td>\n",
       "      <td>12</td>\n",
       "      <td>5511</td>\n",
       "      <td>1511</td>\n",
       "      <td>...</td>\n",
       "      <td>897</td>\n",
       "      <td>451</td>\n",
       "      <td>875</td>\n",
       "      <td>A</td>\n",
       "      <td>E</td>\n",
       "      <td>313</td>\n",
       "      <td>381</td>\n",
       "      <td>20</td>\n",
       "      <td>875.0</td>\n",
       "      <td>A</td>\n",
       "    </tr>\n",
       "    <tr>\n",
       "      <th>319</th>\n",
       "      <td>-Wayne Tolleson</td>\n",
       "      <td>475</td>\n",
       "      <td>126</td>\n",
       "      <td>3</td>\n",
       "      <td>61</td>\n",
       "      <td>43</td>\n",
       "      <td>52</td>\n",
       "      <td>6</td>\n",
       "      <td>1700</td>\n",
       "      <td>433</td>\n",
       "      <td>...</td>\n",
       "      <td>217</td>\n",
       "      <td>93</td>\n",
       "      <td>146</td>\n",
       "      <td>A</td>\n",
       "      <td>W</td>\n",
       "      <td>37</td>\n",
       "      <td>113</td>\n",
       "      <td>7</td>\n",
       "      <td>385.0</td>\n",
       "      <td>A</td>\n",
       "    </tr>\n",
       "    <tr>\n",
       "      <th>320</th>\n",
       "      <td>-Willie Upshaw</td>\n",
       "      <td>573</td>\n",
       "      <td>144</td>\n",
       "      <td>9</td>\n",
       "      <td>85</td>\n",
       "      <td>60</td>\n",
       "      <td>78</td>\n",
       "      <td>8</td>\n",
       "      <td>3198</td>\n",
       "      <td>857</td>\n",
       "      <td>...</td>\n",
       "      <td>470</td>\n",
       "      <td>420</td>\n",
       "      <td>332</td>\n",
       "      <td>A</td>\n",
       "      <td>E</td>\n",
       "      <td>1314</td>\n",
       "      <td>131</td>\n",
       "      <td>12</td>\n",
       "      <td>960.0</td>\n",
       "      <td>A</td>\n",
       "    </tr>\n",
       "    <tr>\n",
       "      <th>321</th>\n",
       "      <td>-Willie Wilson</td>\n",
       "      <td>631</td>\n",
       "      <td>170</td>\n",
       "      <td>9</td>\n",
       "      <td>77</td>\n",
       "      <td>44</td>\n",
       "      <td>31</td>\n",
       "      <td>11</td>\n",
       "      <td>4908</td>\n",
       "      <td>1457</td>\n",
       "      <td>...</td>\n",
       "      <td>775</td>\n",
       "      <td>357</td>\n",
       "      <td>249</td>\n",
       "      <td>A</td>\n",
       "      <td>W</td>\n",
       "      <td>408</td>\n",
       "      <td>4</td>\n",
       "      <td>3</td>\n",
       "      <td>1000.0</td>\n",
       "      <td>A</td>\n",
       "    </tr>\n",
       "  </tbody>\n",
       "</table>\n",
       "<p>322 rows × 21 columns</p>\n",
       "</div>"
      ],
      "text/plain": [
       "                  Name  AtBat  Hits  HmRun  Runs  RBI  Walks  Years  CAtBat  \\\n",
       "0       -Andy Allanson    293    66      1    30   29     14      1     293   \n",
       "1          -Alan Ashby    315    81      7    24   38     39     14    3449   \n",
       "2         -Alvin Davis    479   130     18    66   72     76      3    1624   \n",
       "3        -Andre Dawson    496   141     20    65   78     37     11    5628   \n",
       "4    -Andres Galarraga    321    87     10    39   42     30      2     396   \n",
       "..                 ...    ...   ...    ...   ...  ...    ...    ...     ...   \n",
       "317      -Willie McGee    497   127      7    65   48     37      5    2703   \n",
       "318   -Willie Randolph    492   136      5    76   50     94     12    5511   \n",
       "319    -Wayne Tolleson    475   126      3    61   43     52      6    1700   \n",
       "320     -Willie Upshaw    573   144      9    85   60     78      8    3198   \n",
       "321     -Willie Wilson    631   170      9    77   44     31     11    4908   \n",
       "\n",
       "     CHits  ...  CRuns  CRBI  CWalks  League Division PutOuts  Assists  \\\n",
       "0       66  ...     30    29      14       A        E     446       33   \n",
       "1      835  ...    321   414     375       N        W     632       43   \n",
       "2      457  ...    224   266     263       A        W     880       82   \n",
       "3     1575  ...    828   838     354       N        E     200       11   \n",
       "4      101  ...     48    46      33       N        E     805       40   \n",
       "..     ...  ...    ...   ...     ...     ...      ...     ...      ...   \n",
       "317    806  ...    379   311     138       N        E     325        9   \n",
       "318   1511  ...    897   451     875       A        E     313      381   \n",
       "319    433  ...    217    93     146       A        W      37      113   \n",
       "320    857  ...    470   420     332       A        E    1314      131   \n",
       "321   1457  ...    775   357     249       A        W     408        4   \n",
       "\n",
       "     Errors  Salary  NewLeague  \n",
       "0        20     NaN          A  \n",
       "1        10   475.0          N  \n",
       "2        14   480.0          A  \n",
       "3         3   500.0          N  \n",
       "4         4    91.5          N  \n",
       "..      ...     ...        ...  \n",
       "317       3   700.0          N  \n",
       "318      20   875.0          A  \n",
       "319       7   385.0          A  \n",
       "320      12   960.0          A  \n",
       "321       3  1000.0          A  \n",
       "\n",
       "[322 rows x 21 columns]"
      ]
     },
     "execution_count": 183,
     "metadata": {},
     "output_type": "execute_result"
    }
   ],
   "source": [
    "hitters_bis = pd.read_csv(\"Hitters.csv\")  \n",
    "\n",
    "hitters_bis"
   ]
  },
  {
   "cell_type": "markdown",
   "metadata": {},
   "source": [
    "Answer for ex. 1 : \n",
    "\n",
    "index_col = \"Name\" remouve the fisrt column and use the fist column as index for the row. "
   ]
  },
  {
   "cell_type": "markdown",
   "metadata": {},
   "source": [
    "**Exercise 2** :\n",
    "\n",
    "(1)  Sample size of `Hitters` ? How many features in `Hitters` ?\n",
    "    \n",
    "(2)  What are the features in `Hitters` ? \n",
    "\n",
    "(3)  Are all the features in $\\mathbb{R}$? \n",
    "\n",
    "(4)  Are there many missing data ? `print` the number of missing data for each feature. \n",
    "\n",
    "- Hint : \n",
    "    - (2) et (3) Use `pandas.DataFrame.dtypes`.   https://pandas.pydata.org/docs/reference/api/pandas.DataFrame.dtypes.html\n",
    "    - (4) Use `pandas.DataFrame.isnull`.\n",
    "    https://pandas.pydata.org/docs/reference/api/pandas.DataFrame.isnull.html\n",
    "    See the example below. "
   ]
  },
  {
   "cell_type": "code",
   "execution_count": 184,
   "metadata": {},
   "outputs": [
    {
     "name": "stdout",
     "output_type": "stream",
     "text": [
      "data : \n",
      "        nom   age  exam\n",
      "0    Alice  19.0  15.0\n",
      "1  Nicolas   NaN  14.0\n",
      "2     Jean   NaN   NaN\n",
      "First result : \n",
      "      nom    age   exam\n",
      "0  False  False  False\n",
      "1  False   True  False\n",
      "2  False   True   True\n",
      "Second result : \n",
      " nom     0\n",
      "age     2\n",
      "exam    1\n",
      "dtype: int64\n"
     ]
    }
   ],
   "source": [
    "# Hint for Question (4) :  \n",
    "\n",
    "ex = pd.DataFrame(dict(nom=['Alice', 'Nicolas', 'Jean'],\n",
    "                       age=[19, np.nan, np.nan],\n",
    "                       exam=[15,14,np.nan]))\n",
    "\n",
    "print (\"data : \\n\", ex)\n",
    "print (\"First result : \\n\", ex.isnull())\n",
    "print (\"Second result : \\n\", ex.isnull().sum())"
   ]
  },
  {
   "cell_type": "code",
   "execution_count": 185,
   "metadata": {},
   "outputs": [
    {
     "name": "stdout",
     "output_type": "stream",
     "text": [
      "the sample size of Hitters is :  322\n",
      "the number of features in Hitters is :  20\n",
      "the features of Hitters are : ['AtBat', 'Hits', 'HmRun', 'Runs', 'RBI', 'Walks', 'Years', 'CAtBat', 'CHits', 'CHmRun', 'CRuns', 'CRBI', 'CWalks', 'League', 'Division', 'PutOuts', 'Assists', 'Errors', 'Salary', 'NewLeague']\n",
      "the features types of Hitters are [dtype('int64') dtype('O') dtype('float64')]\n",
      "the number of missing values in AtBat is :  0\n",
      "the number of missing values in Hits is :  0\n",
      "the number of missing values in HmRun is :  0\n",
      "the number of missing values in Runs is :  0\n",
      "the number of missing values in RBI is :  0\n",
      "the number of missing values in Walks is :  0\n",
      "the number of missing values in Years is :  0\n",
      "the number of missing values in CAtBat is :  0\n",
      "the number of missing values in CHits is :  0\n",
      "the number of missing values in CHmRun is :  0\n",
      "the number of missing values in CRuns is :  0\n",
      "the number of missing values in CRBI is :  0\n",
      "the number of missing values in CWalks is :  0\n",
      "the number of missing values in League is :  0\n",
      "the number of missing values in Division is :  0\n",
      "the number of missing values in PutOuts is :  0\n",
      "the number of missing values in Assists is :  0\n",
      "the number of missing values in Errors is :  0\n",
      "the number of missing values in Salary is :  59\n",
      "the number of missing values in NewLeague is :  0\n"
     ]
    }
   ],
   "source": [
    "# Answer for Exercise 2\n",
    "\n",
    "print(\"the sample size of Hitters is : \", hitters.shape[0])\n",
    "print(\"the number of features in Hitters is : \", hitters.shape[1])\n",
    "\n",
    "print(\"the features of Hitters are :\", hitters.columns.tolist())\n",
    "\n",
    "print(\"the features types of Hitters are\", hitters.dtypes.unique())\n",
    "\n",
    "for i in hitters.columns:\n",
    "    print(\"the number of missing values in\", i, \"is : \", hitters[i].isnull().sum())"
   ]
  },
  {
   "cell_type": "markdown",
   "metadata": {},
   "source": [
    "As `Salary`is the **target** we want to predict,  if it is missing for a player,  we will remove this player. \n",
    "\n",
    "To simplify here, **we only take numeric features**  and ignore factors (i.e. categorical attributes) like  `League`, `Division` and `NewLeague`. \n",
    "\n",
    "**Remark :**\n",
    "To handle the categorical features, one can use one-hot encoding, see https://scikit-learn.org/stable/modules/generated/sklearn.preprocessing.OneHotEncoder.html."
   ]
  },
  {
   "cell_type": "markdown",
   "metadata": {},
   "source": [
    "**Exercise 3** :\n",
    "\n",
    "(1) Remove the players for whom  `Salary` is missing.  \n",
    "\n",
    "- Hint : use `pandas.DataFrame.dropna`. https://pandas.pydata.org/docs/reference/api/pandas.DataFrame.dropna.html\n",
    "\n",
    "\n",
    "(2)  `Salary` is the **target**, denoted as `Y` in the next cell.  For the features ( `X` in the next cell, we remove  `League`, `Division` and `NewLeague`.) \n",
    "\n",
    "- Hint : (1) You can use  `dtypes == 'int64'` to select the integer-valued  features. Alternative : use `select_dtypes`with `include=number`\n",
    "    (2) Use `pandas.DataFrame.loc` to access the dataframe. \n",
    "https://pandas.pydata.org/docs/reference/api/pandas.DataFrame.loc.html"
   ]
  },
  {
   "cell_type": "code",
   "execution_count": 186,
   "metadata": {},
   "outputs": [
    {
     "name": "stdout",
     "output_type": "stream",
     "text": [
      "0\n",
      "(263, 16)\n"
     ]
    }
   ],
   "source": [
    "# Answer for Ex 3\n",
    "\n",
    "# (1)\n",
    "hitters = hitters.dropna()\n",
    "\n",
    "# (2)\n",
    "# Complete with your code\n",
    "\n",
    "X = hitters.select_dtypes(include=\"number\").drop(columns='Salary')\n",
    "Y = hitters['Salary']\n",
    "\n",
    "\n",
    "# check-point \n",
    "print (Y.isnull().sum())  # should be 0\n",
    "print (X.shape) # should be (322-59, 20-4)=(263,16)"
   ]
  },
  {
   "cell_type": "markdown",
   "metadata": {},
   "source": [
    "**Exercise 4**\n",
    "Split the data into a train set and a test set. Use 30% of the data for the test set and a random state = 42. (In the end you can try other values than 42). "
   ]
  },
  {
   "cell_type": "code",
   "execution_count": 187,
   "metadata": {},
   "outputs": [],
   "source": [
    "#Answer for Exercise 4\n",
    "from sklearn.model_selection import train_test_split\n",
    "Xtrain,Xtest,Ytrain,Ytest = train_test_split(X,Y,test_size=0.3,random_state=42)"
   ]
  },
  {
   "cell_type": "markdown",
   "metadata": {},
   "source": [
    "**Standardization**\n",
    "We will standardize the data before applying Lasso or Ridge as is usually advised. For this we use the transformer `StandardScaler`. "
   ]
  },
  {
   "cell_type": "code",
   "execution_count": 188,
   "metadata": {},
   "outputs": [],
   "source": [
    "from sklearn.preprocessing import StandardScaler\n",
    "scaler=StandardScaler()\n",
    "XtrainScaled=scaler.fit_transform(Xtrain)"
   ]
  },
  {
   "cell_type": "markdown",
   "metadata": {},
   "source": [
    "Let us check that the columns are now standardized :"
   ]
  },
  {
   "cell_type": "code",
   "execution_count": 189,
   "metadata": {},
   "outputs": [
    {
     "data": {
      "text/plain": [
       "(array([1., 1., 1., 1., 1., 1., 1., 1., 1., 1., 1., 1., 1., 1., 1., 1.]),\n",
       " array([ 2.41352831e-17,  9.65411326e-18,  1.93082265e-17, -1.20676416e-17,\n",
       "         1.01368189e-16,  1.61706397e-16,  7.72329061e-17,  6.75787928e-17,\n",
       "        -1.93082265e-17, -3.86164530e-17,  5.79246795e-17, -3.86164530e-17,\n",
       "         2.89623398e-17, -3.25826322e-17, -6.75787928e-17,  8.68870193e-17]))"
      ]
     },
     "execution_count": 189,
     "metadata": {},
     "output_type": "execute_result"
    }
   ],
   "source": [
    "XtrainScaled.std(axis=0), XtrainScaled.mean(axis=0)"
   ]
  },
  {
   "cell_type": "markdown",
   "metadata": {},
   "source": [
    "Note that the initial dataframe is now a numpy array :"
   ]
  },
  {
   "cell_type": "code",
   "execution_count": 190,
   "metadata": {},
   "outputs": [
    {
     "data": {
      "text/plain": [
       "numpy.ndarray"
      ]
     },
     "execution_count": 190,
     "metadata": {},
     "output_type": "execute_result"
    }
   ],
   "source": [
    "type(XtrainScaled)"
   ]
  },
  {
   "cell_type": "markdown",
   "metadata": {},
   "source": [
    "Let us  turn Ytrain into a numpy array as well :"
   ]
  },
  {
   "cell_type": "code",
   "execution_count": 191,
   "metadata": {},
   "outputs": [],
   "source": [
    "Ytrain=Ytrain.to_numpy()"
   ]
  },
  {
   "cell_type": "markdown",
   "metadata": {},
   "source": [
    "## 1. Ridge and Lasso <a class=\"anchor\" id=\"chapter1\"></a>"
   ]
  },
  {
   "cell_type": "markdown",
   "metadata": {},
   "source": [
    "**Ridge**"
   ]
  },
  {
   "cell_type": "markdown",
   "metadata": {},
   "source": [
    "**Exercise 5** : (1) Create a Ridge regression model. Specify  `fit_intercept=True`, use the default value `alpha=1` and call it `ridge`. Check what alpha corresponds to. \n",
    "\n",
    "Hint : Use `sklearn.linear_model.Ridge`.\n",
    "\n",
    "https://scikit-learn.org/stable/modules/generated/sklearn.linear_model.Ridge.html\n",
    "\n",
    "(2) Fit `ridge` on the data `(XtrainScaled,Ytrain)`.\n",
    "\n",
    "(3) Display the estimated coefficients (`intercept` included !). "
   ]
  },
  {
   "cell_type": "code",
   "execution_count": 192,
   "metadata": {},
   "outputs": [
    {
     "name": "stdout",
     "output_type": "stream",
     "text": [
      "ridge coefficients without intercept : [-215.12785148  290.20873256   53.45833136   -7.60173315  -38.54941926\n",
      "   73.36945017   32.60415669 -323.39710533  116.22147257   26.20493566\n",
      "  353.14584561  122.1676183  -121.03308298   93.78447846   36.78702805\n",
      "  -14.33540126] and the ridge intercept is 535.83825\n"
     ]
    }
   ],
   "source": [
    "# Answer for ex. 5, complete with your code\n",
    "coef_ridge=[]\n",
    "\n",
    "from sklearn.linear_model import Ridge\n",
    "\n",
    "ridge = Ridge(alpha=1, fit_intercept=True)\n",
    "ridge.fit(XtrainScaled,Ytrain)\n",
    "\n",
    "print(f\"ridge coefficients without intercept : {ridge.coef_} and the ridge intercept is {ridge.intercept_}\")\n"
   ]
  },
  {
   "cell_type": "markdown",
   "metadata": {},
   "source": [
    "**Exercise 6** : (1) Create a Lasso regression model with `alpha=1` and `fit_intercept=True`, call it `lasso`. What does `alpha` correspond to ?\n",
    "\n",
    "Hint : use `sklearn.linear_model.Lasso` https://scikit-learn.org/stable/modules/generated/sklearn.linear_model.Lasso.html\n",
    "\n",
    "(2) Fit `lasso` on the data `(XtrainScaled,Ytrain)`.\n",
    "\n",
    "(3) Display the estimated coefficients. "
   ]
  },
  {
   "cell_type": "code",
   "execution_count": 193,
   "metadata": {},
   "outputs": [
    {
     "name": "stdout",
     "output_type": "stream",
     "text": [
      "lasso coefficients without intercept : [-230.44564808  301.60792783   40.17406635  -10.38454116  -22.84228549\n",
      "   70.6672065    40.56803687 -395.18954578   36.12817932   -0.\n",
      "  486.21184889  170.22079734 -133.5656457    94.08801971   35.12092631\n",
      "   -8.15322646] and the lasso intercept is 535.83825\n"
     ]
    }
   ],
   "source": [
    "# Answer for Ex. 6\n",
    "from sklearn.linear_model import Lasso\n",
    "\n",
    "coef_lasso=[]\n",
    "lasso = Lasso(alpha=1, fit_intercept=True)\n",
    "lasso.fit(XtrainScaled,Ytrain)\n",
    "\n",
    "print(f\"lasso coefficients without intercept : {lasso.coef_} and the lasso intercept is {lasso.intercept_}\")"
   ]
  },
  {
   "cell_type": "markdown",
   "metadata": {},
   "source": [
    "\n",
    "-------------------\n",
    "\n",
    "In the next exercise, we will display the variation of the Ridge estimator coefficients as a function of the regularization (`alpha`, *shrinkage parameter* ).\n",
    "Let us generate 50 different values for alpha as follows :"
   ]
  },
  {
   "cell_type": "code",
   "execution_count": 194,
   "metadata": {},
   "outputs": [],
   "source": [
    "alpha_s = np.logspace(-4,6,50)"
   ]
  },
  {
   "cell_type": "markdown",
   "metadata": {},
   "source": [
    "*Info about logspace* (if necessary)"
   ]
  },
  {
   "cell_type": "code",
   "execution_count": 195,
   "metadata": {},
   "outputs": [
    {
     "data": {
      "text/plain": [
       "array([   1.,   10.,  100., 1000.])"
      ]
     },
     "execution_count": 195,
     "metadata": {},
     "output_type": "execute_result"
    }
   ],
   "source": [
    "np.logspace(0,3,4)"
   ]
  },
  {
   "cell_type": "code",
   "execution_count": 196,
   "metadata": {},
   "outputs": [
    {
     "data": {
      "text/plain": [
       "array([   1.,   10.,  100., 1000.])"
      ]
     },
     "execution_count": 196,
     "metadata": {},
     "output_type": "execute_result"
    }
   ],
   "source": [
    "10**(np.linspace(0,3,4))"
   ]
  },
  {
   "cell_type": "code",
   "execution_count": 197,
   "metadata": {},
   "outputs": [
    {
     "data": {
      "text/plain": [
       "array([ True,  True,  True,  True,  True])"
      ]
     },
     "execution_count": 197,
     "metadata": {},
     "output_type": "execute_result"
    }
   ],
   "source": [
    "np.logspace(-2,2,5)==10**(np.linspace(-2,2,5))"
   ]
  },
  {
   "cell_type": "code",
   "execution_count": 198,
   "metadata": {},
   "outputs": [
    {
     "name": "stdout",
     "output_type": "stream",
     "text": [
      "[1.00000000e-04 1.59985872e-04 2.55954792e-04 4.09491506e-04\n",
      " 6.55128557e-04 1.04811313e-03 1.67683294e-03 2.68269580e-03\n",
      " 4.29193426e-03 6.86648845e-03 1.09854114e-02 1.75751062e-02\n",
      " 2.81176870e-02 4.49843267e-02 7.19685673e-02 1.15139540e-01\n",
      " 1.84206997e-01 2.94705170e-01 4.71486636e-01 7.54312006e-01\n",
      " 1.20679264e+00 1.93069773e+00 3.08884360e+00 4.94171336e+00\n",
      " 7.90604321e+00 1.26485522e+01 2.02358965e+01 3.23745754e+01\n",
      " 5.17947468e+01 8.28642773e+01 1.32571137e+02 2.12095089e+02\n",
      " 3.39322177e+02 5.42867544e+02 8.68511374e+02 1.38949549e+03\n",
      " 2.22299648e+03 3.55648031e+03 5.68986603e+03 9.10298178e+03\n",
      " 1.45634848e+04 2.32995181e+04 3.72759372e+04 5.96362332e+04\n",
      " 9.54095476e+04 1.52641797e+05 2.44205309e+05 3.90693994e+05\n",
      " 6.25055193e+05 1.00000000e+06]\n"
     ]
    },
    {
     "data": {
      "text/plain": [
       "[<matplotlib.lines.Line2D at 0x22978f80c10>]"
      ]
     },
     "execution_count": 198,
     "metadata": {},
     "output_type": "execute_result"
    },
    {
     "data": {
      "image/png": "[encoded data removed]",
      "text/plain": [
       "<Figure size 640x480 with 2 Axes>"
      ]
     },
     "metadata": {},
     "output_type": "display_data"
    }
   ],
   "source": [
    "print (alpha_s)\n",
    "\n",
    "fig, (ax1, ax2) = plt.subplots(1, 2)\n",
    "ax1.plot(alpha_s,\".\")\n",
    "ax2.plot(np.log10(alpha_s), \".\")"
   ]
  },
  {
   "cell_type": "markdown",
   "metadata": {},
   "source": [
    "**Exercise 7** : (1) For each  `alpha` in `alpha_s`,  fit a ridge model. \n",
    "You can  use `ridge.set_params`. See : https://scikit-learn.org/stable/modules/generated/sklearn.linear_model.Ridge.html. \n",
    " \n",
    "\n",
    "(2) Plot the  coefficients (without the intercept) w.r.t.  `log10(alpha)`. What do you observe ? \n",
    "\n",
    "(3) (**Optional** ) Create a linear regression model, compare the coefficients given by the OLS estimator with those you get with a Ridge model with a small  `alpha`. \n"
   ]
  },
  {
   "cell_type": "code",
   "execution_count": 199,
   "metadata": {},
   "outputs": [
    {
     "data": {
      "image/png": "[encoded data removed]",
      "text/plain": [
       "<Figure size 1000x600 with 1 Axes>"
      ]
     },
     "metadata": {},
     "output_type": "display_data"
    }
   ],
   "source": [
    "# Answer for Exercise 7\n",
    "\n",
    "coefs_ridge = []\n",
    "plt.figure(figsize=(10, 6))\n",
    "\n",
    "for alpha in alpha_s: \n",
    "    ridge = Ridge(alpha=alpha, fit_intercept=True)\n",
    "    ridge.fit(XtrainScaled, Ytrain)\n",
    "    coefs_ridge.append(ridge.coef_)\n",
    "\n",
    "coefs_ridge = np.array(coefs_ridge)  # Convert to numpy array for easier plotting\n",
    "\n",
    "for i in range(coefs_ridge.shape[1]):  # Iterate over each feature\n",
    "    plt.plot(np.log10(alpha_s), coefs_ridge[:, i], label=f\"Feature {i+1}\")\n",
    "\n",
    "plt.xlabel(\"log10(alpha)\")\n",
    "plt.ylabel(\"Coefficients\")\n",
    "plt.legend()\n",
    "plt.show()"
   ]
  },
  {
   "cell_type": "markdown",
   "metadata": {},
   "source": [
    "**Lasso**"
   ]
  },
  {
   "cell_type": "markdown",
   "metadata": {},
   "source": [
    "We will do the same questions as in  Exercise 7 but for Lasso. \n",
    "\n",
    "For that, we will use   `sklearn.linear_model.lasso_path`. \n",
    "See https://scikit-learn.org/stable/modules/generated/sklearn.linear_model.lasso_path.html \n",
    "\n",
    "Note that the output of `lasso_path` is a  `tuple`. \n",
    "You can read this example : https://scikit-learn.org/stable/auto_examples/linear_model/plot_lasso_lasso_lars_elasticnet_path.html#sphx-glr-auto-examples-linear-model-plot-lasso-lasso-lars-elasticnet-path-py\n",
    "\n",
    "(Also :  note  the shape of the array of  coefficients output by `lasso_path`...)"
   ]
  },
  {
   "cell_type": "code",
   "execution_count": 200,
   "metadata": {},
   "outputs": [
    {
     "data": {
      "text/plain": [
       "((16, 50), (50, 16))"
      ]
     },
     "execution_count": 200,
     "metadata": {},
     "output_type": "execute_result"
    }
   ],
   "source": [
    "from sklearn.linear_model import lasso_path\n",
    "alphas_lasso,coefs_lasso,_=lasso_path(XtrainScaled,Ytrain,n_alphas=50)\n",
    "coefs_lasso.shape,coefs_ridge.shape"
   ]
  },
  {
   "cell_type": "markdown",
   "metadata": {},
   "source": [
    "(in coefs_ridge the rows corresponded to the different values of alpha and the columns were the features, it is the opposite for the output of `lasso_path`).\n",
    "\n",
    "We used 50 values for alphas (those values are automatically determined by `lasso_path`). "
   ]
  },
  {
   "cell_type": "code",
   "execution_count": 201,
   "metadata": {},
   "outputs": [
    {
     "data": {
      "image/png": "[encoded data removed]",
      "text/plain": [
       "<Figure size 640x480 with 1 Axes>"
      ]
     },
     "metadata": {},
     "output_type": "display_data"
    }
   ],
   "source": [
    "coefs_lasso=coefs_lasso.T\n",
    "plt.plot(np.log10(alphas_lasso),coefs_lasso)\n",
    "plt.show()"
   ]
  },
  {
   "cell_type": "code",
   "execution_count": 202,
   "metadata": {},
   "outputs": [
    {
     "data": {
      "text/plain": [
       "[<matplotlib.lines.Line2D at 0x2297a27d350>]"
      ]
     },
     "execution_count": 202,
     "metadata": {},
     "output_type": "execute_result"
    },
    {
     "data": {
      "image/png": "[encoded data removed]",
      "text/plain": [
       "<Figure size 640x480 with 1 Axes>"
      ]
     },
     "metadata": {},
     "output_type": "display_data"
    }
   ],
   "source": [
    "#the values of alphas chosen by defaults are also on a logarithmic scale\n",
    "plt.plot(np.log10(alphas_lasso),'.')"
   ]
  },
  {
   "cell_type": "code",
   "execution_count": 203,
   "metadata": {},
   "outputs": [
    {
     "data": {
      "text/plain": [
       "Text(0, 0.5, 'Lasso coefficients')"
      ]
     },
     "execution_count": 203,
     "metadata": {},
     "output_type": "execute_result"
    },
    {
     "data": {
      "image/png": "[encoded data removed]",
      "text/plain": [
       "<Figure size 800x600 with 1 Axes>"
      ]
     },
     "metadata": {},
     "output_type": "display_data"
    }
   ],
   "source": [
    "fig, ax= plt.subplots(figsize=(8,6))\n",
    "ax.plot(np.log10(alphas_lasso),coefs_lasso)\n",
    "ax.set_xlabel('log10(alpha)')\n",
    "ax.set_ylabel('Lasso coefficients')"
   ]
  },
  {
   "cell_type": "markdown",
   "metadata": {},
   "source": [
    "-------------------\n",
    "\n",
    "Now let us show that **Lasso will help us select  the features**,  i.e. some coefficients will be set to 0 when  `alpha` increases. \n"
   ]
  },
  {
   "cell_type": "markdown",
   "metadata": {},
   "source": [
    "**Exercise 8** :   Compute the number `nb` of zeros among the **Lasso** coefficients for each  `alpha`. (Hint in the next cell)\n",
    "\n",
    "Plot `nb` w.r.t. `log10(alphas)`.\n"
   ]
  },
  {
   "cell_type": "code",
   "execution_count": 204,
   "metadata": {},
   "outputs": [
    {
     "name": "stdout",
     "output_type": "stream",
     "text": [
      "1.\n",
      " [[0 1 1]\n",
      " [0 1 1]\n",
      " [0 1 0]]\n",
      "2.\n",
      " [[ True False False]\n",
      " [ True False False]\n",
      " [ True False  True]]\n",
      "3. Le nombre de 0 de chaque colonne est :\n",
      "  [3 0 1]\n",
      "4. Le nombre de 0 de chaque ligne est : \n",
      " [1 1 2]\n"
     ]
    }
   ],
   "source": [
    "# Hint for Ex. 8\n",
    "\n",
    "ind=np.array([[0,1,1],[0,1,1],[0,1,0]])\n",
    "\n",
    "print (\"1.\\n\", ind)\n",
    "print (\"2.\\n\", ind==0)\n",
    "print (\"3. Le nombre de 0 de chaque colonne est :\\n \", (ind == 0).sum(axis = 0))\n",
    "print (\"4. Le nombre de 0 de chaque ligne est : \\n\", (ind == 0).sum(axis = 1))\n"
   ]
  },
  {
   "cell_type": "code",
   "execution_count": 238,
   "metadata": {},
   "outputs": [
    {
     "data": {
      "image/png": "[encoded data removed]",
      "text/plain": [
       "<Figure size 640x480 with 1 Axes>"
      ]
     },
     "metadata": {},
     "output_type": "display_data"
    }
   ],
   "source": [
    "# Answer for Ex. 8\n",
    "nb_null_lasso = []\n",
    "for alpha in alpha_s:\n",
    "    lasso = Lasso(alpha=alpha, fit_intercept=True)\n",
    "    lasso.fit(XtrainScaled, Ytrain)\n",
    "    nb_null_lasso.append((lasso.coef_ == 0).sum())\n",
    "\n",
    "plt.plot(np.log10(alpha_s), nb_null_lasso, label=\"Number of null coefficients for Lasso\")\n",
    "plt.xlabel(\"log10(alpha)\")\n",
    "plt.ylabel(\"Number of null coefficients\")\n",
    "plt.legend()\n",
    "plt.show()"
   ]
  },
  {
   "cell_type": "markdown",
   "metadata": {},
   "source": [
    "**Exercise 9** :  Compute the number `nb` of  0 among the  **Ridge** coefficients for each `alpha`. \n",
    "\n",
    "Plot `nb` w.r.t. `log10(alphas)`."
   ]
  },
  {
   "cell_type": "code",
   "execution_count": 244,
   "metadata": {},
   "outputs": [
    {
     "data": {
      "image/png": "[encoded data removed]",
      "text/plain": [
       "<Figure size 640x480 with 1 Axes>"
      ]
     },
     "metadata": {},
     "output_type": "display_data"
    }
   ],
   "source": [
    "# Answer for Ex. 9\n",
    "nb_null_ridge = []\n",
    "for alpha in alpha_s:\n",
    "    ridge = Ridge(alpha=alpha, fit_intercept=True)\n",
    "    ridge.fit(XtrainScaled, Ytrain)\n",
    "    nb_null_ridge.append((ridge.coef_ == 0).sum())\n",
    "\n",
    "plt.plot(np.log10(alpha_s), nb_null_ridge, label=\"Number of null coefficients for Ridge\")\n",
    "plt.xlabel(\"log10(alpha)\")\n",
    "plt.ylabel(\"Number of null coefficients\")\n",
    "plt.legend()\n",
    "plt.show()"
   ]
  },
  {
   "cell_type": "markdown",
   "metadata": {
    "tags": []
   },
   "source": [
    "----------------\n",
    "\n",
    "\n",
    "## 2. Cross Validation for the Lasso and Ridge  hyperparameter $\\alpha$   <a class=\"anchor\" id=\"chapter2\"></a>"
   ]
  },
  {
   "cell_type": "markdown",
   "metadata": {},
   "source": [
    "In the next exercises, we will select an optimal `alpha` among the values in `alpha_s` by cross-validation.\n",
    "\n",
    "We will use `sklearn.linear_model.RidgeCV` and `sklearn.linear_model.LassoCV`.\n",
    "\n",
    "Reference :\n",
    "\n",
    "1. `sklearn.linear_model.RidgeCV` : https://scikit-learn.org/stable/modules/generated/sklearn.linear_model.RidgeCV.html\n",
    "\n",
    "2. `sklearn.linear_model.LassoCV` : https://scikit-learn.org/stable/modules/generated/sklearn.linear_model.LassoCV.html\n"
   ]
  },
  {
   "cell_type": "code",
   "execution_count": 207,
   "metadata": {},
   "outputs": [],
   "source": [
    "from sklearn.linear_model import RidgeCV, LassoCV\n",
    "alpha_s = np.logspace(-4,6,50)"
   ]
  },
  {
   "cell_type": "markdown",
   "metadata": {},
   "source": [
    "**Exercise 10** : (1) Create a model for  `RidgeCV`, call it `ridgeCV`, with parameters `alphas=alpha_s`  and `store_cv_values=True`. Fit  `ridgeCV` on  `(XtrainScaled,Ytrain)`. \n",
    "\n",
    "Remark : to be completely rigorous, we should have created a pipeline containing the scaler to avoid what we call \"data leakage\" in the CV calculation. We will ignore this detail here to simplify. \n",
    "\n",
    "(2) We have 50 different values for `alpha`. For each  `alpha`, how many  `score`s do we get for the cross-validation ? Read the info concerning the parameter `cv_values_` of `RidgeCV` in https://scikit-learn.org/stable/modules/generated/sklearn.linear_model.RidgeCV.html \n",
    "\n"
   ]
  },
  {
   "cell_type": "code",
   "execution_count": 252,
   "metadata": {},
   "outputs": [
    {
     "name": "stdout",
     "output_type": "stream",
     "text": [
      "alpha = 0.0001, CV = 418347.1125862905\n",
      "alpha = 0.00015998587196060574, CV = 236113.89878091\n",
      "alpha = 0.0002559547922699536, CV = 415076.4148340795\n",
      "alpha = 0.00040949150623804275, CV = 191087.48354175405\n",
      "alpha = 0.0006551285568595509, CV = 61239.05918684516\n",
      "alpha = 0.0010481131341546852, CV = 510491.9951998422\n",
      "alpha = 0.0016768329368110084, CV = 9376.870607754327\n",
      "alpha = 0.002682695795279727, CV = 16880.167667999136\n",
      "alpha = 0.004291934260128779, CV = 48667.64548073938\n",
      "alpha = 0.006866488450042998, CV = 25424.536417895815\n",
      "alpha = 0.010985411419875584, CV = 31229.280098328854\n",
      "alpha = 0.01757510624854793, CV = 56970.389133785255\n",
      "alpha = 0.028117686979742307, CV = 34075.07626848111\n",
      "alpha = 0.04498432668969444, CV = 1284.0507475773995\n",
      "alpha = 0.07196856730011521, CV = 25543.346961677253\n",
      "alpha = 0.11513953993264481, CV = 73297.18467965744\n",
      "alpha = 0.18420699693267165, CV = 20947.47627451605\n",
      "alpha = 0.29470517025518095, CV = 54977.04078268141\n",
      "alpha = 0.47148663634573945, CV = 108820.05709293489\n",
      "alpha = 0.7543120063354622, CV = 223386.86343765722\n",
      "alpha = 1.2067926406393288, CV = 63473.887207855136\n",
      "alpha = 1.9306977288832496, CV = 42406.628062725744\n",
      "alpha = 3.088843596477485, CV = 100880.4179591561\n",
      "alpha = 4.941713361323838, CV = 50293.8166569167\n",
      "alpha = 7.9060432109077015, CV = 61221.75952168422\n",
      "alpha = 12.648552168552959, CV = 119844.43539185324\n",
      "alpha = 20.235896477251554, CV = 70639.85099185404\n",
      "alpha = 32.37457542817646, CV = 65823.37822701728\n",
      "alpha = 51.794746792312125, CV = 147047.01083950102\n",
      "alpha = 82.86427728546842, CV = 21190.304759367238\n",
      "alpha = 132.57113655901108, CV = 14740.52485502077\n",
      "alpha = 212.09508879201925, CV = 15497.94316882241\n",
      "alpha = 339.32217718953297, CV = 746452.3588072532\n",
      "alpha = 542.867543932386, CV = 129442.3561625202\n",
      "alpha = 868.511373751352, CV = 213424.4306341033\n",
      "alpha = 1389.4954943731389, CV = 160662.40082448404\n",
      "alpha = 2222.9964825261955, CV = 287726.2176549278\n",
      "alpha = 3556.4803062231285, CV = 4762.295306746743\n",
      "alpha = 5689.866029018305, CV = 147582.61431305655\n",
      "alpha = 9102.981779915228, CV = 55797.20789141669\n",
      "alpha = 14563.484775012445, CV = 136043.7974052542\n",
      "alpha = 23299.51810515372, CV = 173530.8323504503\n",
      "alpha = 37275.93720314938, CV = 87352.81599743104\n",
      "alpha = 59636.23316594637, CV = 2661.9211750007103\n",
      "alpha = 95409.54763499963, CV = 24496.390167935373\n",
      "alpha = 152641.79671752366, CV = 23024.282129131378\n",
      "alpha = 244205.30945486546, CV = 2127944.910387857\n",
      "alpha = 390693.9937054621, CV = 292951.3764468522\n",
      "alpha = 625055.1925273977, CV = 27263.29192858005\n",
      "alpha = 1000000.0, CV = 16555.882135012605\n"
     ]
    }
   ],
   "source": [
    "# Answer for Ex. 10\n",
    "\n",
    "ridgeCV = RidgeCV(alphas = alpha_s, store_cv_values=True)\n",
    "ridgeCV.fit(XtrainScaled, Ytrain)\n",
    "\n",
    "for alpha, cv_values in zip(alpha_s, ridgeCV.cv_values_):\n",
    "    print(f\"alpha = {alpha}, CV = {cv_values.mean()}\")"
   ]
  },
  {
   "cell_type": "markdown",
   "metadata": {},
   "source": [
    "**Exercise 11** : For each  alpha, give the mean of the scores, and call it `alpha_score`."
   ]
  },
  {
   "cell_type": "code",
   "execution_count": 209,
   "metadata": {},
   "outputs": [
    {
     "name": "stdout",
     "output_type": "stream",
     "text": [
      "1\n",
      " (2, 3)\n",
      "2\n",
      " [2.5 3.5 4.5]\n",
      "3\n",
      " [2. 5.]\n"
     ]
    }
   ],
   "source": [
    "# Hint for Exercise 11 : \n",
    "\n",
    "ind2=np.array([[1,2,3],[4,5,6]])\n",
    "\n",
    "print (\"1\\n\",ind2.shape)\n",
    "print (\"2\\n\",ind2.mean(axis = 0))\n",
    "print (\"3\\n\",ind2.mean(axis = 1))\n"
   ]
  },
  {
   "cell_type": "code",
   "execution_count": 210,
   "metadata": {},
   "outputs": [],
   "source": [
    "# Answer for Ex. 11\n",
    "\n",
    "\n"
   ]
  },
  {
   "cell_type": "markdown",
   "metadata": {},
   "source": [
    "**Exercise 12** : Plot `alpha_score` w.r.t. `log10(alpha_s)`. Which `alpha` are we going to choose ? Display the coefficients for the chosen  `alpha`.\n",
    "\n",
    "Hint : read the attributes `alpha_` and `coef_` of ridgecv."
   ]
  },
  {
   "cell_type": "code",
   "execution_count": 211,
   "metadata": {},
   "outputs": [],
   "source": [
    "# Answer for Exercise 12\n",
    "\n",
    "\n",
    "\n",
    "\n",
    "\n"
   ]
  },
  {
   "cell_type": "markdown",
   "metadata": {},
   "source": [
    "We will do the same for **Lasso** using `LassoCV`. \n",
    "\n",
    "**Remark**  :  By default, `LassoCV` uses 5-fold cross-validation, which is different from *Leave-One-Out Cross-Validation* used in `RidgeCV`. \n",
    "\n",
    "\n"
   ]
  },
  {
   "cell_type": "code",
   "execution_count": 212,
   "metadata": {},
   "outputs": [
    {
     "data": {
      "text/plain": [
       "(50, 5)"
      ]
     },
     "execution_count": 212,
     "metadata": {},
     "output_type": "execute_result"
    }
   ],
   "source": [
    "from sklearn.linear_model import LassoCV\n",
    "lassoCV=LassoCV(n_alphas=50)\n",
    "lassoCV.fit(XtrainScaled,Ytrain)\n",
    "lassoCV.mse_path_.shape"
   ]
  },
  {
   "cell_type": "markdown",
   "metadata": {},
   "source": [
    "\"5\" corresponds to the 5-folds and \"50\" corresponds to the 50 values of alpha. Here we let LassoCV choose those 50 values. \n",
    "\n",
    "Pay attention to the fact that,  again, the rows and the columns are reversed compared to RidgeCV output : that is why we use the parameter \"axis=1\" in the next cell. \n",
    "\n",
    "NB : the default value for cv is 5 here (using  leave-one-out for Lasso would be too costly (no fast formula, contrary to Ridge)). "
   ]
  },
  {
   "cell_type": "code",
   "execution_count": 213,
   "metadata": {},
   "outputs": [
    {
     "data": {
      "text/plain": [
       "(50,)"
      ]
     },
     "execution_count": 213,
     "metadata": {},
     "output_type": "execute_result"
    }
   ],
   "source": [
    "alpha_score=lassoCV.mse_path_.mean(axis=1) \n",
    "alpha_score.shape"
   ]
  },
  {
   "cell_type": "code",
   "execution_count": 214,
   "metadata": {},
   "outputs": [
    {
     "data": {
      "text/plain": [
       "[<matplotlib.lines.Line2D at 0x2297a50ead0>]"
      ]
     },
     "execution_count": 214,
     "metadata": {},
     "output_type": "execute_result"
    },
    {
     "data": {
      "image/png": "[encoded data removed]",
      "text/plain": [
       "<Figure size 640x480 with 1 Axes>"
      ]
     },
     "metadata": {},
     "output_type": "display_data"
    }
   ],
   "source": [
    "alphas=lassoCV.alphas_\n",
    "plt.plot(np.log10(alphas),alpha_score)"
   ]
  },
  {
   "cell_type": "code",
   "execution_count": 215,
   "metadata": {},
   "outputs": [
    {
     "name": "stdout",
     "output_type": "stream",
     "text": [
      "best alpha for lasso :  4.783179587705159\n",
      "lasso coef for the best alpha :  [-99.92030224 202.5757594   25.01239288   0.          -0.\n",
      "  32.47945631   0.          -0.           0.          27.91148338\n",
      " 150.0851833   27.07622842  -0.          86.82862045   0.\n",
      "  -8.03825832]\n"
     ]
    }
   ],
   "source": [
    "print(\"best alpha for lasso : \", lassoCV.alpha_)\n",
    "print(\"lasso coef for the best alpha : \", lassoCV.coef_)"
   ]
  },
  {
   "cell_type": "markdown",
   "metadata": {},
   "source": [
    "## OPTIONAL : Comparing estimators"
   ]
  },
  {
   "cell_type": "markdown",
   "metadata": {},
   "source": [
    "Remark about the standardization : the standardization needs to be  done in three steps : \n",
    "- first we use `fit` on the train set, which means  the standardizer computes the mean and the std for each feature in your train set.\n",
    "- Then you transform the data : it means, for each column, you remove the mean computed before (i.e. the means computed on the **train** set) and divide by the std computed before (i.e. the std computed on the **train** set).\n",
    "- But pay attention to the fact that  you must transform the train set **and** the test set. But the fit has to be done on the train set  only !\n",
    "\n",
    "Previously, we used the shorter syntax `fit_transform` that allows you to do the `transform` calculation and then to `fit`. We could do that because we only used the train set. But for the test set, we must only use `transform`. "
   ]
  },
  {
   "cell_type": "code",
   "execution_count": 216,
   "metadata": {},
   "outputs": [],
   "source": [
    "XtestScaled=scaler.transform(Xtest)"
   ]
  },
  {
   "cell_type": "markdown",
   "metadata": {},
   "source": [
    "**Prediction of Salary on the test set using the OLS estimator**"
   ]
  },
  {
   "cell_type": "code",
   "execution_count": 217,
   "metadata": {},
   "outputs": [
    {
     "data": {
      "text/plain": [
       "(np.float64(-47.125),\n",
       " np.float64(2529.625),\n",
       " np.float64(-84.28768799282899),\n",
       " np.float64(2492.462312007171))"
      ]
     },
     "execution_count": 217,
     "metadata": {},
     "output_type": "execute_result"
    },
    {
     "data": {
      "image/png": "[encoded data removed]",
      "text/plain": [
       "<Figure size 640x480 with 1 Axes>"
      ]
     },
     "metadata": {},
     "output_type": "display_data"
    }
   ],
   "source": [
    "from sklearn.linear_model import LinearRegression\n",
    "\n",
    "LinReg = LinearRegression()\n",
    "LinReg.fit(Xtrain,Ytrain)# no need to scale for OLS if you just want to predict (unless the solver works best with scaled data)\n",
    "# the predictions  should not be different with or without standardization (could differ only owing to numerical problems)\n",
    "hatY_LinReg = LinReg.predict(Xtest)\n",
    "\n",
    "fig, ax = plt.subplots()\n",
    "ax.scatter(Ytest, hatY_LinReg, s = 5)\n",
    "ax.plot([0, 1], [0, 1],transform=ax.transAxes, ls = '--', c = 'gray')\n",
    "ax.set_xlabel('Ytest')\n",
    "ax.set_ylabel('hatY')\n",
    "ax.set_title('Predicted vs true salaries for OLS estimator')\n",
    "ax.axis('square')"
   ]
  },
  {
   "cell_type": "markdown",
   "metadata": {},
   "source": [
    "**Optional Exercise 1**\n",
    "Do the same with the Ridge estimator (with alpha chosen by CV). "
   ]
  },
  {
   "cell_type": "code",
   "execution_count": 218,
   "metadata": {},
   "outputs": [],
   "source": [
    "# Answer for Optional Exercise 1\n"
   ]
  },
  {
   "cell_type": "markdown",
   "metadata": {},
   "source": [
    "**Optional Exercise 2** Do the same with Lasso with alpha chosen by CV. "
   ]
  },
  {
   "cell_type": "code",
   "execution_count": 219,
   "metadata": {},
   "outputs": [],
   "source": [
    "# Answer for Optional Exercise 2\n"
   ]
  },
  {
   "cell_type": "markdown",
   "metadata": {},
   "source": [
    "**Calculation of the best alpha with a \"BIC criterion\".**\n",
    "Here is an alternative method to choose the \"best\" alpha : "
   ]
  },
  {
   "cell_type": "code",
   "execution_count": 220,
   "metadata": {},
   "outputs": [
    {
     "ename": "NameError",
     "evalue": "name 'Xtrainscaled' is not defined",
     "output_type": "error",
     "traceback": [
      "\u001b[1;31m---------------------------------------------------------------------------\u001b[0m",
      "\u001b[1;31mNameError\u001b[0m                                 Traceback (most recent call last)",
      "Cell \u001b[1;32mIn[220], line 3\u001b[0m\n\u001b[0;32m      1\u001b[0m \u001b[38;5;28;01mfrom\u001b[39;00m \u001b[38;5;21;01msklearn\u001b[39;00m\u001b[38;5;21;01m.\u001b[39;00m\u001b[38;5;21;01mlinear_model\u001b[39;00m \u001b[38;5;28;01mimport\u001b[39;00m LassoLarsIC\n\u001b[0;32m      2\u001b[0m lassoBIC\u001b[38;5;241m=\u001b[39mLassoLarsIC(criterion\u001b[38;5;241m=\u001b[39m\u001b[38;5;124m'\u001b[39m\u001b[38;5;124mbic\u001b[39m\u001b[38;5;124m'\u001b[39m)\n\u001b[1;32m----> 3\u001b[0m lassoBIC\u001b[38;5;241m.\u001b[39mfit(\u001b[43mXtrainscaled\u001b[49m,Ytrain)\n\u001b[0;32m      4\u001b[0m \u001b[38;5;28mprint\u001b[39m(\u001b[38;5;124m\"\u001b[39m\u001b[38;5;124mbest alpha chosen by BIC criterion :\u001b[39m\u001b[38;5;124m\"\u001b[39m,lassoBIC\u001b[38;5;241m.\u001b[39malpha_)\n\u001b[0;32m      5\u001b[0m \u001b[38;5;28mprint\u001b[39m(\u001b[38;5;124m\"\u001b[39m\u001b[38;5;124mbest alpha chosen by CV :\u001b[39m\u001b[38;5;124m\"\u001b[39m,lassoCV\u001b[38;5;241m.\u001b[39malpha_)\n",
      "\u001b[1;31mNameError\u001b[0m: name 'Xtrainscaled' is not defined"
     ]
    }
   ],
   "source": [
    "from sklearn.linear_model import LassoLarsIC\n",
    "lassoBIC=LassoLarsIC(criterion='bic')\n",
    "lassoBIC.fit(Xtrainscaled,Ytrain)\n",
    "print(\"best alpha chosen by BIC criterion :\",lassoBIC.alpha_)\n",
    "print(\"best alpha chosen by CV :\",lassoCV.alpha_)"
   ]
  },
  {
   "cell_type": "markdown",
   "metadata": {},
   "source": [
    "**Comparison between predicted salary and true salary for \"LassoBIC\" estimator :** "
   ]
  },
  {
   "cell_type": "code",
   "execution_count": null,
   "metadata": {},
   "outputs": [],
   "source": [
    "lasso.set_params(alpha = alpha_BIC)\n",
    "lasso.fit(XtrainScaled,Ytrain)\n",
    "\n",
    "hatY_BIC = lasso.predict(Xtest)\n",
    "\n",
    "fig, ax = plt.subplots()\n",
    "ax.scatter(Ytest, hatY_BIC, s = 5)\n",
    "ax.plot([0, 1], [0, 1], transform=ax.transAxes, ls = '--', c = 'gray')\n",
    "ax.set_xlabel('Ytest')\n",
    "ax.set_ylabel('hatY')\n",
    "ax.set_title('Predicted vs true salaries for LassoBIC estimator')\n",
    "ax.axis('square')"
   ]
  },
  {
   "cell_type": "markdown",
   "metadata": {},
   "source": [
    "**Optional Exercise 3** Compute the MSE for these four different estimators (LassoCV, LassoBIC, OLS, RidgeCV)"
   ]
  },
  {
   "cell_type": "code",
   "execution_count": null,
   "metadata": {},
   "outputs": [],
   "source": [
    "# answer for Optional Exercise 3\n"
   ]
  },
  {
   "cell_type": "markdown",
   "metadata": {},
   "source": [
    "**Optional Exercise 4** Display the boxplot of the absolute errors for each estimator.   "
   ]
  },
  {
   "cell_type": "code",
   "execution_count": null,
   "metadata": {},
   "outputs": [],
   "source": [
    "# answer for Optional  Exercise 4\n"
   ]
  },
  {
   "cell_type": "markdown",
   "metadata": {},
   "source": [
    "**Optional Exercise 5**\n",
    "Based on the above information, which estimator would you recommend?"
   ]
  },
  {
   "cell_type": "code",
   "execution_count": null,
   "metadata": {},
   "outputs": [],
   "source": [
    "# answer fot Optional Exercise 5"
   ]
  }
 ],
 "metadata": {
  "kernelspec": {
   "display_name": "Python 3",
   "language": "python",
   "name": "python3"
  },
  "language_info": {
   "codemirror_mode": {
    "name": "ipython",
    "version": 3
   },
   "file_extension": ".py",
   "mimetype": "text/x-python",
   "name": "python",
   "nbconvert_exporter": "python",
   "pygments_lexer": "ipython3",
   "version": "3.11.9"
  }
 },
 "nbformat": 4,
 "nbformat_minor": 4
}
