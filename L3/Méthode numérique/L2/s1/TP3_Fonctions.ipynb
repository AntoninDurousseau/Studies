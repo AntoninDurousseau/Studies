{
 "cells": [
  {
   "cell_type": "markdown",
   "metadata": {},
   "source": [
    "# TP3 - Exercices sur les fonctions\n",
    "---\n",
    "\n",
    "**Attention :**\n",
    "On rappelle que les noms de fonctions **ne doivent pas commencer par &laquo;_&raquo; ni contenir de caractères accentués** (plus précisément, les fonctions qui commencent par &laquo;_&raquo; ne peuvent pas être importées dans un autre module).\n",
    "\n",
    "\n",
    "<font color=red>Commencez par faire l'exercice 1 (qui doit aller vite) puis l'exercice 4 qui montre que les fonctions sont des variables comme les autres.</font>"
   ]
  },
  {
   "cell_type": "code",
   "execution_count": 19,
   "metadata": {},
   "outputs": [],
   "source": [
    "import numpy as np\n",
    "import codecs\n",
    "import numpy.linalg as slin\n",
    "import math "
   ]
  },
  {
   "cell_type": "markdown",
   "metadata": {
    "Collapsed": "false"
   },
   "source": [
    "### Exercice 1 : Une première fonction mathématique\n",
    "\n",
    "> A l'aide du module `numpy`, implémenter informatiquement la fonction $f : x \\mapsto \\sin(\\pi x)$."
   ]
  },
  {
   "cell_type": "code",
   "execution_count": 29,
   "metadata": {
    "Collapsed": "false"
   },
   "outputs": [
    {
     "name": "stdout",
     "output_type": "stream",
     "text": [
      "Help on function mon_sinus in module __main__:\n",
      "\n",
      "mon_sinus(x)\n",
      "\n"
     ]
    }
   ],
   "source": [
    "def mon_sinus(x):\n",
    "    return np.sin(np.pi * x) #retourne la fontion sin(𝜋x)\n",
    "    \n",
    "help(mon_sinus)"
   ]
  },
  {
   "cell_type": "code",
   "execution_count": 30,
   "metadata": {},
   "outputs": [
    {
     "name": "stdout",
     "output_type": "stream",
     "text": [
      "1.2246467991473532e-16\n",
      "[ 0.          0.81245301 -0.94736356  0.29222346  0.60661541 -0.9995694\n",
      "  0.55893585  0.34782037 -0.96451297  0.77685322]\n"
     ]
    }
   ],
   "source": [
    "print(mon_sinus(1)) # c'est presque zéro (proche du epsilon machine)\n",
    "print(mon_sinus(np.linspace(0, 2*np.pi, 10))) # donne les valeurs de sin(𝜋x) pour x ∈ [0,2𝜋]"
   ]
  },
  {
   "cell_type": "markdown",
   "metadata": {
    "Collapsed": "false"
   },
   "source": [
    "----\n",
    "### Exercice 2 : Cryptographie basique : code de César (ou *Caesar cypher*)\n",
    "\n",
    "Le principe de ce code est de \"décaler\" les lettres. Par exemple, si la clef choisie est 1, la lettre A sera remplacée par B, la lettre B par C, etc. Nous nous proposons ici de fabriquer une fonction de cryptage et de décryptage pour la clef 13.\n",
    "\n",
    "> + <font color=red>Importer</font> le module `codecs` et tester les commandes `print(codecs.encode(\"abc\", \"rot+13\"))` et `print(codecs.encode(\"abc\", \"rot-13\"))` \n",
    "> + Comparer avec les 14, 15 et 16<sup>ème</sup> lettres de l'alphabet. "
   ]
  },
  {
   "cell_type": "code",
   "execution_count": 31,
   "metadata": {
    "Collapsed": "false"
   },
   "outputs": [
    {
     "name": "stdout",
     "output_type": "stream",
     "text": [
      "abc\n",
      "abc\n"
     ]
    }
   ],
   "source": [
    "print(codecs.encode(\"nop\", \"rot+13\"))\n",
    "\n",
    "print(codecs.encode(\"nop\", \"rot-13\"))"
   ]
  },
  {
   "cell_type": "markdown",
   "metadata": {
    "Collapsed": "false"
   },
   "source": [
    ">  Proposer une fonction `crypter()` qui demande à l'utilisateur de saisir une chaîne de caractères et affiche sa version codée."
   ]
  },
  {
   "cell_type": "code",
   "execution_count": 32,
   "metadata": {
    "Collapsed": "false"
   },
   "outputs": [
    {
     "name": "stdout",
     "output_type": "stream",
     "text": [
      "test\n"
     ]
    },
    {
     "data": {
      "text/plain": [
       "'grfg'"
      ]
     },
     "execution_count": 32,
     "metadata": {},
     "output_type": "execute_result"
    }
   ],
   "source": [
    "# Mettre votre fonction ici\n",
    "def crypter():\n",
    "    mot = input()\n",
    "    return codecs.encode( mot , \"rot+13\")\n",
    "\n",
    "crypter()"
   ]
  },
  {
   "cell_type": "markdown",
   "metadata": {
    "Collapsed": "false"
   },
   "source": [
    "> Ecrire une fonction `decrypter()` qui demande à l'utilisateur de saisir une chaîne de caractères encodée et affiche sa version décodée."
   ]
  },
  {
   "cell_type": "code",
   "execution_count": 33,
   "metadata": {
    "Collapsed": "false"
   },
   "outputs": [
    {
     "name": "stdout",
     "output_type": "stream",
     "text": [
      "grfg\n"
     ]
    },
    {
     "data": {
      "text/plain": [
       "'test'"
      ]
     },
     "execution_count": 33,
     "metadata": {},
     "output_type": "execute_result"
    }
   ],
   "source": [
    "# Mettre votre fonction ici\n",
    "def decrypter():\n",
    "    text_encode = input()\n",
    "    return codecs.encode( text_encode , \"rot-13\")\n",
    "    \n",
    "decrypter()"
   ]
  },
  {
   "cell_type": "markdown",
   "metadata": {
    "Collapsed": "false"
   },
   "source": [
    ">Tester la fonction `crypter()` avec un message déjà crypté. Expliquer le résultat (indice : il y a 26 lettres dans l'alphabet).\n"
   ]
  },
  {
   "cell_type": "code",
   "execution_count": 35,
   "metadata": {
    "Collapsed": "false"
   },
   "outputs": [
    {
     "name": "stdout",
     "output_type": "stream",
     "text": [
      "grfg\n"
     ]
    },
    {
     "data": {
      "text/plain": [
       "'test'"
      ]
     },
     "execution_count": 35,
     "metadata": {},
     "output_type": "execute_result"
    }
   ],
   "source": [
    "# Mettre votre fonction ici\n",
    "\n",
    "crypter()\n",
    "\n",
    "#il y a 26 lettres dans l'alphabets or 13 ≡ -13 [26] donc cela fait la meme chose "
   ]
  },
  {
   "cell_type": "markdown",
   "metadata": {
    "Collapsed": "false"
   },
   "source": [
    "----\n",
    "### Exercice 3 : comparaison de nombre flottants\n",
    "\n",
    "Le module `scipy.linalg' contient des fonctions classiques d'algère linéaire. En particulier, il fournit les fonctions :\n",
    "   * `inv` qui prend en argument une tableau de dimension 2  correspondant à une matrice carrée et qui renvoie son inverse (s'il existe),\n",
    "   * `norm` qui prend un vecteur est renvoie sa norme 2 (par défaut) et qui fonctionne aussi pour des matrices (voir l'aide pour connaître les normes possibles),\n",
    "   * solve qui prend en argument un tableau de dimension 2 représentant une matrice $A$ et un tableau de dimension 1 représentant un vecteur $v$ et cherche à résoudre Ax=b.\n",
    "\n",
    "> 1. Importez le module `scipy.linalg` comme `slin`, définissez une matrice $A$ (si possible inversible) et un vecteur $u$. Calculez le déterminant de $A$, inversez la matrice, calculez $x=A^{-1}u$, puis calculez la norme de $Ax-u$. Comparer $Ax$ et $u$.\n",
    "> 2. Testez également la commande `allclose` pour comparer $Ax$ et $u$.\n",
    "> 3. Recommencez en résolvant le système linéaire par la commande `solve`."
   ]
  },
  {
   "cell_type": "code",
   "execution_count": 83,
   "metadata": {},
   "outputs": [],
   "source": [
    "A = np.random.random_sample((2, 2))\n",
    "\n",
    "u = 1.e-17*np.random.random_sample((2,))\n"
   ]
  },
  {
   "cell_type": "code",
   "execution_count": 84,
   "metadata": {
    "Collapsed": "false"
   },
   "outputs": [
    {
     "name": "stdout",
     "output_type": "stream",
     "text": [
      "[[-8.09830658e-19  1.10978572e-17]\n",
      " [ 1.77495434e-17 -2.39670664e-17]]\n",
      "1.77556383077821e-17\n"
     ]
    },
    {
     "data": {
      "text/plain": [
       "True"
      ]
     },
     "execution_count": 84,
     "metadata": {},
     "output_type": "execute_result"
    }
   ],
   "source": [
    "# Mettre ici votre code pour la question 1.\n",
    "\n",
    "x = slin.inv(A) * u\n",
    "Ax = A * x\n",
    "n = slin.norm(Ax - u)\n",
    "\n",
    "print(x)\n",
    "print(n)\n",
    "n > 0"
   ]
  },
  {
   "cell_type": "code",
   "execution_count": 85,
   "metadata": {
    "Collapsed": "false"
   },
   "outputs": [
    {
     "data": {
      "text/plain": [
       "True"
      ]
     },
     "execution_count": 85,
     "metadata": {},
     "output_type": "execute_result"
    }
   ],
   "source": [
    "# Mettre ici votre code pour la question 2.\n",
    "\n",
    "np.allclose(Ax,u)"
   ]
  },
  {
   "cell_type": "code",
   "execution_count": 86,
   "metadata": {
    "Collapsed": "false"
   },
   "outputs": [
    {
     "data": {
      "text/plain": [
       "array([0.65886101, 1.54560635])"
      ]
     },
     "execution_count": 86,
     "metadata": {},
     "output_type": "execute_result"
    }
   ],
   "source": [
    "# Mettre ici votre code pour la question 3.\n",
    "\n",
    "slin.solve(Ax,u)"
   ]
  },
  {
   "cell_type": "markdown",
   "metadata": {
    "Collapsed": "false"
   },
   "source": [
    "-----\n",
    "### Exercice 4 : itérer une fonction\n",
    "\n",
    "1 . Ecrire une fonction `itere` :\n",
    "\n",
    "* qui prend en argument une fonction `f` (représentant une fonction mathématiques $f : x \\in \\mathbb{R} \\mapsto f(x)$, un réel $x$ et un entier $n$,\n",
    "* qui renvoie l'itérée n-ième de $f$ en x (*ie* $f^n (x) = f\\circ\\big(f^{n-1}(x)\\big) = f\\circ f \\circ f \\dots f(x)$)\n",
    "\n",
    "2. Tester la fonction itere pour $f_a x \\mapsto 0.5*(\\frac{a}{x} + x)$ et $a=11$ puis $a=3$ et différentes valeurs de $n$."
   ]
  },
  {
   "cell_type": "code",
   "execution_count": 126,
   "metadata": {
    "Collapsed": "false"
   },
   "outputs": [],
   "source": [
    "L2# Mettre ici votre code pour la question 1.\n",
    "def itere(f, x, n):\n",
    "    for i in range(n):\n",
    "        x = f(x)\n",
    "    return x"
   ]
  },
  {
   "cell_type": "code",
   "execution_count": 146,
   "metadata": {},
   "outputs": [
    {
     "data": {
      "text/plain": [
       "125.02887372957785"
      ]
     },
     "execution_count": 146,
     "metadata": {},
     "output_type": "execute_result"
    }
   ],
   "source": [
    "# Mettre ici votre code pour la question 2.\n",
    "def fa(x,a):\n",
    "    return (0.5*((a/x)+x))\n",
    "\n",
    "a = 11\n",
    "f = lambda x : fa(x,a)\n",
    "itere(f,1000,3)\n",
    "itere(lambda x : fa(x,a),1000,3)"
   ]
  },
  {
   "cell_type": "markdown",
   "metadata": {
    "Collapsed": "false"
   },
   "source": [
    "3. Remarque que pour $a>0$, $f_a(x)=x$ si et seulement si $x = \\sqrt(a)$. Ecrire alors un fonction `itere_seuil` qui :\n",
    "    * qui prend en argument une fonction `f` (représentant une fonction mathématiques $f : x \\in \\mathbb{R} \\mapsto f(x)$, un seuil `epsilon` et un réel `x`,\n",
    "    * l'argument $x$ pourra être pris égal à 1 par défaut,\n",
    "    * qui renvoie l'itérée n-ième de $f$ en x (*ie* $f^n(x)$) où $n$ est le plus petit entier tel que $\\vert(f^{n+1}(x)-f^n(x)\\vert \\leqslant \\varepsilon$.\n",
    "    \n",
    "Tester pour la même fonction $f$ que précédement et $\\varepsilon = 1e-6$ et $a = 3$ et 11."
   ]
  },
  {
   "cell_type": "code",
   "execution_count": 166,
   "metadata": {
    "Collapsed": "false"
   },
   "outputs": [
    {
     "data": {
      "text/plain": [
       "inf"
      ]
     },
     "execution_count": 166,
     "metadata": {},
     "output_type": "execute_result"
    }
   ],
   "source": [
    "# Mettre ici votre code pour la question 3.\n",
    "\n",
    "def itere_seuil(f, Ɛ, x):\n",
    "    n = 1\n",
    "    y = f(x)\n",
    "    while abs(y-x) > Ɛ:\n",
    "        x=y\n",
    "        y=f(x)\n",
    "    return y\n",
    "             \n",
    "itere_seuil(f,1e-6,1.)"
   ]
  },
  {
   "cell_type": "markdown",
   "metadata": {
    "Collapsed": "false"
   },
   "source": [
    "4. Afin d'éviter une boucle infinie, ajouter un nombre maximum d'itération. Ce nombre pourra être de $10^6$ par défaut. La fonction devra de plus renvoyer le nombre d'itération faites.\n",
    " Tester votre condition d'arrêt pour $x \\mapsto 2 x$."
   ]
  },
  {
   "cell_type": "code",
   "execution_count": 165,
   "metadata": {
    "Collapsed": "false"
   },
   "outputs": [
    {
     "data": {
      "text/plain": [
       "(inf, 1025)"
      ]
     },
     "execution_count": 165,
     "metadata": {},
     "output_type": "execute_result"
    }
   ],
   "source": [
    "# Mettre ici votre code pour la question 4.\n",
    "def itere_max(f, x, Ɛ, nmax):\n",
    "    n = 1\n",
    "    y = f(x)\n",
    "    while (abs(y-x) > Ɛ) and (n<nmax):\n",
    "        x=y\n",
    "        y=f(x)\n",
    "        n += 1\n",
    "    return y,n\n",
    "\n",
    "f = lambda x : 2*x\n",
    "\n",
    "itere_max(f,1.,1e-10,10**6)"
   ]
  },
  {
   "cell_type": "markdown",
   "metadata": {},
   "source": [
    "------\n",
    "### Exercice 5 : suites numériques\n",
    "\n",
    "Nous souhaitons calculer des suites numériques définies par récurrence $u_{n+1}=f(u_n)$ où $f$ est une fonction donnée.\n",
    "\n",
    "> 1. Créez une fonction `suite_recurrente` qui prend en argument \n",
    ">    - une fonction `f` utilisée pour la récurrence\n",
    ">    - un réel `u0` utilisé pour initialisé la suite\n",
    ">    - un entier `N`\n",
    ">    et qui retourne la liste des `N` premiers termes de la suite définie par récurrence\n",
    "> 2. Testez votre fonction en calculant et affichant les 10 premiers termes de la suite définie par\n",
    ">    $$ u_0=0.75, \\quad u_{n+1} = 2 u_n (1-u_n), \\quad n\\geq0.$$"
   ]
  },
  {
   "cell_type": "code",
   "execution_count": 171,
   "metadata": {},
   "outputs": [
    {
     "data": {
      "text/plain": [
       "[0.75,\n",
       " 0.375,\n",
       " 0.46875,\n",
       " 0.498046875,\n",
       " 0.49999237060546875,\n",
       " 0.4999999998835847,\n",
       " 0.5,\n",
       " 0.5,\n",
       " 0.5,\n",
       " 0.5,\n",
       " 0.5]"
      ]
     },
     "execution_count": 171,
     "metadata": {},
     "output_type": "execute_result"
    }
   ],
   "source": [
    "def suite_recurrente(f, u0, N):\n",
    "    un = [u0]\n",
    "    for i in range(N):\n",
    "        u0 = f(u0)\n",
    "        un.append(u0)\n",
    "    return(un)\n",
    "\n",
    "x = 1.\n",
    "f = lambda x : 2*x*(1-x)\n",
    "\n",
    "suite_recurrente(f,0.75,10)"
   ]
  },
  {
   "cell_type": "markdown",
   "metadata": {},
   "source": [
    "-----\n",
    "### Exercice 6\n",
    "\n",
    "> 1. Créez une fonction `mon_max` qui prend en argument un nombre arbitraire de paramètres, chacun de ces paramètres est soit une liste, soit un réel et qui retourne le maximum des éléments en entrée\n",
    "> 2. Testez votre fonction\n",
    "> 3. Créez une fonction `mon_min` sur le même modèle que `mon_max` et qui utilise cette fonction d'après la formule $\\min(a, b) = - \\max(-a, -b)$.\n",
    "> 4. **(plus dur)** Essayez de généraliser vos fonctions pour qu'elles acceptent également des listes de listes... jusqu'à pouvoir mettre en paramètres un nombre arbitraire de niveau de listes et de tuples...\n",
    "\n",
    "*Indication : pour savoir si un objet `l` est une liste, vous pouvez utiliser la commande `isinstance(l, list)`.*\n",
    "\n",
    "*Indication : vous pouvez également avoir besoin de créer un nombre plus petit que tous les autres en utilisant la commande `-math.inf` du module `math`.*"
   ]
  },
  {
   "cell_type": "code",
   "execution_count": 51,
   "metadata": {},
   "outputs": [
    {
     "name": "stdout",
     "output_type": "stream",
     "text": [
      "1\n",
      "9\n"
     ]
    }
   ],
   "source": [
    "def mon_max(l):\n",
    "    if isinstance(l,list) == True:\n",
    "        maxi = max(l)\n",
    "    else:\n",
    "        maxi = l\n",
    "    return maxi\n",
    "\n",
    "def mon_min(l):\n",
    "    l_moins = []\n",
    "    if isinstance(l,list) == True:\n",
    "        for i in l:\n",
    "            l_moins.append(-i)\n",
    "            maxi = -mon_max(l_moins)\n",
    "    else:\n",
    "        maxi = l\n",
    "    return maxi\n",
    "\n",
    "\n",
    "l = [1,2,9,6]\n",
    "\n",
    "print(mon_min(l))\n",
    "print(mon_max(l))"
   ]
  },
  {
   "cell_type": "code",
   "execution_count": null,
   "metadata": {},
   "outputs": [],
   "source": []
  }
 ],
 "metadata": {
  "kernelspec": {
   "display_name": "Python 3",
   "language": "python",
   "name": "python3"
  },
  "language_info": {
   "codemirror_mode": {
    "name": "ipython",
    "version": 3
   },
   "file_extension": ".py",
   "mimetype": "text/x-python",
   "name": "python",
   "nbconvert_exporter": "python",
   "pygments_lexer": "ipython3",
   "version": "3.9.7"
  },
  "toc": {
   "base_numbering": 1,
   "nav_menu": {},
   "number_sections": true,
   "sideBar": true,
   "skip_h1_title": false,
   "title_cell": "Table of Contents",
   "title_sidebar": "Contents",
   "toc_cell": false,
   "toc_position": {},
   "toc_section_display": true,
   "toc_window_display": false
  },
  "varInspector": {
   "cols": {
    "lenName": 16,
    "lenType": 16,
    "lenVar": 40
   },
   "kernels_config": {
    "python": {
     "delete_cmd_postfix": "",
     "delete_cmd_prefix": "del ",
     "library": "var_list.py",
     "varRefreshCmd": "print(var_dic_list())"
    },
    "r": {
     "delete_cmd_postfix": ") ",
     "delete_cmd_prefix": "rm(",
     "library": "var_list.r",
     "varRefreshCmd": "cat(var_dic_list()) "
    }
   },
   "types_to_exclude": [
    "module",
    "function",
    "builtin_function_or_method",
    "instance",
    "_Feature"
   ],
   "window_display": false
  }
 },
 "nbformat": 4,
 "nbformat_minor": 4
}
