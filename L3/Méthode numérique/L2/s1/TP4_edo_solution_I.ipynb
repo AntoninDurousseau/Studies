{
 "cells": [
  {
   "cell_type": "markdown",
   "metadata": {},
   "source": [
    "# TP : Schémas numériques pour les equations différentielles ordinaires (EDO)\n",
    "\n",
    "Le but de ce TP est d'aborder la résolution numérique des EDO. Pour cela nous allons coder et tester deux algorithmes appelés **schémas**. Nous ne ferons pas, ici, leur étude mathématiques, mais il est bien sûr possible de prouver la convergence (uniforme ; dans un sens que nous ne définirons pas ici) de la solution approchée que nous allons construire vers la solution exacte.\n",
    "\n",
    "\n",
    "\n",
    "---\n",
    "## I - Un premier schéma : Le schéma d'Euler\n",
    "\n",
    "Dans un premier temps nous allons coder les schémas classiques puis les tester sur un exemple simple afin de valider notre implémentation.\n",
    "\n",
    "Pour ces tests, nous allons prendre un problème de Cauchy \"simple\" mais dont la solution n'est pas polynomiale. Il y a plusieurs choix possible comme $y'= a y +b$ ou encore le modèle de la croissance logistique.\n",
    "\n",
    "Ce modèle décrit la croissance d'une population dans un milieu ou les ressources ou l'espace sont finis, ce qui implique une réduction de l'accroissement de la population proportionnel à la population :\n",
    "\n",
    "*Problème 1 :*\n",
    "$$ \n",
    "(L)\\ \\ \\ \\ \\begin{cases}\n",
    "y'(t)=a y (1 - \\frac{y}{K}),\\\\\n",
    "y(0)=y_0.\n",
    "\\end{cases}\n",
    "$$\n",
    "\n",
    "La solution de cette équation est :\n",
    "$$\n",
    "y(t) = \\frac{K}{1 + \\frac{K-y0}{y0} e^{-at}},\n",
    "$$"
   ]
  },
  {
   "cell_type": "markdown",
   "metadata": {},
   "source": [
    "<div class=\"alert alert-info\">\n",
    "\n",
    "Considérons le problème de Cauchy général\n",
    "\n",
    "$$ \n",
    "(P)\\ \\ \\ \\ \\begin{cases}\n",
    "y'(t)=f(t,y(t)),\\\\\n",
    "y(t_0)=y_0,\n",
    "\\end{cases}\n",
    "$$\n",
    "    \n",
    "avec $f$ une fonction donnée, et l'instant initial $t_0$ et la donnée initiale $y_0$ donnés. On cherche à approcher la solution de $(P)$ dans un intervalle $[t_0,t_0+T],\\ T$ donné.\n",
    "    \n",
    "Tous les schémas que l'on verra consistent en deux étapes :\n",
    "    \n",
    "+ discrétiser l'intervalle de temps $[t_0:t_0+T]$ : c'est à dire choisir $\\Delta t>0$ puis  remplacer l'intervalle de temps par les instants $t_i = t_0 + i \\Delta t$ pour $i$ allant de $0$ à $N= T/ \\Delta t$.\n",
    "+ Construire une une suite $u_n$ telle que $u_n \\approx y(t_n)$ avec $y$ la solution exacte (que l'on ne connait pas forcément).\n",
    "    \n",
    "</div>\n",
    "\n",
    "*Remarque : on admet que pour les schémas proposés ici $max_n \\vert u_n - y(t_n) \\vert$ tend vers 0 lorsque $\\Delta t$ tend vers 0.*\n",
    "\n",
    "Le schéma le plus simple que l'on puisse écrire est le **schéma d'Euler** où la suite $u_n$ est définie par :\n",
    "\n",
    "\\begin{equation}\n",
    "\\begin{cases}\n",
    "u_0 &= y_0 \\\\\n",
    "u_{n+1} &= u_n + \\Delta t f(t_n,u_n)\n",
    "\\end{cases}\n",
    "\\end{equation}"
   ]
  },
  {
   "cell_type": "markdown",
   "metadata": {},
   "source": [
    "**Question 1**\n",
    "> Ecrire une fonction `solve_euler` qui :\n",
    ">    + prend en argument $t0$, la donnée initiale $y0$, le temps $T$, le nombre de points $N$, et la fonction $f$,\n",
    ">    + calcule $dt=T/N$ puis la suite de récurrence donnée juste au-dessus par le schéma d'Euler.\n",
    ">    + renvoie deux tableaux : $time=(t_i)$ et $u=(u_i)$ ($u$ pour un problème scalaire pourra être soit un tableau de dimension 1 à $N+1$ éléments soit un tableau de dimension 2 à $N+1$ colonnes et $1$ ligne)."
   ]
  },
  {
   "cell_type": "code",
   "execution_count": 7,
   "metadata": {},
   "outputs": [],
   "source": [
    "import numpy as np\n",
    "\n",
    "# Dans un premier temps, solve_euler permet la discrétisation d'un problème scalaire (i.e. une seule équation)\n",
    "# Plus loin, on va changer cette fonction pour pouvoir résoudre des systèmes d'équations\n",
    "\n",
    "def solve_euler(t0,y0,T,N,f):\n",
    "    \"\"\"\n",
    "    Calcule une solution approchée du problème de Cauchy \n",
    "        y'=f(t,y)\n",
    "        y(t0)=y0\n",
    "    dans l'intervalle [t0, t0+T], par le schéma d'Euler explicite\n",
    "    \n",
    "    Arguments :\n",
    "    ---------\n",
    "        t0 :  float, temps initial\n",
    "        y0 :  float, donnée initiale\n",
    "        T  :  float, longueur de l'intervalle de temps\n",
    "        N  :  int, nombre de subdivisions de l'intervalle de temps\n",
    "        f  :  function, second membre de l'EDO\n",
    "        \n",
    "    Return :\n",
    "    --------\n",
    "        time : array, tableau contenant la subsivision de l'intervalle de temps\n",
    "        u    : array, tableau contenant la solution approchée à chaque instant de time\n",
    "    \"\"\"\n",
    "    \n",
    "    dt=T/N # pas de temps ; la subdivison de l'intervalle de temps est donnée par les N+1 points t0+n*dt, n=0,...,N\n",
    "    time=np.linspace(t0,t0+T,N+1) # time contient t0, t0+dt, t0+2*dt, ... , t0+N*dt = t0+T \n",
    "    u=np.empty(N+1) # u contiendra u0, u1, ... , uN ; u et time sont de taille N+1\n",
    "    u[0]=y0\n",
    "    for i in range(N):\n",
    "        u[i+1]=u[i]+dt*f(time[i],u[i])\n",
    "    return time, u"
   ]
  },
  {
   "cell_type": "markdown",
   "metadata": {},
   "source": [
    "**Question 2**\n",
    "> + Testez le schéma d'Euler sur le modèle logistique (L). On pourra prendre par exemple $K=a=1$ et $y0=2$ ou $0.5$.\n",
    "> + Comparer la solution approchée obtenue à la solution exacte."
   ]
  },
  {
   "cell_type": "code",
   "execution_count": 8,
   "metadata": {},
   "outputs": [],
   "source": [
    "# Outils pour lle problème de Cauchy L\n",
    "\n",
    "def L_rhs(t,x,a=1.,K=1.):\n",
    "    \"\"\"Second membre pour la croissance logisitque\"\"\"\n",
    "    return a*x*(1.-x/K)\n",
    "\n",
    "def L_sol(t,a=1.,K=1.,y0=2.):\n",
    "    \"\"\"\n",
    "    Solution pour la croissance logistique.\n",
    "    \n",
    "    Si t est un tableau à N élément, on décide de renvoyer un tableau de dimension 2 à (N,1) éléments pour être cohérent avec schéma.\n",
    "    \"\"\"\n",
    "    if np.isscalar(t):\n",
    "        return 1./(1+(K/y0 -1)*np.exp(-a*t))\n",
    "    else :\n",
    "        tmp =1./(1+(K/y0 -1)*np.exp(-a*t))\n",
    "        return tmp.reshape(1,len(t))"
   ]
  },
  {
   "cell_type": "code",
   "execution_count": 9,
   "metadata": {},
   "outputs": [
    {
     "data": {
      "text/plain": [
       "Text(0.5, 0.98, \"Schéma d'Euler pour le modèle logistique\")"
      ]
     },
     "execution_count": 9,
     "metadata": {},
     "output_type": "execute_result"
    },
    {
     "data": {
      "image/png": "[encoded data removed]",
      "text/plain": [
       "<Figure size 864x432 with 2 Axes>"
      ]
     },
     "metadata": {
      "needs_background": "light"
     },
     "output_type": "display_data"
    }
   ],
   "source": [
    "# Résolution de l'edo L et graphique :\n",
    "\n",
    "import matplotlib.pyplot as plt\n",
    "\n",
    "Y0=[2,0.5]\n",
    "\n",
    "t0=0\n",
    "T=10\n",
    "N=100 \n",
    "#N=1000\n",
    "#N=5000 TESTER pour voir que la différence en valeur absolue entre la solution exacte et la solution approchée diminue\n",
    "\n",
    "a=1.\n",
    "K=1.\n",
    "\n",
    "fig,ax=plt.subplots(1,2,figsize=(12,6))\n",
    "\n",
    "# solutions approchée et exacte pour y0=2\n",
    "time1,u1=solve_euler(t0,Y0[0],T,N,L_rhs)\n",
    "solex1=L_sol(time1,a,K,Y0[0])\n",
    "\n",
    "# solutions approchée et exacte pour y0=0.5\n",
    "time2,u2=solve_euler(t0,Y0[1],T,N,L_rhs)\n",
    "solex2=L_sol(time2,a,K,Y0[1])\n",
    "\n",
    "ax[0].plot(time1,u1,label='sol app')\n",
    "ax[0].plot(time1,solex1[0,:],label='sol exacte')\n",
    "ax[0].set_title(f'y0={Y0[0]}')\n",
    "ax[0].legend()\n",
    "ax[0].set_xlabel(f'$t$')\n",
    "ax[0].set_ylabel(f'$y(t)$')\n",
    "\n",
    "ax[1].plot(time2,u2,label='sol app')\n",
    "ax[1].plot(time2,solex2[0,:],label='sol exacte')\n",
    "ax[1].set_title(f'y0={Y0[1]}')\n",
    "ax[1].legend()\n",
    "ax[1].set_xlabel(f'$t$')\n",
    "ax[1].set_ylabel(f'$y(t)$')\n",
    "\n",
    "\n",
    "fig.suptitle('Schéma d\\'Euler pour le modèle logistique')"
   ]
  },
  {
   "cell_type": "markdown",
   "metadata": {},
   "source": [
    "___\n",
    "## II - Un second schéma plus précis\n",
    "\n",
    "Le schéma d'Euler commet une petite erreur. En augmentant $N$ on peut diminuer cette erreur (testez-le !) mais il est possible aussi d'utiliser un schéma plus précis comme le **schéma du point du milieu** définit par :\n",
    "\\begin{align}\n",
    "    u_0 & = y_0 \\\\\n",
    "    u_{n+1/2} &= u_n + 0.5dt\\times f(t_n,u_n) \\\\\n",
    "    u_{n+1} &= u_n + dt\\times f(t_n+0.5dt,u_{n+1/2}) \n",
    "\\end{align}"
   ]
  },
  {
   "cell_type": "markdown",
   "metadata": {},
   "source": [
    "**Question 3**\n",
    "> 1. Ecrire une fonction `solve_pt_mid` qui :\n",
    ">    + prend en argument $t0$, la donnée initiale $y0$, le temps final $T$ et le nombre de point $N$,\n",
    ">    + calcule $dt=T/N$ puis la suite de récurrence donnée juste au-dessus par le schéma du point du milieu.\n",
    ">    + renvoie deux tableaux : $time=(t_i)$ et $u=(u_i)$ ($u$ pour un problème scalaire pourra être soit un tableau de dimension 1 à $N$ élément soit un tableau de dimension 2 à $N$ colonnes et $1$ ligne). Ne pas renvoyer les $u_{n+1/2}$.\n",
    "> 2. Refaites le test précédent et comparer avec la solution exacte et le schéma d'Euler explicite."
   ]
  },
  {
   "cell_type": "markdown",
   "metadata": {},
   "source": [
    "___\n",
    "## II - Calcul de l'ordre dans le cas où la solution exacte est connue\n",
    "\n",
    "Soit $y$ la solution exacte du problème $L$ et $(u_n)_{n \\in \\mathbb{N}}$ la solution numérique. L'erreur locale est définie par :\n",
    "$$e_k = \\vert y(t_k) - u_k \\vert$$\n",
    "On appelle erreur globale la quantité :\n",
    "$$\n",
    "E(dt) =  \\max_{k=0,\\cdots,N}( e_k). \n",
    "$$\n",
    "\n",
    "Le théorème de convergence indique que $E(dt)$ est majoré par $C dt^p$ avec $p$ l'ordre du schéma. En pratique nous allons voir que cette erreur est général proportionnelle à $dt^p$ pour des pas de temps assez petit.\n",
    "\n",
    "*Ceci signifie que $\\log\\big[E(dt)\\big] \\sim \\tilde{C}+p\\log(dt)$ pour une certaine constante $\\tilde{C}$. Nous allons donc utiliser des courbes loglog pour calculer l'ordre. En effet il est bien plus facile de calculer la pente d'une droite que de distinguer $Cx^4$ de $Cx^3$ pour $x$ positif et petit.*"
   ]
  },
  {
   "cell_type": "markdown",
   "metadata": {},
   "source": [
    "**Question 4**\n",
    "> Ecrire une fonction `calcule_erreur` qui : \n",
    "> + prend en argument `f, t0, y_exacte` (où $f$ est le second membre et `y_exacte` la solution exacte),\n",
    "> + calcule la solution numérique pour différente valeur de $N$ (par exemple $10, 20, 50, 100, 200, 400, 1000, 2000$) puis l'erreur $E(T/N)$ pour ces différentes valeurs de $N$,\n",
    "> + renvoit ces erreurs dans un tableau.\n",
    "\n",
    "> Testez votre fonction pour le schéma d'Euler explicite et le problème (L), $N E(T/N)$ doit être proche d'une constante."
   ]
  },
  {
   "cell_type": "code",
   "execution_count": 10,
   "metadata": {},
   "outputs": [],
   "source": [
    "# Paramètres\n",
    "\n",
    "T= 3.\n",
    "t0 = 0."
   ]
  },
  {
   "cell_type": "markdown",
   "metadata": {},
   "source": [
    "**Question 5**\n",
    "> 1. Toujours pour la croissance logistique, utilisez la fonction précédente sur les trois schémas implémentés.\n",
    "> 2. Sur un même graphique en échelle log-log, tracez l'erreur en fonction de $dt=T/N$.\n",
    "> 3. Estimez la pente des droites obtenues.\n",
    "\n",
    "*Indication : la façon la plus simple d'estimer les pentes est de tracez $h \\mapsto C h^k$ pour des valeurs convenablement choisies de $C$ et $k$ (vous savez déjà quel pente vous devez trouver !).*"
   ]
  },
  {
   "cell_type": "markdown",
   "metadata": {},
   "source": [
    "---\n",
    "## IV - Résolution numérique d'un problème vectoriel\n",
    "\n",
    "On s'intéresse désormais au problème, le système de Lokta-Voltera :\n",
    "\n",
    "*Problème 2* : \n",
    "\\begin{equation} (LV) \\quad \\begin{cases}\\dot{L} = \\tau_L L -pRL \\\\\n",
    "\\dot{R} = \\tau_R(\\alpha L -1)R \\end{cases}  \\end{equation}\n",
    "avec $L(0) =L_0$ et $R(0) = R_0$. $L$ désigne le nombre de lapin et $R$ le nombre de renard, qui sont des prédateurs des lapins.\n",
    "\n",
    "Pour ce système, on ne peut pas calculer la solution théorique de ce problème (mais on peut quand même montrer que les solutions sont périodiques). C'est dans ce cas que la résolution numérique d'une EDO devient utile."
   ]
  },
  {
   "cell_type": "code",
   "execution_count": 11,
   "metadata": {},
   "outputs": [],
   "source": [
    "# -------------------- Valeurs des paramètres --------------------\n",
    "# Unité de temps : jour\n",
    "tauL = 1./32 # La durée de gestation est de 32 jours, fertilité toute l'année.\n",
    "p = 0.1/32\n",
    "alpha = 1/100\n",
    "tauR = 4.5/365 # Une reproduction par an avec des portées de 4 à 5 individus.\n",
    "t0 = 0\n",
    "T = 3*365 # Evolution sur 3 ans\n",
    "P0 = np.array([50.,10.])"
   ]
  },
  {
   "cell_type": "markdown",
   "metadata": {},
   "source": [
    "**Question**\n",
    "\n",
    "> Implémenter la fonction `pop_LV` qui :\n",
    "> + prend en argument $t \\in \\mathbb{R}$ et un tableau contenant $[L,R]$ à l'instant $t$ ,\n",
    "> + renvoie, sous forme de tableau, les dérivées $[\\dot{L},\\dot{R}]$.\n",
    "> En posant $P = [L,R]$, montrer que l'on a bien $\\dot{P}(t) = pop\\_LV\\big[t,P(t)\\big]$."
   ]
  },
  {
   "cell_type": "markdown",
   "metadata": {},
   "source": [
    "**Question**\n",
    "> Testez les schémas précédemment codés pour cde nouveau problème, après les avoir au besoin adapté à une edo vectorielle. On pourra prendre $dt= 1$."
   ]
  },
  {
   "cell_type": "markdown",
   "metadata": {},
   "source": [
    "**Question**\n",
    "> Dessinez les orbites (ce sont les courbes paramètrées $t-> [L(t),R(t)]$). Elles doivent être périodiques."
   ]
  },
  {
   "cell_type": "code",
   "execution_count": null,
   "metadata": {},
   "outputs": [],
   "source": []
  }
 ],
 "metadata": {
  "kernelspec": {
   "display_name": "Python 3",
   "language": "python",
   "name": "python3"
  },
  "language_info": {
   "codemirror_mode": {
    "name": "ipython",
    "version": 3
   },
   "file_extension": ".py",
   "mimetype": "text/x-python",
   "name": "python",
   "nbconvert_exporter": "python",
   "pygments_lexer": "ipython3",
   "version": "3.9.7"
  },
  "toc": {
   "base_numbering": 1,
   "nav_menu": {},
   "number_sections": true,
   "sideBar": true,
   "skip_h1_title": false,
   "title_cell": "Table of Contents",
   "title_sidebar": "Contents",
   "toc_cell": false,
   "toc_position": {},
   "toc_section_display": true,
   "toc_window_display": false
  },
  "varInspector": {
   "cols": {
    "lenName": 16,
    "lenType": 16,
    "lenVar": 40
   },
   "kernels_config": {
    "python": {
     "delete_cmd_postfix": "",
     "delete_cmd_prefix": "del ",
     "library": "var_list.py",
     "varRefreshCmd": "print(var_dic_list())"
    },
    "r": {
     "delete_cmd_postfix": ") ",
     "delete_cmd_prefix": "rm(",
     "library": "var_list.r",
     "varRefreshCmd": "cat(var_dic_list()) "
    }
   },
   "types_to_exclude": [
    "module",
    "function",
    "builtin_function_or_method",
    "instance",
    "_Feature"
   ],
   "window_display": false
  }
 },
 "nbformat": 4,
 "nbformat_minor": 4
}
