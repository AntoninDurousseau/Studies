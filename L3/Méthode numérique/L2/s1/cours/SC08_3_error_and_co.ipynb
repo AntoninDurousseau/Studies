{
 "cells": [
  {
   "cell_type": "markdown",
   "id": "6c218685",
   "metadata": {},
   "source": [
    "# Gestion des erreurs, assertion et alertes\n",
    "----"
   ]
  },
  {
   "cell_type": "markdown",
   "id": "f57a5f1c",
   "metadata": {},
   "source": [
    "## Codes d'erreurs\n",
    "\n",
    "Lorsque python doit exécuter une instruction non valide (c'est à dire une instruction qui bug ou qui n'a pas de sens), il arrête l'exécution et affiche un message d'erreur. Ce message est indispensable pour pouvoir corriger l'erreur. Par exemple, lorsque vous faite `1/0`, voici ce qui s'affiche (les premières lignes du message peuvent varier entre python et les notebook mais la dernière ligne sera toujours identique) :"
   ]
  },
  {
   "cell_type": "code",
   "execution_count": 2,
   "id": "40f6e011",
   "metadata": {},
   "outputs": [
    {
     "ename": "ZeroDivisionError",
     "evalue": "division by zero",
     "output_type": "error",
     "traceback": [
      "\u001b[0;31m---------------------------------------------------------------------------\u001b[0m",
      "\u001b[0;31mZeroDivisionError\u001b[0m                         Traceback (most recent call last)",
      "\u001b[0;32m<ipython-input-2-9e1622b385b6>\u001b[0m in \u001b[0;36m<module>\u001b[0;34m\u001b[0m\n\u001b[0;32m----> 1\u001b[0;31m \u001b[0;36m1\u001b[0m\u001b[0;34m/\u001b[0m\u001b[0;36m0\u001b[0m\u001b[0;34m\u001b[0m\u001b[0;34m\u001b[0m\u001b[0m\n\u001b[0m",
      "\u001b[0;31mZeroDivisionError\u001b[0m: division by zero"
     ]
    }
   ],
   "source": [
    "1/0"
   ]
  },
  {
   "cell_type": "code",
   "execution_count": 3,
   "id": "41fbd064",
   "metadata": {},
   "outputs": [
    {
     "ename": "NameError",
     "evalue": "name 'non_def' is not defined",
     "output_type": "error",
     "traceback": [
      "\u001b[0;31m---------------------------------------------------------------------------\u001b[0m",
      "\u001b[0;31mNameError\u001b[0m                                 Traceback (most recent call last)",
      "\u001b[0;32m<ipython-input-3-f5d55565cd80>\u001b[0m in \u001b[0;36m<module>\u001b[0;34m\u001b[0m\n\u001b[0;32m----> 1\u001b[0;31m \u001b[0mnon_def\u001b[0m\u001b[0;34m\u001b[0m\u001b[0;34m\u001b[0m\u001b[0m\n\u001b[0m",
      "\u001b[0;31mNameError\u001b[0m: name 'non_def' is not defined"
     ]
    }
   ],
   "source": [
    "non_def"
   ]
  },
  {
   "cell_type": "code",
   "execution_count": 4,
   "id": "5f60d459",
   "metadata": {},
   "outputs": [
    {
     "ename": "TypeError",
     "evalue": "unsupported operand type(s) for /: 'str' and 'int'",
     "output_type": "error",
     "traceback": [
      "\u001b[0;31m---------------------------------------------------------------------------\u001b[0m",
      "\u001b[0;31mTypeError\u001b[0m                                 Traceback (most recent call last)",
      "\u001b[0;32m<ipython-input-4-6dc2b0fd204c>\u001b[0m in \u001b[0;36m<module>\u001b[0;34m\u001b[0m\n\u001b[0;32m----> 1\u001b[0;31m \u001b[0;34m\"a\"\u001b[0m\u001b[0;34m/\u001b[0m\u001b[0;36m2\u001b[0m\u001b[0;34m\u001b[0m\u001b[0;34m\u001b[0m\u001b[0m\n\u001b[0m",
      "\u001b[0;31mTypeError\u001b[0m: unsupported operand type(s) for /: 'str' and 'int'"
     ]
    }
   ],
   "source": [
    "\"a\"/2"
   ]
  },
  {
   "cell_type": "markdown",
   "id": "55b22d6a",
   "metadata": {},
   "source": [
    "Python indique explicitement que l'erreur vient de la division par zéro. Ici, c'est évident mais lorsque vous coder une fonction (de plus d'une ligne) qui plante, ces messages sont indispensables pour pouvoir corriger votre erreur.\n",
    "\n",
    "*Remarque :\n",
    " \tSi le message d'erreur qui s'affiche est long, partez du bas (si vous appelez une fonction qui appelle un fonction qui elle-même comporte une erreur, python affichera ces trois appels de fonctions !). De même, il arrive parfois que l'erreur soit faite à ligne précédent celle afficher par l'interpréteur python (par exemple lorsque vous oubliez de fermer la parenthèse à la ligne du dessus ou pour certaines erreurs d'indentation).*\n",
    "\n",
    "### Erreurs classiques\n",
    " + division by zero\n",
    " + not callable` : seules les fonctions peuvent être appelée. Par ex A(2) au lieu de A[2] pour A tableau\n",
    " + not subscriptable : erreur inverse, mauvaise utilisation des crochets.\n",
    " + out of bounds : accès à un éléments en dehors de la liste, du tableau, ...\n",
    " + too many indices : trop d'indice pour un tableau (ex A[1,1] pour un tableau 1D)\n",
    "\n"
   ]
  },
  {
   "cell_type": "markdown",
   "id": "eaec8292",
   "metadata": {},
   "source": [
    "### Définir ces propres erreurs\n",
    "\n",
    "Lorsque que vous créer vos fonctions de nouvelles erreurs ou comportement anormaux, non prévus par python, peuvent apparaître. Vous pouvez alors définir vos propres message d'erreur.\n",
    "\n",
    "En voici un exemple : on écrit un code qui converti un temps XhYm en secondes."
   ]
  },
  {
   "cell_type": "code",
   "execution_count": 1,
   "id": "bce1d072",
   "metadata": {},
   "outputs": [],
   "source": [
    "def convert_time():\n",
    "  a = input(\"Entrer une duree au format XXhYYm : \")\n",
    "  i = a.find('h') # Renvoie la position de 'h' dans la chaine de caracteres\n",
    "  h = int(a[:i])    # Heures\n",
    "  m = int(a[i+1:])  # Minutes\n",
    "  #print(i,h,m)\n",
    "  print(\"Cela représente \",3600*h+60*m, \" secondes\")"
   ]
  },
  {
   "cell_type": "markdown",
   "id": "c08e9c82",
   "metadata": {},
   "source": [
    "Si l'utilisateur saisi \"10m\" au lieu de saisir \"0h10m\", la première fonction ne plante pas mais affiche un résultat faux (4200 secondes) ; la seconde fonction détecte le problème (mauvaise saisie) et s'arrête. En effet, la commande `find` renvoie \"-1\" quand elle ne trouve pas la chaine de caractère trouvée."
   ]
  },
  {
   "cell_type": "code",
   "execution_count": 2,
   "id": "072e23a7",
   "metadata": {},
   "outputs": [
    {
     "name": "stdin",
     "output_type": "stream",
     "text": [
      "Entrer une duree au format XXhYYm :  6m\n"
     ]
    },
    {
     "ename": "ValueError",
     "evalue": "invalid literal for int() with base 10: '6m'",
     "output_type": "error",
     "traceback": [
      "\u001b[0;31m---------------------------------------------------------------------------\u001b[0m",
      "\u001b[0;31mValueError\u001b[0m                                Traceback (most recent call last)",
      "\u001b[0;32m<ipython-input-2-438de14b4d1c>\u001b[0m in \u001b[0;36m<module>\u001b[0;34m\u001b[0m\n\u001b[0;32m----> 1\u001b[0;31m \u001b[0mconvert_time\u001b[0m\u001b[0;34m(\u001b[0m\u001b[0;34m)\u001b[0m\u001b[0;34m\u001b[0m\u001b[0;34m\u001b[0m\u001b[0m\n\u001b[0m",
      "\u001b[0;32m<ipython-input-1-fe39324b20cc>\u001b[0m in \u001b[0;36mconvert_time\u001b[0;34m()\u001b[0m\n\u001b[1;32m      3\u001b[0m   \u001b[0mi\u001b[0m \u001b[0;34m=\u001b[0m \u001b[0ma\u001b[0m\u001b[0;34m.\u001b[0m\u001b[0mfind\u001b[0m\u001b[0;34m(\u001b[0m\u001b[0;34m'h'\u001b[0m\u001b[0;34m)\u001b[0m \u001b[0;31m# Renvoie la position de 'h' dans la chaine de caracteres\u001b[0m\u001b[0;34m\u001b[0m\u001b[0;34m\u001b[0m\u001b[0m\n\u001b[1;32m      4\u001b[0m   \u001b[0mh\u001b[0m \u001b[0;34m=\u001b[0m \u001b[0mint\u001b[0m\u001b[0;34m(\u001b[0m\u001b[0ma\u001b[0m\u001b[0;34m[\u001b[0m\u001b[0;34m:\u001b[0m\u001b[0mi\u001b[0m\u001b[0;34m]\u001b[0m\u001b[0;34m)\u001b[0m    \u001b[0;31m# Heures\u001b[0m\u001b[0;34m\u001b[0m\u001b[0;34m\u001b[0m\u001b[0m\n\u001b[0;32m----> 5\u001b[0;31m   \u001b[0mm\u001b[0m \u001b[0;34m=\u001b[0m \u001b[0mint\u001b[0m\u001b[0;34m(\u001b[0m\u001b[0ma\u001b[0m\u001b[0;34m[\u001b[0m\u001b[0mi\u001b[0m\u001b[0;34m+\u001b[0m\u001b[0;36m1\u001b[0m\u001b[0;34m:\u001b[0m\u001b[0;34m]\u001b[0m\u001b[0;34m)\u001b[0m  \u001b[0;31m# Minutes\u001b[0m\u001b[0;34m\u001b[0m\u001b[0;34m\u001b[0m\u001b[0m\n\u001b[0m\u001b[1;32m      6\u001b[0m   \u001b[0;31m#print(i,h,m)\u001b[0m\u001b[0;34m\u001b[0m\u001b[0;34m\u001b[0m\u001b[0;34m\u001b[0m\u001b[0m\n\u001b[1;32m      7\u001b[0m   \u001b[0mprint\u001b[0m\u001b[0;34m(\u001b[0m\u001b[0;34m\"Cela représente \"\u001b[0m\u001b[0;34m,\u001b[0m\u001b[0;36m3600\u001b[0m\u001b[0;34m*\u001b[0m\u001b[0mh\u001b[0m\u001b[0;34m+\u001b[0m\u001b[0;36m60\u001b[0m\u001b[0;34m*\u001b[0m\u001b[0mm\u001b[0m\u001b[0;34m,\u001b[0m \u001b[0;34m\" secondes\"\u001b[0m\u001b[0;34m)\u001b[0m\u001b[0;34m\u001b[0m\u001b[0;34m\u001b[0m\u001b[0m\n",
      "\u001b[0;31mValueError\u001b[0m: invalid literal for int() with base 10: '6m'"
     ]
    }
   ],
   "source": [
    "convert_time()"
   ]
  },
  {
   "cell_type": "code",
   "execution_count": 5,
   "id": "3d857bf5",
   "metadata": {},
   "outputs": [],
   "source": [
    "def convert_time_safe():\n",
    "  a = input(\"Entrer une duree au format XXhYYm : \")\n",
    "  i = a.find('h')\n",
    "  print(i)\n",
    "  if i<0 : \n",
    "        raise ValueError(\"La saisie ne contient pas le caratère 'h'\")\n",
    "  h = int(a[:i])    # Minutes\n",
    "  m = int(a[i+1:])  # Minutes\n",
    "  print(\"Cela représente \",3600*h+60*m, \" secondes\")"
   ]
  },
  {
   "cell_type": "code",
   "execution_count": 4,
   "id": "49c6b2f9",
   "metadata": {},
   "outputs": [
    {
     "name": "stdin",
     "output_type": "stream",
     "text": [
      "Entrer une duree au format XXhYYm :  -1\n"
     ]
    },
    {
     "name": "stdout",
     "output_type": "stream",
     "text": [
      "-1\n"
     ]
    },
    {
     "ename": "ValueError",
     "evalue": "La saisie ne contient pas le caratère 'h'",
     "output_type": "error",
     "traceback": [
      "\u001b[0;31m---------------------------------------------------------------------------\u001b[0m",
      "\u001b[0;31mValueError\u001b[0m                                Traceback (most recent call last)",
      "\u001b[0;32m<ipython-input-4-0962661753db>\u001b[0m in \u001b[0;36m<module>\u001b[0;34m\u001b[0m\n\u001b[0;32m----> 1\u001b[0;31m \u001b[0mconvert_time_safe\u001b[0m\u001b[0;34m(\u001b[0m\u001b[0;34m)\u001b[0m\u001b[0;34m\u001b[0m\u001b[0;34m\u001b[0m\u001b[0m\n\u001b[0m",
      "\u001b[0;32m<ipython-input-3-b3f1613b08cd>\u001b[0m in \u001b[0;36mconvert_time_safe\u001b[0;34m()\u001b[0m\n\u001b[1;32m      3\u001b[0m   \u001b[0mi\u001b[0m \u001b[0;34m=\u001b[0m \u001b[0ma\u001b[0m\u001b[0;34m.\u001b[0m\u001b[0mfind\u001b[0m\u001b[0;34m(\u001b[0m\u001b[0;34m'h'\u001b[0m\u001b[0;34m)\u001b[0m\u001b[0;34m\u001b[0m\u001b[0;34m\u001b[0m\u001b[0m\n\u001b[1;32m      4\u001b[0m   \u001b[0mprint\u001b[0m\u001b[0;34m(\u001b[0m\u001b[0mi\u001b[0m\u001b[0;34m)\u001b[0m\u001b[0;34m\u001b[0m\u001b[0;34m\u001b[0m\u001b[0m\n\u001b[0;32m----> 5\u001b[0;31m   \u001b[0;32mif\u001b[0m \u001b[0mi\u001b[0m\u001b[0;34m<\u001b[0m\u001b[0;36m0\u001b[0m \u001b[0;34m:\u001b[0m \u001b[0;32mraise\u001b[0m \u001b[0mValueError\u001b[0m\u001b[0;34m(\u001b[0m\u001b[0;34m\"La saisie ne contient pas le caratère 'h'\"\u001b[0m\u001b[0;34m)\u001b[0m\u001b[0;34m\u001b[0m\u001b[0;34m\u001b[0m\u001b[0m\n\u001b[0m\u001b[1;32m      6\u001b[0m   \u001b[0mh\u001b[0m \u001b[0;34m=\u001b[0m \u001b[0mint\u001b[0m\u001b[0;34m(\u001b[0m\u001b[0ma\u001b[0m\u001b[0;34m[\u001b[0m\u001b[0;34m:\u001b[0m\u001b[0mi\u001b[0m\u001b[0;34m]\u001b[0m\u001b[0;34m)\u001b[0m    \u001b[0;31m# Minutes\u001b[0m\u001b[0;34m\u001b[0m\u001b[0;34m\u001b[0m\u001b[0m\n\u001b[1;32m      7\u001b[0m   \u001b[0mm\u001b[0m \u001b[0;34m=\u001b[0m \u001b[0mint\u001b[0m\u001b[0;34m(\u001b[0m\u001b[0ma\u001b[0m\u001b[0;34m[\u001b[0m\u001b[0mi\u001b[0m\u001b[0;34m+\u001b[0m\u001b[0;36m1\u001b[0m\u001b[0;34m:\u001b[0m\u001b[0;34m]\u001b[0m\u001b[0;34m)\u001b[0m  \u001b[0;31m# Minutes\u001b[0m\u001b[0;34m\u001b[0m\u001b[0;34m\u001b[0m\u001b[0m\n",
      "\u001b[0;31mValueError\u001b[0m: La saisie ne contient pas le caratère 'h'"
     ]
    }
   ],
   "source": [
    "convert_time_safe()"
   ]
  },
  {
   "cell_type": "markdown",
   "id": "1afd8ed5",
   "metadata": {},
   "source": [
    "**La synthaxe pour renvoyer une erreur définie par l'utilisateur est :**"
   ]
  },
  {
   "cell_type": "code",
   "execution_count": 6,
   "id": "3699d91f",
   "metadata": {},
   "outputs": [
    {
     "ename": "ValueError",
     "evalue": "Message d'erreur définit par l'utilisateur.",
     "output_type": "error",
     "traceback": [
      "\u001b[0;31m---------------------------------------------------------------------------\u001b[0m",
      "\u001b[0;31mValueError\u001b[0m                                Traceback (most recent call last)",
      "\u001b[0;32m<ipython-input-6-4ac892ca0dad>\u001b[0m in \u001b[0;36m<module>\u001b[0;34m\u001b[0m\n\u001b[0;32m----> 1\u001b[0;31m \u001b[0;32mraise\u001b[0m \u001b[0mValueError\u001b[0m\u001b[0;34m(\u001b[0m\u001b[0;34m\"Message d'erreur définit par l'utilisateur.\"\u001b[0m\u001b[0;34m)\u001b[0m\u001b[0;34m\u001b[0m\u001b[0;34m\u001b[0m\u001b[0m\n\u001b[0m",
      "\u001b[0;31mValueError\u001b[0m: Message d'erreur définit par l'utilisateur."
     ]
    }
   ],
   "source": [
    "raise ValueError(\"Message d'erreur définit par l'utilisateur.\")"
   ]
  },
  {
   "cell_type": "markdown",
   "id": "5d2a6017",
   "metadata": {},
   "source": [
    "----\n",
    "# Intercepter les erreurs\n",
    "\n",
    "Lorsque python rencontre une erreur il arrête le programme de façon brutale. Il existe des cas où l'on voudrait soit poursuivre l'éxecution ou encore arrêter le programme après une sauvegarde ou un arrêt plus doux.\n",
    "\n",
    "Il est alors possible d'intercepter l'erreur pour la gérer de la façon de notre choix. C'est en particulier possible pour les valeur saisies par l'utilisateur qui peuvent être à la source de nombreux bugs.\n",
    "\n",
    "Dans ces cas là, on peut par exemple utiliser une valeur par défaut ou demander à l'utilisateur de ressaisir une nouvelle valeur :"
   ]
  },
  {
   "cell_type": "code",
   "execution_count": 9,
   "id": "819cb4b0",
   "metadata": {},
   "outputs": [
    {
     "name": "stdin",
     "output_type": "stream",
     "text": [
      "Entrer un nombre : toto\n"
     ]
    },
    {
     "ename": "ValueError",
     "evalue": "invalid literal for int() with base 10: 'toto'",
     "output_type": "error",
     "traceback": [
      "\u001b[0;31m---------------------------------------------------------------------------\u001b[0m",
      "\u001b[0;31mValueError\u001b[0m                                Traceback (most recent call last)",
      "\u001b[0;32m<ipython-input-9-49fbed9e1280>\u001b[0m in \u001b[0;36m<module>\u001b[0;34m\u001b[0m\n\u001b[1;32m      5\u001b[0m   \u001b[0;32mreturn\u001b[0m \u001b[0ma\u001b[0m\u001b[0;34m\u001b[0m\u001b[0;34m\u001b[0m\u001b[0m\n\u001b[1;32m      6\u001b[0m \u001b[0;34m\u001b[0m\u001b[0m\n\u001b[0;32m----> 7\u001b[0;31m \u001b[0mf0\u001b[0m\u001b[0;34m(\u001b[0m\u001b[0;34m)\u001b[0m\u001b[0;34m\u001b[0m\u001b[0;34m\u001b[0m\u001b[0m\n\u001b[0m",
      "\u001b[0;32m<ipython-input-9-49fbed9e1280>\u001b[0m in \u001b[0;36mf0\u001b[0;34m()\u001b[0m\n\u001b[1;32m      2\u001b[0m   \u001b[0mb\u001b[0m \u001b[0;34m=\u001b[0m \u001b[0minput\u001b[0m\u001b[0;34m(\u001b[0m\u001b[0;34m\"Entrer un nombre :\"\u001b[0m\u001b[0;34m)\u001b[0m\u001b[0;34m\u001b[0m\u001b[0;34m\u001b[0m\u001b[0m\n\u001b[1;32m      3\u001b[0m   \u001b[0;31m# Instruction qui peut générer une erreur\u001b[0m\u001b[0;34m\u001b[0m\u001b[0;34m\u001b[0m\u001b[0;34m\u001b[0m\u001b[0m\n\u001b[0;32m----> 4\u001b[0;31m   \u001b[0ma\u001b[0m \u001b[0;34m=\u001b[0m \u001b[0mint\u001b[0m\u001b[0;34m(\u001b[0m\u001b[0mb\u001b[0m\u001b[0;34m)\u001b[0m\u001b[0;34m\u001b[0m\u001b[0;34m\u001b[0m\u001b[0m\n\u001b[0m\u001b[1;32m      5\u001b[0m   \u001b[0;32mreturn\u001b[0m \u001b[0ma\u001b[0m\u001b[0;34m\u001b[0m\u001b[0;34m\u001b[0m\u001b[0m\n\u001b[1;32m      6\u001b[0m \u001b[0;34m\u001b[0m\u001b[0m\n",
      "\u001b[0;31mValueError\u001b[0m: invalid literal for int() with base 10: 'toto'"
     ]
    }
   ],
   "source": [
    "def f0():\n",
    "  b = input(\"Entrer un nombre :\")\n",
    "  # Instruction qui peut générer une erreur\n",
    "  a = int(b)\n",
    "  return a\n",
    "\n",
    "f0()"
   ]
  },
  {
   "cell_type": "code",
   "execution_count": 12,
   "id": "f6b3607c",
   "metadata": {},
   "outputs": [
    {
     "name": "stdin",
     "output_type": "stream",
     "text": [
      "Entrer un nombre : toto\n"
     ]
    },
    {
     "name": "stdout",
     "output_type": "stream",
     "text": [
      "vous n'avez pas saisi un nombre, on remplace par 0\n"
     ]
    },
    {
     "data": {
      "text/plain": [
       "0"
      ]
     },
     "execution_count": 12,
     "metadata": {},
     "output_type": "execute_result"
    }
   ],
   "source": [
    "def f0():\n",
    "  b = input(\"Entrer un nombre :\")\n",
    "  try:\n",
    "    # Instruction qui peut générer une erreur\n",
    "    a = int(b)\n",
    "  except ValueError:\n",
    "    # Instructions à faire en cas d'erreur\n",
    "    print(\"vous n'avez pas saisi un nombre, on remplace par 0\")\n",
    "    a = 0\n",
    "  return a\n",
    "\n",
    "f0()"
   ]
  },
  {
   "cell_type": "markdown",
   "id": "a910fc6a",
   "metadata": {},
   "source": [
    "Le code essaye de faire l'instruction du try ; si elle n'y parvient pas, elle exécute les commandes du bloc except.\n",
    "Il est aussi possible d'ajouter un bloc à n'exécuter que si tout ces bien passer ; ce bloc est introduit par finally :"
   ]
  },
  {
   "cell_type": "code",
   "execution_count": 15,
   "id": "251efda5",
   "metadata": {},
   "outputs": [
    {
     "name": "stdin",
     "output_type": "stream",
     "text": [
      "Entrer un nombre : toto\n"
     ]
    },
    {
     "name": "stdout",
     "output_type": "stream",
     "text": [
      "vous n'avez pas saisi un nombre, on remplace par 0\n"
     ]
    },
    {
     "data": {
      "text/plain": [
       "0"
      ]
     },
     "execution_count": 15,
     "metadata": {},
     "output_type": "execute_result"
    }
   ],
   "source": [
    "def f1():\n",
    "    b = input(\"Entrer un nombre :\")\n",
    "    try:\n",
    "        # Instruction qui peut générer une erreur\n",
    "        a = int(b)\n",
    "    except ValueError:\n",
    "        # Instructions à faire en cas d'erreur\n",
    "        print(\"vous n'avez pas saisi un nombre, on remplace par 0\")\n",
    "        a = 0\n",
    "    else :\n",
    "        print(\"Vous avez bien saisi un nombre !\")\n",
    "    return a\n",
    "\n",
    "f1()"
   ]
  },
  {
   "cell_type": "markdown",
   "id": "fdc2b74c",
   "metadata": {},
   "source": [
    "Cette synthaxe est aussi souvent utilisée pour la manipulation de fichiers ou les source d'erreurs peuvent être fréquente :"
   ]
  },
  {
   "cell_type": "code",
   "execution_count": 18,
   "id": "b7f6705e",
   "metadata": {},
   "outputs": [
    {
     "name": "stdin",
     "output_type": "stream",
     "text": [
      "Entrer le nom d'un fichier hello.txt\n"
     ]
    },
    {
     "name": "stdout",
     "output_type": "stream",
     "text": [
      "hello. Je suis un fichier.\n"
     ]
    }
   ],
   "source": [
    "fname=input(\"Entrer le nom d'un fichier\")\n",
    "\n",
    "try :\n",
    "    f=open(fname,'r')\n",
    "except FileNotFoundError: \n",
    "    print(f\"{fname} n'a pas été trouvé\")\n",
    "except IsADirectoryError:\n",
    "    print(f\"{fname} est un dossier !\")\n",
    "except ValueError:\n",
    "    # all other types of exceptions\n",
    "    print(\"Il y a eu une erreur !\")\n",
    "else :\n",
    "    # Seulement si on a pu ouvrir correctement le fichier\n",
    "    contenu=f.read()    \n",
    "    print(contenu)\n",
    "finally :\n",
    "    f.close() \n",
    "    # On s'assure de fermer dans tous les cas le fichier quoiqu'il arrive."
   ]
  },
  {
   "cell_type": "markdown",
   "id": "568eefbb",
   "metadata": {},
   "source": [
    "----\n",
    "## Alertes\n",
    "\n",
    "Python permet de définir explicitement des messages comme étant important mais ne nécessitant pas l'arrêt du programme. On les appelles alertes."
   ]
  },
  {
   "cell_type": "code",
   "execution_count": 19,
   "id": "e89b6df7",
   "metadata": {},
   "outputs": [],
   "source": [
    "import warnings as w\n",
    "\n",
    "def f3():\n",
    "  b = input(\"Entrer un nombre :\")\n",
    "  try:\n",
    "    a = int(b)\n",
    "  except ValueError:\n",
    "    w.warn(\"Pas un nombre, on remplace par 0\")\n",
    "    a = 0\n",
    "  return a"
   ]
  },
  {
   "cell_type": "code",
   "execution_count": 8,
   "id": "320fadb8",
   "metadata": {},
   "outputs": [
    {
     "name": "stdin",
     "output_type": "stream",
     "text": [
      "Entrer un nombre : toto\n"
     ]
    },
    {
     "name": "stderr",
     "output_type": "stream",
     "text": [
      "<ipython-input-7-70ddbbda7c2b>:8: UserWarning: Pas un nombre, on remplace par 0\n",
      "  w.warn(\"Pas un nombre, on remplace par 0\")\n"
     ]
    },
    {
     "data": {
      "text/plain": [
       "0"
      ]
     },
     "execution_count": 8,
     "metadata": {},
     "output_type": "execute_result"
    }
   ],
   "source": [
    "f3()"
   ]
  },
  {
   "cell_type": "markdown",
   "id": "cb83a5ab",
   "metadata": {},
   "source": [
    "----\n",
    "## Assertions\n",
    "\n",
    "Cette fonction ont besoin de conditions sur leurs entrées pour bien fonctionner. Les assertions permette de de vérifier que ces conditions sont bien vérifiées.\n",
    "\n",
    "*Remarque : il est aussi possible de faire des tester et de renvoyer des erreurs (raise ValueError) mais les assertions permettent de faire cela plus rapidement pour des conditions simples.*\n"
   ]
  },
  {
   "cell_type": "code",
   "execution_count": 29,
   "id": "36225c4f",
   "metadata": {},
   "outputs": [],
   "source": [
    "def KelvinToFahrenheit(Temperature):\n",
    "    \"\"\"Convertion d'une température en degrès kelvin vers des Fahrendheits.\"\"\"\n",
    "    assert (Temperature >= 0),\"Colder than absolute zero!\"\n",
    "    return ((Temperature-273)*1.8)+32\n"
   ]
  },
  {
   "cell_type": "code",
   "execution_count": 30,
   "id": "4b764ede",
   "metadata": {},
   "outputs": [
    {
     "name": "stdout",
     "output_type": "stream",
     "text": [
      "32.0\n",
      "451\n"
     ]
    },
    {
     "ename": "AssertionError",
     "evalue": "Colder than absolute zero!",
     "output_type": "error",
     "traceback": [
      "\u001b[0;31m---------------------------------------------------------------------------\u001b[0m",
      "\u001b[0;31mAssertionError\u001b[0m                            Traceback (most recent call last)",
      "\u001b[0;32m<ipython-input-30-d8e9fb01c3b4>\u001b[0m in \u001b[0;36m<module>\u001b[0;34m\u001b[0m\n\u001b[1;32m      1\u001b[0m \u001b[0mprint\u001b[0m\u001b[0;34m(\u001b[0m\u001b[0mKelvinToFahrenheit\u001b[0m\u001b[0;34m(\u001b[0m\u001b[0;36m273\u001b[0m\u001b[0;34m)\u001b[0m\u001b[0;34m)\u001b[0m\u001b[0;34m\u001b[0m\u001b[0;34m\u001b[0m\u001b[0m\n\u001b[1;32m      2\u001b[0m \u001b[0mprint\u001b[0m\u001b[0;34m(\u001b[0m\u001b[0mint\u001b[0m\u001b[0;34m(\u001b[0m\u001b[0mKelvinToFahrenheit\u001b[0m\u001b[0;34m(\u001b[0m\u001b[0;36m505.78\u001b[0m\u001b[0;34m)\u001b[0m\u001b[0;34m)\u001b[0m\u001b[0;34m)\u001b[0m\u001b[0;34m\u001b[0m\u001b[0;34m\u001b[0m\u001b[0m\n\u001b[0;32m----> 3\u001b[0;31m \u001b[0mprint\u001b[0m\u001b[0;34m(\u001b[0m\u001b[0mKelvinToFahrenheit\u001b[0m\u001b[0;34m(\u001b[0m\u001b[0;34m-\u001b[0m\u001b[0;36m5\u001b[0m\u001b[0;34m)\u001b[0m\u001b[0;34m)\u001b[0m\u001b[0;34m\u001b[0m\u001b[0;34m\u001b[0m\u001b[0m\n\u001b[0m",
      "\u001b[0;32m<ipython-input-29-baec067aa36a>\u001b[0m in \u001b[0;36mKelvinToFahrenheit\u001b[0;34m(Temperature)\u001b[0m\n\u001b[1;32m      1\u001b[0m \u001b[0;32mdef\u001b[0m \u001b[0mKelvinToFahrenheit\u001b[0m\u001b[0;34m(\u001b[0m\u001b[0mTemperature\u001b[0m\u001b[0;34m)\u001b[0m\u001b[0;34m:\u001b[0m\u001b[0;34m\u001b[0m\u001b[0;34m\u001b[0m\u001b[0m\n\u001b[1;32m      2\u001b[0m     \u001b[0;34m\"\"\"Convertion d'une température en degrès kelvin vers des Fahrendheits.\"\"\"\u001b[0m\u001b[0;34m\u001b[0m\u001b[0;34m\u001b[0m\u001b[0m\n\u001b[0;32m----> 3\u001b[0;31m     \u001b[0;32massert\u001b[0m \u001b[0;34m(\u001b[0m\u001b[0mTemperature\u001b[0m \u001b[0;34m>=\u001b[0m \u001b[0;36m0\u001b[0m\u001b[0;34m)\u001b[0m\u001b[0;34m,\u001b[0m\u001b[0;34m\"Colder than absolute zero!\"\u001b[0m\u001b[0;34m\u001b[0m\u001b[0;34m\u001b[0m\u001b[0m\n\u001b[0m\u001b[1;32m      4\u001b[0m     \u001b[0;32mreturn\u001b[0m \u001b[0;34m(\u001b[0m\u001b[0;34m(\u001b[0m\u001b[0mTemperature\u001b[0m\u001b[0;34m-\u001b[0m\u001b[0;36m273\u001b[0m\u001b[0;34m)\u001b[0m\u001b[0;34m*\u001b[0m\u001b[0;36m1.8\u001b[0m\u001b[0;34m)\u001b[0m\u001b[0;34m+\u001b[0m\u001b[0;36m32\u001b[0m\u001b[0;34m\u001b[0m\u001b[0;34m\u001b[0m\u001b[0m\n",
      "\u001b[0;31mAssertionError\u001b[0m: Colder than absolute zero!"
     ]
    }
   ],
   "source": [
    "print(KelvinToFahrenheit(273))\n",
    "print(int(KelvinToFahrenheit(505.78)))\n",
    "print(KelvinToFahrenheit(-5))"
   ]
  },
  {
   "cell_type": "markdown",
   "id": "c64c7ce3",
   "metadata": {},
   "source": [
    "*Remarque :*\n",
    "    Ce code aurai pu être écrit avec :\n",
    "```\n",
    "if (Temperature <0):\n",
    "    raise ValueError(\"Colder than absolute zero\")\n",
    "```\n",
    "\n",
    "*(hors programme)\n",
    "Mais il est possible de désactiver d'un coup tous les assertions d'un code (en quittant le mode dit `debug` actif par défaut) alors qu'il n'est jamais possible de désactiver la levée d'une erreur.\n",
    "L'idée sous jacente est de tester le code avec les assertions, qui sont très utiles pour débugger un code mais qui coute (un peu) de temps de calcul puis de les désactiver une fois le code valider pour obtenir un code (un peu) plus rapide.\n",
    "On garde alors la levée d'erreur classique pour des situations inattendue ou résultant d'un mauvaise usage de l'utilisateur.*"
   ]
  },
  {
   "cell_type": "code",
   "execution_count": 33,
   "id": "fedbb5e3",
   "metadata": {},
   "outputs": [],
   "source": [
    "a = 1"
   ]
  },
  {
   "cell_type": "code",
   "execution_count": 34,
   "id": "04f2ce66",
   "metadata": {},
   "outputs": [],
   "source": [
    "b = a"
   ]
  },
  {
   "cell_type": "code",
   "execution_count": 35,
   "id": "d1a89801",
   "metadata": {},
   "outputs": [],
   "source": [
    "b= 2"
   ]
  },
  {
   "cell_type": "code",
   "execution_count": 36,
   "id": "9cbec3f6",
   "metadata": {},
   "outputs": [
    {
     "name": "stdout",
     "output_type": "stream",
     "text": [
      "1\n"
     ]
    }
   ],
   "source": [
    "print(a)"
   ]
  },
  {
   "cell_type": "code",
   "execution_count": null,
   "id": "127cafb1",
   "metadata": {},
   "outputs": [],
   "source": []
  }
 ],
 "metadata": {
  "kernelspec": {
   "display_name": "Python 3",
   "language": "python",
   "name": "python3"
  },
  "language_info": {
   "codemirror_mode": {
    "name": "ipython",
    "version": 3
   },
   "file_extension": ".py",
   "mimetype": "text/x-python",
   "name": "python",
   "nbconvert_exporter": "python",
   "pygments_lexer": "ipython3",
   "version": "3.9.7"
  },
  "toc": {
   "base_numbering": 1,
   "nav_menu": {},
   "number_sections": true,
   "sideBar": true,
   "skip_h1_title": false,
   "title_cell": "Table of Contents",
   "title_sidebar": "Contents",
   "toc_cell": false,
   "toc_position": {},
   "toc_section_display": true,
   "toc_window_display": false
  },
  "varInspector": {
   "cols": {
    "lenName": 16,
    "lenType": 16,
    "lenVar": 40
   },
   "kernels_config": {
    "python": {
     "delete_cmd_postfix": "",
     "delete_cmd_prefix": "del ",
     "library": "var_list.py",
     "varRefreshCmd": "print(var_dic_list())"
    },
    "r": {
     "delete_cmd_postfix": ") ",
     "delete_cmd_prefix": "rm(",
     "library": "var_list.r",
     "varRefreshCmd": "cat(var_dic_list()) "
    }
   },
   "types_to_exclude": [
    "module",
    "function",
    "builtin_function_or_method",
    "instance",
    "_Feature"
   ],
   "window_display": false
  }
 },
 "nbformat": 4,
 "nbformat_minor": 5
}
