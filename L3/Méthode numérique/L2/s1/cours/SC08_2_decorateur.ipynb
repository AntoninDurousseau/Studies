{
 "cells": [
  {
   "cell_type": "markdown",
   "metadata": {},
   "source": [
    "# Les décorateurs\n",
    "\n",
    "\n",
    "Dans ce chapitre, nous allons apprendre à utiliser et à créer des décorateurs.\n",
    "\n",
    "Un **décorateur** est simplement une fonction qui modifie le comportement d'autres fonctions. C'est très utile lorsque l'on veut ajouter du même code à plusieurs fonctions existantes."
   ]
  },
  {
   "cell_type": "markdown",
   "metadata": {},
   "source": [
    "## Créer un décorateur `python`\n",
    "\n",
    "Un décorateur permet de modifier le comportement d'une fonction. Il commence par un @ suivi de lettres ou de chiffres. Il se place sur la ligne précédant la définition d'une fonction. Comme ceci :\n",
    "\n",
    "```python\n",
    "@decorator\n",
    "def fonction():\n",
    "    \"\"\"documentation de la fonction\"\"\"\n",
    "    print(\"Great!\")\n",
    "```\n",
    "\n",
    "`Python` intègre de nombreux décorateurs standards mais vous pouvez également en définir vous-même. Pourquoi ? Car un décorateur est simplement une fonction qui prend en paramètre une fonction et renvoie une (autre) fonction."
   ]
  },
  {
   "cell_type": "markdown",
   "metadata": {},
   "source": [
    "Voici un premier exemple de décoration de fonction."
   ]
  },
  {
   "cell_type": "code",
   "execution_count": 1,
   "metadata": {},
   "outputs": [],
   "source": [
    "def mon_decorateur(in_function):\n",
    "    def out_function():\n",
    "        \"\"\"titi\"\"\"\n",
    "        print(\"On peut faire des choses avant\")\n",
    "        print(\"On exécute maintenant la fonction\")\n",
    "        in_function()\n",
    "        print(\"Et on peut faire des trucs après\")\n",
    "    \n",
    "    out_function.__name__ = in_function.__name__ #La fonction décorée ne change pas de nom\n",
    "    out_function.__doc__ = in_function.__doc__ #La doc est la même que la fct de base\n",
    "    return out_function"
   ]
  },
  {
   "cell_type": "code",
   "execution_count": 2,
   "metadata": {},
   "outputs": [
    {
     "name": "stdout",
     "output_type": "stream",
     "text": [
      "Je ne fais rien du tout !\n",
      "ma_fonction\n",
      "On peut faire des choses avant\n",
      "On exécute maintenant la fonction\n",
      "Je ne fais rien du tout !\n",
      "Et on peut faire des trucs après\n",
      "ma_fonction\n"
     ]
    }
   ],
   "source": [
    "def ma_fonction():\n",
    "    print(\"Je ne fais rien du tout !\")\n",
    "\n",
    "ma_fonction()\n",
    "print(ma_fonction.__name__)\n",
    "\n",
    "ma_nouvelle_fonction = mon_decorateur(ma_fonction)\n",
    "\n",
    "ma_nouvelle_fonction()\n",
    "print(ma_nouvelle_fonction.__name__)"
   ]
  },
  {
   "cell_type": "code",
   "execution_count": 3,
   "metadata": {},
   "outputs": [
    {
     "name": "stdout",
     "output_type": "stream",
     "text": [
      "On peut faire des choses avant\n",
      "On exécute maintenant la fonction\n",
      "Je ne fais rien du tout à nouveau!\n",
      "Et on peut faire des trucs après\n"
     ]
    }
   ],
   "source": [
    "@mon_decorateur\n",
    "def ma_fonction2():\n",
    "    print(\"Je ne fais rien du tout à nouveau!\")\n",
    "    \n",
    "ma_fonction2()"
   ]
  },
  {
   "cell_type": "code",
   "execution_count": 4,
   "metadata": {},
   "outputs": [
    {
     "ename": "TypeError",
     "evalue": "out_function() takes 0 positional arguments but 1 was given",
     "output_type": "error",
     "traceback": [
      "\u001b[0;31m---------------------------------------------------------------------------\u001b[0m",
      "\u001b[0;31mTypeError\u001b[0m                                 Traceback (most recent call last)",
      "Input \u001b[0;32mIn [4]\u001b[0m, in \u001b[0;36m<cell line: 7>\u001b[0;34m()\u001b[0m\n\u001b[1;32m      4\u001b[0m     \u001b[38;5;28mprint\u001b[39m(\u001b[38;5;124m\"\u001b[39m\u001b[38;5;124mJe ne fais rien du tout !\u001b[39m\u001b[38;5;124m\"\u001b[39m)\n\u001b[1;32m      5\u001b[0m     \u001b[38;5;28mprint\u001b[39m(x)\n\u001b[0;32m----> 7\u001b[0m \u001b[43mma_fonction\u001b[49m\u001b[43m(\u001b[49m\u001b[38;5;241;43m0\u001b[39;49m\u001b[43m)\u001b[49m\n",
      "\u001b[0;31mTypeError\u001b[0m: out_function() takes 0 positional arguments but 1 was given"
     ]
    }
   ],
   "source": [
    "@mon_decorateur\n",
    "def ma_fonction(x):\n",
    "    \"\"\"toto\"\"\"\n",
    "    print(\"Je ne fais rien du tout !\")\n",
    "    print(x)\n",
    "    \n",
    "ma_fonction(0)\n",
    "#print(ma_fonction.__name__)\n",
    "#help(ma_fonction)"
   ]
  },
  {
   "cell_type": "code",
   "execution_count": 5,
   "metadata": {},
   "outputs": [
    {
     "data": {
      "text/plain": [
       "2"
      ]
     },
     "execution_count": 5,
     "metadata": {},
     "output_type": "execute_result"
    }
   ],
   "source": [
    "x = 2\n",
    "\n",
    "def f(y):\n",
    "    return x+y\n",
    "\n",
    "f(0)"
   ]
  },
  {
   "cell_type": "markdown",
   "metadata": {},
   "source": [
    "Lorsque la fonction a des arguments et retourne quelque chose, il est important de ne pas changer son comportement. \n",
    "\n",
    "Pour les arguments passés à la fonction, nous utilisons les mots clés `*args` et `**kwargs` que l'on a déjà vus dans le cours sur les fonctions. Cela permet de passer des nombres arbitraires d'arguments et d'arguments optionnels.\n",
    "\n",
    "Pour le return, il suffit que la nouvelle fonction retourne le même résultat.\n",
    "\n",
    "Voici un nouvel exemple."
   ]
  },
  {
   "cell_type": "code",
   "execution_count": 6,
   "metadata": {},
   "outputs": [],
   "source": [
    "def mon_decorateur_avec_arguments(in_function):\n",
    "    def out_function(*args, **kwargs):\n",
    "        print(f\"La fonction s'appelle {in_function.__name__}\")\n",
    "        print(\"ses arguments sont \", args)\n",
    "        print(\"ses arguments optionnels sont \", kwargs)\n",
    "        out = in_function(*args, **kwargs)\n",
    "        print(f\"la fonction a été exécutée et a retourné {out}\")\n",
    "        return out\n",
    "    \n",
    "    out_function.__name__ = in_function.__name__\n",
    "    out_function.__doc__ = in_function.__doc__\n",
    "    \n",
    "    return out_function"
   ]
  },
  {
   "cell_type": "code",
   "execution_count": 13,
   "metadata": {},
   "outputs": [
    {
     "name": "stdout",
     "output_type": "stream",
     "text": [
      "La fonction s'appelle f\n",
      "ses arguments sont  (1,)\n",
      "ses arguments optionnels sont  {}\n",
      "la fonction a été exécutée et a retourné 1\n"
     ]
    },
    {
     "data": {
      "text/plain": [
       "1"
      ]
     },
     "execution_count": 13,
     "metadata": {},
     "output_type": "execute_result"
    }
   ],
   "source": [
    "@mon_decorateur_avec_arguments\n",
    "def f(x):\n",
    "    return x*x\n",
    "\n",
    "f(1)"
   ]
  },
  {
   "cell_type": "code",
   "execution_count": 15,
   "metadata": {},
   "outputs": [
    {
     "name": "stdout",
     "output_type": "stream",
     "text": [
      "x*x = 49\n",
      "Argument(s) de départ = (7,)\n",
      "Argument(s) modifié(s) = (14,)\n",
      "Sortie de départ = (196,)\n",
      "Sortie modifiée = (98.0,)\n",
      "f(x) = 98.0, g(x) = 98.0\n"
     ]
    }
   ],
   "source": [
    "def decorateur_multiplie(f_in):\n",
    "    def f_out(*args, **kwargs):\n",
    "        # On multiplie tous les arguments d'entrée 2\n",
    "        args_new = tuple([2*argk for argk in args])\n",
    "        print(f\"Argument(s) de départ = {args}\")\n",
    "        print(f\"Argument(s) modifié(s) = {args_new}\")\n",
    "        out = f_in(*args_new, **kwargs)\n",
    "        if not isinstance(out, tuple):\n",
    "            out = (out, )\n",
    "        out_new = tuple([outk/2 for outk in out])\n",
    "        print(f\"Sortie de départ = {out}\")\n",
    "        print(f\"Sortie modifiée = {out_new}\")\n",
    "        if len(out_new) == 1:\n",
    "            out_new = out_new[0]\n",
    "        return out_new\n",
    "    return f_out\n",
    "\n",
    "@decorateur_multiplie\n",
    "def f(x):\n",
    "    return x*x\n",
    "\n",
    "def g(x):\n",
    "    return (2*x)**2/2\n",
    "\n",
    "x = 7\n",
    "# Avec le décorateur on a multiplié le résultat par 2 :\n",
    "print(f\"x*x = {x*x}\")\n",
    "print(f\"f(x) = {f(x)}, g(x) = {g(x)}\")"
   ]
  },
  {
   "cell_type": "code",
   "execution_count": 16,
   "metadata": {},
   "outputs": [
    {
     "name": "stdout",
     "output_type": "stream",
     "text": [
      "La fonction s'appelle f\n",
      "ses arguments sont  (2,)\n",
      "ses arguments optionnels sont  {}\n",
      "la fonction a été exécutée et a retourné 4\n",
      "La fonction s'appelle f\n",
      "ses arguments sont  (2, 3)\n",
      "ses arguments optionnels sont  {}\n",
      "la fonction a été exécutée et a retourné 8\n",
      "La fonction s'appelle f\n",
      "ses arguments sont  (2,)\n",
      "ses arguments optionnels sont  {'p': 3}\n",
      "la fonction a été exécutée et a retourné 8\n"
     ]
    },
    {
     "data": {
      "text/plain": [
       "8"
      ]
     },
     "execution_count": 16,
     "metadata": {},
     "output_type": "execute_result"
    }
   ],
   "source": [
    "@mon_decorateur_avec_arguments\n",
    "def f(x, p=2):\n",
    "    return x**p\n",
    "\n",
    "f(2)\n",
    "f(2, 3)\n",
    "f(2, p=3)"
   ]
  },
  {
   "cell_type": "markdown",
   "metadata": {},
   "source": [
    "Prenons un autre exemple concret que certains d'entre vous connaissent déjà (attention à l'abus de caféine)."
   ]
  },
  {
   "cell_type": "code",
   "execution_count": 17,
   "metadata": {},
   "outputs": [],
   "source": [
    "class CoffeeMachine():\n",
    "    \"\"\"\n",
    "    une classe pour la machine à café\n",
    "    \"\"\"\n",
    "    water_level = 100  # variable partagée par toutes les instances\n",
    "    \n",
    "    def __init__(self):\n",
    "        \"\"\"initialise l'instance\"\"\"\n",
    "        self.__nb_coffee = 0\n",
    "    \n",
    "    def _start_machine(self):\n",
    "        \"\"\"démarre la machine\"\"\"\n",
    "        if self.water_level > 20:\n",
    "            return True\n",
    "        else:\n",
    "            print(\"Ajoutez de l'eau s'il vous plait !\")\n",
    "            return False\n",
    "          \n",
    "    def __boil_water(self):\n",
    "        \"\"\"chauffe l'eau\"\"\"\n",
    "        print(\"préchauffage...\")\n",
    "        \n",
    "    def __grind_beans(self):\n",
    "        \"\"\"préparation du grain\"\"\"\n",
    "        print(\"préparation du grain...\")\n",
    "        \n",
    "    def __brew_coffee(self):\n",
    "        \"\"\"extraction du café\"\"\"\n",
    "        print(\"extraction\")\n",
    "        \n",
    "    def make_coffee(self):\n",
    "        \"\"\"prépare un nouveau café\"\"\"\n",
    "        if self._start_machine():\n",
    "            self.water_level -= 20\n",
    "            self.__boil_water()\n",
    "            self.__grind_beans()\n",
    "            self.__brew_coffee()\n",
    "            self.__nb_coffee += 1\n",
    "            print(\"Prenez votre café !\")"
   ]
  },
  {
   "cell_type": "code",
   "execution_count": 18,
   "metadata": {},
   "outputs": [
    {
     "name": "stdout",
     "output_type": "stream",
     "text": [
      "préchauffage...\n",
      "préparation du grain...\n",
      "extraction\n",
      "Prenez votre café !\n",
      "préchauffage...\n",
      "préparation du grain...\n",
      "extraction\n",
      "Prenez votre café !\n",
      "préchauffage...\n",
      "préparation du grain...\n",
      "extraction\n",
      "Prenez votre café !\n",
      "préchauffage...\n",
      "préparation du grain...\n",
      "extraction\n",
      "Prenez votre café !\n",
      "Ajoutez de l'eau s'il vous plait !\n"
     ]
    }
   ],
   "source": [
    "machine = CoffeeMachine()\n",
    "for i in range(0, 5):\n",
    "    machine.make_coffee()"
   ]
  },
  {
   "cell_type": "markdown",
   "metadata": {},
   "source": [
    "Afin de débugger notre code, nous pourrions avoir envie que chaque fonction affiche son nom et les arguments qui lui sont passés."
   ]
  },
  {
   "cell_type": "code",
   "execution_count": 20,
   "metadata": {},
   "outputs": [],
   "source": [
    "debug = True\n",
    "\n",
    "# Name est mon décorateur\n",
    "def name(func):\n",
    "    def inner(*args, **kwargs):\n",
    "        if debug :\n",
    "            print(f\" running {func.__name__} {args} \".center(80, '-'))\n",
    "        return func(*args, **kwargs)\n",
    "    return inner\n",
    "\n",
    "class CoffeeMachine():\n",
    "    \"\"\"\n",
    "    une classe pour la machine à café\n",
    "    \"\"\"\n",
    "    water_level = 100  # variable partagée par toutes les instances\n",
    "    \n",
    "    def __init__(self):\n",
    "        \"\"\"initialise l'instance\"\"\"\n",
    "        self.__nb_coffee = 0\n",
    "        self.nom = \"ma machine\"\n",
    "        \n",
    "    def __repr__(self):\n",
    "        return self.nom\n",
    "    \n",
    "    @name\n",
    "    def _start_machine(self):\n",
    "        \"\"\"démarre la machine\"\"\"\n",
    "        if self.water_level > 20:\n",
    "            return True\n",
    "        else:\n",
    "            print(\"Ajoutez de l'eau s'il vous plait !\")\n",
    "            return False\n",
    "          \n",
    "    @name\n",
    "    def __boil_water(self):\n",
    "        \"\"\"chauffe l'eau\"\"\"\n",
    "        print(\"préchauffage...\")\n",
    "        \n",
    "    @name\n",
    "    def __grind_beans(self):\n",
    "        \"\"\"préparation du grain\"\"\"\n",
    "        print(\"préparation du grain...\")\n",
    "        \n",
    "    @name\n",
    "    def __brew_coffee(self):\n",
    "        \"\"\"extraction du café\"\"\"\n",
    "        print(\"extraction\")\n",
    "        \n",
    "    @name\n",
    "    def make_coffee(self):\n",
    "        \"\"\"prépare un nouveau café\"\"\"\n",
    "        if self._start_machine():\n",
    "            self.water_level -= 20\n",
    "            self.__boil_water()\n",
    "            self.__grind_beans()\n",
    "            self.__brew_coffee()\n",
    "            self.__nb_coffee += 1\n",
    "            print(\"Prenez votre café !\")"
   ]
  },
  {
   "cell_type": "code",
   "execution_count": 21,
   "metadata": {},
   "outputs": [
    {
     "name": "stdout",
     "output_type": "stream",
     "text": [
      "---------------------- running make_coffee (ma machine,) -----------------------\n",
      "--------------------- running _start_machine (ma machine,) ---------------------\n",
      "---------------------- running __boil_water (ma machine,) ----------------------\n",
      "préchauffage...\n",
      "--------------------- running __grind_beans (ma machine,) ----------------------\n",
      "préparation du grain...\n",
      "--------------------- running __brew_coffee (ma machine,) ----------------------\n",
      "extraction\n",
      "Prenez votre café !\n",
      "---------------------- running make_coffee (ma machine,) -----------------------\n",
      "--------------------- running _start_machine (ma machine,) ---------------------\n",
      "---------------------- running __boil_water (ma machine,) ----------------------\n",
      "préchauffage...\n",
      "--------------------- running __grind_beans (ma machine,) ----------------------\n",
      "préparation du grain...\n",
      "--------------------- running __brew_coffee (ma machine,) ----------------------\n",
      "extraction\n",
      "Prenez votre café !\n",
      "---------------------- running make_coffee (ma machine,) -----------------------\n",
      "--------------------- running _start_machine (ma machine,) ---------------------\n",
      "---------------------- running __boil_water (ma machine,) ----------------------\n",
      "préchauffage...\n",
      "--------------------- running __grind_beans (ma machine,) ----------------------\n",
      "préparation du grain...\n",
      "--------------------- running __brew_coffee (ma machine,) ----------------------\n",
      "extraction\n",
      "Prenez votre café !\n",
      "---------------------- running make_coffee (ma machine,) -----------------------\n",
      "--------------------- running _start_machine (ma machine,) ---------------------\n",
      "---------------------- running __boil_water (ma machine,) ----------------------\n",
      "préchauffage...\n",
      "--------------------- running __grind_beans (ma machine,) ----------------------\n",
      "préparation du grain...\n",
      "--------------------- running __brew_coffee (ma machine,) ----------------------\n",
      "extraction\n",
      "Prenez votre café !\n",
      "---------------------- running make_coffee (ma machine,) -----------------------\n",
      "--------------------- running _start_machine (ma machine,) ---------------------\n",
      "Ajoutez de l'eau s'il vous plait !\n"
     ]
    }
   ],
   "source": [
    "machine = CoffeeMachine()\n",
    "for i in range(0, 5):\n",
    "    machine.make_coffee()"
   ]
  },
  {
   "cell_type": "code",
   "execution_count": 22,
   "metadata": {},
   "outputs": [
    {
     "name": "stdout",
     "output_type": "stream",
     "text": [
      "préchauffage...\n",
      "préparation du grain...\n",
      "extraction\n",
      "Prenez votre café !\n",
      "préchauffage...\n",
      "préparation du grain...\n",
      "extraction\n",
      "Prenez votre café !\n",
      "préchauffage...\n",
      "préparation du grain...\n",
      "extraction\n",
      "Prenez votre café !\n",
      "préchauffage...\n",
      "préparation du grain...\n",
      "extraction\n",
      "Prenez votre café !\n",
      "Ajoutez de l'eau s'il vous plait !\n"
     ]
    }
   ],
   "source": [
    "debug = False\n",
    "machine = CoffeeMachine()\n",
    "for i in range(0, 5):\n",
    "    machine.make_coffee()"
   ]
  },
  {
   "cell_type": "markdown",
   "metadata": {},
   "source": [
    "## Utiliser un ou plusieurs décorateurs `python`\n",
    "\n",
    "De nombreux décorateurs ont déjà été codés et peuvent être utilisés. Vous pourrez les trouver à cette adresse [liste des décorateurs](https://wiki.python.org/moin/PythonDecoratorLibrary)\n",
    "\n",
    "Un décorateur que nous utilisons souvent est le décorateur `@property` qui fonctionne seulement si la classe hérite de la classe `object` (à partir de python 3).\n"
   ]
  },
  {
   "cell_type": "code",
   "execution_count": 24,
   "metadata": {},
   "outputs": [],
   "source": [
    "def _CtoK(C):\n",
    "    return C + 273.15\n",
    "\n",
    "def _FtoK(F):\n",
    "    return (F+459.67)*5/9\n",
    "\n",
    "def _KtoC(K):\n",
    "    return K - 273.15\n",
    "\n",
    "def _KtoF(K):\n",
    "    return 9/5*K-459.67\n",
    "\n",
    "\n",
    "class temperature(object):\n",
    "    \"\"\"une classe pour la température\"\"\"\n",
    "    def __init__(self, K=0, C=None, F=None):\n",
    "        self._K = K\n",
    "        if K is not None:\n",
    "            self._K = K\n",
    "        if C is not None:\n",
    "            self._K = _CtoK(C)\n",
    "        if F is not None:\n",
    "            self._K = _FtoK(F)\n",
    "\n",
    "    def __str__(self):\n",
    "        return f\"La température vaut K={self._K:.2f} (C={_KtoC(self._K):.2f}, F={_KtoF(self._K):.2f})\""
   ]
  },
  {
   "cell_type": "code",
   "execution_count": 26,
   "metadata": {},
   "outputs": [
    {
     "name": "stdout",
     "output_type": "stream",
     "text": [
      " La température vaut, en Kelvin : 273\n",
      " La température 2 vaut, en Kelvin : 0\n",
      " A 0°C, la température vaut, en Kelvin : 273.15\n",
      " A 10°F, la température vaut, en Kelvin : 260.92777777777775\n",
      " La température vaut, en Kelvin : 273.15\n",
      " La température vaut, en Kelvin : 260.92777777777775\n",
      " La température vaut, en Kelvin : -50\n"
     ]
    }
   ],
   "source": [
    "t = temperature(K=273)\n",
    "t2 = temperature()\n",
    "print(f\" La température vaut, en Kelvin : {t._K}\")\n",
    "print(f\" La température 2 vaut, en Kelvin : {t2._K}\")\n",
    "t = temperature(C=0)\n",
    "print(f\" A 0°C, la température vaut, en Kelvin : {t._K}\")\n",
    "t = temperature(F=10)\n",
    "print(f\" A 10°F, la température vaut, en Kelvin : {t._K}\")\n",
    "t = temperature(K=0,C=0)\n",
    "print(f\" La température vaut, en Kelvin : {t._K}\")\n",
    "t = temperature(C=0,F=10)\n",
    "print(f\" La température vaut, en Kelvin : {t._K}\")\n",
    "t = temperature(C=0,F=10)\n",
    "t._K = -50\n",
    "print(f\" La température vaut, en Kelvin : {t._K}\")"
   ]
  },
  {
   "cell_type": "markdown",
   "metadata": {},
   "source": [
    "Maintenant on va empêcher de modifier la température en Kelvin manuellement à l'aide du décorateur @poperty :"
   ]
  },
  {
   "cell_type": "code",
   "execution_count": 41,
   "metadata": {},
   "outputs": [],
   "source": [
    "class temperature(object):\n",
    "    \"\"\"une classe pour la température\"\"\"\n",
    "    def __init__(self, K=0, C=None, F=None):\n",
    "        self._K = K\n",
    "        if K is not None:\n",
    "            self._K = K\n",
    "        if C is not None:\n",
    "            self._K = _CtoK(C)\n",
    "        if F is not None:\n",
    "            self._K = _FtoK(F)\n",
    "\n",
    "    @property\n",
    "    def Kelvin(self):\n",
    "        return self._K\n",
    "    \n",
    "    def __str__(self):\n",
    "        return f\"La température vaut K={self._K:.2f} (C={_KtoC(self._K):.2f}, F={_KtoF(self._K):.2f})\""
   ]
  },
  {
   "cell_type": "markdown",
   "metadata": {},
   "source": [
    "Maintenant, ma classe se comporte comme si elle avait un attribut Kelvin toujours égal à _K. Mais il n'est **pas possible de le modifier**."
   ]
  },
  {
   "cell_type": "code",
   "execution_count": 42,
   "metadata": {},
   "outputs": [
    {
     "name": "stdout",
     "output_type": "stream",
     "text": [
      " La température vaut, en Kelvin : 273.15\n"
     ]
    },
    {
     "ename": "AttributeError",
     "evalue": "can't set attribute",
     "output_type": "error",
     "traceback": [
      "\u001b[0;31m---------------------------------------------------------------------------\u001b[0m",
      "\u001b[0;31mAttributeError\u001b[0m                            Traceback (most recent call last)",
      "Input \u001b[0;32mIn [42]\u001b[0m, in \u001b[0;36m<cell line: 5>\u001b[0;34m()\u001b[0m\n\u001b[1;32m      3\u001b[0m \u001b[38;5;28mprint\u001b[39m(\u001b[38;5;124mf\u001b[39m\u001b[38;5;124m\"\u001b[39m\u001b[38;5;124m La température vaut, en Kelvin : \u001b[39m\u001b[38;5;132;01m{\u001b[39;00mt\u001b[38;5;241m.\u001b[39mKelvin\u001b[38;5;132;01m}\u001b[39;00m\u001b[38;5;124m\"\u001b[39m)\n\u001b[1;32m      4\u001b[0m t \u001b[38;5;241m=\u001b[39m temperature(C\u001b[38;5;241m=\u001b[39m\u001b[38;5;241m0\u001b[39m)\n\u001b[0;32m----> 5\u001b[0m t\u001b[38;5;241m.\u001b[39mKelvin \u001b[38;5;241m=\u001b[39m \u001b[38;5;241m-\u001b[39m\u001b[38;5;241m50\u001b[39m\n\u001b[1;32m      6\u001b[0m \u001b[38;5;28mprint\u001b[39m(\u001b[38;5;124mf\u001b[39m\u001b[38;5;124m\"\u001b[39m\u001b[38;5;124m La température vaut, en Kelvin : \u001b[39m\u001b[38;5;132;01m{\u001b[39;00mt\u001b[38;5;241m.\u001b[39mKelvin\u001b[38;5;132;01m}\u001b[39;00m\u001b[38;5;124m\"\u001b[39m)\n",
      "\u001b[0;31mAttributeError\u001b[0m: can't set attribute"
     ]
    }
   ],
   "source": [
    "t = temperature(C=0)\n",
    "# Ma classe se comporte comme si elle avait un attribut Kelvin toujours égal à _K\n",
    "print(f\" La température vaut, en Kelvin : {t.Kelvin}\")\n",
    "t = temperature(C=0)\n",
    "t.Kelvin = -50\n",
    "print(f\" La température vaut, en Kelvin : {t.Kelvin}\")"
   ]
  },
  {
   "cell_type": "code",
   "execution_count": 57,
   "metadata": {},
   "outputs": [
    {
     "name": "stdout",
     "output_type": "stream",
     "text": [
      " La température vaut, en Kelvin : -50\n"
     ]
    }
   ],
   "source": [
    "t = temperature(C=0)\n",
    "t._K = -50\n",
    "print(f\" La température vaut, en Kelvin : {t.Kelvin}\")"
   ]
  },
  {
   "cell_type": "markdown",
   "metadata": {},
   "source": [
    "Si on veut pouvoir le modifier, il faut ajouter un setter avec le décorateur `@setter` :"
   ]
  },
  {
   "cell_type": "code",
   "execution_count": 43,
   "metadata": {},
   "outputs": [],
   "source": [
    "def _CtoK(C):\n",
    "    return C + 273.15\n",
    "\n",
    "def _FtoK(F):\n",
    "    return (F+459.67)*5/9\n",
    "\n",
    "def _KtoC(K):\n",
    "    return K - 273.15\n",
    "\n",
    "def _KtoF(K):\n",
    "    return 9/5*K-459.67\n",
    "\n",
    "\n",
    "class temperature(object):\n",
    "    \"\"\"une classe pour la température\"\"\"\n",
    "    def __init__(self, K=0, C=None, F=None):\n",
    "        self._K = K\n",
    "        if K is not None:\n",
    "            self._K = K\n",
    "        if C is not None:\n",
    "            self._K = _CtoK(C)\n",
    "        if F is not None:\n",
    "            self._K = _FtoK(F)\n",
    "            \n",
    "    @property\n",
    "    def Kelvin(self):\n",
    "        return self._K\n",
    "        \n",
    "    @Kelvin.setter\n",
    "    def Kelvin(self, K):\n",
    "        if K>0 :\n",
    "            self._K = K\n",
    "        else :\n",
    "            print(\"Temperature invalide\")\n",
    "            \n",
    "    @property\n",
    "    def Celsius(self):\n",
    "        print(\"on appelle le getter\")\n",
    "        return _KtoC(self._K)\n",
    "    \n",
    "    @Celsius.setter\n",
    "    def Celsius(self, C):\n",
    "        print(\"on appelle le setter\")\n",
    "        self.Kevin = _CtoK(C)\n",
    "            \n",
    "    @property\n",
    "    def Fahrenheit(self):\n",
    "        return _KtoF(self._K)\n",
    "    \n",
    "    @Fahrenheit.setter\n",
    "    def Fahrenheit(self, F):\n",
    "        self.Kelvin = _FtoK(F)\n",
    "\n",
    "    def __str__(self):\n",
    "        return f\"La température vaut K={self._K:.2f} (C={_KtoC(self._K):.2f}, F={_KtoF(self._K):.2f})\""
   ]
  },
  {
   "cell_type": "code",
   "execution_count": 44,
   "metadata": {},
   "outputs": [
    {
     "name": "stdout",
     "output_type": "stream",
     "text": [
      "La température vaut K=273.15 (C=0.00, F=32.00)\n",
      "273.15\n",
      "La température vaut K=283.15 (C=10.00, F=50.00)\n",
      "on appelle le getter\n",
      "10.0\n"
     ]
    }
   ],
   "source": [
    "T = temperature(C=0)\n",
    "print(T)\n",
    "print(T.Kelvin)\n",
    "T.Fahrenheit = 50\n",
    "print(T)\n",
    "print(T.Celsius)"
   ]
  },
  {
   "cell_type": "code",
   "execution_count": 64,
   "metadata": {},
   "outputs": [
    {
     "name": "stdout",
     "output_type": "stream",
     "text": [
      "on appelle le getter\n",
      "la température en celsius est 0.0 et en Kelvin est 273.15\n"
     ]
    }
   ],
   "source": [
    "T = temperature(C=0)\n",
    "print(f\"la température en celsius est {T.Celsius} et en Kelvin est {T.Kelvin}\")"
   ]
  },
  {
   "cell_type": "code",
   "execution_count": 66,
   "metadata": {},
   "outputs": [
    {
     "name": "stdout",
     "output_type": "stream",
     "text": [
      "on appelle le setter\n",
      "on appelle le getter\n",
      "la température en celsius est 50.0 et en Kelvin est 323.15\n"
     ]
    }
   ],
   "source": [
    "T.Celsius = 50\n",
    "print(f\"la température en celsius est {T.Celsius} et en Kelvin est {T.Kelvin}\")"
   ]
  },
  {
   "cell_type": "code",
   "execution_count": null,
   "metadata": {},
   "outputs": [],
   "source": []
  }
 ],
 "metadata": {
  "kernelspec": {
   "display_name": "Python 3",
   "language": "python",
   "name": "python3"
  },
  "language_info": {
   "codemirror_mode": {
    "name": "ipython",
    "version": 3
   },
   "file_extension": ".py",
   "mimetype": "text/x-python",
   "name": "python",
   "nbconvert_exporter": "python",
   "pygments_lexer": "ipython3",
   "version": "3.9.7"
  },
  "toc": {
   "base_numbering": 1,
   "nav_menu": {},
   "number_sections": true,
   "sideBar": true,
   "skip_h1_title": false,
   "title_cell": "Table of Contents",
   "title_sidebar": "Contents",
   "toc_cell": false,
   "toc_position": {},
   "toc_section_display": true,
   "toc_window_display": false
  },
  "varInspector": {
   "cols": {
    "lenName": 16,
    "lenType": 16,
    "lenVar": 40
   },
   "kernels_config": {
    "python": {
     "delete_cmd_postfix": "",
     "delete_cmd_prefix": "del ",
     "library": "var_list.py",
     "varRefreshCmd": "print(var_dic_list())"
    },
    "r": {
     "delete_cmd_postfix": ") ",
     "delete_cmd_prefix": "rm(",
     "library": "var_list.r",
     "varRefreshCmd": "cat(var_dic_list()) "
    }
   },
   "types_to_exclude": [
    "module",
    "function",
    "builtin_function_or_method",
    "instance",
    "_Feature"
   ],
   "window_display": false
  }
 },
 "nbformat": 4,
 "nbformat_minor": 4
}
