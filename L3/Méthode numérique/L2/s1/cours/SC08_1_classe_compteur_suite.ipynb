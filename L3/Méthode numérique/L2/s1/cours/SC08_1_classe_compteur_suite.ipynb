{
 "cells": [
  {
   "cell_type": "markdown",
   "metadata": {},
   "source": [
    "# Vers la programation vraiment objet\n",
    "\n",
    "\n",
    "Nous allons commencer à créer nos propres objets, appelés classes. Cette façon de programmer est moderne et efficace dans la mesure où le langage est complètement prévu pour.\n",
    "\n",
    "Il est possible de créer son propre module. Un module est simplement une boîte à outils qui définit des objets réutilisables. Cela permet de rendre le code plus modulaire, permet de le découper en briques élémentaires et ainsi d'améliorer la lisibilité."
   ]
  },
  {
   "cell_type": "markdown",
   "metadata": {},
   "source": [
    "## Définition d'une classe\n",
    "\n",
    "Nous commençons par définir la notion de classe. Voici une première définition de classe"
   ]
  },
  {
   "cell_type": "code",
   "execution_count": 1,
   "metadata": {},
   "outputs": [],
   "source": [
    "class compteur:\n",
    "    \"\"\"une première classe pour faire un compteur\"\"\"\n",
    "    def __init__(self):  # fonction appelée à la créaction de l'objet\n",
    "        print(\"La fonction __init__ est utilisée !\")\n",
    "        self.n = 5       # l'objet ne contient qu'un champ : n\n",
    "    def avance(self):    # une fonction membre\n",
    "        \"\"\"Avance le compteur de 1\"\"\"\n",
    "        self.n += 1      # qui incrémente le champ n"
   ]
  },
  {
   "cell_type": "code",
   "execution_count": 2,
   "metadata": {},
   "outputs": [
    {
     "name": "stdout",
     "output_type": "stream",
     "text": [
      "La fonction __init__ est utilisée !\n",
      "5\n",
      "6\n",
      "7\n",
      "8\n",
      "9\n",
      "La fonction __init__ est utilisée !\n",
      "5\n"
     ]
    }
   ],
   "source": [
    "compt = compteur()\n",
    "\n",
    "while compt.n < 10:\n",
    "    print(compt.n)\n",
    "    compt.avance()\n",
    "\n",
    "compt.__init__()\n",
    "print(compt.n)"
   ]
  },
  {
   "cell_type": "markdown",
   "metadata": {},
   "source": [
    "On peut améliorer cette classe en choisissant à la création d'un compteur le pas (ou l'incrément). Voici une proposition :"
   ]
  },
  {
   "cell_type": "code",
   "execution_count": 3,
   "metadata": {},
   "outputs": [],
   "source": [
    "class compteur:\n",
    "    \"\"\"une première classe pour faire un compteur\"\"\"\n",
    "    def __init__(self, begin=0, incr=1):  # fonction appelée à la créaction de l'objet\n",
    "        self.n = begin                    # l'objet contient deux champs : n et i\n",
    "        self._i = incr\n",
    "    def avance(self):                     # une fonction membre\n",
    "        self.n += self._i                 # qui incrémente le champ n de l'incrément i"
   ]
  },
  {
   "cell_type": "code",
   "execution_count": 4,
   "metadata": {},
   "outputs": [
    {
     "name": "stdout",
     "output_type": "stream",
     "text": [
      "-17\n",
      "-15\n",
      "-13\n",
      "-11\n",
      "-9\n",
      "-7\n",
      "-5\n",
      "-3\n",
      "-1\n",
      "1\n",
      "3\n",
      "5\n",
      "7\n",
      "9\n"
     ]
    }
   ],
   "source": [
    "compt = compteur(begin=-17, incr=2)\n",
    "while compt.n < 10:\n",
    "    print(compt.n)\n",
    "    compt.avance()"
   ]
  },
  {
   "cell_type": "code",
   "execution_count": 5,
   "metadata": {},
   "outputs": [
    {
     "name": "stdout",
     "output_type": "stream",
     "text": [
      "5\n",
      "6\n",
      "7\n",
      "8\n",
      "9\n"
     ]
    }
   ],
   "source": [
    "compt2 = compteur(begin=5, incr=1)\n",
    "while compt2.n < 10:\n",
    "    print(compt2.n)\n",
    "    compt2.avance()"
   ]
  },
  {
   "cell_type": "markdown",
   "metadata": {},
   "source": [
    "Pour rendre les choses plus jolies, on peut avoir envie d'écrire ce code :\n",
    "```python\n",
    "compt = compteur(incr=2)\n",
    "while compt < 10:\n",
    "    print(compt)\n",
    "    compt.avance()\n",
    "```\n",
    "On veut définir l'opérateur de comparaison **<** pour notre classe et le print.\n",
    "\n",
    "Pour pouvoir le faire, il faut ajouter quelques fonctions à notre classe. Une fonction de comparaison `__lt__` et une fonction d'affichage `__str__`. Voici une solution"
   ]
  },
  {
   "cell_type": "code",
   "execution_count": 5,
   "metadata": {},
   "outputs": [],
   "source": [
    "class compteur:\n",
    "    \"\"\"\n",
    "    Documentation de la classe compteur\n",
    "    \n",
    "    Parameters\n",
    "    ----------\n",
    "    \n",
    "    n: int\n",
    "        la valeur du compteur\n",
    "    i: int (optional)\n",
    "        l'incrément (default=1)\n",
    "    \n",
    "    Attributes\n",
    "    ----------\n",
    "    \n",
    "    n: int\n",
    "        la valeur du compteur\n",
    "    i: int\n",
    "        l'incrément\n",
    "    nmax: int\n",
    "        une borne à ne pas dépasser (default 1000)\n",
    "    \"\"\"\n",
    "    def __init__(self, incr=1):\n",
    "        self._n = 0\n",
    "        self._i = incr\n",
    "\n",
    "    def avance(self):\n",
    "        \"\"\"Fonction qui incrémente le compteur\"\"\"\n",
    "        self._n += self._i\n",
    "\n",
    "    def __lt__(self, val):       # fonction utilisée pour faire compt < val\n",
    "        return self._n < val     # pas besoin de la commenter car tout le monde sait ce qu'elle fait !!!\n",
    "\n",
    "    def __str__(self):           # fonction utilisée par print\n",
    "        return f\"{self._n}\"      # pas besoin de la commenter car tout le monde sait ce qu'elle fait !!!"
   ]
  },
  {
   "cell_type": "code",
   "execution_count": null,
   "metadata": {},
   "outputs": [],
   "source": [
    "compt = compteur(incr=2)\n",
    "while compt < 10 :\n",
    "    print(f\"{compt}\")\n",
    "    #print(compt) fonctionne aussi.\n",
    "    compt.avance()"
   ]
  },
  {
   "cell_type": "code",
   "execution_count": null,
   "metadata": {},
   "outputs": [],
   "source": [
    "compt1, compt2 = compteur(incr=2), compteur(incr=1)\n",
    "compt2.n = 3\n",
    "i = 5\n",
    "while (compt1 != compt2) and (i>0):\n",
    "    print(f\"{compt1} < {compt2}\")\n",
    "    compt1.avance()\n",
    "    compt2.avance()\n",
    "    i -= 1"
   ]
  },
  {
   "cell_type": "markdown",
   "metadata": {},
   "source": [
    "*remarque : si on veut pouvoir comparer 2 compteurs*"
   ]
  },
  {
   "cell_type": "code",
   "execution_count": 8,
   "metadata": {},
   "outputs": [],
   "source": [
    "class compteur:\n",
    "    \"\"\"\n",
    "    Documentation de la classe compteur\n",
    "    \n",
    "    Parameters\n",
    "    ----------\n",
    "    \n",
    "    n: int\n",
    "        la valeur du compteur\n",
    "    i: int (optional)\n",
    "        l'incrément (default=1)\n",
    "    \n",
    "    Attributes\n",
    "    ----------\n",
    "    \n",
    "    n: int\n",
    "        la valeur du compteur\n",
    "    i: int\n",
    "        l'incrément\n",
    "    nmax: int\n",
    "        une borne à ne pas dépasser (default 1000)\n",
    "    \"\"\"\n",
    "    def __init__(self, incr=1):\n",
    "        self._n = 0\n",
    "        self._i = incr\n",
    "\n",
    "    def avance(self):\n",
    "        \"\"\"Fonction qui incrémente le compteur\"\"\"\n",
    "        self._n += self._i\n",
    "\n",
    "    def __lt__(self, val):       # fonction utilisée pour faire compt < val\n",
    "        # Cas 1 : val est un compteur :\n",
    "        if (isinstance(val,compteur)):\n",
    "            return self._n < val._n\n",
    "        # Sinon val doit être un nombre :\n",
    "        return self._n < val     # pas besoin de la commenter car tout le monde sait ce qu'elle fait !!!\n",
    "\n",
    "    def __str__(self):           # fonction utilisée par print\n",
    "        return f\"{self._n}\"      # pas besoin de la commenter car tout le monde sait ce qu'elle fait !!!"
   ]
  },
  {
   "cell_type": "code",
   "execution_count": 9,
   "metadata": {},
   "outputs": [
    {
     "name": "stdout",
     "output_type": "stream",
     "text": [
      "0 < 0 ? False\n",
      "2 < 1 ? False\n",
      "4 < 2 ? False\n",
      "6 < 3 ? False\n",
      "8 < 4 ? False\n",
      "Compteur 1 inférieur à 10 ? False\n"
     ]
    }
   ],
   "source": [
    "compt1, compt2 = compteur(incr=2), compteur(incr=1)\n",
    "compt2.n = 3\n",
    "i = 5\n",
    "while (compt1 != compt2) and (i>0):\n",
    "    print(f\"{compt1} < {compt2} ? {compt1 < compt2}\")\n",
    "    compt1.avance()\n",
    "    compt2.avance()\n",
    "    i -= 1\n",
    "print(f\"Compteur 1 inférieur à 10 ? {compt1<10}\")"
   ]
  },
  {
   "cell_type": "markdown",
   "metadata": {},
   "source": [
    "## Fabrication du premier module\n",
    "\n",
    "Maintenant que nous avons créer notre premier objet, nous allons le ranger dans un module qui sera réutilisable directement dans n'importe quel code. Il est même possible d'ajouter ce module à notre installation de python afin que `python` connaisse le chemin, sinon il faut nécessairement que le fichier contenant le module soit rangé dans le répertoire de travail.\n",
    "\n",
    "L'écriture dans un fichier à partir d'un notebook peut se faire facilement à l'aide de la commande magique `%%writefile`."
   ]
  },
  {
   "cell_type": "code",
   "execution_count": null,
   "metadata": {},
   "outputs": [],
   "source": []
  },
  {
   "cell_type": "code",
   "execution_count": 16,
   "metadata": {},
   "outputs": [
    {
     "name": "stdout",
     "output_type": "stream",
     "text": [
      "Overwriting module_compteur.py\n"
     ]
    }
   ],
   "source": [
    "%%writefile 'module_compteur.py'\n",
    "\"\"\"\n",
    "Ici se trouve la documentation du module.\n",
    "C'est très important pour que l'on puisse l'utiliser\n",
    "\n",
    "Module qui définit une classe compteur\n",
    "\n",
    "@BG\n",
    "\"\"\"\n",
    "class compteur:\n",
    "    \"\"\"\n",
    "    Documentation de la classe compteur\n",
    "    \n",
    "    Parameters\n",
    "    ----------\n",
    "    \n",
    "    begin: int\n",
    "        la valeur du compteur au debut\n",
    "    incr: int (optional)\n",
    "        l'incrément (default=1)\n",
    "    limit: int (optional)\n",
    "        valeur d'arrêt du compteur\n",
    "    \n",
    "    Attributes\n",
    "    ----------\n",
    "    \n",
    "    n: int\n",
    "        la valeur du compteur\n",
    "    i: int\n",
    "        l'incrément\n",
    "    nmax: int\n",
    "        une borne à ne pas dépasser (default 1000)\n",
    "    \"\"\"\n",
    "    def __init__(self, begin= 1, incr=1, limit=10):\n",
    "        self._nmax = 10000\n",
    "        self._n = begin\n",
    "        self.limit = min(self._nmax, limit)\n",
    "        if (int(incr)==incr):\n",
    "            self._i = incr\n",
    "        else :\n",
    "            raise ValueError(\"L'incrément n'est pas entier\")\n",
    "\n",
    "    def avance(self):\n",
    "        \"\"\"Fonction qui incrémente le compteur\"\"\"\n",
    "        if self._n < self._nmax :\n",
    "            self._n += self._i\n",
    "        else :\n",
    "            raise ValueError(\"Valeur max atteinte\")\n",
    "\n",
    "    def __lt__(self, val):       # fonction utilisée pour faire compt < val\n",
    "        return self._n < val     # pas besoin de la commenter car tout le monde sait ce qu'elle fait !!!\n",
    "\n",
    "    def __gt__(self, val):       # fonction utilisée pour faire compt > val\n",
    "        return self._n > val     # pas besoin de la commenter car tout le monde sait ce qu'elle fait !!!\n",
    "    \n",
    "    def __le__(self, val):       # fonction utilisée pour faire compt <= val\n",
    "        return self._n <= val     # pas besoin de la commenter car tout le monde sait ce qu'elle fait !!!\n",
    "\n",
    "    def __ge__(self, val):       # fonction utilisée pour faire compt >= val\n",
    "        return self._n >= val     # pas besoin de la commenter car tout le monde sait ce qu'elle fait !!!\n",
    "\n",
    "    \n",
    "    def __str__(self):           # fonction utilisée par print\n",
    "        return f\"{self._n}\"      # pas besoin de la commenter car tout le monde sait ce qu'elle fait !!!\n",
    "    "
   ]
  },
  {
   "cell_type": "markdown",
   "metadata": {},
   "source": [
    "On peut afficher le contenu d'un fichier à l'aide de la commande `cat` :"
   ]
  },
  {
   "cell_type": "code",
   "execution_count": 17,
   "metadata": {
    "collapsed": true,
    "jupyter": {
     "outputs_hidden": true
    },
    "tags": []
   },
   "outputs": [
    {
     "name": "stdout",
     "output_type": "stream",
     "text": [
      "\"\"\"\n",
      "Ici se trouve la documentation du module.\n",
      "C'est très important pour que l'on puisse l'utiliser\n",
      "\n",
      "Module qui définit une classe compteur\n",
      "\n",
      "@BG\n",
      "\"\"\"\n",
      "class compteur:\n",
      "    \"\"\"\n",
      "    Documentation de la classe compteur\n",
      "    \n",
      "    Parameters\n",
      "    ----------\n",
      "    \n",
      "    begin: int\n",
      "        la valeur du compteur au debut\n",
      "    incr: int (optional)\n",
      "        l'incrément (default=1)\n",
      "    limit: int (optional)\n",
      "        valeur d'arrêt du compteur\n",
      "    \n",
      "    Attributes\n",
      "    ----------\n",
      "    \n",
      "    n: int\n",
      "        la valeur du compteur\n",
      "    i: int\n",
      "        l'incrément\n",
      "    nmax: int\n",
      "        une borne à ne pas dépasser (default 1000)\n",
      "    \"\"\"\n",
      "    def __init__(self, begin= 1, incr=1, limit=10):\n",
      "        self._nmax = 10000\n",
      "        self._n = begin\n",
      "        self.limit = min(self._nmax, limit)\n",
      "        if (int(incr)==incr):\n",
      "            self._i = incr\n",
      "        else :\n",
      "            raise ValueError(\"L'incrément n'est pas entier\")\n",
      "\n",
      "    def avance(self):\n",
      "        \"\"\"Fonction qui incrémente le compteur\"\"\"\n",
      "        if self._n < self._nmax :\n",
      "            self._n += self._i\n",
      "        else :\n",
      "            raise ValueError(\"Valeur max atteinte\")\n",
      "\n",
      "    def __lt__(self, val):       # fonction utilisée pour faire compt < val\n",
      "        return self._n < val     # pas besoin de la commenter car tout le monde sait ce qu'elle fait !!!\n",
      "\n",
      "    def __gt__(self, val):       # fonction utilisée pour faire compt > val\n",
      "        return self._n > val     # pas besoin de la commenter car tout le monde sait ce qu'elle fait !!!\n",
      "    \n",
      "    def __le__(self, val):       # fonction utilisée pour faire compt <= val\n",
      "        return self._n <= val     # pas besoin de la commenter car tout le monde sait ce qu'elle fait !!!\n",
      "\n",
      "    def __ge__(self, val):       # fonction utilisée pour faire compt >= val\n",
      "        return self._n >= val     # pas besoin de la commenter car tout le monde sait ce qu'elle fait !!!\n",
      "\n",
      "    \n",
      "    def __str__(self):           # fonction utilisée par print\n",
      "        return f\"{self._n}\"      # pas besoin de la commenter car tout le monde sait ce qu'elle fait !!!\n",
      "    \n"
     ]
    }
   ],
   "source": [
    "!cat module_compteur.py"
   ]
  },
  {
   "cell_type": "code",
   "execution_count": 18,
   "metadata": {},
   "outputs": [
    {
     "data": {
      "text/plain": [
       "<module 'module_compteur' from '/Users/lagaert/Documents/Boulot/Enseignements/Orsay/ET2/L2_doubleCO/l2_meu205/2022-2023/CoursM/Seance08-Objet2/module_compteur.py'>"
      ]
     },
     "execution_count": 18,
     "metadata": {},
     "output_type": "execute_result"
    }
   ],
   "source": [
    "import module_compteur as mc  # on importe le module avec un raccourci \n",
    "# On force le rechargement de mc pour prendre en compte d'éventuelles modifs\n",
    "import importlib\n",
    "importlib.reload(mc)"
   ]
  },
  {
   "cell_type": "code",
   "execution_count": 9,
   "metadata": {},
   "outputs": [
    {
     "name": "stdout",
     "output_type": "stream",
     "text": [
      "Help on module module_compteur:\n",
      "\n",
      "NAME\n",
      "    module_compteur\n",
      "\n",
      "DESCRIPTION\n",
      "    Ici se trouve la documentation du module.\n",
      "    C'est très important pour que l'on puisse l'utiliser\n",
      "    \n",
      "    Module qui définit une classe compteur\n",
      "    \n",
      "    @BG\n",
      "\n",
      "CLASSES\n",
      "    builtins.object\n",
      "        compteur\n",
      "    \n",
      "    class compteur(builtins.object)\n",
      "     |  compteur(incr=1, limit=10)\n",
      "     |  \n",
      "     |  Documentation de la classe compteur\n",
      "     |  \n",
      "     |  Parameters\n",
      "     |  ----------\n",
      "     |  \n",
      "     |  n: int\n",
      "     |      la valeur du compteur\n",
      "     |  i: int (optional)\n",
      "     |      l'incrément (default=1)\n",
      "     |  limit: int (optional)\n",
      "     |      valeur d'arrêt du compteur\n",
      "     |  \n",
      "     |  Attributes\n",
      "     |  ----------\n",
      "     |  \n",
      "     |  n: int\n",
      "     |      la valeur du compteur\n",
      "     |  i: int\n",
      "     |      l'incrément\n",
      "     |  nmax: int\n",
      "     |      une borne à ne pas dépasser (default 1000)\n",
      "     |  \n",
      "     |  Methods defined here:\n",
      "     |  \n",
      "     |  __init__(self, incr=1, limit=10)\n",
      "     |      Initialize self.  See help(type(self)) for accurate signature.\n",
      "     |  \n",
      "     |  __lt__(self, val)\n",
      "     |      Return self<value.\n",
      "     |  \n",
      "     |  __str__(self)\n",
      "     |      Return str(self).\n",
      "     |  \n",
      "     |  avance(self)\n",
      "     |      Fonction qui incrémente le compteur\n",
      "     |  \n",
      "     |  ----------------------------------------------------------------------\n",
      "     |  Data descriptors defined here:\n",
      "     |  \n",
      "     |  __dict__\n",
      "     |      dictionary for instance variables (if defined)\n",
      "     |  \n",
      "     |  __weakref__\n",
      "     |      list of weak references to the object (if defined)\n",
      "\n",
      "FILE\n",
      "    /Users/lagaert/Documents/Boulot/Enseignements/Orsay/ET2/L2_doubleCO/l2_meu205/2022-2023/CoursM/Seance08-Objet2/module_compteur.py\n",
      "\n",
      "\n"
     ]
    }
   ],
   "source": [
    "help(mc)                      # on affiche l'aide du module"
   ]
  },
  {
   "cell_type": "code",
   "execution_count": 10,
   "metadata": {},
   "outputs": [
    {
     "name": "stdout",
     "output_type": "stream",
     "text": [
      "Help on class compteur in module module_compteur:\n",
      "\n",
      "class compteur(builtins.object)\n",
      " |  compteur(incr=1, limit=10)\n",
      " |  \n",
      " |  Documentation de la classe compteur\n",
      " |  \n",
      " |  Parameters\n",
      " |  ----------\n",
      " |  \n",
      " |  n: int\n",
      " |      la valeur du compteur\n",
      " |  i: int (optional)\n",
      " |      l'incrément (default=1)\n",
      " |  limit: int (optional)\n",
      " |      valeur d'arrêt du compteur\n",
      " |  \n",
      " |  Attributes\n",
      " |  ----------\n",
      " |  \n",
      " |  n: int\n",
      " |      la valeur du compteur\n",
      " |  i: int\n",
      " |      l'incrément\n",
      " |  nmax: int\n",
      " |      une borne à ne pas dépasser (default 1000)\n",
      " |  \n",
      " |  Methods defined here:\n",
      " |  \n",
      " |  __init__(self, incr=1, limit=10)\n",
      " |      Initialize self.  See help(type(self)) for accurate signature.\n",
      " |  \n",
      " |  __lt__(self, val)\n",
      " |      Return self<value.\n",
      " |  \n",
      " |  __str__(self)\n",
      " |      Return str(self).\n",
      " |  \n",
      " |  avance(self)\n",
      " |      Fonction qui incrémente le compteur\n",
      " |  \n",
      " |  ----------------------------------------------------------------------\n",
      " |  Data descriptors defined here:\n",
      " |  \n",
      " |  __dict__\n",
      " |      dictionary for instance variables (if defined)\n",
      " |  \n",
      " |  __weakref__\n",
      " |      list of weak references to the object (if defined)\n",
      "\n"
     ]
    }
   ],
   "source": [
    "help(mc.compteur)    # on affiche seulement l'aide de la classe `compteur`"
   ]
  },
  {
   "cell_type": "code",
   "execution_count": 11,
   "metadata": {},
   "outputs": [
    {
     "name": "stdout",
     "output_type": "stream",
     "text": [
      "Help on function avance in module module_compteur:\n",
      "\n",
      "avance(self)\n",
      "    Fonction qui incrémente le compteur\n",
      "\n"
     ]
    }
   ],
   "source": [
    "help(mc.compteur.avance)"
   ]
  },
  {
   "cell_type": "markdown",
   "metadata": {},
   "source": [
    "Et on peut l'utiliser facilement."
   ]
  },
  {
   "cell_type": "code",
   "execution_count": 14,
   "metadata": {},
   "outputs": [
    {
     "name": "stdout",
     "output_type": "stream",
     "text": [
      "0\n",
      "2\n",
      "4\n",
      "6\n",
      "8\n",
      "10\n",
      "12\n",
      "14\n",
      "16\n",
      "18\n",
      "20\n"
     ]
    }
   ],
   "source": [
    "compt = mc.compteur(incr=2)\n",
    "while compt < 21:\n",
    "    print(compt)\n",
    "    compt.avance()"
   ]
  },
  {
   "cell_type": "markdown",
   "metadata": {},
   "source": [
    "**Question**\n",
    "\n",
    "> * Ajoutez les opérateurs `__le__` (pour $\\leq$), `__gt__` (pour $>$) et `__ge__` (pour $\\geq$) sur le même modèle que l'opérateur `__lt__`.\n",
    "> * Testez vos nouveaux opérateurs"
   ]
  },
  {
   "cell_type": "markdown",
   "metadata": {},
   "source": [
    "**ON EN EST ICI**"
   ]
  },
  {
   "cell_type": "code",
   "execution_count": 20,
   "metadata": {},
   "outputs": [
    {
     "name": "stdout",
     "output_type": "stream",
     "text": [
      "1\n",
      "3\n",
      "5\n",
      "7\n",
      "9\n",
      "11\n",
      "13\n",
      "15\n",
      "17\n",
      "19\n"
     ]
    }
   ],
   "source": [
    "\n",
    "compt = mc.compteur(incr=2)\n",
    "while 20 >= compt:\n",
    "    print(compt)\n",
    "    compt.avance()"
   ]
  },
  {
   "cell_type": "markdown",
   "metadata": {},
   "source": [
    "**Question**\n",
    "\n",
    "> * Afin d'éviter les boucles infinies, nous pouvons imposer que le compteur ne dépasse pas une certaine valeur `nmax`qui vaut 1000 par exemple. Ajoutez cette fonctionnalité.\n",
    "> * Afin d'empêcher l'utilisateur de proposer un incrément non entier (même si cette fonctionnalité pourrait être utile), modifiez la fonction `__init__` afin qu'elle prenne la partie entière de l'incrément dans le cas où il n'est pas entier. Vous pourrez aussi ajouter un message qui prévient l'utilisateur.\n",
    "> * Testez vos nouvelles fonctionnalités en exécutant la cellule suivante.\n",
    "\n",
    "*Indication : vous pourrez générer une erreur dans le cas où le compteur dépasse la valeur `nmax` en utilisant la commande `raise ValueError(\"Le compteur va trop loin !\")`*"
   ]
  },
  {
   "cell_type": "code",
   "execution_count": 21,
   "metadata": {
    "scrolled": true
   },
   "outputs": [
    {
     "ename": "ValueError",
     "evalue": "Valeur max atteinte",
     "output_type": "error",
     "traceback": [
      "\u001b[0;31m---------------------------------------------------------------------------\u001b[0m",
      "\u001b[0;31mValueError\u001b[0m                                Traceback (most recent call last)",
      "Input \u001b[0;32mIn [21]\u001b[0m, in \u001b[0;36m<cell line: 3>\u001b[0;34m()\u001b[0m\n\u001b[1;32m      1\u001b[0m compt \u001b[38;5;241m=\u001b[39m mc\u001b[38;5;241m.\u001b[39mcompteur(incr\u001b[38;5;241m=\u001b[39m\u001b[38;5;241m2\u001b[39m)\n\u001b[1;32m      2\u001b[0m \u001b[38;5;28;01mwhile\u001b[39;00m \u001b[38;5;28;01mTrue\u001b[39;00m:\n\u001b[0;32m----> 3\u001b[0m     \u001b[43mcompt\u001b[49m\u001b[38;5;241;43m.\u001b[39;49m\u001b[43mavance\u001b[49m\u001b[43m(\u001b[49m\u001b[43m)\u001b[49m\n",
      "File \u001b[0;32m~/Documents/Boulot/Enseignements/Orsay/ET2/L2_doubleCO/l2_meu205/2022-2023/CoursM/Seance08-Objet2/module_compteur.py:47\u001b[0m, in \u001b[0;36mcompteur.avance\u001b[0;34m(self)\u001b[0m\n\u001b[1;32m     45\u001b[0m     \u001b[38;5;28mself\u001b[39m\u001b[38;5;241m.\u001b[39m_n \u001b[38;5;241m+\u001b[39m\u001b[38;5;241m=\u001b[39m \u001b[38;5;28mself\u001b[39m\u001b[38;5;241m.\u001b[39m_i\n\u001b[1;32m     46\u001b[0m \u001b[38;5;28;01melse\u001b[39;00m :\n\u001b[0;32m---> 47\u001b[0m     \u001b[38;5;28;01mraise\u001b[39;00m \u001b[38;5;167;01mValueError\u001b[39;00m(\u001b[38;5;124m\"\u001b[39m\u001b[38;5;124mValeur max atteinte\u001b[39m\u001b[38;5;124m\"\u001b[39m)\n",
      "\u001b[0;31mValueError\u001b[0m: Valeur max atteinte"
     ]
    }
   ],
   "source": [
    "compt = mc.compteur(incr=2)\n",
    "while True:\n",
    "    compt.avance()"
   ]
  },
  {
   "cell_type": "markdown",
   "metadata": {},
   "source": [
    "**Question :** transformer le compteur en *iterator*\n",
    "\n",
    "Nous avons déjà vu que les boucles for peuvent être faites sur des objets *iterable*. Comment modifier la classe compteur pour pouvoir utiliser dessus une boucle for ?\n",
    "\n",
    "> Ajoutez les éléments suivants à votre classe :\n",
    ">1. un attribut `limit` (ou tout autre élément permettant de déterminer une condition d'arrêt),\n",
    ">1. une méthode `__next__` qui arrète la boucle si la limite est atteinte et passe au suivant sinon,\n",
    ">1. une méthode `__iter__` qui renvoit l'objet lui même (et aurait mis le compteur à 0 si l'initialisation ne le faisait pas déjà)."
   ]
  },
  {
   "cell_type": "code",
   "execution_count": 29,
   "metadata": {},
   "outputs": [
    {
     "name": "stdout",
     "output_type": "stream",
     "text": [
      "appel de __iter__\n",
      "appel de __next__\n",
      "0\n",
      "appel de __next__\n",
      "2\n",
      "appel de __next__\n",
      "4\n",
      "appel de __next__\n",
      "6\n",
      "appel de __next__\n",
      "8\n",
      "appel de __next__\n"
     ]
    }
   ],
   "source": [
    "for i in mc.compteur(begin=0,incr=2, limit=10):\n",
    "    print(i)"
   ]
  },
  {
   "cell_type": "code",
   "execution_count": null,
   "metadata": {},
   "outputs": [],
   "source": []
  },
  {
   "cell_type": "code",
   "execution_count": 27,
   "metadata": {},
   "outputs": [
    {
     "name": "stdout",
     "output_type": "stream",
     "text": [
      "Overwriting module_compteur.py\n"
     ]
    }
   ],
   "source": [
    "%%writefile 'module_compteur.py'\n",
    "\"\"\"\n",
    "Ici se trouve la documentation du module.\n",
    "C'est très important pour que l'on puisse l'utiliser\n",
    "\n",
    "Module qui définit une classe compteur\n",
    "\n",
    "@BG\n",
    "\"\"\"\n",
    "class compteur:\n",
    "    \"\"\"\n",
    "    Documentation de la classe compteur\n",
    "    \n",
    "    Parameters\n",
    "    ----------\n",
    "    \n",
    "    n: int\n",
    "        la valeur du compteur\n",
    "    i: int (optional)\n",
    "        l'incrément (default=1)\n",
    "    limit: int (optional)\n",
    "        valeur d'arrêt du compteur\n",
    "    \n",
    "    Attributes\n",
    "    ----------\n",
    "    \n",
    "    n: int\n",
    "        la valeur du compteur\n",
    "    i: int\n",
    "        l'incrément\n",
    "    nmax: int\n",
    "        une borne à ne pas dépasser (default 1000)\n",
    "    \"\"\"\n",
    "    def __init__(self, begin=0, incr=1, limit=10):\n",
    "        self._nmax = 10000\n",
    "        self._n = begin\n",
    "        self.limit = min(self._nmax, limit)\n",
    "        if (int(incr)==incr):\n",
    "            self._i = incr\n",
    "        else :\n",
    "            raise ValueError(\"L'incrément n'est pas entier\")\n",
    "\n",
    "    def avance(self):\n",
    "        \"\"\"Fonction qui incrémente le compteur\"\"\"\n",
    "        if self._n < self._nmax :\n",
    "            self._n += self._i\n",
    "        else :\n",
    "            raise ValueError(\"Valeur max atteinte\")\n",
    "\n",
    "    def __lt__(self, val):       # fonction utilisée pour faire compt < val\n",
    "        return self._n < val     # pas besoin de la commenter car tout le monde sait ce qu'elle fait !!!\n",
    "\n",
    "    def __le__(self, val):       # fonction utilisée pour faire compt <= val\n",
    "        return self._n <= val     # pas besoin de la commenter car tout le monde sait ce qu'e\n",
    "    \n",
    "    def __gt__(self, val):       # fonction utilisée pour faire compt > val\n",
    "        return self._n > val     # pas besoin de la commenter car tout le monde sait ce qu'e\n",
    "    \n",
    "    def __ge__(self, val):       # fonction utilisée pour faire compt >= val\n",
    "        return self._n >= val     # pas besoin de la commenter car tout le monde sait ce qu'e\n",
    "    \n",
    "    def __str__(self):           # fonction utilisée par print\n",
    "        return f\"{self._n}\"      # pas besoin de la commenter car tout le monde sait ce qu'elle fait !!!\n",
    "    \n",
    "    def __iter__(self):\n",
    "        \"\"\"Create iterator object. Called when iteration is initialized\"\"\"\n",
    "        print(f\"appel de __iter__\")\n",
    "        # l'initialisation met déjà self.n à 0\n",
    "        return self\n",
    "              \n",
    "    def __next__(self):\n",
    "        \"\"\"Called during iteration to go to next element\"\"\"\n",
    "        print(f\"appel de __next__\")\n",
    "        n = self._n\n",
    "        if n >=self.limit :\n",
    "            raise StopIteration\n",
    "        self.avance()\n",
    "        return n"
   ]
  },
  {
   "cell_type": "code",
   "execution_count": 28,
   "metadata": {},
   "outputs": [
    {
     "data": {
      "text/plain": [
       "<module 'module_compteur' from '/Users/lagaert/Documents/Boulot/Enseignements/Orsay/ET2/L2_doubleCO/l2_meu205/2022-2023/CoursM/Seance08-Objet2/module_compteur.py'>"
      ]
     },
     "execution_count": 28,
     "metadata": {},
     "output_type": "execute_result"
    }
   ],
   "source": [
    "# On force le rechargement de mc pour prendre en compte d'éventuelles modifs\n",
    "import importlib\n",
    "importlib.reload(mc)"
   ]
  },
  {
   "cell_type": "code",
   "execution_count": null,
   "metadata": {},
   "outputs": [],
   "source": []
  }
 ],
 "metadata": {
  "kernelspec": {
   "display_name": "Python 3",
   "language": "python",
   "name": "python3"
  },
  "language_info": {
   "codemirror_mode": {
    "name": "ipython",
    "version": 3
   },
   "file_extension": ".py",
   "mimetype": "text/x-python",
   "name": "python",
   "nbconvert_exporter": "python",
   "pygments_lexer": "ipython3",
   "version": "3.9.7"
  },
  "toc": {
   "base_numbering": 1,
   "nav_menu": {},
   "number_sections": true,
   "sideBar": true,
   "skip_h1_title": false,
   "title_cell": "Table of Contents",
   "title_sidebar": "Contents",
   "toc_cell": false,
   "toc_position": {},
   "toc_section_display": true,
   "toc_window_display": false
  },
  "varInspector": {
   "cols": {
    "lenName": 16,
    "lenType": 16,
    "lenVar": 40
   },
   "kernels_config": {
    "python": {
     "delete_cmd_postfix": "",
     "delete_cmd_prefix": "del ",
     "library": "var_list.py",
     "varRefreshCmd": "print(var_dic_list())"
    },
    "r": {
     "delete_cmd_postfix": ") ",
     "delete_cmd_prefix": "rm(",
     "library": "var_list.r",
     "varRefreshCmd": "cat(var_dic_list()) "
    }
   },
   "types_to_exclude": [
    "module",
    "function",
    "builtin_function_or_method",
    "instance",
    "_Feature"
   ],
   "window_display": false
  }
 },
 "nbformat": 4,
 "nbformat_minor": 4
}
