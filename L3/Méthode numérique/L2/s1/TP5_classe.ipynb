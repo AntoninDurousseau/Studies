{
 "cells": [
  {
   "cell_type": "markdown",
   "metadata": {
    "jupyter": {
     "source_hidden": true
    },
    "tags": []
   },
   "source": [
    "# Une classe pour les rationnels\n",
    "\n",
    "Dans ce TP, nous allons construire une classe pour les nombres rationnels qui pourra être utilisée ensuite comme les classes natives de python : `int` et `float` par exemple.\n",
    "\n",
    "Vous pouvez mettre cette classe dans un fichier séparé pour pouvoir l'utiliser ensuite dans tous vos notebooks."
   ]
  },
  {
   "cell_type": "code",
   "execution_count": 309,
   "metadata": {},
   "outputs": [],
   "source": [
    "import operator\n",
    "\n",
    "\n",
    "def pgcd(a, b):\n",
    "    \"\"\"calcule le pgcd de a et b par l'algorithme d'Euclide\"\"\"\n",
    "    if type(a) != int or type(b) != int:\n",
    "        raise ValueError(\"les argument ne sont pas des entiers\")\n",
    "    while b != 0:\n",
    "            a,b = b , a%b\n",
    "    return a\n",
    "\n",
    "\n",
    "class rationnel:\n",
    "    \"\"\"\n",
    "    Une classe pour les rationnels\n",
    "    \n",
    "    Parameters\n",
    "    ----------\n",
    "    \n",
    "    p: int\n",
    "        le numérateur\n",
    "    q: int (optional)\n",
    "        le dénominateur (default 1)\n",
    "\n",
    "    Warnings\n",
    "    --------\n",
    "    \n",
    "    q doit être non nul pour que p/q soit bien défini\n",
    "    \n",
    "    Attributs\n",
    "    ---------\n",
    "    \n",
    "    _p: int\n",
    "        le numérateur entier relatif\n",
    "    _q: int\n",
    "        le dénominateur strictement positif\n",
    "    \n",
    "    Examples\n",
    "    --------\n",
    "    \n",
    "    >> r = rationnel(1, 2)  # le nombre 1/2\n",
    "    >> print(r)\n",
    "    >> p = r.numerateur\n",
    "    >> q = r.denominateur\n",
    "    >> assert(p/q == r.eval)\n",
    "    \n",
    "    >> print(rationnel(1, 6) + rationnel(1, 3))\n",
    "    >> print(rationnel(1, 2) > rationnel(3, 7))\n",
    "    \n",
    "    \"\"\"\n",
    "    def __init__(self, p, q=1):\n",
    "        if type(p) != int or type(q) != int:\n",
    "            raise ValueError(\"les argument ne sont pas des entiers\")\n",
    "        if q == 0:\n",
    "            raise ValueError(\"q est égale à 0\")\n",
    "        self._p = p\n",
    "        self._q = q\n",
    "        if q < 0:\n",
    "            print(\"q neg\")\n",
    "            self._q = -q\n",
    "            self._p = -p\n",
    "        self._simplify()\n",
    "          \n",
    "    @property\n",
    "    def numerateur(self):\n",
    "        \"\"\"getter numerateur\"\"\"\n",
    "        return self._p\n",
    "    \n",
    "    @property\n",
    "    def denominateur(self):\n",
    "        \"\"\"getter denominateur\"\"\"\n",
    "        return self._q\n",
    "    \n",
    "    @numerateur.setter\n",
    "    def numerateur(self, p):\n",
    "        \"\"\"setter numerateur\"\"\"\n",
    "        if type(p) != int:\n",
    "            raise ValueError(\"le numérateur n'est pas entier\")\n",
    "        self._p = p\n",
    "    \n",
    "    @denominateur.setter\n",
    "    def denominateur(self, q):\n",
    "        \"\"\"setter denominateur\"\"\"\n",
    "        if type(q) != int:\n",
    "            raise ValueError(\"le dénominateur n'est pas entier\")\n",
    "        if q == 0:\n",
    "            raise ValueError(\"q est égale à 0\")\n",
    "        if q < 0:\n",
    "            self._q = -q\n",
    "            self._p = -p\n",
    "        self._q = q\n",
    "        \n",
    "    def __format__(self, spec):\n",
    "        if spec == \"\":\n",
    "            return self.__str__()\n",
    "        i = spec.find(\"/\")\n",
    "        if i == -1:\n",
    "            spec_p = spec\n",
    "            spec_q = spec\n",
    "        else:\n",
    "            spec_p = spec[:i]\n",
    "            spec_q = spec[i+1:]\n",
    "        return f\"{self._p:{spec_p}}/{self._q:{spec_q}}\"\n",
    "        \n",
    "    def __str__(self):\n",
    "        if self._q == 1 : \n",
    "            return f\"{self._p}\"\n",
    "        else:\n",
    "            return f\"{self._p}/{self._q}\"\n",
    "    \n",
    "    def __repr__(self):\n",
    "        return self.__str__()\n",
    "    \n",
    "    def copy(self):\n",
    "        \"\"\"utilisation avec b = a.copy()\"\"\"\n",
    "        return self.__class__(self._p, self._q)\n",
    "    \n",
    "    def _simplify(self):\n",
    "        \"\"\"simplification de la fraction\"\"\"\n",
    "        self._p,self._q = int(self._p / pgcd(self._p,self._q)),int(self._q / pgcd(self._p,self._q))\n",
    "        return self._p, self._q\n",
    "    \n",
    "    def __neg__(self):\n",
    "        return rationnel(-self.numerateur,self.denominateur)\n",
    "    \n",
    "    def __add__(self, other):\n",
    "        if type(other) == float:\n",
    "            raise ValueError(\"Ce n'est pas un entier\")\n",
    "        if type(other) == int:\n",
    "            return rationnel(self._p + self._q*other,self._q)\n",
    "        return rationnel(self._p*other._q + self._q*other._p,self._q*other._q)\n",
    "    \n",
    "    def __radd__(self, other):\n",
    "        return self.__add__(other)\n",
    "    \n",
    "    def __sub__(self, other):\n",
    "        return self.__add__(-other)\n",
    "    \n",
    "    def __rsub__(self, other):\n",
    "        return -self.__sub__(other)\n",
    "    \n",
    "    def __inv__(self):\n",
    "        if self._q == 0:\n",
    "            raise ZeroDivisionError(\"divition impossible\")\n",
    "        return rationnel(self._q,self._p)\n",
    "    \n",
    "    def __mul__(self, other):\n",
    "        if type(other)==int:\n",
    "            return rationnel(self._p*other,self._q)\n",
    "        return rationnel(self._p * other._p, self._q * other._q)\n",
    "    \n",
    "    def __rmul__(self, other):\n",
    "        return self.__mul__(other)\n",
    "    \n",
    "    def __truediv__(self, other):\n",
    "        if type(other) == int:\n",
    "            return rationnel(self._p, self._q * other)\n",
    "        return self.__mul__(other.__inv__())\n",
    "    \n",
    "    def __rtruediv__(self, other):\n",
    "        return self.__inv__().__mul__(other)\n",
    "    \n",
    "    def __eq__(self, other):\n",
    "        if type(other) == int:\n",
    "            return self._p == self._q*other\n",
    "        return self._p*other._q == self._q*other._p\n",
    "\n",
    "    def __ne__(self, other):\n",
    "        if type(other) == int:\n",
    "            return self._p != self._q*other\n",
    "        return self._p*other._q != self._q*other._p\n",
    "    \n",
    "    def __lt__(self, other):\n",
    "        if type(other) == int:\n",
    "            return self._p < self._q*other\n",
    "        return self._p*other._q < self._q*other._p\n",
    "    \n",
    "    def __gt__(self, other):\n",
    "        if type(other) == int:\n",
    "            return self._p > self._q*other\n",
    "        return self._p*other._q > self._q*other._p\n",
    "    \n",
    "    def __le__(self, other):\n",
    "        if type(other) == int:\n",
    "            return self._p <= self._q*other\n",
    "        return self._p*other._q <= self._q*other._p\n",
    "    \n",
    "    def __ge__(self, other):\n",
    "        if type(other) == int:\n",
    "            return self._p >= self._q*other\n",
    "        return self._p*other._q >= self._q*other._p\n",
    "\n",
    "    def eval(self):\n",
    "        return self._p/self._q\n",
    "    "
   ]
  },
  {
   "cell_type": "code",
   "execution_count": null,
   "metadata": {},
   "outputs": [],
   "source": []
  },
  {
   "cell_type": "markdown",
   "metadata": {},
   "source": [
    "**Question 1**\n",
    "\n",
    "> 1. Complétez la fonction `__init__` afin qu'elle prenne en argument un ou deux entiers `p` et `q` (par défaut la valeur de `q` vaut `1`) et qui affecte les deux attributs `_p` et `_q` les valeurs de `p` et `q`. Attention, le signe du rationnel doit être porté par la variable `_p`, c'est-à-dire que la variable `_q` doit toujours être positive.\n",
    "> 2. Modifier la fonction `init` pour qu'elle retourne un message d'erreur lorsque la variable `q` proposée en entrée est nulle (interdiction de diviser par 0). Vous pourrez utiliser `raise ValueError(\"message\")`.\n",
    "> 3. Modifiez la fonction `__init__` afin d'obliger les variables `p` et `q` à être des entiers.\n",
    "> 4. Complétez la fonction `__str__` qui retourne une chaine de caractère et qui est utilisée pour afficher un rationnel afin qu'elle soit conforme à\n",
    "> ```python\n",
    "> a = rationnel(1, 2)\n",
    "> b = rationnel(2)\n",
    "> print(a)\n",
    "> print(b\n",
    ">     >>> 1/2\n",
    ">     >>> 2\n",
    "> ```\n",
    "> 5. Testez vos modifications en exécutant la cellule suivante."
   ]
  },
  {
   "cell_type": "code",
   "execution_count": 284,
   "metadata": {},
   "outputs": [
    {
     "name": "stdout",
     "output_type": "stream",
     "text": [
      "1/2\n",
      "2\n",
      "2\n"
     ]
    },
    {
     "ename": "ValueError",
     "evalue": "les argument ne sont pas des entiers",
     "output_type": "error",
     "traceback": [
      "\u001b[0;31m---------------------------------------------------------------------------\u001b[0m",
      "\u001b[0;31mValueError\u001b[0m                                Traceback (most recent call last)",
      "\u001b[0;32m<ipython-input-284-68f4eee03635>\u001b[0m in \u001b[0;36m<module>\u001b[0;34m\u001b[0m\n\u001b[1;32m      2\u001b[0m \u001b[0mprint\u001b[0m\u001b[0;34m(\u001b[0m\u001b[0mrationnel\u001b[0m\u001b[0;34m(\u001b[0m\u001b[0;36m2\u001b[0m\u001b[0;34m)\u001b[0m\u001b[0;34m)\u001b[0m\u001b[0;34m\u001b[0m\u001b[0;34m\u001b[0m\u001b[0m\n\u001b[1;32m      3\u001b[0m \u001b[0mprint\u001b[0m\u001b[0;34m(\u001b[0m\u001b[0mrationnel\u001b[0m\u001b[0;34m(\u001b[0m\u001b[0;36m6\u001b[0m\u001b[0;34m,\u001b[0m \u001b[0;36m3\u001b[0m\u001b[0;34m)\u001b[0m\u001b[0;34m)\u001b[0m\u001b[0;34m\u001b[0m\u001b[0;34m\u001b[0m\u001b[0m\n\u001b[0;32m----> 4\u001b[0;31m \u001b[0mprint\u001b[0m\u001b[0;34m(\u001b[0m\u001b[0mrationnel\u001b[0m\u001b[0;34m(\u001b[0m\u001b[0;36m2.1\u001b[0m\u001b[0;34m)\u001b[0m\u001b[0;34m)\u001b[0m\u001b[0;34m\u001b[0m\u001b[0;34m\u001b[0m\u001b[0m\n\u001b[0m",
      "\u001b[0;32m<ipython-input-283-11791a77ff24>\u001b[0m in \u001b[0;36m__init__\u001b[0;34m(self, p, q)\u001b[0m\n\u001b[1;32m     51\u001b[0m     \u001b[0;32mdef\u001b[0m \u001b[0m__init__\u001b[0m\u001b[0;34m(\u001b[0m\u001b[0mself\u001b[0m\u001b[0;34m,\u001b[0m \u001b[0mp\u001b[0m\u001b[0;34m,\u001b[0m \u001b[0mq\u001b[0m\u001b[0;34m=\u001b[0m\u001b[0;36m1\u001b[0m\u001b[0;34m)\u001b[0m\u001b[0;34m:\u001b[0m\u001b[0;34m\u001b[0m\u001b[0;34m\u001b[0m\u001b[0m\n\u001b[1;32m     52\u001b[0m         \u001b[0;32mif\u001b[0m \u001b[0mtype\u001b[0m\u001b[0;34m(\u001b[0m\u001b[0mp\u001b[0m\u001b[0;34m)\u001b[0m \u001b[0;34m!=\u001b[0m \u001b[0mint\u001b[0m \u001b[0;32mor\u001b[0m \u001b[0mtype\u001b[0m\u001b[0;34m(\u001b[0m\u001b[0mq\u001b[0m\u001b[0;34m)\u001b[0m \u001b[0;34m!=\u001b[0m \u001b[0mint\u001b[0m\u001b[0;34m:\u001b[0m\u001b[0;34m\u001b[0m\u001b[0;34m\u001b[0m\u001b[0m\n\u001b[0;32m---> 53\u001b[0;31m             \u001b[0;32mraise\u001b[0m \u001b[0mValueError\u001b[0m\u001b[0;34m(\u001b[0m\u001b[0;34m\"les argument ne sont pas des entiers\"\u001b[0m\u001b[0;34m)\u001b[0m\u001b[0;34m\u001b[0m\u001b[0;34m\u001b[0m\u001b[0m\n\u001b[0m\u001b[1;32m     54\u001b[0m         \u001b[0;32mif\u001b[0m \u001b[0mq\u001b[0m \u001b[0;34m==\u001b[0m \u001b[0;36m0\u001b[0m\u001b[0;34m:\u001b[0m\u001b[0;34m\u001b[0m\u001b[0;34m\u001b[0m\u001b[0m\n\u001b[1;32m     55\u001b[0m             \u001b[0;32mraise\u001b[0m \u001b[0mValueError\u001b[0m\u001b[0;34m(\u001b[0m\u001b[0;34m\"q est égale à 0\"\u001b[0m\u001b[0;34m)\u001b[0m\u001b[0;34m\u001b[0m\u001b[0;34m\u001b[0m\u001b[0m\n",
      "\u001b[0;31mValueError\u001b[0m: les argument ne sont pas des entiers"
     ]
    }
   ],
   "source": [
    "print(rationnel(1, 2))\n",
    "print(rationnel(2))\n",
    "print(rationnel(6, 3))\n",
    "print(rationnel(2.1))"
   ]
  },
  {
   "cell_type": "code",
   "execution_count": 285,
   "metadata": {},
   "outputs": [
    {
     "name": "stdout",
     "output_type": "stream",
     "text": [
      "r = 1.000000e+00/002\n"
     ]
    }
   ],
   "source": [
    "r = rationnel(1, 2)\n",
    "print(f\"r = {r:03e/03d}\")"
   ]
  },
  {
   "cell_type": "markdown",
   "metadata": {},
   "source": [
    "**Question 2**\n",
    "\n",
    "> 1. Implémentez la fonction `_simplify` qui simplifie le nombre rationnel écrit sous la forme $p/q$ en modifiant les valeurs de `_p` et `_q` en les divisant par le $PGCD(p, q)$. Vous utiliserez pour cela l'algorithme d'Euclide [page wikipedia](https://fr.wikipedia.org/wiki/Algorithme_d%27Euclide)\n",
    "> 2. Ajoutez l'appel à la fonction `_simplify` à la fin de votre fonction `__init__` pour simplifier le nombre rationnel dès sa création.\n",
    "> 3. Testez à nouveau la cellule précédente et vérifier que $6/3=2$.\n",
    "> 4. Testez la cellule suivante également."
   ]
  },
  {
   "cell_type": "code",
   "execution_count": 286,
   "metadata": {},
   "outputs": [
    {
     "name": "stdout",
     "output_type": "stream",
     "text": [
      "0 1/10 1/5 3/10 2/5 1/2 3/5 7/10 4/5 9/10 1 11/10 6/5 13/10 7/5 3/2 8/5 17/10 9/5 19/10 2 "
     ]
    }
   ],
   "source": [
    "for k in range(21):\n",
    "    print(rationnel(k, 10), end=' ')"
   ]
  },
  {
   "cell_type": "markdown",
   "metadata": {},
   "source": [
    "**Question 3**\n",
    "\n",
    "Afin de contrôler l'accès aux attributs (pour éviter que l'utilisateur idiot fasse n'importe quoi !), nous avons appeler les attributs `_p` et `_q` pour signifier qu'ils ne sont pas utilisables par l'utilisateur mais seulement par le développeur (qui normalement sait ce qu'il fait).\n",
    "\n",
    "Cependant, nous pouvons donner un accès en lecture et en écriture aux attributs à l'aide de fonctions décorées (nous verrons peut-être ultérieurement les décorateurs).\n",
    "\n",
    "> 1. Complétez la fonction `@property denominateur` sur le même modèle que la fonction `@property numerateur` afin qu'elle retourne le dénominateur du nombre rationnel. Ces deux fonctions sont appelées lorsque l'on veut lire les attributs du rationnel.\n",
    "> 2. Complétez la fonction `@numerateur.setter numerateur` afin qu'elle modifie le numérateur après avoir vérifier que la valeur était entière. Ajouter de même `@denominateur.setter denominateur` afin qu'elle modifie le dénominateur du nombre rationnel (après avoir vérifié que la valeur est un entier naturel non nul). Ces deux fonctions sont appelées lorsque l'on veut modifier les attributs du rationnel (écriture).\n",
    "> 3. Testez ces nouvelles fonctions en exécutant la cellule suivante. Normalement, vous devez avoir un message d'erreur explicite et vous devez corriger la cellule pour qu'elle s'exécute correctement..."
   ]
  },
  {
   "cell_type": "code",
   "execution_count": 287,
   "metadata": {
    "scrolled": true
   },
   "outputs": [
    {
     "name": "stdout",
     "output_type": "stream",
     "text": [
      "numerateur = 617, denominateur = 2178, a = 617/2178\n",
      "numerateur = 618, denominateur = 1089, a = 618/1089\n"
     ]
    }
   ],
   "source": [
    "a = rationnel(1234, 4356)\n",
    "print(f\"numerateur = {a.numerateur}, denominateur = {a.denominateur}, a = {a}\")\n",
    "a.numerateur += 1\n",
    "a.denominateur //= 2\n",
    "\n",
    "print(f\"numerateur = {a.numerateur}, denominateur = {a.denominateur}, a = {a}\")"
   ]
  },
  {
   "cell_type": "markdown",
   "metadata": {},
   "source": [
    "**Question 4**\n",
    "\n",
    "Nous allons à présent surcharger les opérations algébriques afin qu'elles soient utilisables sur les rationnels. \n",
    "\n",
    "> 1. Complétez la fonction `__neg__` qui doit retouner l'opposé du rationnel.\n",
    "> 2. Complétez la fonction `__add__` qui doit retourner la somme de deux rationnels. NB : les fonctions `__radd__`, `__sub__` et `__rsub__` ont déjà été implémentées pour vous faire gagner du temps en utilisant `__add__` et la commutativité.\n",
    "> 3. Modifiez votre fonction `__add__` pour qu'il soit également possible d'ajouter un entier à un rationnel.\n",
    "> 4. Testez vos nouvelles fonctions en exécutant la cellule suivante."
   ]
  },
  {
   "cell_type": "code",
   "execution_count": 288,
   "metadata": {},
   "outputs": [
    {
     "name": "stdout",
     "output_type": "stream",
     "text": [
      "1/10 1/5 3/10 2/5 1/2 3/5 7/10 4/5 9/10 1 1\n",
      "-1\n",
      "9/10\n"
     ]
    }
   ],
   "source": [
    "pas = rationnel(1, 10)\n",
    "x = rationnel(0)\n",
    "for k in range(10):\n",
    "    x += pas\n",
    "    print(x, end=' ')\n",
    "print(x)\n",
    "print(-x)\n",
    "print(x - pas)"
   ]
  },
  {
   "cell_type": "code",
   "execution_count": 289,
   "metadata": {},
   "outputs": [
    {
     "ename": "ValueError",
     "evalue": "Ce n'est pas un entier",
     "output_type": "error",
     "traceback": [
      "\u001b[0;31m---------------------------------------------------------------------------\u001b[0m",
      "\u001b[0;31mValueError\u001b[0m                                Traceback (most recent call last)",
      "\u001b[0;32m<ipython-input-289-e9573456d09a>\u001b[0m in \u001b[0;36m<module>\u001b[0;34m\u001b[0m\n\u001b[0;32m----> 1\u001b[0;31m \u001b[0mprint\u001b[0m\u001b[0;34m(\u001b[0m\u001b[0mx\u001b[0m \u001b[0;34m+\u001b[0m \u001b[0;36m1.2\u001b[0m\u001b[0;34m)\u001b[0m\u001b[0;34m\u001b[0m\u001b[0;34m\u001b[0m\u001b[0m\n\u001b[0m",
      "\u001b[0;32m<ipython-input-283-11791a77ff24>\u001b[0m in \u001b[0;36m__add__\u001b[0;34m(self, other)\u001b[0m\n\u001b[1;32m    126\u001b[0m     \u001b[0;32mdef\u001b[0m \u001b[0m__add__\u001b[0m\u001b[0;34m(\u001b[0m\u001b[0mself\u001b[0m\u001b[0;34m,\u001b[0m \u001b[0mother\u001b[0m\u001b[0;34m)\u001b[0m\u001b[0;34m:\u001b[0m\u001b[0;34m\u001b[0m\u001b[0;34m\u001b[0m\u001b[0m\n\u001b[1;32m    127\u001b[0m         \u001b[0;32mif\u001b[0m \u001b[0mtype\u001b[0m\u001b[0;34m(\u001b[0m\u001b[0mother\u001b[0m\u001b[0;34m)\u001b[0m \u001b[0;34m==\u001b[0m \u001b[0mfloat\u001b[0m\u001b[0;34m:\u001b[0m\u001b[0;34m\u001b[0m\u001b[0;34m\u001b[0m\u001b[0m\n\u001b[0;32m--> 128\u001b[0;31m             \u001b[0;32mraise\u001b[0m \u001b[0mValueError\u001b[0m\u001b[0;34m(\u001b[0m\u001b[0;34m\"Ce n'est pas un entier\"\u001b[0m\u001b[0;34m)\u001b[0m\u001b[0;34m\u001b[0m\u001b[0;34m\u001b[0m\u001b[0m\n\u001b[0m\u001b[1;32m    129\u001b[0m         \u001b[0;32mif\u001b[0m \u001b[0mtype\u001b[0m\u001b[0;34m(\u001b[0m\u001b[0mother\u001b[0m\u001b[0;34m)\u001b[0m \u001b[0;34m==\u001b[0m \u001b[0mint\u001b[0m\u001b[0;34m:\u001b[0m\u001b[0;34m\u001b[0m\u001b[0;34m\u001b[0m\u001b[0m\n\u001b[1;32m    130\u001b[0m             \u001b[0;32mreturn\u001b[0m \u001b[0mrationnel\u001b[0m\u001b[0;34m(\u001b[0m\u001b[0mself\u001b[0m\u001b[0;34m.\u001b[0m\u001b[0m_p\u001b[0m \u001b[0;34m+\u001b[0m \u001b[0mself\u001b[0m\u001b[0;34m.\u001b[0m\u001b[0m_q\u001b[0m\u001b[0;34m*\u001b[0m\u001b[0mother\u001b[0m\u001b[0;34m,\u001b[0m\u001b[0mself\u001b[0m\u001b[0;34m.\u001b[0m\u001b[0m_q\u001b[0m\u001b[0;34m)\u001b[0m\u001b[0;34m\u001b[0m\u001b[0;34m\u001b[0m\u001b[0m\n",
      "\u001b[0;31mValueError\u001b[0m: Ce n'est pas un entier"
     ]
    }
   ],
   "source": [
    "print(x + 1.2)"
   ]
  },
  {
   "cell_type": "markdown",
   "metadata": {},
   "source": [
    "**Question 5**\n",
    "\n",
    "> 5. Complétez la fonction `__inv__` qui doit retourner l'inverse du rationnel. Lorsque le rationnel est nul, la fonction doit retourner une erreur de type division par zéro, vous pourrez pour cela utiliser `raise ZeroDivisionError(\"message\")`.\n",
    "> 6. Complétez la fonction `__mul__` qui doit retourner le produit de deux rationnels. NB : la fonction `__rmul__` a déjà été implémentée pour vous faire gagner du temps.\n",
    "> 7. Modifiez votre fonction `__mul__` pour qu'il soit possible de multiplier le rationnel par un entier.\n",
    "> 8. Complétez la fonction `__truediv__` qui doit retourner la division des deux rationnels. Vous utiliserez pour cela les fonctions `__mul__` et `__inv__` déjà implémentées et vous tiendrez compte du fait que l'on peut diviser un rationnel par un entier (non nul). NB : la fonction `__rtruediv__` a déjà été implémentée.\n",
    "> 9. Testez vos fonctions en exécutant les cellules suivantes."
   ]
  },
  {
   "cell_type": "code",
   "execution_count": 290,
   "metadata": {},
   "outputs": [
    {
     "name": "stdout",
     "output_type": "stream",
     "text": [
      "3/4 1 9/8 6/5 5/4 9/7 21/16 4/3 27/20 "
     ]
    }
   ],
   "source": [
    "un = rationnel(1)\n",
    "undemi = un / 2\n",
    "untiers = un / 3\n",
    "for k in range(1, 10):\n",
    "    print((k * un / (k+1)) * undemi / untiers , end=' ')"
   ]
  },
  {
   "cell_type": "code",
   "execution_count": 291,
   "metadata": {},
   "outputs": [
    {
     "name": "stdout",
     "output_type": "stream",
     "text": [
      "19/12 1/2\n",
      "25/12\n",
      "13/12\n",
      "19/24\n",
      "19/6\n"
     ]
    }
   ],
   "source": [
    "a = 19*un/12\n",
    "b = 6*un/12\n",
    "print(a, b)\n",
    "print(a+b)\n",
    "print(a-b)\n",
    "print(a*b)\n",
    "print(a/b)"
   ]
  },
  {
   "cell_type": "markdown",
   "metadata": {},
   "source": [
    "**Question 6**\n",
    "\n",
    "> 1. Complétez la fonction membre `eval` qui doit retourner l'évaluation du rationnel sous la forme d'un flottant. \n",
    "> 2. Testez votre fonction en affichant la valeur approchée de $1/2$, $1/3$ et $1/5$."
   ]
  },
  {
   "cell_type": "code",
   "execution_count": 294,
   "metadata": {},
   "outputs": [
    {
     "name": "stdout",
     "output_type": "stream",
     "text": [
      "r = 1/2 ~ 0.5\n",
      "r = 1/3 ~ 0.3333333333333333\n",
      "r = 1/5 ~ 0.2\n"
     ]
    }
   ],
   "source": [
    "for q in [2, 3, 5]:\n",
    "    r = rationnel(1, q)\n",
    "    print(f\"r = {r} ~ {r.eval()}\")"
   ]
  },
  {
   "cell_type": "markdown",
   "metadata": {},
   "source": [
    "**Question 7**\n",
    "\n",
    "> 1. Implémentez les opérateurs de comparaison proposés.\n",
    "> 2. Testez vos fonctions en exécutant les cellules suivantes."
   ]
  },
  {
   "cell_type": "code",
   "execution_count": 310,
   "metadata": {},
   "outputs": [
    {
     "name": "stdout",
     "output_type": "stream",
     "text": [
      "J'ai trouvé : 17/35\n"
     ]
    }
   ],
   "source": [
    "x = rationnel(34, 70)\n",
    "if x < 0:\n",
    "    print(\"Il faut un rationnel positif\")\n",
    "else:\n",
    "    k = 1\n",
    "    c, pas = rationnel(0), rationnel(1, k)\n",
    "    while c != x:\n",
    "        if c < x:\n",
    "            c += pas\n",
    "        if c > x:\n",
    "            c = rationnel(0)\n",
    "            k += 1\n",
    "            pas = rationnel(1, k)\n",
    "    print(f\"J'ai trouvé : {c}\")"
   ]
  },
  {
   "cell_type": "markdown",
   "metadata": {},
   "source": [
    "**Question 8**\n",
    "\n",
    "Maintenant que la classe `rationnel` est complétée, il est possible de l'utiliser comme les autres nombres.\n",
    "\n",
    "> 1. Fabriquez la matrice `ndarray` de taille $5\\times5$ telle que $A_{i,j}=\\frac{i+1}{j+1}$. Vous devrez pour cela utiliser le nouveau type créé `dtype=rationnel`.\n",
    "> 2. Affichez la matrice obtenue\n",
    "> 3. Vérifiez que vous pouvez effectuer des opérations vectorielles dessus en exécutant la cellule suivante."
   ]
  },
  {
   "cell_type": "code",
   "execution_count": 311,
   "metadata": {},
   "outputs": [],
   "source": [
    "import numpy as np"
   ]
  },
  {
   "cell_type": "code",
   "execution_count": null,
   "metadata": {},
   "outputs": [],
   "source": []
  },
  {
   "cell_type": "code",
   "execution_count": null,
   "metadata": {},
   "outputs": [],
   "source": [
    "print(2*A-1)\n",
    "A[A > 1] = 1/A[A > 1]\n",
    "print(A)"
   ]
  },
  {
   "cell_type": "code",
   "execution_count": null,
   "metadata": {},
   "outputs": [],
   "source": []
  }
 ],
 "metadata": {
  "kernelspec": {
   "display_name": "Python 3 (ipykernel)",
   "language": "python",
   "name": "python3"
  },
  "language_info": {
   "codemirror_mode": {
    "name": "ipython",
    "version": 3
   },
   "file_extension": ".py",
   "mimetype": "text/x-python",
   "name": "python",
   "nbconvert_exporter": "python",
   "pygments_lexer": "ipython3",
   "version": "3.10.8"
  },
  "toc": {
   "base_numbering": 1,
   "nav_menu": {},
   "number_sections": true,
   "sideBar": true,
   "skip_h1_title": false,
   "title_cell": "Table of Contents",
   "title_sidebar": "Contents",
   "toc_cell": false,
   "toc_position": {},
   "toc_section_display": true,
   "toc_window_display": false
  },
  "varInspector": {
   "cols": {
    "lenName": 16,
    "lenType": 16,
    "lenVar": 40
   },
   "kernels_config": {
    "python": {
     "delete_cmd_postfix": "",
     "delete_cmd_prefix": "del ",
     "library": "var_list.py",
     "varRefreshCmd": "print(var_dic_list())"
    },
    "r": {
     "delete_cmd_postfix": ") ",
     "delete_cmd_prefix": "rm(",
     "library": "var_list.r",
     "varRefreshCmd": "cat(var_dic_list()) "
    }
   },
   "types_to_exclude": [
    "module",
    "function",
    "builtin_function_or_method",
    "instance",
    "_Feature"
   ],
   "window_display": false
  }
 },
 "nbformat": 4,
 "nbformat_minor": 4
}
