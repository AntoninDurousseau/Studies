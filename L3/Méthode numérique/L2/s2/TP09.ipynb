{
 "cells": [
  {
   "cell_type": "markdown",
   "metadata": {},
   "source": [
    "FEUILLE DE TP 9\n",
    "\n",
    "---\n",
    "# Intégration numérique (Partie 3)\n",
    "---"
   ]
  },
  {
   "cell_type": "code",
   "execution_count": null,
   "metadata": {},
   "outputs": [],
   "source": [
    "%matplotlib inline\n",
    "%config InlineBackend.figure_format = 'retina'\n",
    "\n",
    "import numpy as np\n",
    "from scipy.integrate import quad\n",
    "import matplotlib.pyplot as plt"
   ]
  },
  {
   "cell_type": "markdown",
   "metadata": {},
   "source": [
    "Dans ce TP, nous allons programmer les formules d'intégration de Gauss pour calculer\n",
    "\\begin{equation*}\n",
    "I = \\int\\limits_{ -1 }^{ 1 } f( x ) dx.\n",
    "\\tag{1}\\label{1}\n",
    "\\end{equation*}\n",
    "Nous les testerons sur la fonction suivante :\n",
    "\\begin{equation*}\n",
    "f_0( x ) = \\exp( -x ), \\quad f_1(x) = \\exp( -x^2 / 2 )%\\sqrt{\\cos ( \\pi x / 2) }.\n",
    "\\end{equation*}"
   ]
  },
  {
   "cell_type": "markdown",
   "metadata": {},
   "source": [
    "**Question 1.**\n",
    "\n",
    "> Définissez ces fonctions et tracez les sur l'intervalle $[-1, 1]$."
   ]
  },
  {
   "cell_type": "code",
   "execution_count": null,
   "metadata": {},
   "outputs": [],
   "source": []
  },
  {
   "cell_type": "markdown",
   "metadata": {},
   "source": [
    "On rappelle que l’idée de la quadrature de Gauss est d'approcher la fonction $ f $ sous le signe de l'intégrale (1) par son polynome interpolateur aux points $ x_1, x_2, \\ldots, x_N $ espacés de manière non-régulière, en cherchant un ``bon choix'' des $ x_k $ qui, pour $ N > 0 $ fixé,\n",
    "rendrait la formule de quadrature précise de degré le plus grand possible.\n",
    "\n",
    "Soit $ J( f ) = \\sum_{ i = 1 }^N \\lambda_k f( x_k ) $ la formule de quadrature de Gauss \\`a $ N $ points.  On peut montrer que\n",
    "- les positions $ x_k $ des points de quadrature sont les racines du polynome de Legendre $ P_N $ de degré $ N $.\n",
    "Les polynoomes de Legendre peuvent se calculer par récurrence avec la relation\n",
    "\\begin{align*}\n",
    "& P_0 = 1, \\\\\n",
    "& P_1 = x, \\\\\n",
    "& P_{ N } = \\frac{ ( 2N -1 ) x P_{ N - 1 }( x ) - ( N - 1 ) P_{ N - 2 }( x ) }{ N }.\n",
    "\\end{align*}\n",
    "Leurs racines n’ont pas toujours d’expression analytique, et le plus souvent, elles doivent etre calculées\n",
    "numériquement.\n",
    "- les $ N $ coefficients associés aux points de quadrature sont $ \\lambda_k = 2 w_k $ avec:\n",
    "$$\n",
    "w_k = \\frac{ 1 }{ ( 1 - x_k^2 ) P'_{N}( x_k )^2 } = \\frac{ ( 1 - x_k^2 ) }{ N^2 P_{N-1}^2( x_k ) }.\n",
    "$$\n",
    "On peut montrer que $ \\forall N > 0 $ $ \\sum\\limits_{k=1}^{N} w_k = 1 $."
   ]
  },
  {
   "cell_type": "markdown",
   "metadata": {},
   "source": [
    "**Question 2.**\n",
    "> 1. Ecrire une fonction recursive `poly_legendre( x, n )` qui prend en argument un `ndarray` `x` et un entier `n` et qui retourne une évaluation de $n$-ième polynome de Legendre $ P_n $ aux points `x`.\n",
    "> 2. Tracer les polynomes $ P_n $, $ n = 1, 2, \\ldots, 6 $ sur $  [ -1, 1 ]$.\n",
    "> 3. En se servant du graphique donner des valeurs approchées de points de quadrature $ x_k $, $ k = 0, \\ldots, n $ pour $ n = 1, 2, 3 $. Les résultats que vous obtenez pour $ n = 1, 2 $ sont-ils conformes aux résultats vus en cours? "
   ]
  },
  {
   "cell_type": "code",
   "execution_count": null,
   "metadata": {},
   "outputs": [],
   "source": []
  },
  {
   "cell_type": "code",
   "execution_count": null,
   "metadata": {
    "scrolled": true
   },
   "outputs": [],
   "source": []
  },
  {
   "cell_type": "code",
   "execution_count": null,
   "metadata": {},
   "outputs": [],
   "source": []
  },
  {
   "cell_type": "markdown",
   "metadata": {},
   "source": [
    "**Question 3.**\n",
    "> 1. Ecrire une fonction `poids_gauss( x, n )` qui prend en argument un `ndarray` `x` et un entier `n` et qui retourne un `ndarray` des coéficients $ \\lambda_1, \\ldots, \\lambda_n $ de la formule de Gauss à `n` points avec les points de quadrature `x`.\n",
    "> 2. Testez votre fonction pour $ n = 1 $, $ x = [ 0 ] $ et $ n = 2 $, $ x = [ -1/\\sqrt{3}, 1/ \\sqrt{3} ] $."
   ]
  },
  {
   "cell_type": "code",
   "execution_count": null,
   "metadata": {},
   "outputs": [],
   "source": []
  },
  {
   "cell_type": "code",
   "execution_count": null,
   "metadata": {},
   "outputs": [],
   "source": []
  },
  {
   "cell_type": "markdown",
   "metadata": {},
   "source": [
    "La fonction `roots_legendre` de `scipy.special` permet de calculer les valeurs approchées des racines $ x_1, x_2, \\ldots, x_n $ du $n$-ième polynome de Legendre ainsi que les poids $ \\lambda_1, \\ldots, \\lambda_n $ de la formule de quadrature de Gauss associée. \n",
    "\n",
    "**Question 4.**\n",
    "> 1. En utilisant la fonction `roots_legendre` de `scipy.special` calculer les racines des polynomes de Legendre $ P_n $ pour $ n = 1, \\ldots, 6 $. Ajouter une représentation graphique des racines à l'image de la Question 2.2.\n",
    "> 2. Comparer les coéficients de la formule de quadrature de Gauss à $ n $ points obtenus via la fonction `roots_legendre` et votre fonction `poids_gauss` pour quelques différentes valeurs de $ n $.  "
   ]
  },
  {
   "cell_type": "code",
   "execution_count": null,
   "metadata": {},
   "outputs": [],
   "source": []
  },
  {
   "cell_type": "code",
   "execution_count": null,
   "metadata": {},
   "outputs": [],
   "source": []
  },
  {
   "cell_type": "markdown",
   "metadata": {},
   "source": [
    "**Question 5.**\n",
    "> 1. Programmez une fonction `quad_gauss( f, x, n )` qui prend en argument une fonction `f` et un entier `n` et qui retourne la valeur approchée de $I$ obtenue par la formule de quadrature de Gauss à $ n $ points.\n",
    "> 2. Pour $ n = 6 $ vérifier numériquement que la formule de quadratue de Gauss à $ n $ points est précise de degré $ 2n -1 $."
   ]
  },
  {
   "cell_type": "code",
   "execution_count": null,
   "metadata": {},
   "outputs": [],
   "source": []
  },
  {
   "cell_type": "code",
   "execution_count": null,
   "metadata": {},
   "outputs": [],
   "source": []
  },
  {
   "cell_type": "markdown",
   "metadata": {},
   "source": [
    "**Question 6.**\n",
    "> 1. Comparez la valeur approchée de $I$ obtenue à l'aide de la fonction `quad_gauss` avec sa valeur exacte pour des différents nombres de points $n = 1, 2, \\ldots, 13$. Que se passe-t-il quand $n$ augmente ?\n",
    "> 2. Tracez le logarithme d'erreur entre l'intégrale approchée et la valeur exacte en fonction de $n$. Que observez-vous?"
   ]
  },
  {
   "cell_type": "markdown",
   "metadata": {},
   "source": [
    "**Question 7.**\n",
    "> Pour les méthodes composées du rectangles, du trapèze et de Simpson tracez sur le meme graphique le logarithme d'erreur entre l'intégrale approchée et la valeur exacte en fonction de $n$, où $ n $ est le nombre de points utilisés pour intégrer la fonction $ f $. Commentez. "
   ]
  },
  {
   "cell_type": "code",
   "execution_count": null,
   "metadata": {},
   "outputs": [],
   "source": []
  },
  {
   "cell_type": "code",
   "execution_count": null,
   "metadata": {},
   "outputs": [],
   "source": []
  },
  {
   "cell_type": "code",
   "execution_count": null,
   "metadata": {},
   "outputs": [],
   "source": []
  }
 ],
 "metadata": {
  "kernelspec": {
   "display_name": "Python 3 (ipykernel)",
   "language": "python",
   "name": "python3"
  },
  "language_info": {
   "codemirror_mode": {
    "name": "ipython",
    "version": 3
   },
   "file_extension": ".py",
   "mimetype": "text/x-python",
   "name": "python",
   "nbconvert_exporter": "python",
   "pygments_lexer": "ipython3",
   "version": "3.10.8"
  },
  "toc": {
   "base_numbering": 1,
   "nav_menu": {},
   "number_sections": true,
   "sideBar": true,
   "skip_h1_title": false,
   "title_cell": "Table of Contents",
   "title_sidebar": "Contents",
   "toc_cell": false,
   "toc_position": {},
   "toc_section_display": true,
   "toc_window_display": false
  },
  "varInspector": {
   "cols": {
    "lenName": 16,
    "lenType": 16,
    "lenVar": 40
   },
   "kernels_config": {
    "python": {
     "delete_cmd_postfix": "",
     "delete_cmd_prefix": "del ",
     "library": "var_list.py",
     "varRefreshCmd": "print(var_dic_list())"
    },
    "r": {
     "delete_cmd_postfix": ") ",
     "delete_cmd_prefix": "rm(",
     "library": "var_list.r",
     "varRefreshCmd": "cat(var_dic_list()) "
    }
   },
   "types_to_exclude": [
    "module",
    "function",
    "builtin_function_or_method",
    "instance",
    "_Feature"
   ],
   "window_display": false
  }
 },
 "nbformat": 4,
 "nbformat_minor": 2
}
