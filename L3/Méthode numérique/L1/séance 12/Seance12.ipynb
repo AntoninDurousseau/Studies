{
 "cells": [
  {
   "cell_type": "markdown",
   "id": "243ab014",
   "metadata": {},
   "source": [
    "Merci de **ne pas modifier** le nom de ce notebook (même pour y inclure son nom).\n",
    "\n",
    "Quelques conseils:\n",
    "- pour exécutez une cellule, cliquez sur le bouton *Exécuter* ci-dessus ou tapez **Shift+Enter**\n",
    "- si l'exécution d'une cellule prend trop de temps, sélectionner dans le menu ci-dessus *Noyau/Interrompre*\n",
    "- en cas de très gros plantage *Noyau/Redémarrer*\n",
    "- **sauvegardez régulièrement vos réponses** en cliquant sur l'icone disquette ci-dessus à gauche, ou *Fichier/Créer une nouvelle sauvegarde*\n",
    "\n",
    "----------------------------------------------------------------------------"
   ]
  },
  {
   "cell_type": "markdown",
   "id": "6655d1fd",
   "metadata": {
    "deletable": false,
    "editable": false,
    "nbgrader": {
     "cell_type": "markdown",
     "checksum": "ffafbdf61050e5e213dddfc195fc8d81",
     "grade": false,
     "grade_id": "cell-d05781b67b46aa72",
     "locked": true,
     "schema_version": 3,
     "solution": false,
     "task": false
    }
   },
   "source": [
    "# Séance 12 : révisions\n",
    "\n",
    "La séance 12 est une séance de révisions. Vous pouvez prendre le temps de finir les TD précédents, poser vos questions à vos enseignants. Les corrections des TD précédents sont ici :\n",
    "\n",
    "https://methnum.gitlab.dsi.universite-paris-saclay.fr/L1/\n",
    "\n",
    "Les trois exercices suivants formaient l'examen de méthodes numériques de l'an dernier, qui durait 3h avec accès à internet. Ils abordent l'essentiel des notions abordées pendant l'année.\n",
    "\n",
    "**PLAN :**\n",
    "- Exercice 1 : trajectoires ballistiques (24 points : boucles, graphiques)\n",
    "- Exercice 2 : dégénérescence radioactive (15 points : algorithmique, nombres aléatoires, ajustement de paramètres)\n",
    "- Exercice 3 : primitive d'une fonction (8 points : intégration numérique)\n",
    "- Qualité du code : 3 points (commentaires, variables avec noms explicites, utilisation de tableaux `numpy` à la place de boucles lorsque c'est pertinent)"
   ]
  },
  {
   "cell_type": "markdown",
   "id": "2a4e6bed",
   "metadata": {
    "deletable": false,
    "editable": false,
    "nbgrader": {
     "cell_type": "markdown",
     "checksum": "76414dc61c91ee9bc05db387cba8fdba",
     "grade": false,
     "grade_id": "cell-ffcc956aca27b822",
     "locked": true,
     "schema_version": 3,
     "solution": false,
     "task": false
    }
   },
   "source": [
    "## Exercice 1: Trajectoires ballistiques (24 points)\n",
    "\n",
    "On étudie les trajectoires d'une masse $m$ ponctuelle lancée avec un angle $\\alpha$ par rapport à l'horizontale. La masse n'est soumise qu'à son propre poids $\\vec{P} = -mg \\vec{j}$ où $g = 9.81 \\ {\\rm m \\cdot s^{-2}}$. On localise la masse à l'aide d'un vecteur position $\\vec{OM} = x(t) \\vec{i} + y(t) \\vec{j} $ et $\\vec{v} = v_x (t)\\vec{i} + v_y(t) \\vec{j}$ est son vecteur vitesse. Les coordonnées $x(t)$ (distance de tir) et $y(t)$ (hauteur de tir) sont solutions de l'équation de Newton\n",
    "\n",
    "$$\n",
    "\\left \\{\n",
    "\\begin{array}{rcl}\n",
    "m \\ddot{x}&=& 0 \\\\ \n",
    "m \\ddot{y}  &=& - m g  \n",
    "\\end{array} \\right .\n",
    "$$\n",
    "\n",
    "A l'instant initial $t=0$, on place la masse initiale à l'origine et : $x(0) = y (0) = 0$. Le vecteur vitesse initial vaut $\\vec{v} (0) = v_0 \\cos \\alpha \\ \\vec{i} + v_0 \\cos \\alpha \\ \\vec{j} $ avec $v_0$ connue et $\\alpha \\in [0,\\pi/2]$ radians. **Dans l'exercice, on utilisera systématiquement des radians.** Les équations horaires, solutions de ce problème sont \n",
    "\n",
    "$$\n",
    "\\left \\{\n",
    "\\begin{array}{rcl}\n",
    "x(t)& =& (v_0 \\cos \\alpha) \\ t \\\\\n",
    "y(t)& = & (v_0 \\sin\\alpha)\\ t - \\dfrac{g t^2}{2}\n",
    "\\end{array} \\right .\n",
    "$$\n",
    "\n",
    "On note  $t_{sol}$, le temps d'impact le temps pour lequel la masse retouche le sol : \n",
    "$$y(t_{sol})=0 \\Leftrightarrow t_{sol} = \\dfrac{2 v_0 \\sin \\alpha}{g}$$"
   ]
  },
  {
   "cell_type": "markdown",
   "id": "44c5db8e",
   "metadata": {
    "deletable": false,
    "editable": false,
    "nbgrader": {
     "cell_type": "markdown",
     "checksum": "95dd75505edbf4670448b3540b6ba106",
     "grade": false,
     "grade_id": "cell-d45508bcf5f76cb4",
     "locked": true,
     "schema_version": 3,
     "solution": false,
     "task": false
    }
   },
   "source": [
    "Dans la cellule suivante, on importe les librairies nécessaires et on fixe $g$, pour toute la suite. **Exécutez la cellule suivante :**"
   ]
  },
  {
   "cell_type": "code",
   "execution_count": 1,
   "id": "a9d94a5f",
   "metadata": {
    "deletable": false,
    "editable": false,
    "nbgrader": {
     "cell_type": "code",
     "checksum": "0b086fe12a1e1129e7f0504f4015d431",
     "grade": false,
     "grade_id": "cell-20e8eefcab710865",
     "locked": true,
     "schema_version": 3,
     "solution": false,
     "task": false
    }
   },
   "outputs": [],
   "source": [
    "# une fois pour toutes, nous allons charger NumPy et Matplotlib\n",
    "#\n",
    "# n'oubliez pas d'évaluer à nouveau cette cellule si vous redémarrez le noyau\n",
    "#\n",
    "import numpy as np\n",
    "import matplotlib.pyplot as plt\n",
    "g=9.81 # en m.s^(-2)"
   ]
  },
  {
   "cell_type": "markdown",
   "id": "b94bc7fc",
   "metadata": {
    "deletable": false,
    "editable": false,
    "nbgrader": {
     "cell_type": "markdown",
     "checksum": "4e181c2333fcf5603acef78d36f7c836",
     "grade": false,
     "grade_id": "cell-adff8a04e7fd0d7e",
     "locked": true,
     "points": 6,
     "schema_version": 3,
     "solution": false,
     "task": true
    }
   },
   "source": [
    "### a. Tracer la trajectoire \n",
    "\n",
    "1. Définir une fonction ```ballistique(alpha, v_0)``` qui prend en argument l'angle $\\alpha$ en **radians** et $v_0$ la vitesse initiale en ${\\rm m\\cdot s^{-1}}$, et affiche 100 points de la trajectoire $(x(t), y(t))$ de la masse $m$ dans le plan $x-y$, de $t=0$ à $t_{sol}$. On soignera la qualité du graphique : titre sur les axes, unités, titre ou légende avec les paramètres de la trajectoire (en degré si possible), etc.\n",
    "2. On suppose $v_0 = 10 \\ {\\rm m\\cdot s^{-1}}$. Tracer quatre trajectoires pour $\\alpha = (10, 20, 30, 45)\\times \\pi/180$, en appelant 4 fois votre fonction."
   ]
  },
  {
   "cell_type": "code",
   "execution_count": 2,
   "id": "18ce7398",
   "metadata": {
    "deletable": false,
    "nbgrader": {
     "cell_type": "code",
     "checksum": "d2df09573b66cbb36a46e1bc8d8d7753",
     "grade": false,
     "grade_id": "cell-1f534bda7da6d068",
     "locked": false,
     "schema_version": 3,
     "solution": true,
     "task": false
    }
   },
   "outputs": [
    {
     "data": {
      "image/png": "[encoded data removed]",
      "text/plain": [
       "<Figure size 432x288 with 1 Axes>"
      ]
     },
     "metadata": {
      "needs_background": "light"
     },
     "output_type": "display_data"
    }
   ],
   "source": [
    "def ballistique(alpha, v_0):\n",
    "    x = []\n",
    "    y = []\n",
    "    t_sol = (2*v_0*np.sin(alpha))/g\n",
    "    for i in np.linspace(0,t_sol,100):\n",
    "        x.append(v_0*np.cos(alpha)*i)\n",
    "        y.append(v_0*np.sin(alpha)*i-((g*pow(i,2))/2))\n",
    "    plt.plot(x,y)\n",
    "    plt.title('trajectoire ballistique')\n",
    "    plt.xlabel('longueur')\n",
    "    plt.ylabel('hauteur')\n",
    "    plt.grid(True)\n",
    "    plt.show\n",
    "\n",
    "ballistique(10*np.pi/180, 10)\n",
    "ballistique(20*np.pi/180, 10)\n",
    "ballistique(30*np.pi/180, 10)\n",
    "ballistique(45*np.pi/180, 10)\n",
    "ballistique(70*np.pi/180, 10)"
   ]
  },
  {
   "cell_type": "markdown",
   "id": "a4801ded",
   "metadata": {
    "deletable": false,
    "editable": false,
    "nbgrader": {
     "cell_type": "markdown",
     "checksum": "7ffc9bba4b5b0c8c04495631f5b7d732",
     "grade": false,
     "grade_id": "cell-d1a48e420d72ddd1",
     "locked": true,
     "schema_version": 3,
     "solution": false,
     "task": false
    }
   },
   "source": [
    "### b. Distance de tir\n",
    "\n",
    "La balle atteint une certaine distance $x_{sol}$ lorsqu'elle touche le sol au temps $t_{sol}$. \n",
    "\n",
    "1. Définir une fonction `distance_tir(alpha, v_0)` qui calcule et retourne la distance de tir $x_{sol}$, avec pour premier argument $\\alpha$ et second argument $v_0$."
   ]
  },
  {
   "cell_type": "code",
   "execution_count": null,
   "id": "957b45a6",
   "metadata": {
    "deletable": false,
    "nbgrader": {
     "cell_type": "code",
     "checksum": "cd7b03609b4378fe7bd3a81ac74ad4d7",
     "grade": false,
     "grade_id": "cell-2df59e925c1716d1",
     "locked": false,
     "schema_version": 3,
     "solution": true,
     "task": false
    }
   },
   "outputs": [],
   "source": [
    "def distance_tir(alpha, v_0):\n",
    "    x = []\n",
    "    xmax = 0\n",
    "    t_sol = (2*v_0*np.sin(alpha))/g\n",
    "    for i in np.linspace(0,t_sol,100):\n",
    "        x.append(v_0*np.cos(alpha)*i)\n",
    "    xmax = x[-1]\n",
    "    return xmax\n",
    "    \n",
    "print(distance_tir(10*np.pi/180, 10))\n",
    "print(distance_tir(20*np.pi/180, 10))\n",
    "print(distance_tir(30*np.pi/180, 10))\n",
    "print(distance_tir(45*np.pi/180, 10))\n",
    "print(distance_tir(70*np.pi/180, 10))"
   ]
  },
  {
   "cell_type": "markdown",
   "id": "cea0f162",
   "metadata": {
    "deletable": false,
    "editable": false,
    "nbgrader": {
     "cell_type": "markdown",
     "checksum": "dca461e30896c1e5440d3eaf171225fc",
     "grade": false,
     "grade_id": "cell-6a53021d1d316bc5",
     "locked": true,
     "schema_version": 3,
     "solution": false,
     "task": false
    }
   },
   "source": [
    "*La cellule suivante teste que vous avez bien répondu à la question en définissant une fonction `distance_tir(alpha, v_0)`. Pour s'en assurer exécutez la cellule, aucun message d'erreur ne doit apparaître.*"
   ]
  },
  {
   "cell_type": "code",
   "execution_count": null,
   "id": "a90defd7",
   "metadata": {
    "deletable": false,
    "editable": false,
    "nbgrader": {
     "cell_type": "code",
     "checksum": "805f77c314d750f71d0b35cfab0a9166",
     "grade": true,
     "grade_id": "cell-bd341dd734c1c12c",
     "locked": true,
     "points": 2,
     "schema_version": 3,
     "solution": false,
     "task": false
    }
   },
   "outputs": [],
   "source": [
    "assert 'distance_tir' in globals()\n",
    "print(distance_tir(np.pi/3, 10))"
   ]
  },
  {
   "cell_type": "markdown",
   "id": "99b9e6c4",
   "metadata": {
    "deletable": false,
    "editable": false,
    "nbgrader": {
     "cell_type": "markdown",
     "checksum": "9e60d6c056a45f78fe24a731b9da48a9",
     "grade": false,
     "grade_id": "cell-06543f3a3b1d51bd",
     "locked": true,
     "points": 3,
     "schema_version": 3,
     "solution": false,
     "task": true
    }
   },
   "source": [
    "2. Utiliser cette fonction pour faire un graphe qui montre l'évolution de la distance de tir en fonction de $\\alpha \\in [0,\\pi/2]$ (100 valeurs) pour $v_0 = 10 \\ {\\rm m\\cdot s^{-1}}$. De même, on soignera la qualité du graphique."
   ]
  },
  {
   "cell_type": "code",
   "execution_count": null,
   "id": "1193925a",
   "metadata": {
    "deletable": false,
    "nbgrader": {
     "cell_type": "code",
     "checksum": "8578612cdc526bb200e3c96e0f7ff394",
     "grade": false,
     "grade_id": "cell-5272fdfbc0eb2f6e",
     "locked": false,
     "schema_version": 3,
     "solution": true,
     "task": false
    }
   },
   "outputs": [],
   "source": [
    "alpha = np.linspace(0,np.pi/2,100)\n",
    "\n",
    "plt.figure()\n",
    "plt.plot(alpha,distance_tir(alpha,10),label = 'distance de tir')\n",
    "plt.title('Distance de tir en fonction de l\\'angle alpha')\n",
    "plt.xlabel('valeur de alpha')\n",
    "plt.ylabel('distance de tir')\n",
    "plt.legend()\n",
    "plt.grid(True)\n",
    "plt.show()"
   ]
  },
  {
   "cell_type": "markdown",
   "id": "e0712a44",
   "metadata": {
    "deletable": false,
    "editable": false,
    "nbgrader": {
     "cell_type": "markdown",
     "checksum": "5a7d0f986adced936f5db6895df3aed5",
     "grade": false,
     "grade_id": "cell-db02bd02a123927e",
     "locked": true,
     "schema_version": 3,
     "solution": false,
     "task": false
    }
   },
   "source": [
    "3. Que vaut la distance de tir maximale pour ce $v_0$? Exécuter votre fonction et donner la réponse à l'aide d'un `print()` bien écrit (phrase, unités, etc.)"
   ]
  },
  {
   "cell_type": "code",
   "execution_count": null,
   "id": "801ec513",
   "metadata": {
    "deletable": false,
    "nbgrader": {
     "cell_type": "code",
     "checksum": "e3d1383f8edda22f5b99abe11a1637db",
     "grade": true,
     "grade_id": "cell-19a77010550a8766",
     "locked": false,
     "points": 1,
     "schema_version": 3,
     "solution": true,
     "task": false
    }
   },
   "outputs": [],
   "source": [
    "print('La distance maximale de tir est de',max(distance_tir(alpha,10)),'m')"
   ]
  },
  {
   "cell_type": "markdown",
   "id": "5e5b49ec",
   "metadata": {
    "deletable": false,
    "editable": false,
    "nbgrader": {
     "cell_type": "markdown",
     "checksum": "886f6b3ee756d5da113b26f44c0de1d4",
     "grade": false,
     "grade_id": "cell-6d5731977575aa4f",
     "locked": true,
     "schema_version": 3,
     "solution": false,
     "task": false
    }
   },
   "source": [
    "### c. Calcul de l'angle de tir \n",
    "\n",
    "On suppose par la suite une balle dont la vitesse initiale vaut $v_0 = 200 \\ { \\rm m\\cdot s^{-1}}$. On souhaite savoir sous quelle angle il faut tirer, pour atteindre une cible placée à distance horizontale $x=L$ de l'origine et à hauteur $y=H$. Premièrement, on remarque qu'un impact ne pourra que se réaliser si $L < \\mbox{max} (x_{sol})$. Si cette condition est satisfaite, alors il existe une solution donnée par :\n",
    "\n",
    "$$\n",
    "\\left \\{ \\begin{array}{rcl}\n",
    "L& =& v_0 \\cos (\\alpha) t_* \\\\\n",
    "H & = & v_0 \\sin (\\alpha) t_* - \\dfrac{g t_*^2}{2}\n",
    "\\end{array} \\right .\n",
    "$$\n",
    "\n",
    "En éliminant le temps d'impact $t_*$ de ce système on trouve une équation algébrique qui définit l'angle de tir $\\alpha$ étant donné les paramètres $L$ et $H$. L'égalité suivante doit être satisfaite :\n",
    "\n",
    "$$\n",
    "f_{*} ( \\alpha,v_0,H,L) = H \\cos^2 \\alpha - L \\sin \\alpha \\cos \\alpha + \\dfrac{g L^2}{2 v_0^2} = \\dfrac{1}{2} \\left ( H + H \\cos 2 \\alpha - L \\sin 2 \\alpha + \\dfrac{g L^2 }{v_0^2} \\right ) = 0\n",
    "$$\n",
    "\n",
    "L'équation a été simplifiée utilisant $\\cos^2 \\alpha = (1+ \\cos 2 \\alpha)/2$ et $\\sin \\alpha \\cos \\alpha = (\\sin 2 \\alpha )/2$, mais malgré celà, ça ne semble pas si facile de trouver l'angle de tir $\\alpha$, solution de cette équation. \n",
    "\n",
    "La méthode de Newton est une méthode numérique qui permet de trouver la racine $\\alpha$ solution de l'équation en quelques itérations. Cette méthode de Newton a besoin de la dérivée de la fonction $f_{*}$ par rapport à $\\alpha$ qui est tout simplement\n",
    "\n",
    "$$\n",
    "f'_{*} ( \\alpha,v_0,H,L) = - H \\sin 2 \\alpha - L \\cos 2 \\alpha \n",
    "$$\n",
    "\n",
    "\n",
    "1. Définir ci dessous les deux fonctions ```f(alpha,v_0,H,L) ``` et ```fprime(alpha,v_0,H,L)``` qui à la réception des arguments $\\alpha,v_0,H,L$, **dans cet ordre et avec les unités du problème**,  retournent la valeur de ces fonctions."
   ]
  },
  {
   "cell_type": "code",
   "execution_count": null,
   "id": "839c570f",
   "metadata": {
    "deletable": false,
    "nbgrader": {
     "cell_type": "code",
     "checksum": "263400f5f61bf593d79cb45a5730512e",
     "grade": false,
     "grade_id": "cell-70fc81d430c3b14d",
     "locked": false,
     "schema_version": 3,
     "solution": true,
     "task": false
    }
   },
   "outputs": [],
   "source": [
    "def f(alpha, v_0, H, L):\n",
    "    p = (1/2)*(H + H*np.cos(2*alpha) - L*np.sin(2*alpha) + ((g*pow(L,2))/(pow(v_0,2))))\n",
    "    return p\n",
    "\n",
    "def fprime(alpha, v_0, H, L):\n",
    "    p_prime = -H * np.sin(2 * alpha) - L * np.cos(2 * alpha)\n",
    "    return p_prime\n",
    "    \n",
    "                                        \n",
    "print(f(np.pi/10, 200, 10, 200))"
   ]
  },
  {
   "cell_type": "code",
   "execution_count": null,
   "id": "9b894bdc",
   "metadata": {
    "deletable": false,
    "editable": false,
    "nbgrader": {
     "cell_type": "code",
     "checksum": "6448d6c22907cc1d4c7bb0969b7bddb9",
     "grade": true,
     "grade_id": "cell-33e997ba038ab8fc",
     "locked": true,
     "points": 2,
     "schema_version": 3,
     "solution": false,
     "task": false
    }
   },
   "outputs": [],
   "source": [
    "assert 'f' in globals()\n",
    "assert 'fprime' in globals()"
   ]
  },
  {
   "cell_type": "markdown",
   "id": "0d1b687a",
   "metadata": {
    "deletable": false,
    "editable": false,
    "nbgrader": {
     "cell_type": "markdown",
     "checksum": "4f3f4b1b7ff69ab46a8f2a158e14f60b",
     "grade": false,
     "grade_id": "cell-bed8471458e9bf29",
     "locked": true,
     "points": 3,
     "schema_version": 3,
     "solution": false,
     "task": true
    }
   },
   "source": [
    "L'algorithme de Newton consiste en l'itération du schéma suivant. Soit $\\alpha_0$ une estimation initiale de l'angle de tir. En itérant sur la suite définie par récurrence :\n",
    "\n",
    "$$\n",
    "\\alpha_{n+1} = \\alpha_n - \\frac{f  (\\alpha_n,v_0,H,L)}{f'(\\alpha_{n},v_0,H,L)} \\quad, \\quad n=0,1,2,\\ldots \n",
    "$$\n",
    "\n",
    "on peut trouver l'angle de tir $\\alpha_*$ solution de l'équation $f_{*} (\\alpha_*,v_0,H,L) = 0$.  \n",
    "\n",
    "2. Dans la cellule suivante, compléter la fonction `newton(alpha, v_0, H, L, N)` par une boucle qui calcule les N premièrs éléments de la suite $\\left\\lbrace\\alpha_n\\right\\rbrace$. Stocker et retourner les valeurs de $\\alpha$ dans la liste `alpha_list`.\n",
    "\n",
    "3. On utilisera $\\alpha_0 = \\pi / 10$ comme première estimation. Pour $v_0 =200 \\ {\\rm m s^{-1}}$, $H=10 \\ {\\rm m}$, $L=200 \\ {\\rm m}$, afficher graphiquement la suite $[\\alpha_{0}, \\alpha_{1}, \\ldots, , \\alpha_{10} ]$ en fonction de $n=0,1,\\ldots,10$ ($N=10$). \n",
    "4. Si votre code numérique est correct, vous devez observer une convergence très rapide de $\\alpha_n$ vers l'angle de tir $\\alpha_* \\approx 0.0745 $ solution du problème. Vérifier ce résultat en affichant le dernier élément de la suite, $\\alpha_{10}$."
   ]
  },
  {
   "cell_type": "code",
   "execution_count": null,
   "id": "918bfc43",
   "metadata": {
    "deletable": false,
    "nbgrader": {
     "cell_type": "code",
     "checksum": "21c50610e4b3e9ab74293ded0ca19dee",
     "grade": false,
     "grade_id": "cell-b770b8ade23cd7e4",
     "locked": false,
     "schema_version": 3,
     "solution": true,
     "task": false
    }
   },
   "outputs": [],
   "source": [
    "def newton(alpha, v_0, H, L, N):\n",
    "    alpha_list=[]\n",
    "    alpha_list.append(alpha)\n",
    "    for i in range(N):\n",
    "        alpha = alpha - f(alpha,v_0,H,L)/fprime(alpha, v_0, H, L)\n",
    "        alpha_list.append(alpha)\n",
    "    plt.figure()\n",
    "    plt.plot(alpha_list,label = 'alpha')\n",
    "    plt.title('valeur de alpha pour atteindre la cible')\n",
    "    plt.xlabel('alpha (en rad)')\n",
    "    plt.ylabel('nombre de boucle')\n",
    "    plt.legend()\n",
    "    plt.grid()\n",
    "    plt.show\n",
    "    return alpha_list\n",
    "\n",
    "\n",
    "print(newton(np.pi/10,200,10,200,10))"
   ]
  },
  {
   "cell_type": "code",
   "execution_count": null,
   "id": "98f421a7",
   "metadata": {
    "deletable": false,
    "editable": false,
    "nbgrader": {
     "cell_type": "code",
     "checksum": "e95e3406da88393e1ba6c73cd0f57063",
     "grade": true,
     "grade_id": "cell-2d65b972a00f871b",
     "locked": true,
     "points": 3,
     "schema_version": 3,
     "solution": false,
     "task": false
    }
   },
   "outputs": [],
   "source": [
    "assert 'newton' in globals()"
   ]
  },
  {
   "cell_type": "markdown",
   "id": "d63e2a4c",
   "metadata": {
    "deletable": false,
    "editable": false,
    "nbgrader": {
     "cell_type": "markdown",
     "checksum": "006c553d736939095cc88241e184cf92",
     "grade": false,
     "grade_id": "cell-77540d8664531110",
     "locked": true,
     "points": 4,
     "schema_version": 3,
     "solution": false,
     "task": true
    }
   },
   "source": [
    "5. Afin de se convaincre que cet angle est correct, afficher graphiquement la trajectoire de la balle pour ce $\\alpha_*$, de l'origine jusqu'à la cible. Vous pouvez recycler les instructions de la fonction `ballistique` de la partie a) mais en prenant en considération que la cible sera atteinte au temps $t_* = L /(v_0 \\cos \\alpha_*)$. Afficher la trajectoire en bleu, et la position de la cible à l'aide d'un markeur 'o'."
   ]
  },
  {
   "cell_type": "code",
   "execution_count": null,
   "id": "fd607411",
   "metadata": {
    "deletable": false,
    "nbgrader": {
     "cell_type": "code",
     "checksum": "d08f92318552150e2a37544a20117fbf",
     "grade": false,
     "grade_id": "cell-33135fc3f3e484df",
     "locked": false,
     "schema_version": 3,
     "solution": true,
     "task": false
    }
   },
   "outputs": [],
   "source": [
    "def toucher(alpha, v_0,H,L):\n",
    "    x = []\n",
    "    y = []\n",
    "    t_etoile = L/(v_0*np.cos(alpha))\n",
    "    for i in np.linspace(0,t_etoile,100):\n",
    "        x.append(v_0*np.cos(alpha)*i)\n",
    "        y.append(v_0*np.sin(alpha)*i-((g*pow(i,2))/2))\n",
    "    plt.plot(x,y,label = 'trajectoire')\n",
    "    plt.scatter(200,10,marker ='o',s = 300,label ='cible',color = 'y')\n",
    "    plt.title('trajectoire ballistique')\n",
    "    plt.xlabel('longueur')\n",
    "    plt.ylabel('hauteur')\n",
    "    plt.legend()\n",
    "    plt.grid(True)\n",
    "    plt.show\n",
    "    \n",
    "    \n",
    "print(toucher(0.0745,200,10,200))"
   ]
  },
  {
   "cell_type": "markdown",
   "id": "b3cfeacc",
   "metadata": {
    "deletable": false,
    "editable": false,
    "nbgrader": {
     "cell_type": "markdown",
     "checksum": "b4d693db3703427f5b995f99e9a8bafe",
     "grade": false,
     "grade_id": "cell-0bad9f238184bdfb",
     "locked": true,
     "schema_version": 3,
     "solution": false,
     "task": false
    }
   },
   "source": [
    "## Exercice 2: Dégénérescence radio-active (15 points)\n",
    "\n",
    "Dans cet exercice, on utilise une méthode de Monte-Carlo pour simuler la dégénéresce radio-active d'un ensemble d'atomes. La figure suivante résume l'idée de cette simulation\n",
    "\n",
    "<img src=\"monte_carlo_rad.png\" width=\"500\">\n",
    "\n",
    "On démarre à l'instant $t=0$ avec un ensemble de $N$ (ici 9) atomes non dégénérés (points noirs), que l'on représente numériquement par des chiffres 1. On laisse défiler le temps par pas de $\\delta $ et à chaque nouvel instant, on calcule quelle est la nouvelle population d'atomes suivant la loi de transition suivante. Chaque atome possède une probabilité faible $\\lambda \\delta t$ de transiter vers un état dégénéré, et de devenir un 0 (points blancs). Le nombre $\\lambda$ s'appelle le taux de décroissance radio-active et il est directement lié au temps de demi-vie. Ainsi, pour la figure de ci-dessus, on observe une évolution  :\n",
    "\n",
    "$$\n",
    "\\begin{array}{lcl}\n",
    "t= 0 &, & [1, 1, 1, 1, 1, 1, 1, 1, 1]  \\quad \\Rightarrow \\quad \\mbox{N_restant} = 9  \\\\\n",
    "t=dt &, & [1, 0, 1, 1, 1, 1, 1, 1, 1] \\quad \\Rightarrow \\quad \\mbox{N_restant} = 8 \\\\\n",
    "t=2dt&, & [1, 0, 1, 1, 1, 0, 1, 1, 1]\\quad \\Rightarrow \\quad \\mbox{N_restant} = 7 \\\\\n",
    "t=3dt&, & [1, 0, 1, 0, 1, 0, 1, 1, 0] \\quad \\Rightarrow \\quad  \\mbox{N_restant} = 5 \\\\\n",
    "\\ldots \\\\\n",
    "t= \\ldots &, & [0, 0, 0, 0, 0, 0, 0, 1, 0] \\quad \\Rightarrow \\quad  \\mbox{N_restant} = 1 \n",
    "\\end{array}\n",
    "$$\n",
    "\n",
    "dans la simulation numérique. Le but de l'exercice est de faire une fonction qui réalise cette simulation Monte-Carlo. L'algorithme détaillé est écrit ci-dessous :\n",
    "\n",
    "\n",
    "```\n",
    "0. définir N le nombre initial d'atomes, lambda le taux de transition, T la durée de la simulation, dt le pas de temps\n",
    "\n",
    "1. initialiser un vecteur d'état avec N chiffres 1. Ce vecteur contient l'état des N atomes representés par 1 (noir) ou 0 (blanc).\n",
    "\n",
    "2. ajouter la valeur N à une liste N_restant. Ajouter 0 à une liste temps. Ces deux listes contiendront le nombre d'atomes non-dégénérés restants à instant t et la liste des temps. \n",
    "\n",
    "3. pour t de 0 à T par pas de dt\n",
    "    \n",
    "     a. pour atome i = 0 a atome i = N-1 inclus\n",
    "    \n",
    "          i.  on tire un nombre aléatoire r, uniformément distribué entre 0 et 1\n",
    "          ii. si r< lambda*dt  \n",
    "              \n",
    "              l'atome i du vecteur d'état devient 0 (transition)\n",
    "                           \n",
    "     b. on compte le nombre d'atomes non-dégénérés restants, comme la somme \n",
    "        du vecteur d'état. Ajouter ce nombre à la liste N_restant. Ajouter également \n",
    "        l'instant t actuel à la liste temps.    \n",
    "\n",
    "4. retourner les listes N_restants et temps. \n",
    "\n",
    "```"
   ]
  },
  {
   "cell_type": "markdown",
   "id": "3e9b1e76",
   "metadata": {
    "deletable": false,
    "editable": false,
    "nbgrader": {
     "cell_type": "markdown",
     "checksum": "f9684a45af67378a05e65ecb38db1679",
     "grade": false,
     "grade_id": "cell-a4e1f0e63181a98c",
     "locked": true,
     "points": 2,
     "schema_version": 3,
     "solution": false,
     "task": true
    }
   },
   "source": [
    "### a. Fonction qui encode l'algorithme\n",
    "\n",
    "Copier le programme suivant dans la cellule suivante, et le compléter pour pouvoir réaliser la simulation Monte-Carlo. \n",
    "\n",
    "*Rq: à la fin du programme, les tableaux sont convertis sous forme numpy pour pouvoir calculer avec par la suite.*"
   ]
  },
  {
   "cell_type": "code",
   "execution_count": null,
   "id": "67dba5c9",
   "metadata": {
    "deletable": false,
    "editable": false,
    "nbgrader": {
     "cell_type": "code",
     "checksum": "e83c4a9b8b09b7e65444fffcdd116f37",
     "grade": false,
     "grade_id": "cell-b2404be08108055d",
     "locked": true,
     "schema_version": 3,
     "solution": false,
     "task": false
    }
   },
   "outputs": [],
   "source": [
    "import numpy as np\n",
    "import matplotlib.pyplot as plt\n",
    "\n",
    "def degen(N, lam, T, dt):\n",
    "  \n",
    "    #1. initialiser le vecteur d'état\n",
    "    etat = ...\n",
    "\n",
    "    #2. ajouter la valeur N à un tableau N_restant \n",
    "    N_restant = []\n",
    "    N_restant.append(N)\n",
    "    temps = []\n",
    "    temps.append(0)\n",
    "\n",
    "    #3. boucle \n",
    "    for ...\n",
    "\n",
    "        #a. boucle\n",
    "        for ...\n",
    "            #i. tirer nombre aleatoire\n",
    "            ...\n",
    "            #ii. test\n",
    "            if ...\n",
    "            \n",
    "        \n",
    "        #b. ajouter le nombre d'atomes restant, le temps \n",
    "        N_restant.append(...)\n",
    "        temps.append(...)\n",
    "    \n",
    "    #4. retourner N_restant en fonction du temps, converti en tableau numpy\n",
    "    temps = np.array(temps)\n",
    "    N_restant = np.array(N_restant)\n",
    "    return temps, N_restant"
   ]
  },
  {
   "cell_type": "code",
   "execution_count": null,
   "id": "fdab3486",
   "metadata": {
    "deletable": false,
    "nbgrader": {
     "cell_type": "code",
     "checksum": "1b5a40575192d0d94c10f2d3e138e668",
     "grade": false,
     "grade_id": "cell-aec16fa2b45e02e5",
     "locked": false,
     "schema_version": 3,
     "solution": true,
     "task": false
    }
   },
   "outputs": [],
   "source": [
    "#LA REPONSE ICI"
   ]
  },
  {
   "cell_type": "code",
   "execution_count": null,
   "id": "3d44b348",
   "metadata": {
    "deletable": false,
    "editable": false,
    "nbgrader": {
     "cell_type": "code",
     "checksum": "364ae96bdaf289c173bd328775fda0e7",
     "grade": true,
     "grade_id": "cell-c75f90fe0c786a82",
     "locked": true,
     "points": 4,
     "schema_version": 3,
     "solution": false,
     "task": false
    }
   },
   "outputs": [],
   "source": [
    "assert 'degen' in globals()\n",
    "print(degen(200, 0, 10, 0.5))"
   ]
  },
  {
   "cell_type": "markdown",
   "id": "a61a6e2d",
   "metadata": {
    "deletable": false,
    "editable": false,
    "nbgrader": {
     "cell_type": "markdown",
     "checksum": "4e47996a8931e0a1cf37b5031d59cea1",
     "grade": false,
     "grade_id": "cell-5b8ad00cdafe0d37",
     "locked": true,
     "points": 3,
     "schema_version": 3,
     "solution": false,
     "task": true
    }
   },
   "source": [
    "### b. Lancer la simulation et visualisation du résultat\n",
    "\n",
    "Dans la cellule suivante, exécuter la fonction `degen` pour le jeu de paramètres\n",
    "\n",
    "$$\n",
    "N = 100, \\quad \\lambda=0.01, \\quad T=1000, \\quad dt = 0.1\n",
    "$$\n",
    "\n",
    "Faire un graphique représentant `N_restant` en fonction du temps, et superposer sur le même graphe, la loi théorique :\n",
    "$$\n",
    "N_{restants} = N e^{-\\lambda t} \n",
    "$$"
   ]
  },
  {
   "cell_type": "code",
   "execution_count": null,
   "id": "4387a153",
   "metadata": {
    "deletable": false,
    "nbgrader": {
     "cell_type": "code",
     "checksum": "e06325891d392178f1869f81cf5f9bcc",
     "grade": false,
     "grade_id": "cell-c0fb1337f6ad79ee",
     "locked": false,
     "schema_version": 3,
     "solution": true,
     "task": false
    }
   },
   "outputs": [],
   "source": [
    "#LA REPONSE ICI"
   ]
  },
  {
   "cell_type": "markdown",
   "id": "e519c577",
   "metadata": {
    "deletable": false,
    "editable": false,
    "nbgrader": {
     "cell_type": "markdown",
     "checksum": "595b4b2ffb4af7dac4abe91cb4eba472",
     "grade": false,
     "grade_id": "cell-98c2d4636ff1682c",
     "locked": true,
     "schema_version": 3,
     "solution": false,
     "task": false
    }
   },
   "source": [
    "### c. Ajustement des données\n",
    "\n",
    "Dans cette section, on ajuste une exponentielle $N \\exp (- \\lambda t)$ à des données issues de la précédente simulation Monte-Carlo. Si vous n'avez pas réussi la partie précédente, vous pouvez charger les données issues d'une simulation que nous avons faite à l'aide des instructions suivantes à recopier dans une nouvelle cellule :\n",
    "\n",
    "```\n",
    "ob=open('data_MC.csv','r')\n",
    "q=np.loadtxt(ob)\n",
    "temps=q[:,0]\n",
    "N_restant=q[:,1]\n",
    "```\n",
    "1. Dans la cellule suivante, programmer une fonction ```loi_exp(t,N,lam)``` qui retourne la valeur $N \\exp (-\\lambda t)$."
   ]
  },
  {
   "cell_type": "code",
   "execution_count": null,
   "id": "2f97cd8d",
   "metadata": {
    "deletable": false,
    "nbgrader": {
     "cell_type": "code",
     "checksum": "10b0e5320a84470eda30e6584d76852f",
     "grade": false,
     "grade_id": "cell-c3a2baa51f1cb302",
     "locked": false,
     "schema_version": 3,
     "solution": true,
     "task": false
    }
   },
   "outputs": [],
   "source": [
    "def loi_exp(t,N,lam):\n",
    "    #LA REPONSE ICI"
   ]
  },
  {
   "cell_type": "code",
   "execution_count": null,
   "id": "bcc2caf7",
   "metadata": {
    "deletable": false,
    "editable": false,
    "nbgrader": {
     "cell_type": "code",
     "checksum": "d7f73877fc28c9714d189cf9ff9b55cf",
     "grade": true,
     "grade_id": "cell-9357e53274d8e675",
     "locked": true,
     "points": 1,
     "schema_version": 3,
     "solution": false,
     "task": false
    }
   },
   "outputs": [],
   "source": [
    "assert 'loi_exp' in globals()"
   ]
  },
  {
   "cell_type": "markdown",
   "id": "50d29b5c",
   "metadata": {
    "deletable": false,
    "editable": false,
    "nbgrader": {
     "cell_type": "markdown",
     "checksum": "8138a424b22d1a6b0643eb2a4b99306f",
     "grade": false,
     "grade_id": "cell-aa7bad9fe13f5b82",
     "locked": true,
     "points": 3,
     "schema_version": 3,
     "solution": false,
     "task": true
    }
   },
   "source": [
    "2. Ajuster cette fonction sur les données issues de la simulation monte-carlo à l'aide de la méthode [`curve_fit`](https://docs.scipy.org/doc/scipy/reference/generated/scipy.optimize.curve_fit.html) vues dans le TD7. Comme estimation initiale des paramètres on utilise $N=100$ et $\\lambda=0.01$ qui sont les valeurs utilisées lors de la simulation de Monte-Carlo. Est-ce que le fit trouve des valeurs de $N$ et $\\lambda$ proches?"
   ]
  },
  {
   "cell_type": "code",
   "execution_count": null,
   "id": "c3cb2d9b",
   "metadata": {
    "deletable": false,
    "nbgrader": {
     "cell_type": "code",
     "checksum": "5743b1ad03baea020a1228888ea788d9",
     "grade": false,
     "grade_id": "cell-1c948a12b9bb26ae",
     "locked": false,
     "schema_version": 3,
     "solution": true,
     "task": false
    }
   },
   "outputs": [],
   "source": [
    "#LA REPONSE ICI"
   ]
  },
  {
   "cell_type": "markdown",
   "id": "272f4cd3",
   "metadata": {
    "deletable": false,
    "editable": false,
    "nbgrader": {
     "cell_type": "markdown",
     "checksum": "d6f52019124eb59a5b10e2af751d4a5b",
     "grade": false,
     "grade_id": "cell-0c0fded4934b7e21",
     "locked": true,
     "points": 2,
     "schema_version": 3,
     "solution": false,
     "task": true
    }
   },
   "source": [
    "3. Afficher le fit ensemble avec les données Monte-Carlo."
   ]
  },
  {
   "cell_type": "code",
   "execution_count": null,
   "id": "2768ad47",
   "metadata": {
    "deletable": false,
    "nbgrader": {
     "cell_type": "code",
     "checksum": "c19387dba9dceaef21758526c5115cf4",
     "grade": false,
     "grade_id": "cell-349b6df008e3bbfc",
     "locked": false,
     "schema_version": 3,
     "solution": true,
     "task": false
    }
   },
   "outputs": [],
   "source": [
    "#LA REPONSE ICI"
   ]
  },
  {
   "cell_type": "markdown",
   "id": "32512102",
   "metadata": {
    "deletable": false,
    "editable": false,
    "nbgrader": {
     "cell_type": "markdown",
     "checksum": "3ad43e8dbf163cf566b1b62399360ec9",
     "grade": false,
     "grade_id": "cell-90fa1679afa57ddb",
     "locked": true,
     "schema_version": 3,
     "solution": false,
     "task": false
    }
   },
   "source": [
    "# Exercice 3 :  intégration numérique (8 points)\n",
    "\n",
    "On cherche à calculer la fonction primitive définie par l'intégrale :\n",
    "\n",
    "$$\n",
    "F (x) = \\int_0^x \\frac{\\mathrm{d} {x}'}{a {x'}^3 + b x' + c}  \n",
    "$$\n",
    "\n",
    "sur l'intervalle $x \\in [0,1]$. Ici  $a$, $b$ et $c$ sont trois paramètres réels. On utilisera la méthode des trapèzes pour évaluer cette intégrale. Cette méthode nécessite d'introduire un maillage $ x_i = i / N  \\quad, \\quad i=0,\\ldots,N $ avec $N$ suffisamment grand pour avoir une précision adéquate. On note $f(x_i) = f_i$ et $F (x_i) = F_i$. \n",
    "\n",
    "1. Faire une fonction ```prim_cal``` qui, à la réception de $a,b,c,N$ retourne trois tableaux :\n",
    "\n",
    "- le maillage ```x_tab``` de longueur N+1\n",
    "\n",
    "$$\n",
    "x_{tab}=[x_0,x_1,\\ldots, x_N]\n",
    "$$\n",
    "\n",
    "- l'intégrande ```f_tab```  de longueur N+1\n",
    "\n",
    "$$\n",
    "f_{tab}=[f_0,f_1,\\ldots, f_N]\n",
    "$$\n",
    "\n",
    "- et la fonction primitive ```F_tab``` de longueur N+1\n",
    "\n",
    "$$\n",
    "F_{tab}=[F_0,F_1,\\ldots, F_N]\n",
    "$$\n",
    "\n",
    "Par définition $F_0=0$. Pour calculer les éléments suivant, utiliser la formule des trapèzes vue en séance 8 :\n",
    "\n",
    "$$\n",
    "F_i = ...  (\\mbox{formule avec les variables    } x_{i-1},x_{i},f_{i-1},f_{i})\n",
    "$$\n",
    "\n",
    "pour $i=1,2,...,N$."
   ]
  },
  {
   "cell_type": "code",
   "execution_count": null,
   "id": "f89fd74b",
   "metadata": {
    "deletable": false,
    "nbgrader": {
     "cell_type": "code",
     "checksum": "a5481af0e6605385486fff02b6931e46",
     "grade": false,
     "grade_id": "cell-7a1786e3929b64d6",
     "locked": false,
     "schema_version": 3,
     "solution": true,
     "task": false
    }
   },
   "outputs": [],
   "source": [
    "def prim_cal(a, b, c, N):\n",
    "    #LA REPONSE ICI"
   ]
  },
  {
   "cell_type": "code",
   "execution_count": null,
   "id": "e499e38c",
   "metadata": {
    "deletable": false,
    "editable": false,
    "nbgrader": {
     "cell_type": "code",
     "checksum": "3bb5541353c2932304f87c956479edfb",
     "grade": true,
     "grade_id": "cell-287576aa2d7d0ed3",
     "locked": true,
     "points": 3,
     "schema_version": 3,
     "solution": false,
     "task": false
    }
   },
   "outputs": [],
   "source": [
    "assert 'prim_cal' in globals()\n",
    "\n",
    "N = 100\n",
    "x, f, F = prim_cal(1, 1, 1, N)\n",
    "assert len(x) == N+1\n",
    "assert len(f) == N+1\n",
    "assert len(F) == N+1\n",
    "assert F[0] == 0"
   ]
  },
  {
   "cell_type": "code",
   "execution_count": null,
   "id": "da4beb79",
   "metadata": {
    "deletable": false,
    "editable": false,
    "nbgrader": {
     "cell_type": "code",
     "checksum": "5a08167bde918db04b9c0c8d18dc7e9d",
     "grade": true,
     "grade_id": "cell-76980aef2cc2dec7",
     "locked": true,
     "points": 3,
     "schema_version": 3,
     "solution": false,
     "task": false
    }
   },
   "outputs": [],
   "source": [
    "assert 'prim_cal' in globals()"
   ]
  },
  {
   "cell_type": "markdown",
   "id": "7006ddb4",
   "metadata": {
    "deletable": false,
    "editable": false,
    "nbgrader": {
     "cell_type": "markdown",
     "checksum": "e62d73a417e3eea4ab4495fee8bedfe0",
     "grade": false,
     "grade_id": "cell-97e7f8178e8b8660",
     "locked": true,
     "points": 2,
     "schema_version": 3,
     "solution": false,
     "task": true
    }
   },
   "source": [
    "2. Représenter `f_tab` et `F_tab`en fonction de `x_tab`."
   ]
  },
  {
   "cell_type": "code",
   "execution_count": null,
   "id": "c32128b2",
   "metadata": {
    "deletable": false,
    "nbgrader": {
     "cell_type": "code",
     "checksum": "cc966cd65056b01481b4102a4fef9575",
     "grade": false,
     "grade_id": "cell-746731d1560afdf1",
     "locked": false,
     "schema_version": 3,
     "solution": true,
     "task": false
    }
   },
   "outputs": [],
   "source": [
    "#LA REPONSE ICI"
   ]
  },
  {
   "cell_type": "markdown",
   "id": "fe8b3842",
   "metadata": {
    "deletable": false,
    "editable": false,
    "nbgrader": {
     "cell_type": "markdown",
     "checksum": "ae6c7e6d087e861f2cc0e194b3c62339",
     "grade": false,
     "grade_id": "cell-a07d2225738f2b5b",
     "locked": true,
     "points": 3,
     "schema_version": 3,
     "solution": false,
     "task": true
    }
   },
   "source": [
    "## Qualité du code (3 points)\n",
    "\n",
    "- Le code est-il bien commenté ? \n",
    "- Les variables ont des noms explicites et clairs ? \n",
    "- J'utilise `numpy` plutôt que des listes lorsque je fais du calcul sur un vecteur ?"
   ]
  }
 ],
 "metadata": {
  "jupytext": {
   "formats": "ipynb,md:myst",
   "text_representation": {
    "extension": ".md",
    "format_name": "myst",
    "format_version": 0.13,
    "jupytext_version": "1.13.6"
   }
  },
  "kernelspec": {
   "display_name": "Python 3 (ipykernel)",
   "language": "python",
   "name": "python3"
  },
  "language_info": {
   "codemirror_mode": {
    "name": "ipython",
    "version": 3
   },
   "file_extension": ".py",
   "mimetype": "text/x-python",
   "name": "python",
   "nbconvert_exporter": "python",
   "pygments_lexer": "ipython3",
   "version": "3.9.7"
  },
  "toc": {
   "base_numbering": 1,
   "nav_menu": {},
   "number_sections": true,
   "sideBar": true,
   "skip_h1_title": false,
   "title_cell": "Table of Contents",
   "title_sidebar": "Contents",
   "toc_cell": false,
   "toc_position": {},
   "toc_section_display": true,
   "toc_window_display": false
  },
  "varInspector": {
   "cols": {
    "lenName": 16,
    "lenType": 16,
    "lenVar": 40
   },
   "kernels_config": {
    "python": {
     "delete_cmd_postfix": "",
     "delete_cmd_prefix": "del ",
     "library": "var_list.py",
     "varRefreshCmd": "print(var_dic_list())"
    },
    "r": {
     "delete_cmd_postfix": ") ",
     "delete_cmd_prefix": "rm(",
     "library": "var_list.r",
     "varRefreshCmd": "cat(var_dic_list()) "
    }
   },
   "types_to_exclude": [
    "module",
    "function",
    "builtin_function_or_method",
    "instance",
    "_Feature"
   ],
   "window_display": false
  }
 },
 "nbformat": 4,
 "nbformat_minor": 5
}
