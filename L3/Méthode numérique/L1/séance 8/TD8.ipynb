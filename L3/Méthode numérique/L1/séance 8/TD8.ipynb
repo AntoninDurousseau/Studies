{
 "cells": [
  {
   "cell_type": "markdown",
   "id": "6f3232b1",
   "metadata": {},
   "source": [
    "Merci de **ne pas modifier** le nom de ce notebook (même pour y inclure son nom).\n",
    "\n",
    "Quelques conseils:\n",
    "- pour exécutez une cellule, cliquez sur le bouton *Exécuter* ci-dessus ou tapez **Shift+Enter**\n",
    "- si l'exécution d'une cellule prend trop de temps, sélectionner dans le menu ci-dessus *Noyau/Interrompre*\n",
    "- en cas de très gros plantage *Noyau/Redémarrer*\n",
    "- **sauvegardez régulièrement vos réponses** en cliquant sur l'icone disquette ci-dessus à gauche, ou *Fichier/Créer une nouvelle sauvegarde*\n",
    "\n",
    "----------------------------------------------------------------------------"
   ]
  },
  {
   "cell_type": "markdown",
   "id": "b1aa3592",
   "metadata": {},
   "source": [
    "# TP8: Intégrales"
   ]
  },
  {
   "cell_type": "markdown",
   "id": "190e2184",
   "metadata": {},
   "source": [
    " Pour se mettre en jambes\n",
    "\n",
    "## Exercice 1: Méthode des trapèzes\n",
    "\n",
    "Avec la méthode des trapèzes, on approxime une intégrale par\n",
    "\n",
    "\n",
    "\\begin{equation}\n",
    "\\int_a^b f(x){\\rm d}x = h\\times\\left(\\frac{f_0}{2} + f_1 + f_2 + \\ldots + f_{n-1} + \\frac{f_{n}}{2}\\right) + O\\left(\\frac{(b-a)^3f''}{n^2}\\right)\n",
    "\\end{equation}\n",
    "\n",
    "\n",
    "où $x_i = a + i\\times h$, avec un pas $h=(b-a)/n$, $f_i=f(x_i)$ et n est le nombre d'intervalles ($n+1$ est donc le nombre de points entre $a$ et $b$).\n",
    "\n",
    "1. Définir une fonction $f$ simple que pouvez intégrer analytiquement (e.g. $f(x)=3x^2$) ainsi qu'une fonction $F$ qui est sa primitive.\n",
    "2. Définir un ```numpy``` array $x$ allant de 0 à 1 avec $n$ points également espacés (e.g. $n=100+1$ pour commencer) et le ```numpy``` array $f(x)$.\n",
    "3. Définir une fonction ```my_trapz``` qui calcule l'intégrale sur $x$ de $f(x)$ par la méthode des trapèzes, qui prend pour arguments les deux tableaux précédents. *Astuce : réécrire légèrement la formule ci dessus, utiliser la fonction ```sum``` de ```numpy``` et soustraire deux termes.*\n",
    "4. Comparer les résultats obtenus avec ```my_trapz``` et $F$, soit $F(1)-F(0)$\n",
    "5. Comparer au résultat obtenu avec la fonction ```trapz``` de ```scipy.integrate``` \n",
    "6. Tracer les résidus en pour-cent : |\"Intégrale my\\_trapz\" - \"Intégrale analytique\"|/\"Intégrale analytique\" en fonction du nombre $n$ de points utilisés. On écrira donc une boucle sur le nombre de points $n$. Par exemple $n$ peut prendre valeurs $2^k$ pour k variant de 1 à 10. Enfin, on pourra mettre la figure en échelle logarithmique avec les commandes ```plt.xscale('log')``` et ```plt.yscale('log')```.\n",
    "7. **(Optionnel)** Comment les résidus varient-ils en fonction de n ? Superposer la loi attendue, en la normalisant à un point obtenu à grand $n$."
   ]
  },
  {
   "cell_type": "code",
   "execution_count": null,
   "id": "36488a96",
   "metadata": {
    "deletable": false,
    "nbgrader": {
     "cell_type": "code",
     "checksum": "9a9e4d9d39f9d358155caee4defb2ffe",
     "grade": true,
     "grade_id": "cell-39f8ce24c30124a5",
     "locked": false,
     "points": 0,
     "schema_version": 3,
     "solution": true
    }
   },
   "outputs": [],
   "source": [
    "from scipy import integrate\n",
    "import numpy as np\n",
    "import matplotlib . pyplot as plt\n",
    "\n",
    "a = 0\n",
    "b = 1\n",
    "n = 100\n",
    "\n",
    "f = lambda x: 3*x**2\n",
    "F = lambda x: x**3\n",
    "\n",
    "x = np.linspace(a,b,n+1)\n",
    "y = f(x)\n",
    "\n",
    "def my_trapz(x,y):\n",
    "    h = (b-a)/n\n",
    "    liste_fx = []\n",
    "    for i in range(n+1):\n",
    "        liste_fx.append(f(a+i*h))\n",
    "    return h * np.sum(liste_fx)\n",
    "\n",
    "verif1 = False\n",
    "if F(b)-F(a) == my_trapz:\n",
    "    verif1 = True \n",
    "    \n",
    "    \n",
    "def Fx(f):\n",
    "    Fx = integrate.trapz(f , x)\n",
    "    return Fx\n",
    "\n",
    "verif2 = False\n",
    "if Fx == my_trapz:\n",
    "    verif2 = True \n",
    "    \n",
    "print (verif1,verif2)"
   ]
  },
  {
   "cell_type": "markdown",
   "id": "d219dfdf",
   "metadata": {},
   "source": [
    " Quelques applications"
   ]
  },
  {
   "cell_type": "markdown",
   "id": "90540355",
   "metadata": {},
   "source": [
    "## Exercice 2: Vitesse d'une flèche\n",
    "\n",
    "<img align=\"center\" src=\"plots/bow.png\" width=\"20%\" />\n",
    "\n",
    "| x (m) | 0.00 | 0.05 | 0.10 | 0.15 | 0.20 | 0.25 | 0.30 | 0.35 | 0.40 | 0.45 | 0.50  \n",
    "|---|---|---|---|---|---|---|---|---|---|---|---|\n",
    "| F (N) | 0 | 37 | 71 | 104 | 134 | 161 | 185 | 207 | 225 | 239 | 250  \n",
    "\n",
    "La force de traction appliquée à la corde d'un arc en fonction de l'allonge est donnée dans la table ci-dessus. Déterminer la vitesse d'une flèche de masse $m=0.075$\\,kg au moment du tir pour une allonge totale de $x_{\\rm max}=0.50$\\,m, en m/s puis en km/h.\n",
    "\n",
    "*Astuce : par conservation de l'énergie mécanique, l'énergie cinétique de la flèche $\\displaystyle{\\frac{1}{2}}mv^2$ est égale au travail du tireur sur la corde $\\displaystyle{\\int_0^{x_{\\rm max}} F(x){\\rm d}x}$.*"
   ]
  },
  {
   "cell_type": "code",
   "execution_count": null,
   "id": "97a7bc07",
   "metadata": {
    "deletable": false,
    "nbgrader": {
     "cell_type": "code",
     "checksum": "4a69be865c454e98c52f3dbc0a5c8494",
     "grade": true,
     "grade_id": "cell-2cac0802188f5ec5",
     "locked": false,
     "points": 0,
     "schema_version": 3,
     "solution": true
    }
   },
   "outputs": [],
   "source": [
    "from scipy import integrate\n",
    "import numpy as np\n",
    "import matplotlib . pyplot as plt\n",
    "\n",
    "x = np.arange(0.00,0.55,0.05)\n",
    "F = np.array([0,37,71,104,134,161,185,207,225,239,250])\n",
    "m = 0.075\n",
    "\n",
    "v = np.sqrt((2/m)*(integrate.trapz(F,x)))\n",
    "\n",
    "v_km = v * 3.6\n",
    "\n",
    "print(v,v_km)"
   ]
  },
  {
   "cell_type": "markdown",
   "id": "f11f3c9a",
   "metadata": {},
   "source": [
    "## Exercice 3: Intégrale Gaussienne\n",
    "Une distribution Gaussienne centrée sur zéro et de déviation standard est définie par : \n",
    "\n",
    "\\begin{equation}\n",
    "f(x) = C\\times \\exp\\left(\\frac{-(x-x_0)^2}{2\\sigma^2}\\right)\n",
    "\\end{equation}\n",
    "\n",
    "où $x_0=0$, $\\sigma=1$ et où la constante $C$ est fixée de sorte que l'intégrale de la Gaussienne de $-\\infty$ à $+\\infty$ soit égale à 1.\n",
    "\n",
    "1. Vérifier à l'aide d'une intégration par la méthode des trapèzes entre $[-a;a]$ où $a$ est un \"grand\" nombre que $C = 1/\\sqrt{2\\pi\\times\\sigma^2}$. On pourra utiliser cette valeur par la suite. *Astuce : afficher la distribution pour déterminer ce que \"grand'' veut dire ici.*\n",
    "2. Quelle est la fraction d'aire sous la courbe entre $[-1\\sigma,+1\\sigma]$ et entre  $[-3\\sigma,+3\\sigma]$?\n",
    "\n",
    "En physique des hautes énergies, on exprime la probabilité $p$ ($p$-value en anglais) qu'un événement de \"signal'' diffère des événements de \"bruit'' en nombre de \"$\\sigma$'' Gaussiens, à l'aide de la relation suivante :\n",
    "\n",
    "\n",
    "\\begin{equation}\n",
    "p = \\int_{n\\sigma}^\\infty f(x){\\rm d}x\n",
    "\\end{equation}\n",
    "\n",
    "\n",
    "On considère souvent qu'un signal vu à \"$3\\sigma$\" est une indication (\"hint\") , à \"$4\\sigma$\" est un élément de preuve (\"evidence'') , et à \"$5\\sigma$\" une détection formelle. Autrement dit, la probabilité $p$ mesure la probabilité qu'un évènement enregistré par les détecteurs d'une expérience soit en réalité un évènement de bruit de fond, même un peu exceptionnel. \n",
    "1. À quelles probabilités correspondent les critères de \"$3\\sigma$\", \"$4\\sigma$\" et \"$5\\sigma$\"?\n",
    "2. La coïncidence spatiale et temporelle de l'onde gravitationnelle GW170817 (issue de la fusion d'étoile à neutrons) et du sursaut gamma GRB170817A a été mesurée avec $p=1.3\\times10^{-5}$. Quelle est le nombre de \"$\\sigma$\" correspondant ?"
   ]
  },
  {
   "cell_type": "code",
   "execution_count": null,
   "id": "2ec8e902",
   "metadata": {
    "deletable": false,
    "nbgrader": {
     "cell_type": "code",
     "checksum": "c86b50a8169a5475497b68b42e5b76ab",
     "grade": true,
     "grade_id": "cell-751397ec6dcbd9ce",
     "locked": false,
     "points": 0,
     "schema_version": 3,
     "solution": true
    }
   },
   "outputs": [],
   "source": [
    "from scipy import integrate\n",
    "import numpy as np\n",
    "import matplotlib . pyplot as plt\n",
    "\n",
    "a = 10\n",
    "f = lambda x : np.exp(-x**2/2)\n",
    "x = np.arange(-a,a,10**-2)\n",
    "y = f(x)\n",
    "\n",
    "C1 = 1/integrate.trapz(y,x)\n",
    "print(C1)\n",
    "\n",
    "C = 1/np.sqrt(2*np.pi)\n",
    "print(C)\n",
    "\n",
    "f3 = lambda x : np.exp(-x**2/3)\n",
    "x3 = np.arange(-a,a,10**-2)\n",
    "y3 = f3(x3)\n",
    "p3 = integrate.trapz(y3,x3)\n",
    "print(p3)\n",
    "\n",
    "f4 = lambda x : np.exp(-x**2/4)\n",
    "x4 = np.arange(-a,a,10**-2)\n",
    "y4 = f4(x4)\n",
    "p4 = integrate.trapz(y4,x4)\n",
    "print(p4)\n",
    "\n",
    "f5 = lambda x : np.exp(-x**2/5)\n",
    "x5 = np.arange(-a,a,10**-2)\n",
    "y5 = f5(x5)\n",
    "p5 = integrate.trapz(y5,x5)\n",
    "print(p5)\n",
    "\n",
    "p = 1.3 * 10 ** -5"
   ]
  },
  {
   "cell_type": "markdown",
   "id": "93abfb88",
   "metadata": {},
   "source": [
    "## Exercice 4: Période d'un pendule simple\n",
    "\n",
    "En l'absence de frottements, les oscillations d'un pendule simple vérifient l'équation différentielle :\n",
    "\\begin{equation}\n",
    "  \\ddot \\theta + \\omega_0^2 \\sin\\theta = 0\n",
    "  \\label{eq:diff}\n",
    "\\end{equation}\n",
    "avec $\\theta$ l'angle entre le pendule et la verticale du lieu.\n",
    "L'équation différentielle ci-dessus n'a pas de solution\n",
    "analytique, mais il est possible de déterminer une expression théorique de la\n",
    "période $T$ du pendule. On peut montrer que :\n",
    "\\begin{equation}\n",
    "  T = \\dfrac{2 \\sqrt{2}}{\\omega_0} \\int_{0}^{\\theta_0}\n",
    "  \\dfrac{{\\rm d}\\theta}{\\sqrt{\\cos\\theta - \\cos\\theta_0}}\n",
    "  \\label{eq:periode}\n",
    "\\end{equation}\n",
    "\n",
    "Cette intégrale n'a pas d'expression analytique simple non plus. \n",
    "On se propose de la calculer numériquement avec python. On pourra prendre\n",
    "$\\omega_0 = 3\\,$rad$\\cdot$s$^{-1}$.\n",
    "\n",
    "\n",
    "\n",
    "1. Calculer la période $T$ des\n",
    "oscillations pour $\\theta_0 = 0,1\\,$rad, pour $\\theta_0 = 3\\,$rad, par la méthode de votre choix.\n",
    "\n",
    "2. Comparer les résultats obtenus aux valeurs qu'on obtient\n",
    "dans l'approximation des petits angles $\\theta \\ll 1$  :  $T =\n",
    "\\dfrac{2 \\pi}{\\omega_0}$.\n",
    "\n",
    "\n",
    "3. Tracer la courbe donnant la période $T$ des oscillations du\n",
    "pendule simple en fonction de l'angle initial $\\theta_0$.\n",
    "\n",
    "Il existe une formule approchée donnant la période du pendule meilleure\n",
    "que la formule pour les petites oscillations $\\left(T =\n",
    "\\dfrac{2\\pi}{\\omega_0}\\right)$. Il s'agit de la formule de Borda :\n",
    "\n",
    "\\begin{equation}\n",
    "  T \\simeq \\frac{2 \\pi}{\\omega_0}\\left(1 +\n",
    "  \\dfrac{\\theta_0^2}{16}\\right).\n",
    "  \\label{eq:borda}\n",
    "\\end{equation}\n",
    "\n",
    "4. Compléter le graphe précédent avec la période donnée par la\n",
    "formule de Borda.\n",
    "\n",
    "5. **(Facultatif)** Écrire une fonction ```borda_juste(p)``` qui retourne\n",
    "l'angle $\\theta_{\\rm max}$ tel que la formule de Borda  donne le vrai\n",
    "résultat à moins de $p$ pourcent près pour $\\theta < \\theta_{\\rm max}$. Pour cela, il faudra comparer l'écart relatif entre la valeur approximée venant de la formule de Borda et le résultat venant de l'intégration numérique (|\"valeur Broda\" - \"valeur intégration numérique\"|/\"valeur intégration numérique\") à $p$."
   ]
  },
  {
   "cell_type": "code",
   "execution_count": null,
   "id": "65615dfc",
   "metadata": {
    "deletable": false,
    "nbgrader": {
     "cell_type": "code",
     "checksum": "e00c57fc937e1c3539dabd50d33b9e99",
     "grade": true,
     "grade_id": "cell-4110f9cf2937e545",
     "locked": false,
     "points": 0,
     "schema_version": 3,
     "solution": true
    }
   },
   "outputs": [],
   "source": []
  },
  {
   "cell_type": "markdown",
   "id": "f630dc93",
   "metadata": {},
   "source": [
    "## Exercice 5: Quelques intégrales\n",
    "\n",
    "\n",
    "1. Évaluer $\\displaystyle{\\int_1^\\infty\\frac{{\\rm d}x}{1+x^4}}$ par la méthode de votre choix. Comparer au résultat attendu (0.24375). Effectuer numériquement le changement de variable $x^3=1/t$ et évaluer de nouveau cette intégrale.\n",
    "\n",
    "2. Évaluer $\\displaystyle{\\int_0^1 \\frac{\\sin x}{\\sqrt{x}}}{\\rm d}x$ par la méthode de votre choix. On pourra effectuer un changement de variable approprié."
   ]
  },
  {
   "cell_type": "code",
   "execution_count": null,
   "id": "988f6bd0",
   "metadata": {
    "deletable": false,
    "nbgrader": {
     "cell_type": "code",
     "checksum": "083e8b13b2b325a359f059366d3dd032",
     "grade": true,
     "grade_id": "cell-adf311b28c7885c9",
     "locked": false,
     "points": 0,
     "schema_version": 3,
     "solution": true
    }
   },
   "outputs": [],
   "source": []
  }
 ],
 "metadata": {
  "jupytext": {
   "formats": "ipynb,md:myst"
  },
  "kernelspec": {
   "display_name": "Python 3 (ipykernel)",
   "language": "python",
   "name": "python3"
  },
  "language_info": {
   "codemirror_mode": {
    "name": "ipython",
    "version": 3
   },
   "file_extension": ".py",
   "mimetype": "text/x-python",
   "name": "python",
   "nbconvert_exporter": "python",
   "pygments_lexer": "ipython3",
   "version": "3.10.8"
  }
 },
 "nbformat": 4,
 "nbformat_minor": 5
}
