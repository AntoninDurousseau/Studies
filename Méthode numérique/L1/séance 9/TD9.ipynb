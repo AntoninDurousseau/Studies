{
 "cells": [
  {
   "cell_type": "markdown",
   "id": "0e0980cd",
   "metadata": {},
   "source": [
    "Merci de **ne pas modifier** le nom de ce notebook (même pour y inclure son nom).\n",
    "\n",
    "Quelques conseils:\n",
    "- pour exécutez une cellule, cliquez sur le bouton *Exécuter* ci-dessus ou tapez **Shift+Enter**\n",
    "- si l'exécution d'une cellule prend trop de temps, sélectionner dans le menu ci-dessus *Noyau/Interrompre*\n",
    "- en cas de très gros plantage *Noyau/Redémarrer*\n",
    "- **sauvegardez régulièrement vos réponses** en cliquant sur l'icone disquette ci-dessus à gauche, ou *Fichier/Créer une nouvelle sauvegarde*\n",
    "\n",
    "----------------------------------------------------------------------------"
   ]
  },
  {
   "cell_type": "markdown",
   "id": "da46830c",
   "metadata": {
    "deletable": false,
    "editable": false,
    "nbgrader": {
     "cell_type": "markdown",
     "checksum": "31dfaa249092684f622232af1421c76f",
     "grade": false,
     "grade_id": "cell-e2173acbf28efb00",
     "locked": true,
     "schema_version": 3,
     "solution": false
    }
   },
   "source": [
    "# TP 9 : nombres aléatoires et méthode de Monte-Carlo\n",
    "\n",
    "## Exercice 1 : générateur congruentiel linéaire\n",
    "\n",
    "Écrivez un programme qui génère une suite de nombres pseudo-aléatoires à partir de l'expression:\n",
    "\n",
    "$$x_{n+1}=(a x_n+c)\\mod m$$\n",
    "\n",
    "Représenter sur un graphique les 100 premières valeurs de la suite. Faites varier la valeur initiale de votre graine $x_0$. Pour obtenir un bon générateur vous pouvez utiliser les paramètres suivants:\n",
    "- $a = 1664525$\n",
    "- $c = 1013904223$\n",
    "- $m = 4294967296$\n",
    "\n",
    "Qu'est-ce que vous obtenez en utilisant un autre jeu de paramètres? Vous pouvez essayer par exemple a=1, c=2, m=3."
   ]
  },
  {
   "cell_type": "code",
   "execution_count": null,
   "id": "37556986",
   "metadata": {
    "deletable": false,
    "nbgrader": {
     "cell_type": "code",
     "checksum": "5851f528005152510e8752af4b97c48c",
     "grade": true,
     "grade_id": "cell-e287c0da3604528b",
     "locked": false,
     "points": 0,
     "schema_version": 3,
     "solution": true
    }
   },
   "outputs": [],
   "source": [
    "#LA REPONSE ICI"
   ]
  },
  {
   "cell_type": "markdown",
   "id": "fc30809f",
   "metadata": {
    "deletable": false,
    "editable": false,
    "nbgrader": {
     "cell_type": "markdown",
     "checksum": "7fb66de0a5ed50780c3bbb1fb155aca9",
     "grade": false,
     "grade_id": "cell-00a7a9d5b05997aa",
     "locked": true,
     "schema_version": 3,
     "solution": false
    }
   },
   "source": [
    "## Exercice 2 : poker\n",
    "\n",
    "Écrivez un programme qui mélange un jeu de 52 cartes (indiquées par les numéros de 1 à 52). Vous distribuez ensuite cinq cartes à chacun des quatre joueurs. \n",
    "\n",
    "*Facultatif: les cartes sont données en faisant le tour entre les joueurs.* \n",
    "\n",
    "Réfléchissez à la manière de parcourir votre liste pour en extraire les cartes données à chaque joueurs: point de départ dans la liste, nombre de positions dans la liste à sauter avant de recevoir une nouvelle carte."
   ]
  },
  {
   "cell_type": "code",
   "execution_count": null,
   "id": "9e50e8d6",
   "metadata": {
    "deletable": false,
    "nbgrader": {
     "cell_type": "code",
     "checksum": "130a0add21c73da18d84d500e706667e",
     "grade": true,
     "grade_id": "cell-4572cad45bb72e8a",
     "locked": false,
     "points": 0,
     "schema_version": 3,
     "solution": true
    }
   },
   "outputs": [],
   "source": [
    "#LA REPONSE ICI"
   ]
  },
  {
   "cell_type": "markdown",
   "id": "ab4965aa",
   "metadata": {
    "deletable": false,
    "editable": false,
    "nbgrader": {
     "cell_type": "markdown",
     "checksum": "daf7dbb3a9f403b6e2a6b7aa5319277d",
     "grade": false,
     "grade_id": "cell-ca3f8dd382531f9b",
     "locked": true,
     "schema_version": 3,
     "solution": false
    }
   },
   "source": [
    "## Exercice 3 : marche aléatoire\n",
    "\n",
    "Dans cet exercice il s'agit de simuler la trajectoire d'une particule qui suit une marche aléatoire dans un espace bidimensionnel.     \n",
    "\n",
    "* Au début la particule se trouve dans la position $\\vec{r}=(0,0)$ du plan.\n",
    "* Un pas correspond à un déplacement de la particule d'un vecteur $\\Delta \\vec{r}$ de longueur 1 qui forme un angle $\\theta$ par rapport à l'axe $x$ du plan. La direction $\\theta$ est choisi aléatoirement à chaque itération.\n",
    "* La nouvelle position $\\vec{r}+\\Delta \\vec{r}$ est le point de départ pour l'itération suivante.\n",
    "\n",
    "Dans cet exercice vous devez construire les listes des coordonnées $x$ et $y$ des différents points de la trajectoire de la particule. La trajectoire sera ensuite représentée dans un graphique par un trait continu. Vous pouvez choisir de représenter une trajectoire de 1000 pas."
   ]
  },
  {
   "cell_type": "code",
   "execution_count": null,
   "id": "9b96dc8f",
   "metadata": {
    "deletable": false,
    "nbgrader": {
     "cell_type": "code",
     "checksum": "a37ac0cfd4dd3ec16f0b6e2c27b65286",
     "grade": true,
     "grade_id": "cell-bf7f4c6896126b26",
     "locked": false,
     "points": 0,
     "schema_version": 3,
     "solution": true
    }
   },
   "outputs": [],
   "source": [
    "#LA REPONSE ICI"
   ]
  },
  {
   "cell_type": "markdown",
   "id": "a9efc9df",
   "metadata": {
    "deletable": false,
    "editable": false,
    "nbgrader": {
     "cell_type": "markdown",
     "checksum": "6a0363dd42ad0a8f689f76bb685440a2",
     "grade": false,
     "grade_id": "cell-2ba62f0880280625",
     "locked": true,
     "schema_version": 3,
     "solution": false
    }
   },
   "source": [
    "Considerez maintenant l'évolution temporelle d'un ensemble de 300 particules. Au début toutes les particules se trouvent dans la position $\\vec{r}=(0,0)$ du plan. Ensuite elle se déplacent en suivant une marche aléatoire. Tracer sur un même graphe la position finale de toutes les particules après 10, 100, 1000 et 10000 pas. Quel phénomène peut-on simuler grace à cette méthode?"
   ]
  },
  {
   "cell_type": "code",
   "execution_count": null,
   "id": "1530eec6",
   "metadata": {
    "deletable": false,
    "nbgrader": {
     "cell_type": "code",
     "checksum": "443ed678484ffef3c44ddde21636d6e2",
     "grade": true,
     "grade_id": "cell-4f028828c80f6baf",
     "locked": false,
     "points": 0,
     "schema_version": 3,
     "solution": true
    }
   },
   "outputs": [],
   "source": [
    "#LA REPONSE ICI"
   ]
  },
  {
   "cell_type": "markdown",
   "id": "9e8f2f57",
   "metadata": {
    "deletable": false,
    "editable": false,
    "nbgrader": {
     "cell_type": "markdown",
     "checksum": "cb0619bc7a4fd25a76565a39e911ec2f",
     "grade": false,
     "grade_id": "cell-60e8ad6e41b9dfdc",
     "locked": true,
     "schema_version": 3,
     "solution": false
    }
   },
   "source": [
    "## Exercice 4 : estimation de $\\pi$ par la méthode de Monte-Carlo\n",
    "\n",
    "\n",
    "Dans ce problème vous devez évaluer numériquement la valeur de $\\pi$. Pour cela vous devez appliquer la méthode d'intégration Monte-Carlo à un disque de rayon 1 (qui a donc une surface égale à $\\pi$), inscrit dans un carré de côtés 2 centré sur (0,0). Une illustration graphique vous est donnée dans la figure suivante pour un petit nombre de points:\n",
    "<img align=\"center\" src=\"plots/figure_1.png\" width=\"30%\" />\n",
    "\n",
    "Les étapes suivantes décrivent la logique de construction de votre code :\n",
    "\t\n",
    "* Générer la position d'un point aléatoire à l'intérieur du carré (vecteur à deux dimensions).\n",
    "* Répéter cette opération afin d’obtenir N points aléatoires. Pour chaque point vous devez évaluer s'il est contenu à l'intérieur du cercle unitaire et mettre à jour un compteur correspondant.\n",
    "* A l'aide de la fonction `plt.scatter()`, visualiser les deux séries de points, rouge pour les points à l'intérieur, bleu pour ceux à l'extérieur.\n",
    "* Donner votre évaluation de $\\pi$."
   ]
  },
  {
   "cell_type": "code",
   "execution_count": null,
   "id": "61e2c455",
   "metadata": {
    "deletable": false,
    "nbgrader": {
     "cell_type": "code",
     "checksum": "76f0c93d83c19b0517ac4af214fb1d04",
     "grade": true,
     "grade_id": "cell-2bb5560153fa9d4b",
     "locked": false,
     "points": 0,
     "schema_version": 3,
     "solution": true
    }
   },
   "outputs": [],
   "source": [
    "#LA REPONSE ICI"
   ]
  },
  {
   "cell_type": "markdown",
   "id": "c12c41d8",
   "metadata": {
    "deletable": false,
    "editable": false,
    "nbgrader": {
     "cell_type": "markdown",
     "checksum": "e0b4c921d9b065a82b25341741601418",
     "grade": false,
     "grade_id": "cell-ea101f4969dedd89",
     "locked": true,
     "schema_version": 3,
     "solution": false,
     "task": false
    }
   },
   "source": [
    "### Un code beaucoup plus performant !!!\n",
    "\n",
    "Pouvez-vous calculer le $\\pi$ en utilisant la méthode MC pour les $N = 10000$ points dans une seule ligne de code ? Oui, tu peux le faire ! Si tu utilises la force de numpy, padawan. Laissez la force vous guider vers une combinaison judicieuse des commandes np.linalg.norm,  np.random.uniform (avec argument \"size\") et np.sum. \n",
    "Tu peux concevoir quelque chose comme ça :\n",
    "\n",
    "\n",
    "```python \n",
    "4*np.abs(np.sum(np.linalg.norm(np.random.uniform(-1,1,size=[NN, 2]), axis=1) < 1.0)/NN)\n",
    "```\n",
    "\n",
    "- Essayez de comprendre (en utilisant le web comme référence) comment cette commande fonctionne. \n",
    "- Implémentez cette version du calcul MC dans une fonction que vous appellerez fast_pi(N) et qui renvoie l'estimation de $\\pi$ pour $N$ étapes MC. De même, implémentez la procédure que vous avez mise en œuvre ci-dessus dans une fonction slow_pi(N).\n",
    "- Testez les deux fonctions pour $N = 10000$ points\n",
    "- La très utile \"commande magique\" %timeit exécutera $7$ de la même commande et rapportera le temps d'exécution moyen. vous pouvez l'utiliser comme ceci :\n",
    "\n",
    "```python \n",
    "%timeit fast_pi(N)\n",
    "```\n",
    "\n",
    "utilisez-le pour tester et comparer les performances des deux méthodes. Qu'avez-vous appris ?\n",
    "\n",
    "Vous trouverez plus d'informations sur %timeit et de nombreuses autres \"commandes magiques\" [ici](https://linuxtut.com/fr/437656b8ce42c03e41a6/)"
   ]
  },
  {
   "cell_type": "code",
   "execution_count": null,
   "id": "8f056360",
   "metadata": {
    "deletable": false,
    "nbgrader": {
     "cell_type": "code",
     "checksum": "f212720ffe5782735f8c5f58eb1f0833",
     "grade": true,
     "grade_id": "cell-8b1ea7a61e12aef0",
     "locked": false,
     "points": 0,
     "schema_version": 3,
     "solution": true,
     "task": false
    }
   },
   "outputs": [],
   "source": [
    "#LA REPONSE ICI"
   ]
  },
  {
   "cell_type": "markdown",
   "id": "a5a763ce",
   "metadata": {
    "deletable": false,
    "editable": false,
    "nbgrader": {
     "cell_type": "markdown",
     "checksum": "97c32e53f447d8ac646888acd2eebb85",
     "grade": false,
     "grade_id": "cell-033d208472e7119d",
     "locked": true,
     "schema_version": 3,
     "solution": false,
     "task": false
    }
   },
   "source": [
    "Nous allons maintenant montrer que le MC converge effectivement comme $N^{-1/2}$. Pour cela, calculons $|\\pi_N-\\pi|$, avec  $\\pi_N$ la valeur de $\\pi$ obtenue à la suite de $N$ étapes MC.\n",
    "\n",
    "- tester la convergence de la méthode pour $N=10^x$, avec $x =[1, 2, \\ldots, 6]$.\n",
    "- comparer dans un graphique approprié ce comportement avec $N^{-1/2}$. Quelle est la meilleure façon de présenter vos données ?\n",
    "- (facultatif) vous pourriez améliorer grandement vos résultats en faisant plusieurs répétitions de $|\\pi_N-\\pi|$ en fonction de $N$ et ensuite faire la moyenne sur les exécutions indépendantes. Essayez-le !"
   ]
  },
  {
   "cell_type": "code",
   "execution_count": null,
   "id": "6d5899dc",
   "metadata": {
    "deletable": false,
    "nbgrader": {
     "cell_type": "code",
     "checksum": "7ff33d57afcf258db718eb9a31d86a7c",
     "grade": true,
     "grade_id": "cell-b99bda515831788d",
     "locked": false,
     "points": 0,
     "schema_version": 3,
     "solution": true,
     "task": false
    }
   },
   "outputs": [],
   "source": [
    "#LA REPONSE ICI"
   ]
  }
 ],
 "metadata": {
  "jupytext": {
   "formats": "ipynb,md:myst"
  },
  "kernelspec": {
   "display_name": "Python 3 (ipykernel)",
   "language": "python",
   "name": "python3"
  },
  "language_info": {
   "codemirror_mode": {
    "name": "ipython",
    "version": 3
   },
   "file_extension": ".py",
   "mimetype": "text/x-python",
   "name": "python",
   "nbconvert_exporter": "python",
   "pygments_lexer": "ipython3",
   "version": "3.10.8"
  }
 },
 "nbformat": 4,
 "nbformat_minor": 5
}
