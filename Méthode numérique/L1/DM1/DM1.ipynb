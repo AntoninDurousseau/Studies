{
 "cells": [
  {
   "cell_type": "markdown",
   "id": "adb8fa4b",
   "metadata": {},
   "source": [
    "Merci de **ne pas modifier** le nom de ce notebook (même pour y inclure son nom).\n",
    "\n",
    "Quelques conseils:\n",
    "- pour exécutez une cellule, cliquez sur le bouton *Exécuter* ci-dessus ou tapez **Shift+Enter**\n",
    "- si l'exécution d'une cellule prend trop de temps, sélectionner dans le menu ci-dessus *Noyau/Interrompre*\n",
    "- en cas de très gros plantage *Noyau/Redémarrer*\n",
    "- **sauvegardez régulièrement vos réponses** en cliquant sur l'icone disquette ci-dessus à gauche, ou *Fichier/Créer une nouvelle sauvegarde*\n",
    "\n",
    "----------------------------------------------------------------------------"
   ]
  },
  {
   "cell_type": "markdown",
   "id": "09dc9762",
   "metadata": {
    "deletable": false,
    "editable": false,
    "nbgrader": {
     "cell_type": "markdown",
     "checksum": "cdc6624ef6240d1d2299a39d485fb37b",
     "grade": false,
     "grade_id": "cell-14b4972ec10d9602",
     "locked": true,
     "schema_version": 3,
     "solution": false,
     "task": false
    }
   },
   "source": [
    "# MethNum : DM1\n",
    "\n",
    "Durée conseillée: 1 à 2h\n",
    "\n",
    "**Ne pas modifier le nom de ce fichier, même pour inclure vos noms et prénoms.**\n",
    "**Si possible ne pas créer de nouvelles cellules dans le notebook pour faciliter la correction.**\n",
    "\n",
    "Vous utiliserez des noms de variable significatifs (par exemple `t_min` pour une taille minimale, ou `t_moy` pour une taille moyenne...). Vous insérerez autant de commentaires qu'il vous semble nécessaire pour que votre code soit lisible (imaginez que vous deviez transmettre ce code à un autre étudiant de votre groupe pour qu'il puisse continuer ce travail)."
   ]
  },
  {
   "cell_type": "markdown",
   "id": "f7289488",
   "metadata": {
    "deletable": false,
    "editable": false,
    "nbgrader": {
     "cell_type": "markdown",
     "checksum": "0ad9a17efd2c17bbc5ddddc77b50afa3",
     "grade": false,
     "grade_id": "cell-5b25b72c1263c508",
     "locked": true,
     "schema_version": 3,
     "solution": false,
     "task": false
    }
   },
   "source": [
    "## Exercice : suite de Syracuse\n",
    "\n",
    "Soit une suite d'entiers naturels telle que :\n",
    "\n",
    "\\begin{equation}\n",
    "u_{0} = N\n",
    "\\end{equation}\n",
    "\n",
    "\n",
    "\\begin{equation}\n",
    "u_{n+1} = \\begin{cases} u_n / 2, & \\mbox{si } u_n\\mbox{ est pair} \\\\ 3u_n+1, & \\mbox{si } u_n\\mbox{ est impair} \\end{cases}\n",
    "\\end{equation}\n",
    "\n",
    "\n",
    "On appelle `altitude` les valeurs $u_n$ explorées par la suite et `temps de vol` le nombre d'itérations."
   ]
  },
  {
   "cell_type": "markdown",
   "id": "628daf02",
   "metadata": {
    "deletable": false,
    "editable": false,
    "nbgrader": {
     "cell_type": "markdown",
     "checksum": "4a691ce743607af9a90942141a33d081",
     "grade": false,
     "grade_id": "cell-e82ecf6998b6dcee",
     "locked": true,
     "schema_version": 3,
     "solution": false,
     "task": false
    }
   },
   "source": [
    "1. Calculer à la main les valeurs de $u_0=5$ à $u_8$. Que remarque-t-on ?"
   ]
  },
  {
   "cell_type": "markdown",
   "id": "afa33048",
   "metadata": {
    "deletable": false,
    "nbgrader": {
     "cell_type": "markdown",
     "checksum": "6b09fa355d06cb2d0a5ad06a0d00baa0",
     "grade": true,
     "grade_id": "cell-c9a2978f4b73b0a8",
     "locked": false,
     "points": 1,
     "schema_version": 3,
     "solution": true,
     "task": false
    }
   },
   "source": [
    "la suite tend vers 1 puis et periodique:\n",
    "(5,16,8,4,2,1,4,2,1)"
   ]
  },
  {
   "cell_type": "markdown",
   "id": "38fbad66",
   "metadata": {
    "deletable": false,
    "editable": false,
    "nbgrader": {
     "cell_type": "markdown",
     "checksum": "f69f5f28e5e455c2787d291307147363",
     "grade": false,
     "grade_id": "cell-45875753c1942e4c",
     "locked": true,
     "points": 2,
     "schema_version": 3,
     "solution": false,
     "task": true
    }
   },
   "source": [
    "2. Écrire un programme à l'aide d'une boucle `while` qui calculera la suite et qui se stoppera si la condition $u_n=1$ est atteinte. Ajouter la condition pour laquelle la boucle `while` se stoppe si un compteur de boucle `k` est supérieur ou égale à 1000. On utilisera à nouveau $u_0=5$ et on ajoutera les valeurs des $u_n$ à une liste `altitude`."
   ]
  },
  {
   "cell_type": "code",
   "execution_count": 59,
   "id": "84058667",
   "metadata": {
    "code_folding": [],
    "deletable": false,
    "nbgrader": {
     "cell_type": "code",
     "checksum": "b7eba1c33d752e93f0c91709f59ab0ee",
     "grade": false,
     "grade_id": "cell-d65c5236befd2585",
     "locked": false,
     "schema_version": 3,
     "solution": true,
     "task": false
    }
   },
   "outputs": [
    {
     "name": "stdout",
     "output_type": "stream",
     "text": [
      "6 [5, 16, 8.0, 4.0, 2.0, 1.0]\n"
     ]
    }
   ],
   "source": [
    "u0 = 5\n",
    "altitude = [u0]\n",
    "k=1\n",
    "\n",
    "#creation d'une boucle while qui calculera la suite et qui se stoppera si la condition 𝑢𝑛=1 \n",
    "while u0 != 1:\n",
    "#on applique les deux variables sur la suite un+1\n",
    "    if u0 % 2 == 0:\n",
    "        u0 = u0 / 2\n",
    "    else:\n",
    "        u0 = 3 * u0 + 1\n",
    "#on ajoute à la liste altitude la nouvelle valeure de 𝑢𝑛\n",
    "    altitude.append(u0)\n",
    "#on ajoute 1 au compteur de tour k\n",
    "    k += 1\n",
    "#on fait s'arrêter la boucle si k est supérieur ou égale à 1000 \n",
    "    if k >= 1000:\n",
    "        break\n",
    "\n",
    "print(k,altitude)"
   ]
  },
  {
   "cell_type": "markdown",
   "id": "74aa28e8",
   "metadata": {
    "deletable": false,
    "editable": false,
    "nbgrader": {
     "cell_type": "markdown",
     "checksum": "dd08e2cf3327c168d236d9288118693f",
     "grade": false,
     "grade_id": "cell-dd360a79b78f780b",
     "locked": true,
     "schema_version": 3,
     "solution": false,
     "task": false
    }
   },
   "source": [
    "*La cellule suivante teste que vous avez bien répondu à la question en utilisant la variable `altitude`. Pour s'en assurer exécutez la cellule, aucun message d'erreur ne doit apparaître.*"
   ]
  },
  {
   "cell_type": "code",
   "execution_count": 60,
   "id": "d0702bac",
   "metadata": {
    "deletable": false,
    "editable": false,
    "nbgrader": {
     "cell_type": "code",
     "checksum": "8fb7e017a863e8c7414f84055987dfd8",
     "grade": true,
     "grade_id": "cell-5794abd36ca28f3e",
     "locked": true,
     "points": 2,
     "schema_version": 3,
     "solution": false,
     "task": false
    }
   },
   "outputs": [
    {
     "name": "stdout",
     "output_type": "stream",
     "text": [
      "altitude: [5, 16, 8.0, 4.0, 2.0, 1.0]\n"
     ]
    }
   ],
   "source": [
    "assert 'altitude' in globals()\n",
    "print('altitude:', altitude)"
   ]
  },
  {
   "cell_type": "markdown",
   "id": "389964a9",
   "metadata": {
    "deletable": false,
    "editable": false,
    "nbgrader": {
     "cell_type": "markdown",
     "checksum": "3e88e51b49cf58601e40cba6cff304ec",
     "grade": false,
     "grade_id": "cell-c514a18300d01472",
     "locked": true,
     "schema_version": 3,
     "solution": false,
     "task": false
    }
   },
   "source": [
    "3. Dans la cellule suivante, reprendre le code précédent et le mettre dans une fonction qui prend comme variable d'entrée $u_0$ et qui retourne une liste contenant les valeurs de la suite."
   ]
  },
  {
   "cell_type": "code",
   "execution_count": 61,
   "id": "473201c7",
   "metadata": {
    "code_folding": [],
    "deletable": false,
    "nbgrader": {
     "cell_type": "code",
     "checksum": "a8957b491473595f7ee8c0a33a925a31",
     "grade": false,
     "grade_id": "cell-0c94b8ac4bb51a83",
     "locked": false,
     "schema_version": 3,
     "solution": true,
     "task": false
    }
   },
   "outputs": [],
   "source": [
    "def calcul_suite(u0):\n",
    "    \n",
    "#une fonction qui prend comme variable d'entrée  𝑢0\n",
    "    lst = [u0]\n",
    "    k = 1\n",
    "    \n",
    "#creation d'une boucle while qui calculera la suite et qui se stoppera si la condition 𝑢𝑛=1 \n",
    "    while u0 != 1:\n",
    "#on applique les deux variables sur la suite un+1\n",
    "        if u0 % 2 == 0:\n",
    "            u0 = u0 / 2\n",
    "        else:\n",
    "            u0 = 3 * u0 + 1\n",
    "#on ajoute à une liste la nouvelle valeure de 𝑢𝑛\n",
    "        lst.append(u0)\n",
    "    \n",
    "#on ajoute 1 aux nombre d'intégration\n",
    "        k += 1        \n",
    "#on fait s'arrêter la boucle si k est supérieur ou égale à 1000 \n",
    "        if k >= 1000:\n",
    "            break\n",
    "    return lst"
   ]
  },
  {
   "cell_type": "markdown",
   "id": "8c96c9b5",
   "metadata": {
    "deletable": false,
    "editable": false,
    "nbgrader": {
     "cell_type": "markdown",
     "checksum": "054b7fc1af8f30a138901dbbf7e1e4f0",
     "grade": false,
     "grade_id": "cell-07605fe6eb0db395",
     "locked": true,
     "schema_version": 3,
     "solution": false,
     "task": false
    }
   },
   "source": [
    "*La cellule suivante teste que vous avez bien répondu à la question en utilisant la fonction `calcul_suite`. Pour s'en assurer exécutez la cellule, aucun message d'erreur ne doit apparaître.*"
   ]
  },
  {
   "cell_type": "code",
   "execution_count": 62,
   "id": "c1ad00d3",
   "metadata": {
    "deletable": false,
    "editable": false,
    "nbgrader": {
     "cell_type": "code",
     "checksum": "ae596488d395ec7d5c3fad4ac1e9dab8",
     "grade": true,
     "grade_id": "cell-e03f5392f4c091f6",
     "locked": true,
     "points": 1,
     "schema_version": 3,
     "solution": false,
     "task": false
    }
   },
   "outputs": [
    {
     "name": "stdout",
     "output_type": "stream",
     "text": [
      "calcul_suite: [5, 16, 8.0, 4.0, 2.0, 1.0]\n"
     ]
    }
   ],
   "source": [
    "assert 'calcul_suite' in globals()\n",
    "print('calcul_suite:', calcul_suite(5))"
   ]
  },
  {
   "cell_type": "markdown",
   "id": "1d8fbb7f",
   "metadata": {
    "deletable": false,
    "editable": false,
    "nbgrader": {
     "cell_type": "markdown",
     "checksum": "a6a64a4fb490273e6bfbd18193fe0ada",
     "grade": false,
     "grade_id": "cell-cb7fd4767bacc5a9",
     "locked": true,
     "points": 5,
     "schema_version": 3,
     "solution": false,
     "task": true
    }
   },
   "source": [
    "4. Ecrire un programme qui, à l'aide de la fonction `calcul_suite` précédement définie, calcule la suite lorsque $u_0$ prend les différentes valeurs de la liste `list_u0 = [7,32,75,100,151]`. On va tracer la dernière valeur atteinte pour chacune des suites sur la même figure en fonction de la valeur de $u_0$. Ne pas oublier de faire une légende, et de nommée les axes (rappel : on appelle altitude les valeurs explorées par la suite et temps de vol le nombre d'itération ou l'indice $n$.). Que remarque-t-on ?"
   ]
  },
  {
   "cell_type": "code",
   "execution_count": 63,
   "id": "544428e3",
   "metadata": {
    "deletable": false,
    "nbgrader": {
     "cell_type": "code",
     "checksum": "6b81ed85287e30d74bfc40b72c228f73",
     "grade": false,
     "grade_id": "cell-088c690b8dcd59bb",
     "locked": false,
     "schema_version": 3,
     "solution": true,
     "task": false
    }
   },
   "outputs": [
    {
     "data": {
      "image/png": "[encoded data removed]",
      "text/plain": [
       "<Figure size 432x288 with 1 Axes>"
      ]
     },
     "metadata": {
      "needs_background": "light"
     },
     "output_type": "display_data"
    }
   ],
   "source": [
    "import matplotlib.pyplot as plt\n",
    "list_u0 = [7,32,75,100,151]\n",
    "\n",
    "#on créer une liste vide dans laquelle on va ajouter les dernières valeur de calcul_suite\n",
    "last_value =[]\n",
    "\n",
    "#pour chaques i dans list_u0 on calcul grâce à la fonction calcul_suite tous les valeurs un  \n",
    "for i in list_u0:\n",
    "    \n",
    "#on ajoute uniquement la dernière valeurs de un dans la suite last_value (qui sera toujours 1)\n",
    "    last_value.append(calcul_suite(i)[len(calcul_suite(i))-1])\n",
    "\n",
    "plt . plot ( last_value , list_u0 )\n",
    "plt . title ('valeur finale de la suite un')\n",
    "plt . xlabel ('valeur de un finale')\n",
    "plt . ylabel ('u0')\n",
    "plt . show ()"
   ]
  },
  {
   "cell_type": "markdown",
   "id": "a42906e8",
   "metadata": {
    "deletable": false,
    "editable": false,
    "nbgrader": {
     "cell_type": "markdown",
     "checksum": "31e23b32689883d63321352808dd5ee0",
     "grade": false,
     "grade_id": "cell-6d30d1d2ae9206d1",
     "locked": true,
     "points": 5,
     "schema_version": 3,
     "solution": false,
     "task": true
    }
   },
   "source": [
    "5. Ecrire un programme qui avec une boucle `for` calcule les suites pour $u_0$ allant de $u_0=5$ à $u_0=10 000$ par pas de 1. \n",
    "* Pour chaque valeur de départ $u_0$ on testera si la valeur finale de la liste est différente de 1, si c'est le cas on arrête la boucle. \n",
    "* On cherchera également quelle valeur de départ donne l'altitude maximale: on stockera la valeur d'altitude maximale dans la variable `alt_max` et la valeur de départ correspondante dans `u0_alt_max`. Pareil pour le temps de vol maximal dans `tps_max` et `u0_tps_max`."
   ]
  },
  {
   "cell_type": "code",
   "execution_count": 68,
   "id": "4208f832",
   "metadata": {
    "deletable": false,
    "nbgrader": {
     "cell_type": "code",
     "checksum": "19b340deadae6e8280c4bfc24a367e49",
     "grade": false,
     "grade_id": "cell-dbe4587a304513cc",
     "locked": false,
     "schema_version": 3,
     "solution": true,
     "task": false
    }
   },
   "outputs": [],
   "source": [
    "u0_alt_max = 0\n",
    "alt_max = 0\n",
    "u0_tps_max = 0\n",
    "tps_max = 0\n",
    "\n",
    "def temps(u0):\n",
    "    nombre_itérations = 1\n",
    "    while calcul_suite(u0)[nombre_itérations-1] != 1:\n",
    "        nombre_itérations += 1\n",
    "    return nombre_itérations\n",
    "\n",
    "for i in range(5,10000):\n",
    "    if (calcul_suite(i)[len(calcul_suite(i))-1] != 1):\n",
    "        break\n",
    "    \n",
    "    if alt_max < max(calcul_suite(i)):\n",
    "        alt_max = max(calcul_suite(i))\n",
    "        u0_alt_max = i\n",
    "        \n",
    "    if tps_max < temps(i):\n",
    "        tps_max = temps(i)\n",
    "        u0_tps_max = i"
   ]
  },
  {
   "cell_type": "markdown",
   "id": "3ffc6dea",
   "metadata": {},
   "source": [
    "*La cellule suivante teste que vous avez bien répondu à la question en utilisant les variables de l'énoncé. Pour s'en assurer exécutez la cellule, aucun message d'erreur ne doit apparaître.*"
   ]
  },
  {
   "cell_type": "code",
   "execution_count": 69,
   "id": "b77e6b69",
   "metadata": {
    "deletable": false,
    "editable": false,
    "nbgrader": {
     "cell_type": "code",
     "checksum": "d5ef19294288d4fd773ffb2a67623f67",
     "grade": true,
     "grade_id": "cell-ed9be1108b0201e1",
     "locked": true,
     "points": 2,
     "schema_version": 3,
     "solution": false,
     "task": false
    }
   },
   "outputs": [
    {
     "name": "stdout",
     "output_type": "stream",
     "text": [
      "Altitude maximale = 27114424.0 pour u0 = 9663\n",
      "Temps de vol maximal = 262 pour u0 = 6171\n"
     ]
    }
   ],
   "source": [
    "assert 'alt_max' in globals() and 'u0_alt_max' in globals() \n",
    "assert 'tps_max' in globals() and 'u0_tps_max' in globals() \n",
    "print(f'Altitude maximale = {alt_max} pour u0 = {u0_alt_max}')       \n",
    "print(f\"Temps de vol maximal = {tps_max} pour u0 = {u0_tps_max}\")       "
   ]
  },
  {
   "cell_type": "markdown",
   "id": "d1ce047e",
   "metadata": {
    "deletable": false,
    "editable": false,
    "nbgrader": {
     "cell_type": "markdown",
     "checksum": "e2dd7e2afe1a6c29e21e728cc2f80893",
     "grade": false,
     "grade_id": "cell-cf97d60eb3086e9e",
     "locked": true,
     "schema_version": 3,
     "solution": false,
     "task": false
    }
   },
   "source": [
    ">Ce problème est appelé la suite de Syracuse ou suite de Collatz ou problème 3x+1, dont la conjecture dit que la suite de Syracuse de n'importe quel entier strictement positif atteint 1. De nombreux mathématiciens ont essayé de remettre en cause cette conjecture sans y parvenir. Malgrès la simplicité de son enoncé,  Paul Erdős a dit à propos de la conjecture de Syracuse : « les mathématiques ne sont pas encore prêtes pour de tels problèmes ». Cette conjecture mobilisa tant les mathématiciens durant les années 1960, en pleine guerre froide, qu'une plaisanterie courut selon laquelle ce problème faisait partie d'un complot soviétique visant à ralentir la recherche américaine.\n",
    "\n",
    "Lien : [Wikipedia](https://fr.wikipedia.org/wiki/Conjecture_de_Syracuse)\n",
    "\n",
    "Video : [Numberphile](https://www.youtube.com/watch?v=5mFpVDpKX70)"
   ]
  },
  {
   "cell_type": "markdown",
   "id": "1b8a417c",
   "metadata": {
    "deletable": false,
    "editable": false,
    "nbgrader": {
     "cell_type": "markdown",
     "checksum": "6ae07b45c3d15c74d3f36569a6026659",
     "grade": false,
     "grade_id": "cell-8fb9259952be52fb",
     "locked": true,
     "points": 2,
     "schema_version": 3,
     "solution": false,
     "task": true
    }
   },
   "source": [
    "## Qualité du code (2 points)\n",
    "\n",
    "- Le code est-il bien commenté ?\n",
    "- Les variables ont des noms explicites et clairs ?"
   ]
  }
 ],
 "metadata": {
  "jupytext": {
   "formats": "ipynb,md:myst"
  },
  "kernelspec": {
   "display_name": "Python 3 (ipykernel)",
   "language": "python",
   "name": "python3"
  },
  "language_info": {
   "codemirror_mode": {
    "name": "ipython",
    "version": 3
   },
   "file_extension": ".py",
   "mimetype": "text/x-python",
   "name": "python",
   "nbconvert_exporter": "python",
   "pygments_lexer": "ipython3",
   "version": "3.10.8"
  },
  "toc": {
   "base_numbering": 1,
   "nav_menu": {},
   "number_sections": true,
   "sideBar": true,
   "skip_h1_title": false,
   "title_cell": "Table of Contents",
   "title_sidebar": "Contents",
   "toc_cell": false,
   "toc_position": {},
   "toc_section_display": true,
   "toc_window_display": false
  },
  "varInspector": {
   "cols": {
    "lenName": 16,
    "lenType": 16,
    "lenVar": 40
   },
   "kernels_config": {
    "python": {
     "delete_cmd_postfix": "",
     "delete_cmd_prefix": "del ",
     "library": "var_list.py",
     "varRefreshCmd": "print(var_dic_list())"
    },
    "r": {
     "delete_cmd_postfix": ") ",
     "delete_cmd_prefix": "rm(",
     "library": "var_list.r",
     "varRefreshCmd": "cat(var_dic_list()) "
    }
   },
   "types_to_exclude": [
    "module",
    "function",
    "builtin_function_or_method",
    "instance",
    "_Feature"
   ],
   "window_display": false
  }
 },
 "nbformat": 4,
 "nbformat_minor": 5
}
