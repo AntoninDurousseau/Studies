{
 "cells": [
  {
   "cell_type": "code",
   "execution_count": 2,
   "id": "a9f5275d",
   "metadata": {},
   "outputs": [],
   "source": [
    "import numpy as np\n",
    "import matplotlib.pyplot as plt\n",
    "%matplotlib inline"
   ]
  },
  {
   "cell_type": "markdown",
   "id": "ae90a0f4",
   "metadata": {},
   "source": [
    "# IMPORTANT\n",
    "---\n",
    "> Durée de l'épreuve 3h.<br>\n",
    "> Les documents, les calculatrices et les téléphones portables sont interdits.<br>\n",
    "> Toute réponse devra être justifiée.<br>\n",
    "> Toutes les fonctions que vous proposerez devront contenir des commentaires même succints.\n",
    "---\n",
    "> Pour certaines questions théoriques, vous devrez répondre sur votre copie en précisant bien le numéro de la question. Pour les questions numériques, vous devez compléter le notebook. Parties A et B sont indépendantes.\n",
    "---\n",
    "> Lorsque vous aurez terminer l'épreuve, vous devez **sauvegarder votre travail** en cliquant sur la petite disquette en haut à gauche puis **quitter le notebook** en cliquant sur `file` puis `close and halt`.<br>\n",
    "> Puis vous devez quitter `jupyter-notebook` en retournant dans le `terminal` et en suivant les instructions : `CTRL+C` suivi de `y`."
   ]
  },
  {
   "cell_type": "markdown",
   "id": "9638b60c",
   "metadata": {},
   "source": [
    "# Partie A: modèles dynamiques et schémas pour EDOs\n",
    "\n",
    "### Exercice 1. Schéma d'Adams-Bashforth à deux pas"
   ]
  },
  {
   "cell_type": "markdown",
   "id": "d3b4e03a",
   "metadata": {},
   "source": [
    "Nous allons programmer une méthode dite *à deux pas* pour construire une solution approchée du problème de Cauchy \n",
    "\\begin{equation}\n",
    "\\left\\lbrace\n",
    "\\begin{aligned}\n",
    "&y'(t)= f(t, y(t)),&& t \\in [0, T],\\\\\n",
    "&y(0) = y_0.\n",
    "\\end{aligned}\n",
    "\\right.\n",
    "\\tag{1}\\label{1}\n",
    "\\end{equation}\n",
    "\n",
    "On va calculer des valeurs approchées de la solution aux instants $t^n =n\\Delta t$, où $\\Delta t>0$ est un pas de temps et $ n = 0, 1, \\ldots, N $ avec $ N = \\frac{T}{\\Delta t} $. On dénote $ y^n $ la valeur approchée de $ y( t^n ) $ à l'instant $ t^n $. \n",
    "\n",
    "On rappelle que la fonction $y$, supposée $C^1$, est la solution du problème de Cauchy (1) si et seulement si, pour toute suite strictement croissante $(t^n)_{n\\in\\mathbb{N}}$, avec $t^0=0$, on a\n",
    "\\begin{equation}\n",
    "\\left\\{\n",
    "\\begin{array}{l}\n",
    "y(t^{n+1})= y(t^n) +\\int_{t^n}^{t^{n+1}} f(s,y(s)) ds,\\\\\n",
    "y(t^0) = y_0.\n",
    "\\end{array}\n",
    "\\right .\n",
    "\\tag{2}\\label{2}\n",
    "\\end{equation}"
   ]
  },
  {
   "cell_type": "markdown",
   "id": "21db2baa",
   "metadata": {},
   "source": [
    "La méthode d’Adams-Bashforth à 2 pas (en abrégé AB2) s’obtient en approximant la fonction $ t \\mapsto f(t,y(t)) $ sur le segment $ [t^n, t^{ n+1 } ] $ par son polynome interpolateur aux points $ t^{ n-1 } $, $ t^{ n } $."
   ]
  },
  {
   "cell_type": "markdown",
   "id": "69afbe51",
   "metadata": {},
   "source": [
    "**Question 1.**\n",
    "\n",
    "> Soit $ P $ le polynome interpolateur de $ t \\mapsto f(t,y(t)) $ aux points $ t^{ n-1 } $, $ t^{ n } $.\n",
    "Quel est le degré de $ P $? Donner l'expression de $ P $ en termes de $ t^{ n-1} $, $ t^{ n } $, $ f( t^{n-1}, y( t^{n-1} ) ) $, $ f( t^{ n }, y( t^{ n } ) ) $."
   ]
  },
  {
   "cell_type": "code",
   "execution_count": null,
   "id": "763d5fc0",
   "metadata": {},
   "outputs": [],
   "source": [
    "# Utilisez votre copie"
   ]
  },
  {
   "cell_type": "markdown",
   "id": "e1487bae",
   "metadata": {},
   "source": [
    "**Question 2.**\n",
    "\n",
    "> En remplacant $ f( s, y( s ) ) $ par l'expression de son polynome interpolateur $ P $ dans l'intégrale de (2) et en utilisant l'approximation $ y( t^n ) \\approx y^n $, montrez que l'on obtient le schéma numérique suivant:\n",
    "\\begin{equation}\n",
    "\\left\\lbrace\n",
    "\\begin{aligned}\n",
    "& y^{ n + 1 } = y^n + \\Delta t \\left( \\frac{3}{2}f( t^n, y^n ) - \\frac{1}{2} f( t^{n-1}, y^{n-1} ) \\right), \\quad n = 1, 2, \\ldots, N - 1, \\\\\n",
    "&y^0 = y_0.\n",
    "\\end{aligned}\n",
    "\\right.\n",
    "\\tag{3}\\label{3}\n",
    "\\end{equation}"
   ]
  },
  {
   "cell_type": "code",
   "execution_count": null,
   "id": "4896bb31",
   "metadata": {},
   "outputs": [],
   "source": [
    "# Utilisez votre copie"
   ]
  },
  {
   "cell_type": "markdown",
   "id": "af292d5f",
   "metadata": {},
   "source": [
    "Ce schéma est appelé **le schéma d'Adams-Bashforth à deux pas (AB2)**. "
   ]
  },
  {
   "cell_type": "markdown",
   "id": "e9cb6be0",
   "metadata": {},
   "source": [
    "**Question 3.**\n",
    "\n",
    "> Programmez la méthode AB2 afin de calculer la solution approchée d'un problème de Cauchy scalaire générique (1). On écrira une fonction `AB2` qui prend en argument une fonction `f` (la fonction qui définit l'équation différentielle du problème (1)), un nombre `y0` (la valeur initiale), un nombre `T` (la longueur de l'intervalle de temps) et un nombre `N ` (le nombre de points), et qui retourne deux tableaux : `t`, constitué des instants $ 0, \\Delta t, 2 \\Delta t, \\ldots, N \\Delta t $, avec $ \\Delta t = T / N $, et `y`, constitué des valeurs de la solution approchée en ces instants.\n",
    "\n",
    "On remarque que les équations (3) du schéma AB2 ne précisent pas comment calculer $ y^1 $. Pour calculer $ y^1 $ à partir de $ y^0 $ on utilisera le schéma d'Euler explicite sur le segment $ [ t^0, t^1 ] $."
   ]
  },
  {
   "cell_type": "code",
   "execution_count": 15,
   "id": "2dec2789",
   "metadata": {},
   "outputs": [],
   "source": [
    "def AB2 (f, y0, T , N):\n",
    "    t = np.zeros (N+1,)\n",
    "    y = np.zeros (N+1,)\n",
    "    delta_t = T/N\n",
    "    \n",
    "    y[0] = y0\n",
    "    f0 = f(t[0],y[0])\n",
    "    \n",
    "    t[1] = delta_t\n",
    "    y[1] = y[0] + delta_t * f0\n",
    "    f1 = f(t[1],y[1])\n",
    "    \n",
    "    for i in range(1,N):\n",
    "        t[i+1] = t[i] + delta_t\n",
    "        y[i+1] = y[i] + 0.5 * delta_t * (3 * f1 - f0)\n",
    "        f0,f1 = f1,f(t[i+1],y[i+1])\n",
    "        \n",
    "    return t, y"
   ]
  },
  {
   "cell_type": "markdown",
   "id": "59d87f85",
   "metadata": {},
   "source": [
    "Nous allons tester la méthode AB2 sur l'équation logistique: \n",
    "\\begin{equation}\n",
    "y'(t) = r \\; y(t) \\Bigl( 1 - \\frac{y(t)}{K} \\Bigr), \\quad t \\in [ 0, T ],\n",
    "\\tag{4}\n",
    "\\end{equation}\n",
    "où $r$ et $K$ sont deux paramètres strictement positifs. On rappelle que la solution exacte de cette équation différentielle passant par $ y_0 $ à l'instant $ t = 0 $ est donnée par la formule suivante: \n",
    "$$\n",
    "y(t) = \\frac{K}{1 + \\bigl(\\frac{K}{y_0}-1\\bigr) \\text{e}^{-rt}}, \\quad t \\in [ 0, T ]. \n",
    "$$"
   ]
  },
  {
   "cell_type": "markdown",
   "id": "bb9e99c8",
   "metadata": {},
   "source": [
    "**Question 4.**\n",
    "\n",
    "> Représentez sur le même graphique la solution exacte du modèle logistique et plusieurs solutions approchées calculées à l'aide de la fonction `AB2` pour différentes valeurs de $N$ : 10, 20, 30, 40.  On pourra prendre $ r = 2 $, $ K = 100 $ dans le modèle logistique, $ y_0 = 0.1 $, $ T = 5 $. Ajoutez un titre et une légende."
   ]
  },
  {
   "cell_type": "code",
   "execution_count": 25,
   "id": "1302a3ad",
   "metadata": {},
   "outputs": [
    {
     "data": {
      "text/plain": [
       "<matplotlib.legend.Legend at 0x7fe3f34fffd0>"
      ]
     },
     "execution_count": 25,
     "metadata": {},
     "output_type": "execute_result"
    },
    {
     "data": {
      "image/png": "[encoded data removed]",
      "text/plain": [
       "<Figure size 1000x500 with 1 Axes>"
      ]
     },
     "metadata": {},
     "output_type": "display_data"
    }
   ],
   "source": [
    "# Paramètres\n",
    "r,K = 2 , 100\n",
    "y0 = 0.1\n",
    "T = 5 \n",
    "liste_N = [10,20,30,40]\n",
    "\n",
    "def f (t,y):\n",
    "    return r*y*(1-y/K)\n",
    "\n",
    "def sol_exact (t, y0):\n",
    "    return K/ (1 + (K/y0 - 1)*np.exp(-r*t))\n",
    "\n",
    "fig = plt.figure(figsize = (10,5))\n",
    "ax = fig.add_subplot(1,1,1)\n",
    "\n",
    "for k , N in enumerate(liste_N):\n",
    "    t,sol_app = AB2(f,y0,T,N)\n",
    "    ax.scatter(t,sol_app, label =f'delta_t = {T/N : .2f}', marker = '^', alpha = 0.6 )\n",
    "    \n",
    "tt = np.linspace(min(t) , max(t) , 1000)\n",
    "ax.plot(tt,sol_exact(tt,y0), label = f'solution exacte', color='black')\n",
    "ax.grid(True)\n",
    "ax.set_xlabel('soltion du probleme de Cauchy')\n",
    "ax.set_ylabel('t')\n",
    "ax.set_title('Comparaison de la solution du problème de Cauchy et de la méthode AB2')\n",
    "ax.legend()"
   ]
  },
  {
   "cell_type": "markdown",
   "id": "8943d984",
   "metadata": {},
   "source": [
    "**Question 5.**\n",
    "\n",
    "> Estimez l'ordre de convergence apparent du schéma AB2 pour l'équation logistique ci-dessus. On rappelle que pour cela on pourra:\n",
    "> - calculer les erreurs globales $ e $ du schéma AB2 pour l'équation logistique pour différentes valeurs de $\\Delta t$;\n",
    "> - tracer $e$ en fonction de $\\Delta t$;\n",
    "> - tracer sur le même graphique les courbes $y = C\\Delta t^p$ pour de différentes valeurs de $ p $ où $C=\\frac{e[-1]}{\\Delta t[-1]^p}$ qui correspond à la plus petite valeur de pas de temps.\n",
    "> - passer en échelle logarithmique en $x$ et en $y$ à l'aide des commandes `ax.set_xscale(\"log\")` et `ax.set_yscale(\"log\")`."
   ]
  },
  {
   "cell_type": "code",
   "execution_count": null,
   "id": "83ffae3d",
   "metadata": {},
   "outputs": [],
   "source": []
  },
  {
   "cell_type": "markdown",
   "id": "32fbb8ae",
   "metadata": {},
   "source": [
    "### Exercice 2. Modèle logistique avec le terme d'effet d'Allee"
   ]
  },
  {
   "cell_type": "markdown",
   "id": "a80fcfd4",
   "metadata": {},
   "source": [
    "On suppose maintenant que l'équation (4) décrit l'évolution d'une population de truites dans un étang, i.e. $ y $ est l'effectif de la population des truites, $ r $ est le taux de croissance de la population des truites et $ K $ est la capacité d'acceuil du milieu. On prendra dans cet exercice $ r = 2 $, $ K = 100 $, $ T = 10 $."
   ]
  },
  {
   "cell_type": "markdown",
   "id": "1a65fadd",
   "metadata": {},
   "source": [
    "**Question 6.**\n",
    "\n",
    "> Tracez la solution du modèle logistique (4) pour $ y_0 $ prenant les valeurs $ 1, 10, 20, 30, 40, 50 $. Sur le même graphique tracez la droite $ y = K $. Donnez une interprétation des graphes obtenus. Le résultat est-il réaliste pour de petites valeurs de $ y_0 $ ? Expliquer le défaut principal du modèle logistique pour la description des populations à petits effectifs."
   ]
  },
  {
   "cell_type": "code",
   "execution_count": null,
   "id": "05c9aa56",
   "metadata": {
    "scrolled": false
   },
   "outputs": [],
   "source": [
    "# Ecrivez votre code ici, utilisez votre copie pour répondre aux questions théoriques"
   ]
  },
  {
   "cell_type": "markdown",
   "id": "e56d249d",
   "metadata": {},
   "source": [
    "On considère maintenant le modèle logistique avec un terme d'effet d'Allee:\n",
    "\\begin{equation}\n",
    "y'(t) = r \\; y(t) \\Bigl( 1 - \\frac{y(t)}{K} \\Bigr) \\Bigl( \\frac{y(t) - A }{K} \\Bigr), \\quad t \\in [ 0, T ],\n",
    "\\tag{5}\\label{5}\n",
    "\\end{equation}\n",
    "où $ A $ est une constante positive. On prendra dans cet exercice $ A = 24 $."
   ]
  },
  {
   "cell_type": "markdown",
   "id": "c20fcf07",
   "metadata": {},
   "source": [
    "**Question 7.**\n",
    "\n",
    "> - Calculez la solution de l'équation (5) pour $y_0$ prenant les valeurs $ 1, 10, 20, 30, 40, 50 $ à l'aide de la fonction `AB2` programmée dans la question 3, ou, à défaut, à l'aide de la commande `odeint` du module `scipy.integrate`.\n",
    "> - Tracez les graphes des solutions obtenues sur le même graphique.\n",
    "> - Tracez les droites $ y = A $ et $ y = K $.\n",
    "> - Interprétez les résultats obtenus. Le modèle proposé est-il meilleur que le modèle logistique pour décrire le comportement des populations à petits effectifs ? A votre avis comment peut-on interpréter le coefficient $ A $ ?"
   ]
  },
  {
   "cell_type": "code",
   "execution_count": null,
   "id": "6480d64b",
   "metadata": {},
   "outputs": [],
   "source": [
    "# Ecrivez votre code ici, utilisez votre copie pour répondre aux questions théoriques"
   ]
  },
  {
   "cell_type": "markdown",
   "id": "93c01340",
   "metadata": {},
   "source": [
    "# Partie B: interpolation \n",
    "\n",
    "### Exercice 3. Interpolation trigonométrique\n",
    "\n",
    "Dans cet exercice, nous proposons une méthode d'interpolation pour les fonctions périodiques. Pour simplifier, nous supposerons que l'intervalle de définition des fonctions est $[0, 2\\pi]$ et nous supposerons que les points d'interpolation sont équi-répartis.\n",
    "\n",
    "Nous posons donc $a=0$, $b=2\\pi$ et nous définissons les $N$ points d'interpolation\n",
    "$$\n",
    "x_{k,N} = a + (b-a)\\frac{k}{N} = \\frac{2k\\pi}{N}, \n",
    "\\qquad 0\\leq k < N.\n",
    "$$"
   ]
  },
  {
   "cell_type": "code",
   "execution_count": null,
   "id": "4a8a267a",
   "metadata": {},
   "outputs": [],
   "source": [
    "a, b = 0, 2*np.pi"
   ]
  },
  {
   "cell_type": "markdown",
   "id": "70c03dd4",
   "metadata": {},
   "source": [
    "**Question 1** (Noyau de Dirchlet)\n",
    "\n",
    "Dans le cas $N$ impair, le noyau de Dirichlet s'écrit\n",
    "$$\n",
    "D_N(x) = \\left\\lbrace \\begin{aligned} \n",
    "&\\frac{\\sin(Nx/2)}{N\\sin(x/2)} && \\text{si } x\\notin 2\\pi\\mathbb{Z},\\\\ \n",
    "&1 && \\text{si } x\\in 2\\pi\\mathbb{Z}. \n",
    "\\end{aligned} \\right.\n",
    "$$\n",
    "Dans le cas $N$ pair, le noyau de Dirichlet s'écrit\n",
    "$$\n",
    "D_N(x) = \\left\\lbrace \\begin{aligned} \n",
    "&\\frac{\\sin(Nx/2)}{N\\tan(x/2)} && \\text{si } x\\notin 2\\pi\\mathbb{Z},\\\\ \n",
    "&1 && \\text{si } x\\in 2\\pi\\mathbb{Z}. \n",
    "\\end{aligned} \\right.\n",
    "$$\n",
    "\n",
    "> 1. Programmez une fonction `D` qui prend deux arguments en entrée : `N` une variable de type `int` et `x` une variable de type `ndarray` et qui retourne un `ndarray` de la même taille que celle de `x` contenant l'évaluation du noyau de Dirichlet $D_N$ aux points du tableau `x`.\n",
    "> 2. Dans une fenêtre graphique, tracez les différents noyaux de Dirichlet dans des sous-figures séparées pour $N$ allant de $1$ à $6$.\n",
    "> 3. A l'aide de `scatter`, placez un petit cercle aux points $(x_{k, N}, D_N(x_{k,N}))$, $0\\leq k<N$, sur chaque sous-figure. \n",
    "\n",
    "Vous pouvez essayer d'obtenir une figure ressemblant à celle ci-dessous :\n",
    "![DN](DirichletKernel.png)"
   ]
  },
  {
   "cell_type": "code",
   "execution_count": 6,
   "id": "7b7ab0ca",
   "metadata": {},
   "outputs": [],
   "source": [
    "# Ecrivez votre code ici\n"
   ]
  },
  {
   "cell_type": "markdown",
   "id": "a674e9af",
   "metadata": {},
   "source": [
    "**Question 2** (Interpolation)\n",
    "\n",
    "Pour $N$ un entier non nul et $(y_0,\\ldots,y_{N-1})\\in\\mathbb{R}^N$, on peut démontrer qu'il existe un unique polynôme trigonométrique de la forme\n",
    "$$\n",
    "P(x) = \\alpha_0 + \\sum_{k=0}^{N//2} \\alpha_k \\cos(kx) + \\sum_{k=0}^{(N-1)//2} \\beta_k \\sin(kx),\n",
    "$$\n",
    "qui vérifie\n",
    "$$\n",
    "P(x_{k,N}) = y_k, \\qquad 0\\leq k<N.\n",
    "$$\n",
    "On démontre ensuite que, si les points $x_{k,N}$, $0\\leq k<N$, sont équi-répartis, le polynôme trigonométrique $P$ peut se réécrire\n",
    "$$\n",
    "P(x) = \\sum_{k=0}^{N-1} y_k D_N(x-x_{k,N}).\n",
    "$$\n",
    "\n",
    "> 1. Programmez une fonction `interp_trig(f, N, xx)` qui prend en argument $f$ une fonction, `N` un entier et `xx` un `ndarray` et qui retourne un `ndarray` contenant les valeurs de $P(\\verb!xx!)$ où $P$ est le polynôme trigonométrique dont la formule est donnée plus haut.\n",
    "> 2. Pour la fonction $x\\mapsto \\sin(3x)+\\cos(5x)$, testez votre fonction `interp_trig` en affichant le polynôme interpolateur obtenu avec $N\\in\\lbrace 3, 7, 10\\rbrace$. "
   ]
  },
  {
   "cell_type": "code",
   "execution_count": null,
   "id": "e2f7d8ea",
   "metadata": {},
   "outputs": [],
   "source": [
    "# Ecrivez votre code ici"
   ]
  }
 ],
 "metadata": {
  "kernelspec": {
   "display_name": "Python 3 (ipykernel)",
   "language": "python",
   "name": "python3"
  },
  "language_info": {
   "codemirror_mode": {
    "name": "ipython",
    "version": 3
   },
   "file_extension": ".py",
   "mimetype": "text/x-python",
   "name": "python",
   "nbconvert_exporter": "python",
   "pygments_lexer": "ipython3",
   "version": "3.10.8"
  },
  "toc": {
   "base_numbering": 1,
   "nav_menu": {},
   "number_sections": true,
   "sideBar": true,
   "skip_h1_title": false,
   "title_cell": "Table of Contents",
   "title_sidebar": "Contents",
   "toc_cell": false,
   "toc_position": {},
   "toc_section_display": true,
   "toc_window_display": false
  },
  "varInspector": {
   "cols": {
    "lenName": 16,
    "lenType": 16,
    "lenVar": 40
   },
   "kernels_config": {
    "python": {
     "delete_cmd_postfix": "",
     "delete_cmd_prefix": "del ",
     "library": "var_list.py",
     "varRefreshCmd": "print(var_dic_list())"
    },
    "r": {
     "delete_cmd_postfix": ") ",
     "delete_cmd_prefix": "rm(",
     "library": "var_list.r",
     "varRefreshCmd": "cat(var_dic_list()) "
    }
   },
   "types_to_exclude": [
    "module",
    "function",
    "builtin_function_or_method",
    "instance",
    "_Feature"
   ],
   "window_display": false
  }
 },
 "nbformat": 4,
 "nbformat_minor": 5
}
