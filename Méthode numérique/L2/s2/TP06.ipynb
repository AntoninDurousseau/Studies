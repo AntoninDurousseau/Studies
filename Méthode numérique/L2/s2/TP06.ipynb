{
 "cells": [
  {
   "cell_type": "markdown",
   "metadata": {},
   "source": [
    "FEUILLE DE TP 6\n",
    "\n",
    "---\n",
    "# Polynôme interpolateur de Lagrange (Partie 3)\n",
    "---"
   ]
  },
  {
   "cell_type": "code",
   "execution_count": 1,
   "metadata": {},
   "outputs": [],
   "source": [
    "%matplotlib inline\n",
    "%config InlineBackend.figure_format = 'retina'\n",
    "\n",
    "import numpy as np                       # pour les numpy array\n",
    "import matplotlib.pyplot as plt          # librairie graphique"
   ]
  },
  {
   "cell_type": "markdown",
   "metadata": {},
   "source": [
    "Nous avons vu que l'interpolation de Lagrange ne permet pas de faire de l'approximation facilement en augmentant le nombre de points. En particulier, seuls les points de Tchebychev semblent répondre à ce problème et cet ensemble de points très particuliers n'est en général pas celui qui est disponible (lorsque par exemple le nuage de points est prescrit par un logiciel de CAO).\n",
    "\n",
    "Nous proposons dans ce TP une méthode d'approximation basée sur la méthode d'interpolation de Lagrange mais en agissant de manière locale.\n",
    "\n",
    "Supposons que nous ayont une fonction $f$ périodique (pour simplifier les choses). Nous prendrons pour les applications\n",
    "$$ f(x) = \\sin(2\\pi x) + \\tfrac{1}{2} \\sin(6\\pi x) + \\tfrac{1}{4} \\sin(10\\pi x). $$\n",
    "\n",
    "Nous choisissons un maillage uniforme de $\\mathbb{R}$ de la forme \n",
    "$$ x_i = \\frac{i-1}{N-1}, \\qquad i\\in\\mathbb{Z} $$\n",
    "et nous construisons une fonction $f_N^p$ définie sur chaque intervalle $[x_i, x_{i+1}]$ comme le polynôme interpolateur de Lagrange aux points\n",
    "$$ x_{i-p+1}, x_{i-p+2}, \\ldots, x_{i+p-1}, x_{i+p}. $$\n",
    "\n",
    "Par exemple, pour $p=1$, nous avons un polynôme interpolateur de degré 1 qui interpole la fonction $f$ aux points $x_i$ et $x_{i+1}$ (c'est la droite qui relie les points choisis).\n",
    "\n",
    "> 1. Construisez une fonction `reconstruction(N, xx, p)` qui prend en argument `N` un entier, `xx` un `ndarray` et `p` un entier et qui retourne un `ndarray` correspondant à l'évaluation de $f_N^p$ aux points du vecteur `xx`.\n",
    "> 2. Faites une figure pour vérifier que vos fonctions $f_N^p$ sont correctes pour différentes valeurs de $N$ et de $p$.\n",
    "> 3. Faites une étude d'erreur lorsque $N$ tend vers l'infini pour différentes valeurs de $p$. Que remarquez-vous ?\n",
    "\n",
    "*Indication : vous pourrez avoir besoin de la fonction `np.where`.*\n",
    "\n",
    "Vous pourrez par exemple essayer de reproduire des figures comme celle-ci pour différentes valeurs de $p$ :\n",
    "![reconstruction](reconstruction.png)"
   ]
  },
  {
   "cell_type": "code",
   "execution_count": null,
   "metadata": {},
   "outputs": [],
   "source": []
  }
 ],
 "metadata": {
  "kernelspec": {
   "display_name": "Python 3 (ipykernel)",
   "language": "python",
   "name": "python3"
  },
  "language_info": {
   "codemirror_mode": {
    "name": "ipython",
    "version": 3
   },
   "file_extension": ".py",
   "mimetype": "text/x-python",
   "name": "python",
   "nbconvert_exporter": "python",
   "pygments_lexer": "ipython3",
   "version": "3.10.8"
  },
  "toc": {
   "base_numbering": 1,
   "nav_menu": {},
   "number_sections": true,
   "sideBar": true,
   "skip_h1_title": false,
   "title_cell": "Table of Contents",
   "title_sidebar": "Contents",
   "toc_cell": false,
   "toc_position": {},
   "toc_section_display": true,
   "toc_window_display": false
  },
  "varInspector": {
   "cols": {
    "lenName": 16,
    "lenType": 16,
    "lenVar": 40
   },
   "kernels_config": {
    "python": {
     "delete_cmd_postfix": "",
     "delete_cmd_prefix": "del ",
     "library": "var_list.py",
     "varRefreshCmd": "print(var_dic_list())"
    },
    "r": {
     "delete_cmd_postfix": ") ",
     "delete_cmd_prefix": "rm(",
     "library": "var_list.r",
     "varRefreshCmd": "cat(var_dic_list()) "
    }
   },
   "types_to_exclude": [
    "module",
    "function",
    "builtin_function_or_method",
    "instance",
    "_Feature"
   ],
   "window_display": false
  }
 },
 "nbformat": 4,
 "nbformat_minor": 4
}
